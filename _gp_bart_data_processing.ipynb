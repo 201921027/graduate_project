{
  "cells": [
    {
      "cell_type": "markdown",
      "metadata": {
        "id": "view-in-github",
        "colab_type": "text"
      },
      "source": [
        "<a href=\"https://colab.research.google.com/github/201921027/graduate_project_git/blob/main/_gp_bart_data_processing.ipynb\" target=\"_parent\"><img src=\"https://colab.research.google.com/assets/colab-badge.svg\" alt=\"Open In Colab\"/></a>"
      ]
    },
    {
      "cell_type": "markdown",
      "metadata": {
        "id": "bMnZwiTbTnfY"
      },
      "source": [
        "runtime: ram 확장, GPU 가속"
      ]
    },
    {
      "cell_type": "markdown",
      "metadata": {
        "id": "oJ52cXC_Z7sv"
      },
      "source": [
        "* **데이터 불러오기**"
      ]
    },
    {
      "cell_type": "code",
      "execution_count": null,
      "metadata": {
        "colab": {
          "base_uri": "https://localhost:8080/"
        },
        "id": "fSJjXySBEryi",
        "outputId": "97decd92-8f17-4e12-e918-55e47197e638"
      },
      "outputs": [
        {
          "output_type": "stream",
          "name": "stdout",
          "text": [
            "Mounted at /content/drive\n"
          ]
        }
      ],
      "source": [
        "from google.colab import drive\n",
        "drive.mount('/content/drive')"
      ]
    },
    {
      "cell_type": "code",
      "execution_count": null,
      "metadata": {
        "id": "gakzhzY0Zxzq",
        "colab": {
          "base_uri": "https://localhost:8080/"
        },
        "outputId": "945f2355-a3ca-4499-8762-74432d7cbfd0"
      },
      "outputs": [
        {
          "output_type": "stream",
          "name": "stdout",
          "text": [
            "/content/drive/MyDrive/Colab Notebooks/graduation_project\n"
          ]
        }
      ],
      "source": [
        "%cd '/content/drive/MyDrive/Colab Notebooks/graduation_project'"
      ]
    },
    {
      "cell_type": "code",
      "execution_count": null,
      "metadata": {
        "id": "sF_TJ1wrFxR2"
      },
      "outputs": [],
      "source": [
        "import csv\n",
        "\n",
        "with open('/content/drive/MyDrive/Colab Notebooks/graduation_project/data/train_total.csv', 'r') as data:\n",
        "  train_data= csv.reader(data, delimiter=',')\n",
        "\n",
        "with open('/content/drive/MyDrive/Colab Notebooks/graduation_project/data/references.csv', 'r') as data:\n",
        "  test_data= csv.reader(data, delimiter=',')"
      ]
    },
    {
      "cell_type": "code",
      "execution_count": null,
      "metadata": {
        "id": "NQVuHRvdHSOR"
      },
      "outputs": [],
      "source": [
        "import pandas as pd\n",
        "\n",
        "# pd.reset_option('display.max_colwidth', None)\n",
        "\n",
        "train_df= pd.read_csv('/content/drive/MyDrive/Colab Notebooks/graduation_project/data/train_total.csv') # encoding='cp949'\n",
        "test_df= pd.read_csv('/content/drive/MyDrive/Colab Notebooks/graduation_project/data/references.csv')"
      ]
    },
    {
      "cell_type": "code",
      "execution_count": null,
      "metadata": {
        "id": "WaqDxon2LGO_"
      },
      "outputs": [],
      "source": [
        "train_df= train_df[['title', 'text', 'emotion', 'emotion & summarize']]\n",
        "test_df= test_df[['title', 'text', 'emotion', 'summary']]\n",
        "# train_df.head()"
      ]
    },
    {
      "cell_type": "code",
      "execution_count": null,
      "metadata": {
        "id": "i1gbvIHCLkjl",
        "colab": {
          "base_uri": "https://localhost:8080/"
        },
        "outputId": "5c8aba0d-ab48-41b1-b72a-1fbbf4cbdd65"
      },
      "outputs": [
        {
          "output_type": "stream",
          "name": "stderr",
          "text": [
            "/usr/local/lib/python3.7/dist-packages/ipykernel_launcher.py:1: SettingWithCopyWarning: \n",
            "A value is trying to be set on a copy of a slice from a DataFrame.\n",
            "Try using .loc[row_indexer,col_indexer] = value instead\n",
            "\n",
            "See the caveats in the documentation: https://pandas.pydata.org/pandas-docs/stable/user_guide/indexing.html#returning-a-view-versus-a-copy\n",
            "  \"\"\"Entry point for launching an IPython kernel.\n"
          ]
        }
      ],
      "source": [
        "train_df['news']=    \"[\"+ train_df['title'].map(str) + \"] \" + train_df['text']  + ' |' + train_df['emotion']\n",
        "train_df['summary'] =  train_df['emotion & summarize']\n",
        "train_df= train_df[['news', 'summary']]\n",
        "\n",
        "test_df['news']=  \"[\"+ test_df['title'].map(str) + \"] \" + test_df['text'] + ' |' + test_df['emotion'] \n",
        "test_df['summary']= test_df['summary']\n",
        "test_df= test_df[['news', 'summary']]"
      ]
    },
    {
      "cell_type": "code",
      "source": [
        "# 결측값 제거 (단, 중복은 제거하지 않음)\n",
        "def drop_na(df):\n",
        "  df= df.dropna()\n",
        "  df= df.reset_index(drop=True)\n",
        "  return df"
      ],
      "metadata": {
        "id": "L9X93rODZP2a"
      },
      "execution_count": null,
      "outputs": []
    },
    {
      "cell_type": "code",
      "source": [
        "train_df= drop_na(train_df)\n",
        "test_df= drop_na(test_df)"
      ],
      "metadata": {
        "id": "5yy_Kv9lZQTe"
      },
      "execution_count": null,
      "outputs": []
    },
    {
      "cell_type": "code",
      "source": [
        "train_df.head()\n",
        "# test_df.head()"
      ],
      "metadata": {
        "colab": {
          "base_uri": "https://localhost:8080/",
          "height": 337
        },
        "id": "CeOJqHTCW-Ma",
        "outputId": "d64985dd-d99f-46cf-8a4f-4a65a38705b2"
      },
      "execution_count": null,
      "outputs": [
        {
          "output_type": "execute_result",
          "data": {
            "text/plain": [
              "                                                news  \\\n",
              "0  [걱정]  오늘도 일기를 쓰기 위해 연필을 들었다. 오늘은 2월 5일. 벌써 202...   \n",
              "1  [20141008]  오늘 아침도 여전히 졸렸다. 잠을 적게 자는 것도 아니고 피곤...   \n",
              "2  [나의 요즘]  사람과 사람이 만났을 때 가장 많이 하는 말은 '요즘 뭐하고 지내?...   \n",
              "3  [편입일기.. ]  평생을 열심히 살아본 적이 없다고 스스로 생각했다. 성공한 인생...   \n",
              "4  [백수의 하루]  전날 난 일찍자고 일찍 일어나서 일반인의 하루를 보내리라 결심을 ...   \n",
              "\n",
              "                                             summary  \n",
              "0  시간이 많이 흘렀는데 이룬 것이 별로 없는 것 같아 불안하시군요. 미루는 습관 때문...  \n",
              "1  엄청 싫어하는 친구가 있어서 짜증이 나는군요. 그 친구가 당신의 친구랑 같이 다녀서...  \n",
              "2  누워서만 지내서 몸은 편한데 마음이 불편하군요. 무언가 해야할 것 같은 조바심과 당...  \n",
              "3  미래를 위해 미대 편입학원에 다니기 시작했군요. 하지만 편입 준비를 하는 것도, 학...  \n",
              "4  취업이 잘 되지 않아 힘든 상황이군요. 직업이 없는 상태라 하루하루 똑같은 날을 보...  "
            ],
            "text/html": [
              "\n",
              "  <div id=\"df-17f00c74-d26e-4965-b62e-3a90c7d7b5dc\">\n",
              "    <div class=\"colab-df-container\">\n",
              "      <div>\n",
              "<style scoped>\n",
              "    .dataframe tbody tr th:only-of-type {\n",
              "        vertical-align: middle;\n",
              "    }\n",
              "\n",
              "    .dataframe tbody tr th {\n",
              "        vertical-align: top;\n",
              "    }\n",
              "\n",
              "    .dataframe thead th {\n",
              "        text-align: right;\n",
              "    }\n",
              "</style>\n",
              "<table border=\"1\" class=\"dataframe\">\n",
              "  <thead>\n",
              "    <tr style=\"text-align: right;\">\n",
              "      <th></th>\n",
              "      <th>news</th>\n",
              "      <th>summary</th>\n",
              "    </tr>\n",
              "  </thead>\n",
              "  <tbody>\n",
              "    <tr>\n",
              "      <th>0</th>\n",
              "      <td>[걱정]  오늘도 일기를 쓰기 위해 연필을 들었다. 오늘은 2월 5일. 벌써 202...</td>\n",
              "      <td>시간이 많이 흘렀는데 이룬 것이 별로 없는 것 같아 불안하시군요. 미루는 습관 때문...</td>\n",
              "    </tr>\n",
              "    <tr>\n",
              "      <th>1</th>\n",
              "      <td>[20141008]  오늘 아침도 여전히 졸렸다. 잠을 적게 자는 것도 아니고 피곤...</td>\n",
              "      <td>엄청 싫어하는 친구가 있어서 짜증이 나는군요. 그 친구가 당신의 친구랑 같이 다녀서...</td>\n",
              "    </tr>\n",
              "    <tr>\n",
              "      <th>2</th>\n",
              "      <td>[나의 요즘]  사람과 사람이 만났을 때 가장 많이 하는 말은 '요즘 뭐하고 지내?...</td>\n",
              "      <td>누워서만 지내서 몸은 편한데 마음이 불편하군요. 무언가 해야할 것 같은 조바심과 당...</td>\n",
              "    </tr>\n",
              "    <tr>\n",
              "      <th>3</th>\n",
              "      <td>[편입일기.. ]  평생을 열심히 살아본 적이 없다고 스스로 생각했다. 성공한 인생...</td>\n",
              "      <td>미래를 위해 미대 편입학원에 다니기 시작했군요. 하지만 편입 준비를 하는 것도, 학...</td>\n",
              "    </tr>\n",
              "    <tr>\n",
              "      <th>4</th>\n",
              "      <td>[백수의 하루]  전날 난 일찍자고 일찍 일어나서 일반인의 하루를 보내리라 결심을 ...</td>\n",
              "      <td>취업이 잘 되지 않아 힘든 상황이군요. 직업이 없는 상태라 하루하루 똑같은 날을 보...</td>\n",
              "    </tr>\n",
              "  </tbody>\n",
              "</table>\n",
              "</div>\n",
              "      <button class=\"colab-df-convert\" onclick=\"convertToInteractive('df-17f00c74-d26e-4965-b62e-3a90c7d7b5dc')\"\n",
              "              title=\"Convert this dataframe to an interactive table.\"\n",
              "              style=\"display:none;\">\n",
              "        \n",
              "  <svg xmlns=\"http://www.w3.org/2000/svg\" height=\"24px\"viewBox=\"0 0 24 24\"\n",
              "       width=\"24px\">\n",
              "    <path d=\"M0 0h24v24H0V0z\" fill=\"none\"/>\n",
              "    <path d=\"M18.56 5.44l.94 2.06.94-2.06 2.06-.94-2.06-.94-.94-2.06-.94 2.06-2.06.94zm-11 1L8.5 8.5l.94-2.06 2.06-.94-2.06-.94L8.5 2.5l-.94 2.06-2.06.94zm10 10l.94 2.06.94-2.06 2.06-.94-2.06-.94-.94-2.06-.94 2.06-2.06.94z\"/><path d=\"M17.41 7.96l-1.37-1.37c-.4-.4-.92-.59-1.43-.59-.52 0-1.04.2-1.43.59L10.3 9.45l-7.72 7.72c-.78.78-.78 2.05 0 2.83L4 21.41c.39.39.9.59 1.41.59.51 0 1.02-.2 1.41-.59l7.78-7.78 2.81-2.81c.8-.78.8-2.07 0-2.86zM5.41 20L4 18.59l7.72-7.72 1.47 1.35L5.41 20z\"/>\n",
              "  </svg>\n",
              "      </button>\n",
              "      \n",
              "  <style>\n",
              "    .colab-df-container {\n",
              "      display:flex;\n",
              "      flex-wrap:wrap;\n",
              "      gap: 12px;\n",
              "    }\n",
              "\n",
              "    .colab-df-convert {\n",
              "      background-color: #E8F0FE;\n",
              "      border: none;\n",
              "      border-radius: 50%;\n",
              "      cursor: pointer;\n",
              "      display: none;\n",
              "      fill: #1967D2;\n",
              "      height: 32px;\n",
              "      padding: 0 0 0 0;\n",
              "      width: 32px;\n",
              "    }\n",
              "\n",
              "    .colab-df-convert:hover {\n",
              "      background-color: #E2EBFA;\n",
              "      box-shadow: 0px 1px 2px rgba(60, 64, 67, 0.3), 0px 1px 3px 1px rgba(60, 64, 67, 0.15);\n",
              "      fill: #174EA6;\n",
              "    }\n",
              "\n",
              "    [theme=dark] .colab-df-convert {\n",
              "      background-color: #3B4455;\n",
              "      fill: #D2E3FC;\n",
              "    }\n",
              "\n",
              "    [theme=dark] .colab-df-convert:hover {\n",
              "      background-color: #434B5C;\n",
              "      box-shadow: 0px 1px 3px 1px rgba(0, 0, 0, 0.15);\n",
              "      filter: drop-shadow(0px 1px 2px rgba(0, 0, 0, 0.3));\n",
              "      fill: #FFFFFF;\n",
              "    }\n",
              "  </style>\n",
              "\n",
              "      <script>\n",
              "        const buttonEl =\n",
              "          document.querySelector('#df-17f00c74-d26e-4965-b62e-3a90c7d7b5dc button.colab-df-convert');\n",
              "        buttonEl.style.display =\n",
              "          google.colab.kernel.accessAllowed ? 'block' : 'none';\n",
              "\n",
              "        async function convertToInteractive(key) {\n",
              "          const element = document.querySelector('#df-17f00c74-d26e-4965-b62e-3a90c7d7b5dc');\n",
              "          const dataTable =\n",
              "            await google.colab.kernel.invokeFunction('convertToInteractive',\n",
              "                                                     [key], {});\n",
              "          if (!dataTable) return;\n",
              "\n",
              "          const docLinkHtml = 'Like what you see? Visit the ' +\n",
              "            '<a target=\"_blank\" href=https://colab.research.google.com/notebooks/data_table.ipynb>data table notebook</a>'\n",
              "            + ' to learn more about interactive tables.';\n",
              "          element.innerHTML = '';\n",
              "          dataTable['output_type'] = 'display_data';\n",
              "          await google.colab.output.renderOutput(dataTable, element);\n",
              "          const docLink = document.createElement('div');\n",
              "          docLink.innerHTML = docLinkHtml;\n",
              "          element.appendChild(docLink);\n",
              "        }\n",
              "      </script>\n",
              "    </div>\n",
              "  </div>\n",
              "  "
            ]
          },
          "metadata": {},
          "execution_count": 9
        }
      ]
    },
    {
      "cell_type": "code",
      "source": [
        "# pd.set_option('display.max_colwidth', None)\n",
        "# train_df.head(1)"
      ],
      "metadata": {
        "id": "BX6KEsPwNVOB"
      },
      "execution_count": null,
      "outputs": []
    },
    {
      "cell_type": "code",
      "execution_count": null,
      "metadata": {
        "id": "gxuMTRQyJMff"
      },
      "outputs": [],
      "source": [
        "train_df.to_csv('/content/drive/MyDrive/Colab Notebooks/graduation_project/KoBART-summarization/data/train.tsv',sep='\\t')\n",
        "test_df.to_csv('/content/drive/MyDrive/Colab Notebooks/graduation_project/KoBART-summarization/data/test.tsv', sep='\\t')"
      ]
    },
    {
      "cell_type": "code",
      "source": [],
      "metadata": {
        "id": "UDpYk4-fXDKF"
      },
      "execution_count": null,
      "outputs": []
    }
  ],
  "metadata": {
    "colab": {
      "collapsed_sections": [],
      "machine_shape": "hm",
      "provenance": [],
      "authorship_tag": "ABX9TyMZKzZ4FR/43TXoNUYceNUS",
      "include_colab_link": true
    },
    "kernelspec": {
      "display_name": "Python 3",
      "name": "python3"
    },
    "language_info": {
      "name": "python"
    },
    "accelerator": "GPU"
  },
  "nbformat": 4,
  "nbformat_minor": 0
}