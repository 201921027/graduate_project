{
  "cells": [
    {
      "cell_type": "markdown",
      "metadata": {
        "id": "view-in-github",
        "colab_type": "text"
      },
      "source": [
        "<a href=\"https://colab.research.google.com/github/201921027/graduate_project_git/blob/main/gp_original_model.ipynb\" target=\"_parent\"><img src=\"https://colab.research.google.com/assets/colab-badge.svg\" alt=\"Open In Colab\"/></a>"
      ]
    },
    {
      "cell_type": "markdown",
      "metadata": {
        "id": "7_plT70dN6kB"
      },
      "source": [
        "kogpt fine-tuning classification\n",
        "\n",
        "https://github.com/ukairia777/tensorflow-nlp-tutorial/blob/main/22.%20Fine-tuning%20GPT-2%20(Cls%2C%20Chatbot%2C%20NLI)/22-5.%20kogpt2_kornli_tpu.ipynb\n",
        "\n",
        "summarize 코드 참조\n",
        "\n",
        "https://www.nbshare.io/notebook/764386829/Amazon-Review-Summarization-Using-GPT-2-And-PyTorch/\n",
        "\n",
        "kakaoBrain kogpt3\n",
        "\n",
        "https://github.com/kakaobrain/kogpt \n",
        "\n",
        "skt-ai kogpt2\n",
        "\n",
        "https://github.com/SKT-AI/KoGPT2"
      ]
    },
    {
      "cell_type": "markdown",
      "metadata": {
        "id": "bMnZwiTbTnfY"
      },
      "source": [
        "runtime: ram 확장, GPU 가속"
      ]
    },
    {
      "cell_type": "markdown",
      "metadata": {
        "id": "oJ52cXC_Z7sv"
      },
      "source": [
        "* **데이터 불러오기**"
      ]
    },
    {
      "cell_type": "code",
      "execution_count": null,
      "metadata": {
        "colab": {
          "base_uri": "https://localhost:8080/"
        },
        "id": "fSJjXySBEryi",
        "outputId": "eef36962-501a-4ece-b23e-e5c2584f5e1b"
      },
      "outputs": [
        {
          "output_type": "stream",
          "name": "stdout",
          "text": [
            "Drive already mounted at /content/drive; to attempt to forcibly remount, call drive.mount(\"/content/drive\", force_remount=True).\n"
          ]
        }
      ],
      "source": [
        "from google.colab import drive\n",
        "drive.mount('/content/drive')"
      ]
    },
    {
      "cell_type": "code",
      "execution_count": null,
      "metadata": {
        "colab": {
          "base_uri": "https://localhost:8080/"
        },
        "id": "gakzhzY0Zxzq",
        "outputId": "74b98a42-7177-411d-c66e-b554eb0ffdc8"
      },
      "outputs": [
        {
          "output_type": "stream",
          "name": "stdout",
          "text": [
            "/content/drive/MyDrive/Colab Notebooks/graduation_project\n"
          ]
        }
      ],
      "source": [
        "%cd '/content/drive/MyDrive/Colab Notebooks/graduation_project'"
      ]
    },
    {
      "cell_type": "code",
      "execution_count": null,
      "metadata": {
        "id": "sF_TJ1wrFxR2"
      },
      "outputs": [],
      "source": [
        "import csv\n",
        "\n",
        "with open('/content/drive/MyDrive/Colab Notebooks/graduation_project/data/train_data_1-3.CSV', 'r') as data:\n",
        "  train_data= csv.reader(data, delimiter=',')\n",
        "\n",
        "with open('/content/drive/MyDrive/Colab Notebooks/graduation_project/data/test_data.csv', 'r') as data:\n",
        "  test_data= csv.reader(data, delimiter=',')"
      ]
    },
    {
      "cell_type": "code",
      "execution_count": null,
      "metadata": {
        "id": "NQVuHRvdHSOR"
      },
      "outputs": [],
      "source": [
        "import pandas as pd\n",
        "\n",
        "train_df= pd.read_csv('/content/drive/MyDrive/Colab Notebooks/graduation_project/data/train_data_1-3.CSV')\n",
        "test_df= pd.read_csv('/content/drive/MyDrive/Colab Notebooks/graduation_project/data/test_data.csv')"
      ]
    },
    {
      "cell_type": "code",
      "execution_count": null,
      "metadata": {
        "id": "WaqDxon2LGO_"
      },
      "outputs": [],
      "source": [
        "train_df= train_df[['title', 'text', 'emotion', 'emotion & summarize']]\n",
        "test_df= test_df[['title', 'text', 'emotion']]\n",
        "# train_df.head()"
      ]
    },
    {
      "cell_type": "code",
      "source": [
        "train_df['emotion'].value_counts()"
      ],
      "metadata": {
        "colab": {
          "base_uri": "https://localhost:8080/"
        },
        "id": "C7w3WmLCM5SA",
        "outputId": "dbc435c5-a012-4a50-8f66-4341d98c2dd5"
      },
      "execution_count": null,
      "outputs": [
        {
          "output_type": "execute_result",
          "data": {
            "text/plain": [
              "기쁨         241\n",
              "슬픔         221\n",
              "unknown     59\n",
              "두려움         39\n",
              "분노          38\n",
              "Name: emotion, dtype: int64"
            ]
          },
          "metadata": {},
          "execution_count": 6
        }
      ]
    },
    {
      "cell_type": "code",
      "source": [
        "test_df['emotion'].value_counts()"
      ],
      "metadata": {
        "colab": {
          "base_uri": "https://localhost:8080/"
        },
        "id": "836niYn9PM49",
        "outputId": "a73b6b9f-d71d-4e61-c0a3-be1c25836638"
      },
      "execution_count": null,
      "outputs": [
        {
          "output_type": "execute_result",
          "data": {
            "text/plain": [
              "기쁨         15\n",
              "슬픔          5\n",
              "unknown     5\n",
              "분노          4\n",
              "두려움         2\n",
              "Name: emotion, dtype: int64"
            ]
          },
          "metadata": {},
          "execution_count": 7
        }
      ]
    },
    {
      "cell_type": "code",
      "execution_count": null,
      "metadata": {
        "id": "i1gbvIHCLkjl",
        "colab": {
          "base_uri": "https://localhost:8080/"
        },
        "outputId": "6cdd6b63-248c-40c6-aa76-99217ca36475"
      },
      "outputs": [
        {
          "output_type": "stream",
          "name": "stderr",
          "text": [
            "/usr/local/lib/python3.7/dist-packages/ipykernel_launcher.py:1: SettingWithCopyWarning: \n",
            "A value is trying to be set on a copy of a slice from a DataFrame.\n",
            "Try using .loc[row_indexer,col_indexer] = value instead\n",
            "\n",
            "See the caveats in the documentation: https://pandas.pydata.org/pandas-docs/stable/user_guide/indexing.html#returning-a-view-versus-a-copy\n",
            "  \"\"\"Entry point for launching an IPython kernel.\n",
            "/usr/local/lib/python3.7/dist-packages/ipykernel_launcher.py:2: SettingWithCopyWarning: \n",
            "A value is trying to be set on a copy of a slice from a DataFrame.\n",
            "Try using .loc[row_indexer,col_indexer] = value instead\n",
            "\n",
            "See the caveats in the documentation: https://pandas.pydata.org/pandas-docs/stable/user_guide/indexing.html#returning-a-view-versus-a-copy\n",
            "  \n"
          ]
        }
      ],
      "source": [
        "train_df['train_text']=  \"[\"+ train_df['title'].map(str) + \"] \" + train_df['text']\n",
        "train_df['train_summary'] = train_df['emotion'] + '| ' + train_df['emotion & summarize']\n",
        "train_df= train_df[['train_text', 'train_summary']]\n",
        "\n",
        "test_df['test_text']= \"[\"+ test_df['title'].map(str) + \"] \" + test_df['text']\n",
        "test_df= test_df[['test_text']]\n",
        "\n",
        "# train_df.head()\n",
        "# test_df.head()"
      ]
    },
    {
      "cell_type": "code",
      "execution_count": null,
      "metadata": {
        "id": "gxuMTRQyJMff"
      },
      "outputs": [],
      "source": [
        "train_df.to_csv('/content/drive/MyDrive/Colab Notebooks/graduation_project/data/original-model_train_data.csv')\n",
        "test_df.to_csv('/content/drive/MyDrive/Colab Notebooks/graduation_project/data/original-model_test_data.csv')"
      ]
    },
    {
      "cell_type": "code",
      "execution_count": null,
      "metadata": {
        "id": "fpj5Hi7vQWs_"
      },
      "outputs": [],
      "source": [
        "train_data= pd.read_csv('/content/drive/MyDrive/Colab Notebooks/graduation_project/data/original-model_train_data.csv')\n",
        "train_data= train_data[['train_text', 'train_summary']]\n",
        "# train_data.head()"
      ]
    },
    {
      "cell_type": "code",
      "execution_count": null,
      "metadata": {
        "id": "JNtX5F5lQ2vQ"
      },
      "outputs": [],
      "source": [
        "# test_data= pd.read_csv('/content/drive/MyDrive/Colab Notebooks/graduation_project/data/original-model_test_data.csv')\n",
        "# test_data= test_data[['test_text']]\n",
        "# test_data.head()\n",
        "\n",
        "# 아래 test section에서 수행"
      ]
    },
    {
      "cell_type": "code",
      "execution_count": null,
      "metadata": {
        "id": "wJjPj7waRbz8"
      },
      "outputs": [],
      "source": [
        "# 결측값 제거 (단, 중복은 제거하지 않음)\n",
        "def drop_na(df):\n",
        "  df= df.dropna()\n",
        "  df= df.reset_index(drop=True)\n",
        "  return df"
      ]
    },
    {
      "cell_type": "code",
      "execution_count": null,
      "metadata": {
        "id": "rDVMesQfRxn5"
      },
      "outputs": [],
      "source": [
        "train_data= drop_na(train_data)\n",
        "# test_data= drop_na(test_data)"
      ]
    },
    {
      "cell_type": "code",
      "source": [
        "# gpt2 max length = 1024\n",
        "# summarize : 200자로 제한\n",
        "# 본문은 800자로 제한\n",
        "# summarize는 앞 200자를 자르고, 본문은 앞 400자, 뒤 400자를 잘라서 합침\n",
        "# 스터디 할 때 어디서인가 들었는데, \n",
        "# 모델 용량때문에 데이터를 잘라야할 땐 앞뒤를 잘라서 합치는 게 \n",
        "# 요약에 가장 성능이 좋다고 들었던 것 같아서..."
      ],
      "metadata": {
        "id": "L-grpE03ixwM"
      },
      "execution_count": null,
      "outputs": []
    },
    {
      "cell_type": "code",
      "source": [
        "max(train_data['train_text'].apply(len))"
      ],
      "metadata": {
        "id": "SsOKCBqwjS2i",
        "colab": {
          "base_uri": "https://localhost:8080/"
        },
        "outputId": "77346006-bd81-445d-aaa7-138628999aef"
      },
      "execution_count": null,
      "outputs": [
        {
          "output_type": "execute_result",
          "data": {
            "text/plain": [
              "9302"
            ]
          },
          "metadata": {},
          "execution_count": 15
        }
      ]
    },
    {
      "cell_type": "code",
      "source": [
        "i=0\n",
        "for text in train_data['train_text']:\n",
        "  if len(text) > 800:\n",
        "    train_data['train_text'][i] = train_data['train_text'][i][0:400] + train_data['train_text'][i][len(text)-400:len(text)]\n",
        "  i += 1"
      ],
      "metadata": {
        "id": "wfPxPYf1X8w6"
      },
      "execution_count": null,
      "outputs": []
    },
    {
      "cell_type": "code",
      "source": [
        "max(train_data['train_text'].apply(len))"
      ],
      "metadata": {
        "id": "wZIRUrV2jW4M",
        "colab": {
          "base_uri": "https://localhost:8080/"
        },
        "outputId": "e1c71ce0-2e03-4a88-833a-940d03ba320f"
      },
      "execution_count": null,
      "outputs": [
        {
          "output_type": "execute_result",
          "data": {
            "text/plain": [
              "800"
            ]
          },
          "metadata": {},
          "execution_count": 17
        }
      ]
    },
    {
      "cell_type": "code",
      "source": [
        "max(train_data['train_summary'].apply(len))"
      ],
      "metadata": {
        "colab": {
          "base_uri": "https://localhost:8080/"
        },
        "id": "ma2CdiDZZz4L",
        "outputId": "31996869-24bb-4c51-8813-e4600c815be0"
      },
      "execution_count": null,
      "outputs": [
        {
          "output_type": "execute_result",
          "data": {
            "text/plain": [
              "210"
            ]
          },
          "metadata": {},
          "execution_count": 18
        }
      ]
    },
    {
      "cell_type": "code",
      "source": [
        "i=0\n",
        "for text in train_data['train_summary']:\n",
        "  if len(text) > 200:\n",
        "    train_data['train_summary'][i] = train_data['train_summary'][i][0:200]\n",
        "  i += 1"
      ],
      "metadata": {
        "id": "KtXImmu5aEfq"
      },
      "execution_count": null,
      "outputs": []
    },
    {
      "cell_type": "code",
      "source": [
        "max(train_data['train_summary'].apply(len))"
      ],
      "metadata": {
        "colab": {
          "base_uri": "https://localhost:8080/"
        },
        "id": "IeZn6g8IaQD1",
        "outputId": "22849013-b4a1-47bb-de17-79fa1ad7eecc"
      },
      "execution_count": null,
      "outputs": [
        {
          "output_type": "execute_result",
          "data": {
            "text/plain": [
              "200"
            ]
          },
          "metadata": {},
          "execution_count": 20
        }
      ]
    },
    {
      "cell_type": "code",
      "source": [
        "train_data['total']= train_data['train_text'] + ' TL;DR ' + train_data['train_summary']\n",
        "train_data.head()"
      ],
      "metadata": {
        "colab": {
          "base_uri": "https://localhost:8080/",
          "height": 337
        },
        "id": "DqptWQZIWRhD",
        "outputId": "01a1ab0e-3151-4ba4-d7a4-e4e98718d7db"
      },
      "execution_count": null,
      "outputs": [
        {
          "output_type": "execute_result",
          "data": {
            "text/plain": [
              "                                          train_text  \\\n",
              "0  [걱정]  오늘도 일기를 쓰기 위해 연필을 들었다. 오늘은 2월 5일. 벌써 202...   \n",
              "1  [20141008]  오늘 아침도 여전히 졸렸다. 잠을 적게 자는 것도 아니고 피곤...   \n",
              "2  [나의 요즘]  사람과 사람이 만났을 때 가장 많이 하는 말은 '요즘 뭐하고 지내?...   \n",
              "3  [편입일기.. ]  평생을 열심히 살아본 적이 없다고 스스로 생각했다. 성공한 인생...   \n",
              "4  [백수의 하루]  전날 난 일찍자고 일찍 일어나서 일반인의 하루를 보내리라 결심을 ...   \n",
              "\n",
              "                                       train_summary  \\\n",
              "0  두려움| 시간이 많이 흘렀는데 이룬 것이 별로 없는 것 같아 불안하시군요. 미루는 ...   \n",
              "1  분노| 엄청 싫어하는 친구가 있어서 짜증이 나는군요. 그 친구가 당신의 친구랑 같이...   \n",
              "2  두려움| 누워서만 지내서 몸은 편한데 마음이 불편하군요. 무언가 해야할 것 같은 조...   \n",
              "3  슬픔| 미래를 위해 미대 편입학원에 다니기 시작했군요. 하지만 편입 준비를 하는 것...   \n",
              "4  두려움| 취업이 잘 되지 않아 힘든 상황이군요. 직업이 없는 상태라 하루하루 똑같은...   \n",
              "\n",
              "                                               total  \n",
              "0  [걱정]  오늘도 일기를 쓰기 위해 연필을 들었다. 오늘은 2월 5일. 벌써 202...  \n",
              "1  [20141008]  오늘 아침도 여전히 졸렸다. 잠을 적게 자는 것도 아니고 피곤...  \n",
              "2  [나의 요즘]  사람과 사람이 만났을 때 가장 많이 하는 말은 '요즘 뭐하고 지내?...  \n",
              "3  [편입일기.. ]  평생을 열심히 살아본 적이 없다고 스스로 생각했다. 성공한 인생...  \n",
              "4  [백수의 하루]  전날 난 일찍자고 일찍 일어나서 일반인의 하루를 보내리라 결심을 ...  "
            ],
            "text/html": [
              "\n",
              "  <div id=\"df-c2e55c1f-1517-4c95-a902-a6f3aac353ae\">\n",
              "    <div class=\"colab-df-container\">\n",
              "      <div>\n",
              "<style scoped>\n",
              "    .dataframe tbody tr th:only-of-type {\n",
              "        vertical-align: middle;\n",
              "    }\n",
              "\n",
              "    .dataframe tbody tr th {\n",
              "        vertical-align: top;\n",
              "    }\n",
              "\n",
              "    .dataframe thead th {\n",
              "        text-align: right;\n",
              "    }\n",
              "</style>\n",
              "<table border=\"1\" class=\"dataframe\">\n",
              "  <thead>\n",
              "    <tr style=\"text-align: right;\">\n",
              "      <th></th>\n",
              "      <th>train_text</th>\n",
              "      <th>train_summary</th>\n",
              "      <th>total</th>\n",
              "    </tr>\n",
              "  </thead>\n",
              "  <tbody>\n",
              "    <tr>\n",
              "      <th>0</th>\n",
              "      <td>[걱정]  오늘도 일기를 쓰기 위해 연필을 들었다. 오늘은 2월 5일. 벌써 202...</td>\n",
              "      <td>두려움| 시간이 많이 흘렀는데 이룬 것이 별로 없는 것 같아 불안하시군요. 미루는 ...</td>\n",
              "      <td>[걱정]  오늘도 일기를 쓰기 위해 연필을 들었다. 오늘은 2월 5일. 벌써 202...</td>\n",
              "    </tr>\n",
              "    <tr>\n",
              "      <th>1</th>\n",
              "      <td>[20141008]  오늘 아침도 여전히 졸렸다. 잠을 적게 자는 것도 아니고 피곤...</td>\n",
              "      <td>분노| 엄청 싫어하는 친구가 있어서 짜증이 나는군요. 그 친구가 당신의 친구랑 같이...</td>\n",
              "      <td>[20141008]  오늘 아침도 여전히 졸렸다. 잠을 적게 자는 것도 아니고 피곤...</td>\n",
              "    </tr>\n",
              "    <tr>\n",
              "      <th>2</th>\n",
              "      <td>[나의 요즘]  사람과 사람이 만났을 때 가장 많이 하는 말은 '요즘 뭐하고 지내?...</td>\n",
              "      <td>두려움| 누워서만 지내서 몸은 편한데 마음이 불편하군요. 무언가 해야할 것 같은 조...</td>\n",
              "      <td>[나의 요즘]  사람과 사람이 만났을 때 가장 많이 하는 말은 '요즘 뭐하고 지내?...</td>\n",
              "    </tr>\n",
              "    <tr>\n",
              "      <th>3</th>\n",
              "      <td>[편입일기.. ]  평생을 열심히 살아본 적이 없다고 스스로 생각했다. 성공한 인생...</td>\n",
              "      <td>슬픔| 미래를 위해 미대 편입학원에 다니기 시작했군요. 하지만 편입 준비를 하는 것...</td>\n",
              "      <td>[편입일기.. ]  평생을 열심히 살아본 적이 없다고 스스로 생각했다. 성공한 인생...</td>\n",
              "    </tr>\n",
              "    <tr>\n",
              "      <th>4</th>\n",
              "      <td>[백수의 하루]  전날 난 일찍자고 일찍 일어나서 일반인의 하루를 보내리라 결심을 ...</td>\n",
              "      <td>두려움| 취업이 잘 되지 않아 힘든 상황이군요. 직업이 없는 상태라 하루하루 똑같은...</td>\n",
              "      <td>[백수의 하루]  전날 난 일찍자고 일찍 일어나서 일반인의 하루를 보내리라 결심을 ...</td>\n",
              "    </tr>\n",
              "  </tbody>\n",
              "</table>\n",
              "</div>\n",
              "      <button class=\"colab-df-convert\" onclick=\"convertToInteractive('df-c2e55c1f-1517-4c95-a902-a6f3aac353ae')\"\n",
              "              title=\"Convert this dataframe to an interactive table.\"\n",
              "              style=\"display:none;\">\n",
              "        \n",
              "  <svg xmlns=\"http://www.w3.org/2000/svg\" height=\"24px\"viewBox=\"0 0 24 24\"\n",
              "       width=\"24px\">\n",
              "    <path d=\"M0 0h24v24H0V0z\" fill=\"none\"/>\n",
              "    <path d=\"M18.56 5.44l.94 2.06.94-2.06 2.06-.94-2.06-.94-.94-2.06-.94 2.06-2.06.94zm-11 1L8.5 8.5l.94-2.06 2.06-.94-2.06-.94L8.5 2.5l-.94 2.06-2.06.94zm10 10l.94 2.06.94-2.06 2.06-.94-2.06-.94-.94-2.06-.94 2.06-2.06.94z\"/><path d=\"M17.41 7.96l-1.37-1.37c-.4-.4-.92-.59-1.43-.59-.52 0-1.04.2-1.43.59L10.3 9.45l-7.72 7.72c-.78.78-.78 2.05 0 2.83L4 21.41c.39.39.9.59 1.41.59.51 0 1.02-.2 1.41-.59l7.78-7.78 2.81-2.81c.8-.78.8-2.07 0-2.86zM5.41 20L4 18.59l7.72-7.72 1.47 1.35L5.41 20z\"/>\n",
              "  </svg>\n",
              "      </button>\n",
              "      \n",
              "  <style>\n",
              "    .colab-df-container {\n",
              "      display:flex;\n",
              "      flex-wrap:wrap;\n",
              "      gap: 12px;\n",
              "    }\n",
              "\n",
              "    .colab-df-convert {\n",
              "      background-color: #E8F0FE;\n",
              "      border: none;\n",
              "      border-radius: 50%;\n",
              "      cursor: pointer;\n",
              "      display: none;\n",
              "      fill: #1967D2;\n",
              "      height: 32px;\n",
              "      padding: 0 0 0 0;\n",
              "      width: 32px;\n",
              "    }\n",
              "\n",
              "    .colab-df-convert:hover {\n",
              "      background-color: #E2EBFA;\n",
              "      box-shadow: 0px 1px 2px rgba(60, 64, 67, 0.3), 0px 1px 3px 1px rgba(60, 64, 67, 0.15);\n",
              "      fill: #174EA6;\n",
              "    }\n",
              "\n",
              "    [theme=dark] .colab-df-convert {\n",
              "      background-color: #3B4455;\n",
              "      fill: #D2E3FC;\n",
              "    }\n",
              "\n",
              "    [theme=dark] .colab-df-convert:hover {\n",
              "      background-color: #434B5C;\n",
              "      box-shadow: 0px 1px 3px 1px rgba(0, 0, 0, 0.15);\n",
              "      filter: drop-shadow(0px 1px 2px rgba(0, 0, 0, 0.3));\n",
              "      fill: #FFFFFF;\n",
              "    }\n",
              "  </style>\n",
              "\n",
              "      <script>\n",
              "        const buttonEl =\n",
              "          document.querySelector('#df-c2e55c1f-1517-4c95-a902-a6f3aac353ae button.colab-df-convert');\n",
              "        buttonEl.style.display =\n",
              "          google.colab.kernel.accessAllowed ? 'block' : 'none';\n",
              "\n",
              "        async function convertToInteractive(key) {\n",
              "          const element = document.querySelector('#df-c2e55c1f-1517-4c95-a902-a6f3aac353ae');\n",
              "          const dataTable =\n",
              "            await google.colab.kernel.invokeFunction('convertToInteractive',\n",
              "                                                     [key], {});\n",
              "          if (!dataTable) return;\n",
              "\n",
              "          const docLinkHtml = 'Like what you see? Visit the ' +\n",
              "            '<a target=\"_blank\" href=https://colab.research.google.com/notebooks/data_table.ipynb>data table notebook</a>'\n",
              "            + ' to learn more about interactive tables.';\n",
              "          element.innerHTML = '';\n",
              "          dataTable['output_type'] = 'display_data';\n",
              "          await google.colab.output.renderOutput(dataTable, element);\n",
              "          const docLink = document.createElement('div');\n",
              "          docLink.innerHTML = docLinkHtml;\n",
              "          element.appendChild(docLink);\n",
              "        }\n",
              "      </script>\n",
              "    </div>\n",
              "  </div>\n",
              "  "
            ]
          },
          "metadata": {},
          "execution_count": 21
        }
      ]
    },
    {
      "cell_type": "code",
      "source": [
        "print('total max length: ' , max(train_data['total'].apply(len)))"
      ],
      "metadata": {
        "colab": {
          "base_uri": "https://localhost:8080/"
        },
        "id": "ie8UZdVhW1r-",
        "outputId": "8e86000e-93db-472c-c7f4-cc3d797aab67"
      },
      "execution_count": null,
      "outputs": [
        {
          "output_type": "stream",
          "name": "stdout",
          "text": [
            "total max length:  1007\n"
          ]
        }
      ]
    },
    {
      "cell_type": "code",
      "execution_count": null,
      "metadata": {
        "id": "s2AQwsh2UQiE"
      },
      "outputs": [],
      "source": [
        "# !git clone https://github.com/kakaobrain/kogpt.git"
      ]
    },
    {
      "cell_type": "code",
      "source": [
        "# !git clone https://github.com/SKT-AI/KoGPT2.git"
      ],
      "metadata": {
        "id": "LewFf5umPcyc"
      },
      "execution_count": null,
      "outputs": []
    },
    {
      "cell_type": "code",
      "source": [
        "# ! git clone https://github.com/jiminAn/Capstone_2022.git"
      ],
      "metadata": {
        "id": "6E7Bn6wl0JPP"
      },
      "execution_count": null,
      "outputs": []
    },
    {
      "cell_type": "markdown",
      "metadata": {
        "id": "-bzgo9TcaOWl"
      },
      "source": [
        "* **pre-trained model(kakaoBrain kogpt) 불러오기**"
      ]
    },
    {
      "cell_type": "code",
      "execution_count": null,
      "metadata": {
        "colab": {
          "base_uri": "https://localhost:8080/"
        },
        "id": "BIxZnh-sYgf1",
        "outputId": "fbc600b6-93d6-47c2-c45e-c81a73327be9"
      },
      "outputs": [
        {
          "output_type": "stream",
          "name": "stdout",
          "text": [
            "Looking in indexes: https://pypi.org/simple, https://us-python.pkg.dev/colab-wheels/public/simple/\n",
            "Collecting torch~=1.9.0\n",
            "  Downloading torch-1.9.1-cp37-cp37m-manylinux1_x86_64.whl (831.4 MB)\n",
            "\u001b[K     |████████████████████████████████| 831.4 MB 6.8 kB/s \n",
            "\u001b[?25hCollecting transformers~=4.12.0\n",
            "  Downloading transformers-4.12.5-py3-none-any.whl (3.1 MB)\n",
            "\u001b[K     |████████████████████████████████| 3.1 MB 58.2 MB/s \n",
            "\u001b[?25hRequirement already satisfied: typing-extensions in /usr/local/lib/python3.7/dist-packages (from torch~=1.9.0->-r /content/drive/MyDrive/Colab Notebooks/graduation_project/kogpt/requirements.txt (line 1)) (4.1.1)\n",
            "Requirement already satisfied: tqdm>=4.27 in /usr/local/lib/python3.7/dist-packages (from transformers~=4.12.0->-r /content/drive/MyDrive/Colab Notebooks/graduation_project/kogpt/requirements.txt (line 2)) (4.64.0)\n",
            "Requirement already satisfied: packaging>=20.0 in /usr/local/lib/python3.7/dist-packages (from transformers~=4.12.0->-r /content/drive/MyDrive/Colab Notebooks/graduation_project/kogpt/requirements.txt (line 2)) (21.3)\n",
            "Collecting tokenizers<0.11,>=0.10.1\n",
            "  Downloading tokenizers-0.10.3-cp37-cp37m-manylinux_2_5_x86_64.manylinux1_x86_64.manylinux_2_12_x86_64.manylinux2010_x86_64.whl (3.3 MB)\n",
            "\u001b[K     |████████████████████████████████| 3.3 MB 43.3 MB/s \n",
            "\u001b[?25hRequirement already satisfied: numpy>=1.17 in /usr/local/lib/python3.7/dist-packages (from transformers~=4.12.0->-r /content/drive/MyDrive/Colab Notebooks/graduation_project/kogpt/requirements.txt (line 2)) (1.21.6)\n",
            "Collecting huggingface-hub<1.0,>=0.1.0\n",
            "  Downloading huggingface_hub-0.8.1-py3-none-any.whl (101 kB)\n",
            "\u001b[K     |████████████████████████████████| 101 kB 13.0 MB/s \n",
            "\u001b[?25hRequirement already satisfied: regex!=2019.12.17 in /usr/local/lib/python3.7/dist-packages (from transformers~=4.12.0->-r /content/drive/MyDrive/Colab Notebooks/graduation_project/kogpt/requirements.txt (line 2)) (2022.6.2)\n",
            "Requirement already satisfied: importlib-metadata in /usr/local/lib/python3.7/dist-packages (from transformers~=4.12.0->-r /content/drive/MyDrive/Colab Notebooks/graduation_project/kogpt/requirements.txt (line 2)) (4.12.0)\n",
            "Collecting sacremoses\n",
            "  Downloading sacremoses-0.0.53.tar.gz (880 kB)\n",
            "\u001b[K     |████████████████████████████████| 880 kB 65.3 MB/s \n",
            "\u001b[?25hCollecting pyyaml>=5.1\n",
            "  Downloading PyYAML-6.0-cp37-cp37m-manylinux_2_5_x86_64.manylinux1_x86_64.manylinux_2_12_x86_64.manylinux2010_x86_64.whl (596 kB)\n",
            "\u001b[K     |████████████████████████████████| 596 kB 62.6 MB/s \n",
            "\u001b[?25hRequirement already satisfied: requests in /usr/local/lib/python3.7/dist-packages (from transformers~=4.12.0->-r /content/drive/MyDrive/Colab Notebooks/graduation_project/kogpt/requirements.txt (line 2)) (2.23.0)\n",
            "Requirement already satisfied: filelock in /usr/local/lib/python3.7/dist-packages (from transformers~=4.12.0->-r /content/drive/MyDrive/Colab Notebooks/graduation_project/kogpt/requirements.txt (line 2)) (3.7.1)\n",
            "Requirement already satisfied: pyparsing!=3.0.5,>=2.0.2 in /usr/local/lib/python3.7/dist-packages (from packaging>=20.0->transformers~=4.12.0->-r /content/drive/MyDrive/Colab Notebooks/graduation_project/kogpt/requirements.txt (line 2)) (3.0.9)\n",
            "Requirement already satisfied: zipp>=0.5 in /usr/local/lib/python3.7/dist-packages (from importlib-metadata->transformers~=4.12.0->-r /content/drive/MyDrive/Colab Notebooks/graduation_project/kogpt/requirements.txt (line 2)) (3.8.1)\n",
            "Requirement already satisfied: urllib3!=1.25.0,!=1.25.1,<1.26,>=1.21.1 in /usr/local/lib/python3.7/dist-packages (from requests->transformers~=4.12.0->-r /content/drive/MyDrive/Colab Notebooks/graduation_project/kogpt/requirements.txt (line 2)) (1.24.3)\n",
            "Requirement already satisfied: idna<3,>=2.5 in /usr/local/lib/python3.7/dist-packages (from requests->transformers~=4.12.0->-r /content/drive/MyDrive/Colab Notebooks/graduation_project/kogpt/requirements.txt (line 2)) (2.10)\n",
            "Requirement already satisfied: chardet<4,>=3.0.2 in /usr/local/lib/python3.7/dist-packages (from requests->transformers~=4.12.0->-r /content/drive/MyDrive/Colab Notebooks/graduation_project/kogpt/requirements.txt (line 2)) (3.0.4)\n",
            "Requirement already satisfied: certifi>=2017.4.17 in /usr/local/lib/python3.7/dist-packages (from requests->transformers~=4.12.0->-r /content/drive/MyDrive/Colab Notebooks/graduation_project/kogpt/requirements.txt (line 2)) (2022.6.15)\n",
            "Requirement already satisfied: six in /usr/local/lib/python3.7/dist-packages (from sacremoses->transformers~=4.12.0->-r /content/drive/MyDrive/Colab Notebooks/graduation_project/kogpt/requirements.txt (line 2)) (1.15.0)\n",
            "Requirement already satisfied: click in /usr/local/lib/python3.7/dist-packages (from sacremoses->transformers~=4.12.0->-r /content/drive/MyDrive/Colab Notebooks/graduation_project/kogpt/requirements.txt (line 2)) (7.1.2)\n",
            "Requirement already satisfied: joblib in /usr/local/lib/python3.7/dist-packages (from sacremoses->transformers~=4.12.0->-r /content/drive/MyDrive/Colab Notebooks/graduation_project/kogpt/requirements.txt (line 2)) (1.1.0)\n",
            "Building wheels for collected packages: sacremoses\n",
            "  Building wheel for sacremoses (setup.py) ... \u001b[?25l\u001b[?25hdone\n",
            "  Created wheel for sacremoses: filename=sacremoses-0.0.53-py3-none-any.whl size=895260 sha256=06e27009b32aec3e3fda36da24d7dab1537074961ba48c123423327c224981f2\n",
            "  Stored in directory: /root/.cache/pip/wheels/87/39/dd/a83eeef36d0bf98e7a4d1933a4ad2d660295a40613079bafc9\n",
            "Successfully built sacremoses\n",
            "Installing collected packages: pyyaml, tokenizers, sacremoses, huggingface-hub, transformers, torch\n",
            "  Attempting uninstall: pyyaml\n",
            "    Found existing installation: PyYAML 3.13\n",
            "    Uninstalling PyYAML-3.13:\n",
            "      Successfully uninstalled PyYAML-3.13\n",
            "  Attempting uninstall: torch\n",
            "    Found existing installation: torch 1.12.1+cu113\n",
            "    Uninstalling torch-1.12.1+cu113:\n",
            "      Successfully uninstalled torch-1.12.1+cu113\n",
            "\u001b[31mERROR: pip's dependency resolver does not currently take into account all the packages that are installed. This behaviour is the source of the following dependency conflicts.\n",
            "torchvision 0.13.1+cu113 requires torch==1.12.1, but you have torch 1.9.1 which is incompatible.\n",
            "torchtext 0.13.1 requires torch==1.12.1, but you have torch 1.9.1 which is incompatible.\n",
            "torchaudio 0.12.1+cu113 requires torch==1.12.1, but you have torch 1.9.1 which is incompatible.\u001b[0m\n",
            "Successfully installed huggingface-hub-0.8.1 pyyaml-6.0 sacremoses-0.0.53 tokenizers-0.10.3 torch-1.9.1 transformers-4.12.5\n"
          ]
        }
      ],
      "source": [
        "!pip install -r '/content/drive/MyDrive/Colab Notebooks/graduation_project/kogpt/requirements.txt'"
      ]
    },
    {
      "cell_type": "code",
      "execution_count": null,
      "metadata": {
        "id": "uYpW8fRfaYMi"
      },
      "outputs": [],
      "source": [
        "import torch\n",
        "import tensorflow\n",
        "# from transformers import AutoModelForCausalLM, AutoTokenizer"
      ]
    },
    {
      "cell_type": "code",
      "execution_count": null,
      "metadata": {
        "id": "fiZ6H7uqb4IH"
      },
      "outputs": [],
      "source": [
        "device = torch.device('cuda:0' if torch.cuda.is_available() else 'cpu')"
      ]
    },
    {
      "cell_type": "code",
      "execution_count": null,
      "metadata": {
        "id": "Us_v0tdfR60V"
      },
      "outputs": [],
      "source": [
        "# kogpt3\n",
        "\n",
        "# pre-trained tokenizer 불러오기\n",
        "# tokenizer = AutoTokenizer.from_pretrained(\n",
        "#   'kakaobrain/kogpt', revision='KoGPT6B-ryan1.5b-float16',  # or float32 version: revision=KoGPT6B-ryan1.5b\n",
        "#   bos_token='[BOS]', eos_token='[EOS]', unk_token='[UNK]', pad_token='[PAD]', mask_token='[MASK]'\n",
        "# )\n",
        "\n",
        "# # pre-trained model 불러오기\n",
        "# model = AutoModelForCausalLM.from_pretrained(\n",
        "#   'kakaobrain/kogpt', revision='KoGPT6B-ryan1.5b-float16',  # or float32 version: revision=KoGPT6B-ryan1.5b\n",
        "#   pad_token_id=tokenizer.eos_token_id,\n",
        "#   torch_dtype='auto', low_cpu_mem_usage=True\n",
        "# )#.to(device='cuda', non_blocking=True)\n",
        "# _ = model.eval()"
      ]
    },
    {
      "cell_type": "code",
      "source": [
        "# kogpt2\n",
        "from transformers import PreTrainedTokenizerFast\n",
        "\n",
        "tokenizer = PreTrainedTokenizerFast.from_pretrained(\"skt/kogpt2-base-v2\",\n",
        "  bos_token='</s>', eos_token='</s>', unk_token='<unk>',\n",
        "  pad_token='<pad>', mask_token='<mask>')\n"
      ],
      "metadata": {
        "colab": {
          "base_uri": "https://localhost:8080/",
          "height": 156,
          "referenced_widgets": [
            "abb68f9190964b069ed7f438ad2058e8",
            "e271b757f56a4682ba83c4d659359650",
            "56119cd84767474fa8a55f3c4e83bb3d",
            "b70e549d59df488593a2c9822d03b223",
            "f0fb4acdcdef4491990ddd0f48efc657",
            "bd379fb0bf534183a6748ffb1da6a99c",
            "7b4ca31406a94fc597f741a6f3011c8e",
            "87f812ff080e4f6e9e581a06333c3076",
            "4a2107fcde4045949ec9e2566a09c33f",
            "955d1a349f2f4d1ebaa045719cf18b4a",
            "726ee0018f4c4d6bb753143fa9372890",
            "9c67719180054d42876e208274e64318",
            "20b46d74f470401f9f08e6932122423f",
            "28e1882cf4f1406180873bb95485908d",
            "345b3c26298745f3bb9ae59764bffdd3",
            "fb63c1e8f3fa490f9eb2afd52ef54aff",
            "c290d316181147f2b3a5b2b8c54ea54a",
            "86359bbb99704743a000a936012d3663",
            "2542bd6b35364906a582b727fa8a498b",
            "6db3bb47dc0d4106b28bab5bebe35ff5",
            "1f0a08d47ac44b99b559528be47364dd",
            "8ce3a60e5dc64be8a550a40a0a0d1aec"
          ]
        },
        "id": "CgB9rEMvPD7p",
        "outputId": "be40a321-8da6-4fc8-ae17-6179dd1ab0b1"
      },
      "execution_count": null,
      "outputs": [
        {
          "output_type": "display_data",
          "data": {
            "text/plain": [
              "Downloading:   0%|          | 0.00/2.69M [00:00<?, ?B/s]"
            ],
            "application/vnd.jupyter.widget-view+json": {
              "version_major": 2,
              "version_minor": 0,
              "model_id": "abb68f9190964b069ed7f438ad2058e8"
            }
          },
          "metadata": {}
        },
        {
          "output_type": "display_data",
          "data": {
            "text/plain": [
              "Downloading:   0%|          | 0.00/0.98k [00:00<?, ?B/s]"
            ],
            "application/vnd.jupyter.widget-view+json": {
              "version_major": 2,
              "version_minor": 0,
              "model_id": "9c67719180054d42876e208274e64318"
            }
          },
          "metadata": {}
        },
        {
          "output_type": "stream",
          "name": "stderr",
          "text": [
            "The tokenizer class you load from this checkpoint is not the same type as the class this function is called from. It may result in unexpected tokenization. \n",
            "The tokenizer class you load from this checkpoint is 'GPT2Tokenizer'. \n",
            "The class this function is called from is 'PreTrainedTokenizerFast'.\n"
          ]
        }
      ]
    },
    {
      "cell_type": "code",
      "source": [
        "import torch\n",
        "from transformers import GPT2LMHeadModel\n",
        "\n",
        "model = GPT2LMHeadModel.from_pretrained('skt/kogpt2-base-v2')"
      ],
      "metadata": {
        "id": "6I_1TrwvPRQF",
        "colab": {
          "base_uri": "https://localhost:8080/",
          "height": 49,
          "referenced_widgets": [
            "77bd63fdb15f4c8abaac34763d994289",
            "294dafedca1a49abaa5c00ea6c350f0b",
            "7d20984950964731addc1246255bc082",
            "64b66edc61f04c2dbb5fe2a531c4ea8b",
            "4c8fc934cb664447a3cff54f90e947e7",
            "50411156c8c74fa8aad37575c3968e96",
            "ef1b28c3800a45208347786eab379fe8",
            "eec606424ba2475dad9b88fcbfb7316a",
            "9e282c83c358493dbfc197aec40cbebb",
            "40b23dfe6ff943989d046dd2f35272af",
            "2158b514bd1b4787af478f35f0cede49"
          ]
        },
        "outputId": "62b4944a-708e-4f28-823a-256bcb1ce135"
      },
      "execution_count": null,
      "outputs": [
        {
          "output_type": "display_data",
          "data": {
            "text/plain": [
              "Downloading:   0%|          | 0.00/490M [00:00<?, ?B/s]"
            ],
            "application/vnd.jupyter.widget-view+json": {
              "version_major": 2,
              "version_minor": 0,
              "model_id": "77bd63fdb15f4c8abaac34763d994289"
            }
          },
          "metadata": {}
        }
      ]
    },
    {
      "cell_type": "code",
      "execution_count": null,
      "metadata": {
        "id": "dTI8vghF4QUQ"
      },
      "outputs": [],
      "source": [
        "# model load\n",
        "# model= GPT2LMHeadModel.from_pretrained('./checkpoint/model.pt').to(device)"
      ]
    },
    {
      "cell_type": "code",
      "source": [
        "# model test\n",
        "\n",
        "# text = '[평범한 일상] 오늘은 아주 무난한 하루를 보냈다. 팝송도 듣고, 산책도 하고 등등. 매일이 오늘 같았으면 좋겠다!'\n",
        "# input_ids = tokenizer.encode(text, return_tensors='pt')\n",
        "# gen_ids = model.generate(input_ids,\n",
        "#                            max_length=128,\n",
        "#                            repetition_penalty=2.0,\n",
        "#                            pad_token_id=tokenizer.pad_token_id,\n",
        "#                            eos_token_id=tokenizer.eos_token_id,\n",
        "#                            bos_token_id=tokenizer.bos_token_id,\n",
        "#                            use_cache=True)\n",
        "# generated = tokenizer.decode(gen_ids[0])\n",
        "# print(generated)"
      ],
      "metadata": {
        "id": "KZDMNeBSyvD2"
      },
      "execution_count": null,
      "outputs": []
    },
    {
      "cell_type": "markdown",
      "metadata": {
        "id": "lMeCUlaaTSwj"
      },
      "source": [
        "* 참고한 summarize 코드\n",
        "\n",
        "https://towardsdatascience.com/question-answering-with-a-fine-tuned-bert-bc4dafd45626\n",
        "\n",
        "https://medium.com/analytics-vidhya/an-ai-that-does-your-homework-e5fa40c43d17\n",
        "\n",
        "https://www.nbshare.io/notebook/764386829/Amazon-Review-Summarization-Using-GPT-2-And-PyTorch/"
      ]
    },
    {
      "cell_type": "code",
      "execution_count": null,
      "metadata": {
        "id": "ixYCahQC8Rsp"
      },
      "outputs": [],
      "source": [
        "import numpy as np"
      ]
    },
    {
      "cell_type": "code",
      "execution_count": null,
      "metadata": {
        "id": "I2eZ5nPhXPXJ"
      },
      "outputs": [],
      "source": [
        "text_data= train_data['train_text']\n",
        "summary_data= train_data['train_summary']"
      ]
    },
    {
      "cell_type": "code",
      "execution_count": null,
      "metadata": {
        "id": "RF5pO2haIQrW"
      },
      "outputs": [],
      "source": [
        "from torch.utils.data import Dataset, DataLoader\n",
        "\n",
        "max_len= len(max(train_data['total']))\n",
        "extra_length= len(tokenizer.encode(\" TL;DR \"))\n",
        "\n",
        "class textDataset(Dataset):  \n",
        "    def __init__(self, tokenizer, text, max_len):\n",
        "        self.max_len = max_len\n",
        "        self.tokenizer = tokenizer\n",
        "        self.eos = self.tokenizer.eos_token\n",
        "        self.eos_id = self.tokenizer.eos_token_id\n",
        "        self.text= text\n",
        "        self.result = []\n",
        "\n",
        "        for text in self.text:\n",
        "            # Encode the text using tokenizer.encode(). We add EOS at the end\n",
        "            tokenized = self.tokenizer.encode(text + self.eos)\n",
        "            \n",
        "            # Padding/truncating the encoded sequence to max_len \n",
        "            padded = self.pad_truncate(tokenized)            \n",
        "\n",
        "            # Creating a tensor and adding to the result\n",
        "            self.result.append(torch.tensor(padded))\n",
        "\n",
        "    def __len__(self):\n",
        "        return len(self.result)\n",
        "\n",
        "\n",
        "    def __getitem__(self, item):\n",
        "        return self.result[item]\n",
        "\n",
        "    def pad_truncate(self, name):\n",
        "        name_length = len(name) - extra_length\n",
        "        if name_length < self.max_len:\n",
        "            difference = self.max_len - name_length\n",
        "            result = name + [self.eos_id] * difference\n",
        "        elif name_length > self.max_len:\n",
        "            result = name[:self.max_len + 3]+[self.eos_id] \n",
        "        else:\n",
        "            result = name\n",
        "        return result"
      ]
    },
    {
      "cell_type": "code",
      "execution_count": null,
      "metadata": {
        "id": "gNy6PmsxKzeR"
      },
      "outputs": [],
      "source": [
        "dataset= textDataset(tokenizer, train_data['total'], max_len)"
      ]
    },
    {
      "cell_type": "code",
      "execution_count": null,
      "metadata": {
        "id": "WKzxxkM1LHgE"
      },
      "outputs": [],
      "source": [
        "dataloader= DataLoader(dataset, batch_size= 1, drop_last=True) "
      ]
    },
    {
      "cell_type": "code",
      "source": [
        "# model load\n",
        "# model= GPT2LMHeadModel.from_pretrained('./checkpoint/old_model.pt').to(device)"
      ],
      "metadata": {
        "id": "d_fNNuSJHr44"
      },
      "execution_count": null,
      "outputs": []
    },
    {
      "cell_type": "code",
      "execution_count": null,
      "metadata": {
        "id": "xa2D2EcyD1Yt"
      },
      "outputs": [],
      "source": [
        "def train(model, optimizer, dl, epochs):    \n",
        "    for epoch in range(epochs):\n",
        "        for idx, batch in enumerate(dl):\n",
        "             with torch.set_grad_enabled(True):\n",
        "                optimizer.zero_grad()\n",
        "                batch = batch.to(device)\n",
        "                output = model(batch, labels=batch)\n",
        "                loss = output[0]\n",
        "                loss.backward()\n",
        "                optimizer.step()\n",
        "                if idx % 50 == 0:\n",
        "                    print(\"epoch: %f, loss: %f, %d\"%(int(epoch), loss, idx))\n",
        "                    model.save_pretrained('./checkpoint/old_model.pt') # pytorch"
      ]
    },
    {
      "cell_type": "code",
      "execution_count": null,
      "metadata": {
        "id": "3WMKzgz2F3FS"
      },
      "outputs": [],
      "source": [
        "import torch.optim as optim\n",
        "\n",
        "optimizer= optim.AdamW(model.parameters(), lr= 3e-4)\n",
        "model= model.to(device)"
      ]
    },
    {
      "cell_type": "code",
      "execution_count": null,
      "metadata": {
        "colab": {
          "base_uri": "https://localhost:8080/"
        },
        "id": "p5Viqq_pF7DL",
        "outputId": "321ef2cc-d7f3-4afc-f56d-2bdcd1d649eb"
      },
      "outputs": [
        {
          "output_type": "stream",
          "name": "stdout",
          "text": [
            "epoch: 0.000000, loss: 9.267990, 0\n",
            "epoch: 0.000000, loss: 2.371522, 50\n",
            "epoch: 0.000000, loss: 2.380273, 100\n",
            "epoch: 0.000000, loss: 2.304886, 150\n",
            "epoch: 0.000000, loss: 2.041277, 200\n",
            "epoch: 0.000000, loss: 1.868050, 250\n",
            "epoch: 0.000000, loss: 2.482947, 300\n",
            "epoch: 0.000000, loss: 1.389516, 350\n",
            "epoch: 0.000000, loss: 2.428214, 400\n",
            "epoch: 0.000000, loss: 2.305589, 450\n",
            "epoch: 0.000000, loss: 2.582309, 500\n",
            "epoch: 0.000000, loss: 2.285297, 550\n",
            "epoch: 1.000000, loss: 1.114740, 0\n",
            "epoch: 1.000000, loss: 1.984914, 50\n",
            "epoch: 1.000000, loss: 1.986743, 100\n",
            "epoch: 1.000000, loss: 1.739288, 150\n",
            "epoch: 1.000000, loss: 1.688375, 200\n",
            "epoch: 1.000000, loss: 1.559651, 250\n",
            "epoch: 1.000000, loss: 2.015565, 300\n",
            "epoch: 1.000000, loss: 1.091560, 350\n",
            "epoch: 1.000000, loss: 2.033303, 400\n",
            "epoch: 1.000000, loss: 1.900468, 450\n",
            "epoch: 1.000000, loss: 2.130802, 500\n",
            "epoch: 1.000000, loss: 1.966061, 550\n",
            "epoch: 2.000000, loss: 1.013857, 0\n",
            "epoch: 2.000000, loss: 1.605938, 50\n",
            "epoch: 2.000000, loss: 1.586382, 100\n",
            "epoch: 2.000000, loss: 1.302746, 150\n",
            "epoch: 2.000000, loss: 1.439176, 200\n",
            "epoch: 2.000000, loss: 1.299016, 250\n",
            "epoch: 2.000000, loss: 1.631455, 300\n",
            "epoch: 2.000000, loss: 0.842981, 350\n",
            "epoch: 2.000000, loss: 1.583360, 400\n",
            "epoch: 2.000000, loss: 1.554566, 450\n",
            "epoch: 2.000000, loss: 1.674784, 500\n",
            "epoch: 2.000000, loss: 1.659028, 550\n",
            "epoch: 3.000000, loss: 0.878081, 0\n",
            "epoch: 3.000000, loss: 1.266324, 50\n",
            "epoch: 3.000000, loss: 1.300055, 100\n",
            "epoch: 3.000000, loss: 1.054033, 150\n",
            "epoch: 3.000000, loss: 1.181507, 200\n",
            "epoch: 3.000000, loss: 0.942256, 250\n",
            "epoch: 3.000000, loss: 1.252900, 300\n",
            "epoch: 3.000000, loss: 0.605059, 350\n",
            "epoch: 3.000000, loss: 1.202090, 400\n",
            "epoch: 3.000000, loss: 1.162497, 450\n",
            "epoch: 3.000000, loss: 1.361037, 500\n",
            "epoch: 3.000000, loss: 1.286386, 550\n",
            "epoch: 4.000000, loss: 0.775960, 0\n",
            "epoch: 4.000000, loss: 1.054203, 50\n",
            "epoch: 4.000000, loss: 0.995097, 100\n",
            "epoch: 4.000000, loss: 0.741723, 150\n",
            "epoch: 4.000000, loss: 0.874128, 200\n",
            "epoch: 4.000000, loss: 0.654335, 250\n",
            "epoch: 4.000000, loss: 0.861127, 300\n",
            "epoch: 4.000000, loss: 0.386628, 350\n",
            "epoch: 4.000000, loss: 0.887508, 400\n",
            "epoch: 4.000000, loss: 0.784355, 450\n",
            "epoch: 4.000000, loss: 0.897884, 500\n",
            "epoch: 4.000000, loss: 0.946336, 550\n",
            "epoch: 5.000000, loss: 0.611645, 0\n",
            "epoch: 5.000000, loss: 0.669749, 50\n",
            "epoch: 5.000000, loss: 0.799460, 100\n",
            "epoch: 5.000000, loss: 0.581467, 150\n",
            "epoch: 5.000000, loss: 0.588676, 200\n",
            "epoch: 5.000000, loss: 0.463348, 250\n",
            "epoch: 5.000000, loss: 0.580952, 300\n",
            "epoch: 5.000000, loss: 0.297360, 350\n",
            "epoch: 5.000000, loss: 0.619317, 400\n",
            "epoch: 5.000000, loss: 0.615137, 450\n",
            "epoch: 5.000000, loss: 0.567188, 500\n",
            "epoch: 5.000000, loss: 0.655723, 550\n",
            "epoch: 6.000000, loss: 0.380912, 0\n",
            "epoch: 6.000000, loss: 0.523520, 50\n",
            "epoch: 6.000000, loss: 0.467110, 100\n",
            "epoch: 6.000000, loss: 0.375575, 150\n",
            "epoch: 6.000000, loss: 0.359198, 200\n",
            "epoch: 6.000000, loss: 0.293217, 250\n",
            "epoch: 6.000000, loss: 0.443104, 300\n",
            "epoch: 6.000000, loss: 0.210649, 350\n",
            "epoch: 6.000000, loss: 0.447434, 400\n",
            "epoch: 6.000000, loss: 0.402238, 450\n",
            "epoch: 6.000000, loss: 0.368419, 500\n",
            "epoch: 6.000000, loss: 0.447332, 550\n",
            "epoch: 7.000000, loss: 0.243354, 0\n",
            "epoch: 7.000000, loss: 0.402004, 50\n",
            "epoch: 7.000000, loss: 0.327162, 100\n",
            "epoch: 7.000000, loss: 0.280935, 150\n",
            "epoch: 7.000000, loss: 0.322843, 200\n",
            "epoch: 7.000000, loss: 0.191122, 250\n",
            "epoch: 7.000000, loss: 0.274980, 300\n",
            "epoch: 7.000000, loss: 0.185368, 350\n",
            "epoch: 7.000000, loss: 0.262236, 400\n",
            "epoch: 7.000000, loss: 0.248851, 450\n",
            "epoch: 7.000000, loss: 0.282679, 500\n",
            "epoch: 7.000000, loss: 0.359785, 550\n",
            "epoch: 8.000000, loss: 0.199726, 0\n",
            "epoch: 8.000000, loss: 0.260524, 50\n",
            "epoch: 8.000000, loss: 0.299867, 100\n",
            "epoch: 8.000000, loss: 0.205457, 150\n",
            "epoch: 8.000000, loss: 0.204376, 200\n",
            "epoch: 8.000000, loss: 0.150427, 250\n",
            "epoch: 8.000000, loss: 0.177041, 300\n",
            "epoch: 8.000000, loss: 0.152610, 350\n",
            "epoch: 8.000000, loss: 0.197339, 400\n",
            "epoch: 8.000000, loss: 0.235387, 450\n",
            "epoch: 8.000000, loss: 0.194663, 500\n",
            "epoch: 8.000000, loss: 0.222231, 550\n",
            "epoch: 9.000000, loss: 0.143393, 0\n",
            "epoch: 9.000000, loss: 0.230750, 50\n",
            "epoch: 9.000000, loss: 0.232181, 100\n",
            "epoch: 9.000000, loss: 0.160461, 150\n",
            "epoch: 9.000000, loss: 0.136929, 200\n",
            "epoch: 9.000000, loss: 0.140386, 250\n",
            "epoch: 9.000000, loss: 0.200257, 300\n",
            "epoch: 9.000000, loss: 0.142100, 350\n",
            "epoch: 9.000000, loss: 0.192513, 400\n",
            "epoch: 9.000000, loss: 0.205151, 450\n",
            "epoch: 9.000000, loss: 0.209546, 500\n",
            "epoch: 9.000000, loss: 0.212795, 550\n",
            "epoch: 10.000000, loss: 0.125160, 0\n",
            "epoch: 10.000000, loss: 0.167475, 50\n",
            "epoch: 10.000000, loss: 0.173518, 100\n",
            "epoch: 10.000000, loss: 0.125614, 150\n",
            "epoch: 10.000000, loss: 0.135008, 200\n",
            "epoch: 10.000000, loss: 0.146522, 250\n",
            "epoch: 10.000000, loss: 0.165874, 300\n",
            "epoch: 10.000000, loss: 0.099826, 350\n",
            "epoch: 10.000000, loss: 0.192611, 400\n",
            "epoch: 10.000000, loss: 0.172300, 450\n",
            "epoch: 10.000000, loss: 0.123288, 500\n",
            "epoch: 10.000000, loss: 0.192915, 550\n",
            "epoch: 11.000000, loss: 0.120730, 0\n",
            "epoch: 11.000000, loss: 0.169493, 50\n",
            "epoch: 11.000000, loss: 0.220757, 100\n",
            "epoch: 11.000000, loss: 0.120889, 150\n",
            "epoch: 11.000000, loss: 0.132151, 200\n",
            "epoch: 11.000000, loss: 0.090698, 250\n",
            "epoch: 11.000000, loss: 0.151672, 300\n",
            "epoch: 11.000000, loss: 0.089423, 350\n",
            "epoch: 11.000000, loss: 0.193722, 400\n",
            "epoch: 11.000000, loss: 0.191035, 450\n",
            "epoch: 11.000000, loss: 0.179072, 500\n",
            "epoch: 11.000000, loss: 0.134177, 550\n",
            "epoch: 12.000000, loss: 0.091271, 0\n",
            "epoch: 12.000000, loss: 0.131986, 50\n",
            "epoch: 12.000000, loss: 0.177468, 100\n",
            "epoch: 12.000000, loss: 0.119657, 150\n",
            "epoch: 12.000000, loss: 0.112708, 200\n",
            "epoch: 12.000000, loss: 0.086191, 250\n",
            "epoch: 12.000000, loss: 0.087383, 300\n",
            "epoch: 12.000000, loss: 0.111719, 350\n",
            "epoch: 12.000000, loss: 0.156707, 400\n",
            "epoch: 12.000000, loss: 0.129941, 450\n",
            "epoch: 12.000000, loss: 0.143069, 500\n",
            "epoch: 12.000000, loss: 0.128837, 550\n",
            "epoch: 13.000000, loss: 0.108217, 0\n",
            "epoch: 13.000000, loss: 0.085518, 50\n",
            "epoch: 13.000000, loss: 0.115571, 100\n",
            "epoch: 13.000000, loss: 0.085927, 150\n",
            "epoch: 13.000000, loss: 0.091601, 200\n",
            "epoch: 13.000000, loss: 0.072494, 250\n",
            "epoch: 13.000000, loss: 0.105690, 300\n",
            "epoch: 13.000000, loss: 0.059023, 350\n",
            "epoch: 13.000000, loss: 0.097729, 400\n",
            "epoch: 13.000000, loss: 0.091490, 450\n",
            "epoch: 13.000000, loss: 0.103310, 500\n",
            "epoch: 13.000000, loss: 0.098527, 550\n",
            "epoch: 14.000000, loss: 0.082446, 0\n",
            "epoch: 14.000000, loss: 0.138165, 50\n",
            "epoch: 14.000000, loss: 0.160107, 100\n",
            "epoch: 14.000000, loss: 0.084559, 150\n",
            "epoch: 14.000000, loss: 0.112980, 200\n",
            "epoch: 14.000000, loss: 0.061759, 250\n",
            "epoch: 14.000000, loss: 0.092084, 300\n",
            "epoch: 14.000000, loss: 0.065664, 350\n",
            "epoch: 14.000000, loss: 0.105846, 400\n",
            "epoch: 14.000000, loss: 0.085526, 450\n",
            "epoch: 14.000000, loss: 0.095271, 500\n",
            "epoch: 14.000000, loss: 0.082691, 550\n",
            "epoch: 15.000000, loss: 0.060030, 0\n",
            "epoch: 15.000000, loss: 0.088516, 50\n",
            "epoch: 15.000000, loss: 0.177314, 100\n",
            "epoch: 15.000000, loss: 0.083748, 150\n",
            "epoch: 15.000000, loss: 0.093836, 200\n",
            "epoch: 15.000000, loss: 0.106765, 250\n",
            "epoch: 15.000000, loss: 0.104642, 300\n",
            "epoch: 15.000000, loss: 0.070211, 350\n",
            "epoch: 15.000000, loss: 0.081742, 400\n",
            "epoch: 15.000000, loss: 0.099536, 450\n",
            "epoch: 15.000000, loss: 0.105397, 500\n",
            "epoch: 15.000000, loss: 0.127829, 550\n",
            "epoch: 16.000000, loss: 0.070013, 0\n",
            "epoch: 16.000000, loss: 0.079884, 50\n",
            "epoch: 16.000000, loss: 0.134391, 100\n",
            "epoch: 16.000000, loss: 0.095674, 150\n",
            "epoch: 16.000000, loss: 0.075837, 200\n",
            "epoch: 16.000000, loss: 0.090989, 250\n",
            "epoch: 16.000000, loss: 0.104991, 300\n",
            "epoch: 16.000000, loss: 0.060446, 350\n",
            "epoch: 16.000000, loss: 0.108787, 400\n",
            "epoch: 16.000000, loss: 0.110331, 450\n",
            "epoch: 16.000000, loss: 0.114083, 500\n",
            "epoch: 16.000000, loss: 0.086481, 550\n",
            "epoch: 17.000000, loss: 0.077447, 0\n",
            "epoch: 17.000000, loss: 0.122390, 50\n",
            "epoch: 17.000000, loss: 0.127239, 100\n",
            "epoch: 17.000000, loss: 0.130415, 150\n",
            "epoch: 17.000000, loss: 0.086364, 200\n",
            "epoch: 17.000000, loss: 0.070364, 250\n",
            "epoch: 17.000000, loss: 0.109798, 300\n",
            "epoch: 17.000000, loss: 0.062033, 350\n",
            "epoch: 17.000000, loss: 0.111868, 400\n",
            "epoch: 17.000000, loss: 0.122970, 450\n",
            "epoch: 17.000000, loss: 0.063463, 500\n",
            "epoch: 17.000000, loss: 0.111173, 550\n",
            "epoch: 18.000000, loss: 0.082531, 0\n",
            "epoch: 18.000000, loss: 0.084236, 50\n",
            "epoch: 18.000000, loss: 0.125107, 100\n",
            "epoch: 18.000000, loss: 0.079397, 150\n",
            "epoch: 18.000000, loss: 0.084104, 200\n",
            "epoch: 18.000000, loss: 0.072133, 250\n",
            "epoch: 18.000000, loss: 0.076481, 300\n",
            "epoch: 18.000000, loss: 0.037231, 350\n",
            "epoch: 18.000000, loss: 0.126238, 400\n",
            "epoch: 18.000000, loss: 0.077522, 450\n",
            "epoch: 18.000000, loss: 0.064355, 500\n",
            "epoch: 18.000000, loss: 0.103087, 550\n",
            "epoch: 19.000000, loss: 0.085646, 0\n",
            "epoch: 19.000000, loss: 0.117475, 50\n",
            "epoch: 19.000000, loss: 0.108114, 100\n",
            "epoch: 19.000000, loss: 0.062395, 150\n",
            "epoch: 19.000000, loss: 0.062693, 200\n",
            "epoch: 19.000000, loss: 0.042550, 250\n",
            "epoch: 19.000000, loss: 0.044639, 300\n",
            "epoch: 19.000000, loss: 0.049639, 350\n",
            "epoch: 19.000000, loss: 0.098711, 400\n",
            "epoch: 19.000000, loss: 0.067827, 450\n",
            "epoch: 19.000000, loss: 0.074071, 500\n",
            "epoch: 19.000000, loss: 0.087578, 550\n",
            "epoch: 20.000000, loss: 0.065531, 0\n",
            "epoch: 20.000000, loss: 0.043628, 50\n",
            "epoch: 20.000000, loss: 0.083411, 100\n",
            "epoch: 20.000000, loss: 0.072984, 150\n",
            "epoch: 20.000000, loss: 0.077695, 200\n",
            "epoch: 20.000000, loss: 0.049451, 250\n",
            "epoch: 20.000000, loss: 0.092142, 300\n",
            "epoch: 20.000000, loss: 0.042009, 350\n",
            "epoch: 20.000000, loss: 0.046125, 400\n",
            "epoch: 20.000000, loss: 0.047651, 450\n",
            "epoch: 20.000000, loss: 0.077234, 500\n",
            "epoch: 20.000000, loss: 0.087600, 550\n",
            "epoch: 21.000000, loss: 0.044828, 0\n",
            "epoch: 21.000000, loss: 0.095876, 50\n",
            "epoch: 21.000000, loss: 0.081070, 100\n",
            "epoch: 21.000000, loss: 0.092811, 150\n",
            "epoch: 21.000000, loss: 0.050244, 200\n",
            "epoch: 21.000000, loss: 0.083790, 250\n",
            "epoch: 21.000000, loss: 0.062605, 300\n",
            "epoch: 21.000000, loss: 0.044585, 350\n",
            "epoch: 21.000000, loss: 0.062924, 400\n",
            "epoch: 21.000000, loss: 0.098696, 450\n",
            "epoch: 21.000000, loss: 0.065483, 500\n",
            "epoch: 21.000000, loss: 0.076386, 550\n",
            "epoch: 22.000000, loss: 0.031750, 0\n",
            "epoch: 22.000000, loss: 0.077499, 50\n",
            "epoch: 22.000000, loss: 0.069483, 100\n",
            "epoch: 22.000000, loss: 0.049644, 150\n",
            "epoch: 22.000000, loss: 0.116516, 200\n",
            "epoch: 22.000000, loss: 0.050652, 250\n",
            "epoch: 22.000000, loss: 0.070015, 300\n",
            "epoch: 22.000000, loss: 0.028718, 350\n",
            "epoch: 22.000000, loss: 0.077573, 400\n",
            "epoch: 22.000000, loss: 0.069838, 450\n",
            "epoch: 22.000000, loss: 0.086179, 500\n",
            "epoch: 22.000000, loss: 0.051378, 550\n",
            "epoch: 23.000000, loss: 0.089501, 0\n",
            "epoch: 23.000000, loss: 0.065624, 50\n",
            "epoch: 23.000000, loss: 0.081140, 100\n",
            "epoch: 23.000000, loss: 0.077966, 150\n",
            "epoch: 23.000000, loss: 0.079449, 200\n",
            "epoch: 23.000000, loss: 0.046519, 250\n",
            "epoch: 23.000000, loss: 0.077657, 300\n",
            "epoch: 23.000000, loss: 0.044755, 350\n",
            "epoch: 23.000000, loss: 0.079643, 400\n",
            "epoch: 23.000000, loss: 0.044302, 450\n",
            "epoch: 23.000000, loss: 0.062382, 500\n",
            "epoch: 23.000000, loss: 0.071005, 550\n",
            "epoch: 24.000000, loss: 0.046000, 0\n",
            "epoch: 24.000000, loss: 0.044446, 50\n",
            "epoch: 24.000000, loss: 0.112125, 100\n",
            "epoch: 24.000000, loss: 0.060436, 150\n",
            "epoch: 24.000000, loss: 0.043787, 200\n",
            "epoch: 24.000000, loss: 0.040223, 250\n",
            "epoch: 24.000000, loss: 0.084278, 300\n",
            "epoch: 24.000000, loss: 0.068988, 350\n",
            "epoch: 24.000000, loss: 0.077500, 400\n",
            "epoch: 24.000000, loss: 0.049121, 450\n",
            "epoch: 24.000000, loss: 0.085544, 500\n",
            "epoch: 24.000000, loss: 0.084821, 550\n",
            "epoch: 25.000000, loss: 0.052345, 0\n",
            "epoch: 25.000000, loss: 0.047005, 50\n",
            "epoch: 25.000000, loss: 0.042287, 100\n",
            "epoch: 25.000000, loss: 0.039554, 150\n",
            "epoch: 25.000000, loss: 0.046333, 200\n",
            "epoch: 25.000000, loss: 0.046069, 250\n",
            "epoch: 25.000000, loss: 0.074632, 300\n",
            "epoch: 25.000000, loss: 0.021736, 350\n",
            "epoch: 25.000000, loss: 0.055442, 400\n",
            "epoch: 25.000000, loss: 0.057506, 450\n",
            "epoch: 25.000000, loss: 0.080302, 500\n",
            "epoch: 25.000000, loss: 0.059696, 550\n",
            "epoch: 26.000000, loss: 0.027418, 0\n",
            "epoch: 26.000000, loss: 0.043684, 50\n",
            "epoch: 26.000000, loss: 0.039589, 100\n",
            "epoch: 26.000000, loss: 0.040882, 150\n",
            "epoch: 26.000000, loss: 0.065678, 200\n",
            "epoch: 26.000000, loss: 0.051844, 250\n",
            "epoch: 26.000000, loss: 0.041927, 300\n",
            "epoch: 26.000000, loss: 0.040699, 350\n",
            "epoch: 26.000000, loss: 0.063739, 400\n",
            "epoch: 26.000000, loss: 0.061599, 450\n",
            "epoch: 26.000000, loss: 0.081548, 500\n",
            "epoch: 26.000000, loss: 0.047886, 550\n",
            "epoch: 27.000000, loss: 0.053878, 0\n",
            "epoch: 27.000000, loss: 0.040685, 50\n",
            "epoch: 27.000000, loss: 0.073903, 100\n",
            "epoch: 27.000000, loss: 0.076557, 150\n",
            "epoch: 27.000000, loss: 0.040859, 200\n",
            "epoch: 27.000000, loss: 0.060669, 250\n",
            "epoch: 27.000000, loss: 0.044201, 300\n",
            "epoch: 27.000000, loss: 0.031048, 350\n",
            "epoch: 27.000000, loss: 0.072262, 400\n",
            "epoch: 27.000000, loss: 0.058971, 450\n",
            "epoch: 27.000000, loss: 0.080565, 500\n",
            "epoch: 27.000000, loss: 0.031851, 550\n",
            "epoch: 28.000000, loss: 0.041206, 0\n",
            "epoch: 28.000000, loss: 0.045441, 50\n",
            "epoch: 28.000000, loss: 0.110100, 100\n",
            "epoch: 28.000000, loss: 0.033739, 150\n",
            "epoch: 28.000000, loss: 0.027878, 200\n",
            "epoch: 28.000000, loss: 0.048596, 250\n",
            "epoch: 28.000000, loss: 0.033098, 300\n",
            "epoch: 28.000000, loss: 0.029993, 350\n",
            "epoch: 28.000000, loss: 0.078021, 400\n",
            "epoch: 28.000000, loss: 0.053602, 450\n",
            "epoch: 28.000000, loss: 0.052773, 500\n",
            "epoch: 28.000000, loss: 0.040585, 550\n",
            "epoch: 29.000000, loss: 0.035563, 0\n",
            "epoch: 29.000000, loss: 0.027490, 50\n",
            "epoch: 29.000000, loss: 0.062016, 100\n",
            "epoch: 29.000000, loss: 0.038698, 150\n",
            "epoch: 29.000000, loss: 0.034314, 200\n",
            "epoch: 29.000000, loss: 0.046306, 250\n",
            "epoch: 29.000000, loss: 0.065684, 300\n",
            "epoch: 29.000000, loss: 0.036073, 350\n",
            "epoch: 29.000000, loss: 0.117335, 400\n",
            "epoch: 29.000000, loss: 0.038874, 450\n",
            "epoch: 29.000000, loss: 0.041567, 500\n",
            "epoch: 29.000000, loss: 0.046791, 550\n"
          ]
        }
      ],
      "source": [
        "train(model=model, optimizer=optimizer, dl=dataloader, epochs=30)"
      ]
    },
    {
      "cell_type": "code",
      "source": [
        "# model save\n",
        "model.save_pretrained('./checkpoint/old_model.pt') # pytorch"
      ],
      "metadata": {
        "id": "kDio-zCqcx1e"
      },
      "execution_count": null,
      "outputs": []
    },
    {
      "cell_type": "code",
      "source": [
        "# model load\n",
        "# model= GPT2LMHeadModel.from_pretrained('./checkpoint/old_model.pt').to(device)"
      ],
      "metadata": {
        "id": "IfRIu8qY4qoz"
      },
      "execution_count": null,
      "outputs": []
    },
    {
      "cell_type": "code",
      "execution_count": null,
      "metadata": {
        "id": "AjyQJ4jzLvp6",
        "colab": {
          "base_uri": "https://localhost:8080/"
        },
        "outputId": "3b040365-f8e3-4ef9-b641-b3a3bc7cf817"
      },
      "outputs": [
        {
          "output_type": "stream",
          "name": "stdout",
          "text": [
            "[평범한 일상] 오늘은 아주 무난한 하루를 보냈다. 팝송도 듣고, 산책도 하고 등등. 매일이 오늘 같았으면 좋겠다! TL;DR unknown| 요즘 세상이 많이 추워보이는데 나는 아직 어릴 때부터 성격링을 하는 것이군요. 다이어리에서 나온 선택, 학벌같은 일은 정말 당하지 않은 것 같아요~ 그래서 널까 아니면 내가 마음을 굳어버리는\n"
          ]
        }
      ],
      "source": [
        "# model overfitting 확인\n",
        "\n",
        "# 서버에서 아마 csv나 json으로 받아올텐데, 받아올 때 특수문자 처리 필수 (특히 따옴표 '', \"\")\n",
        "# '[제목] 본문' 형태로 전처리\n",
        "text = '[평범한 일상] 오늘은 아주 무난한 하루를 보냈다. 팝송도 듣고, 산책도 하고 등등. 매일이 오늘 같았으면 좋겠다!'\n",
        "if len(text) + len(\" TL;DR \") > 800:\n",
        "  text = text[0:400] + text[len(text)-400:len(text)]\n",
        "text= text + \" TL;DR \"\n",
        "\n",
        "input_ids = tokenizer.encode(text, return_tensors='pt').to(device)\n",
        "gen_ids = model.generate(input_ids,\n",
        "                           max_length=len(input_ids[0])+ 50, # 50 -> 약 120자\n",
        "                           repetition_penalty=2.0,\n",
        "                           pad_token_id=tokenizer.pad_token_id,\n",
        "                           eos_token_id=tokenizer.eos_token_id,\n",
        "                           bos_token_id=tokenizer.bos_token_id,\n",
        "                           use_cache=True).to(device)\n",
        "generated = tokenizer.decode(gen_ids[0])\n",
        "print(generated)\n",
        "# print(len(text), len(generated))\n",
        "# 왜 감정은 안 나오지?"
      ]
    },
    {
      "cell_type": "code",
      "source": [
        "TLDR_index= generated.index('TL;DR')\n",
        "output= generated[TLDR_index+6:]\n",
        "print('return comment:' , output)\n",
        "# 어떻게 문장이 완결될 때 끝내지? "
      ],
      "metadata": {
        "colab": {
          "base_uri": "https://localhost:8080/"
        },
        "id": "ENFWQGSAGbKQ",
        "outputId": "426f7b22-61c3-4b57-acc9-d1486fb7d97f"
      },
      "execution_count": null,
      "outputs": [
        {
          "output_type": "stream",
          "name": "stdout",
          "text": [
            "return comment: unknown| 요즘 세상이 많이 추워보이는데 나는 아직 어릴 때부터 성격링을 하는 것이군요. 다이어리에서 나온 선택, 학벌같은 일은 정말 당하지 않은 것 같아요~ 그래서 널까 아니면 내가 마음을 굳어버리는\n"
          ]
        }
      ]
    },
    {
      "cell_type": "markdown",
      "source": [
        "* test"
      ],
      "metadata": {
        "id": "u0ovYMGWHRex"
      }
    },
    {
      "cell_type": "code",
      "source": [
        "# model load\n",
        "# model= GPT2LMHeadModel.from_pretrained('./checkpoint/old_model.pt').to(device)"
      ],
      "metadata": {
        "id": "aFFh83HFPBg-"
      },
      "execution_count": null,
      "outputs": []
    },
    {
      "cell_type": "code",
      "source": [
        "test_data= pd.read_csv('/content/drive/MyDrive/Colab Notebooks/graduation_project/data/original-model_test_data.csv')\n",
        "test_data= test_data[['test_text']]\n",
        "test_data.head()"
      ],
      "metadata": {
        "id": "KyD_OEL5H9wv"
      },
      "execution_count": null,
      "outputs": []
    },
    {
      "cell_type": "code",
      "source": [
        "text_list = test_data['test_text']\n",
        "summary_list=list()\n",
        "# print(text_list)"
      ],
      "metadata": {
        "id": "FVYQcf8bJbY-"
      },
      "execution_count": null,
      "outputs": []
    },
    {
      "cell_type": "code",
      "source": [
        "for i, text in enumerate(text_list):\n",
        "  if len(text) + len(\" TL;DR \") > 800:\n",
        "    text = text[0:400] + text[len(text)-400:len(text)]\n",
        "  text= text + \" TL;DR \"\n",
        "\n",
        "  input_ids = tokenizer.encode(text, return_tensors='pt').to(device)\n",
        "  gen_ids = model.generate(input_ids,\n",
        "                            max_length=len(input_ids[0])+ 50, # 50 -> 약 120자\n",
        "                            repetition_penalty=2.0,\n",
        "                            pad_token_id=tokenizer.pad_token_id,\n",
        "                            eos_token_id=tokenizer.eos_token_id,\n",
        "                            bos_token_id=tokenizer.bos_token_id,\n",
        "                            use_cache=True).to(device)\n",
        "  generated = tokenizer.decode(gen_ids[0])\n",
        "  TLDR_index= generated.index('TL;DR')\n",
        "  output= generated[TLDR_index+6:]\n",
        "  summary_list.append(output)\n",
        "  if i%10 == 0:\n",
        "    print('test {} 개 진행중'.format(i))"
      ],
      "metadata": {
        "id": "x8ZDCiZjJICo"
      },
      "execution_count": null,
      "outputs": []
    },
    {
      "cell_type": "code",
      "source": [
        "# summary_list"
      ],
      "metadata": {
        "colab": {
          "base_uri": "https://localhost:8080/"
        },
        "id": "wC3aArbJLQ6G",
        "outputId": "67350e53-fa8c-46ed-fffe-5ba29d6ce743"
      },
      "execution_count": null,
      "outputs": [
        {
          "output_type": "execute_result",
          "data": {
            "text/plain": [
              "['unknown| 열정과 애정을 주고 상대를 배려하게 한다 정말 좋은것을 하는건지라 믿어 의심치시는군요. 곁에 있다니 정말로 애증을 받을거에스가 있다고 생각해놓은명될꺼에요!</s>',\n",
              " 'unknown| 취진 전에서부터 취직 준비라는 게 정말 신기 것 같아요! 언젠가 당신이 당신의 동생이 카페를 다니면서 활동적인건 가장 다른 경험이었군요, 무조건 뽑아서 지내봐주는 사람처럼 소통할 만한 사람이 되고',\n",
              " 'unknown| 취진 전에서부터 취직 후까지의 것만으로도 큰 일이었군요. 그래도 자신의 마지막 시간에 누구랑 같이 느껴지는 날이 올거에요!</s>',\n",
              " 'unknown| 앞길을 걸으면서 발을 놀랐군요. 좋은시간을 보냈길 바래요!</s>',\n",
              " 'unknown| 성인이 되면 잠자리에 드는 마음으로 다른 사람처럼 변하는 건 정말 힘든 일 아닌데, 모든날에 돈주고 의지랑 고생 준비한 공통제를 억지로 낳으면 좋겠어요.</s>',\n",
              " 'unknown| 나이를 먹어보느라 다른 것 같아요. 그래서부터는 활동 동안 스스로 시간을 보내는 것이 가장 괴로워하시고 한편으로는 생각하고 계시는군요? 당신이 재미있게 살았으면 됐겠어요.\\n보여 금성 말고 일을 하는 삶을',\n",
              " 'unknown| 취업이어서랑 헤어지는 느낌이 정말 슬펐겠군요. 좋은 사람이길 바라요</s>',\n",
              " 'unknown| 나이를 열심히 투자하고 게임을 좋아하는 사람이 되었군요.. 정말 부럽네요. 남은 커피는 언제쯤 돈을 얻어가고제가 서투름 당신이 당신의 마음이 전해주고 있겠어서, 상실감을 배 것이라고 생각해보는 모습을 보면',\n",
              " 'unkies 여자,남자 불러줬거든요~ 좋은 사람이 돼줄거예...어서 더더욱 좋아 보여 주말에도 팬덤, 당신이 버텨주세요. 뭐든 그들에게 벌 받아온다는건 알지만..... 그래서 널',\n",
              " 'unknown| 당신이 버텨내운 모습을 보여도, 어쩔 수 없는게 대단한 일이라고 말해주고 있었군요. 그리고 평소와 달리 엄청 다른 사람들은 서로를 도와주 보면서 자신의 좋은 관계를 지속하는 것이 중요한 빛이 됐으면좋기요!</s>',\n",
              " 'unknown| 나이를 먹어 것에 못리인 만큼 좋은 기회라고 생각하고하군요. 이별에는 어려움이 있겠지만, 지금부터라도 후회해서 당신이 당신의 선택을 응원할거에요!</s>',\n",
              " 'unknown| 나이를 먹어간다는 생각에 미처 짐작하면서 당신이랑 헤어지는 느낌이 있었군요. 좋은 경험이었다니요!</s>',\n",
              " 'unknown| 나이를 먹어간 가장 먼 곳이라고 느껴진 것 같군요. 좋은 선택을 하길 바라요</s>',\n",
              " 'unknown| 젊은날에 당신이 안좋을 것 같아요. 어린 날의 추억으로 시간을 많이 쌓아서 정말 힘들거에요!</s>',\n",
              " 'unknown| 혼자 떠난 좋은 경험이었는데 뜻밖에도 노력들이 별로었군요. 이별에는 다음번 여행을 다니게 된다고 생각해요</s>',\n",
              " 'unknown| 나이를 먹어었을 때의 경험은 어린덧하고 그리워할 거 같다는 뜻심이 마음처럼 들었군요. 2019년 08일 20대요</s>',\n",
              " 'unknown| 나름 좋아하는 성격과 습관이 있었어요. 현 그의 말은대로 앞으로 삶을 살아가길 빌어요</s>',\n",
              " 'unknown| 정말 뜻 깊은 곳에 추억을 느끼는지고, 혼자 백화점에 가서 꽃을 사고, 예전부터 못했던 비행을 하셨군요. 그리고씬하고적인 노래 처럼져 있길 바랄게임에 도전 눌린 기분을 받을 때마다',\n",
              " 'unknown| 정말 힘든 것 같아요. 열심히 돈적인 생활 하다보ies 변화를 조금씩 하게 됐다니 앞으로 나아가보여요</s>',\n",
              " 'unknown| 취미는 안 듣고, 실패 돌아보면 어때는 모습까지 더 나아져서 좋은 것 같아요. 앞으로라도 후회하지 말고 저거에요?</s>',\n",
              " 'unknown| 나이를 먹어간다는 것은 정말 슬픈일 인요. 하지만 다음번에는 꼭 갈거에요</s>',\n",
              " 'unknown| 정말 힘들었요. 좋은 시간을 보내고, 또 오고 싶은 느낌을 안고 가는 모습만을 남겨 낳으면, 언젠군요 당신이 당신의 취미는 공지가 않기를 기원할거에 들어가있다는 생각이 들렸다니 결국 저연심에',\n",
              " 'unknown| 취업에 대해 안좋으시군요. 분명 나아갈 수 있을거에요 힘내세요를 가까이 앉아서 끝놓은 것이 아닐에도 저번 당신이 당신의 선택을 하길 바라예.</s>',\n",
              " 'unknown| 혼자 떠난지 않고 즐거운 일이라며 다음에 알차게 행복한 경험하면 될 수 있어서죠.\\n00요</s>',\n",
              " 'unknown| 정말 넓은 인간관계를 떠나다보기 위해 노력했는데 뜻일정과 달리 다른 당신의 마음속으로 들어가 기분좋게 느껴지는군요. 그럼 여자,남자 모두 행복할거에 대한 애정만 남았으니까요? 저도,',\n",
              " 'unknown| 사람들이 정말 원하는 것에 대해 생각하게 되는 것 같네요. 당신이 당신의 모습을 보는 내내 담담할거에요! 파이팅</s>',\n",
              " 'unknown| 지금 일을 안 한다는 생각에 소외감이 들어 정말 슬프셨군요. 앞으로도에는 아프지 않고 행복하게 지내길 기원할게 되도록 큰 생각을 하기는 좋을 것이라고 생각해요!</s>',\n",
              " 'unknown| 고등학교 축제처럼 개운 것들에 집중하며 두려움을 느끼고 계시는군요. 하나 하고 앉아서 \" 뭐든 다 이루어질거에요!</s>',\n",
              " 'unknown| 혼자랑 있었던 그곳의 체험이 정말 좋 것 같요.\\n내일은 일이 잘하고 산책하는 모습만을 보여요 그 마음을 잊지못하면 되는데거울 거에요. 앞하길 바라</s>',\n",
              " 'unknown| 나이를 먹어간다는 생각에 고생이 선 것 같군요! 앞길을 응원할만큼 좋아하는 게임이니까 매출되고 팀봐여요.\\n 맛있는 저녁을 먹으며 다음에 두번 오면서 즐겁게 보낸 것이 좋은 관심이 들',\n",
              " 'unknown| 나이를 먹어 정말 먹었군요. 헤오고 소통이라 더더욱 좋아져서 당신을 기뻐하는 모습만을 마치고 만 있었다니 모두가 가는 게 아닐 것이라고 생각해요. 좋은 선택을 하길 바라아</s>']"
            ]
          },
          "metadata": {},
          "execution_count": 54
        }
      ]
    },
    {
      "cell_type": "code",
      "source": [
        "test_data['summary'] = summary_list\n",
        "test_data.head()"
      ],
      "metadata": {
        "id": "IyEVQiheMErO",
        "colab": {
          "base_uri": "https://localhost:8080/",
          "height": 337
        },
        "outputId": "bc24cd2b-2d55-467e-da64-43a0554377e0"
      },
      "execution_count": null,
      "outputs": [
        {
          "output_type": "execute_result",
          "data": {
            "text/plain": [
              "                                           test_text  \\\n",
              "0  [2018년 3월 29일 목요일]  나를 사랑하는 연습 어떻게 하면 나를 사랑할 수...   \n",
              "1  [김동률 오래된콘서트를 기념하며]  김동률이 부르는 노래와 나의 인연은 2015년 ...   \n",
              "2  [성인간호학 중환자실 실습후기]  2017 1월 2일 월요일 수간호사선선생님의 ot...   \n",
              "3  [반포한강에서]  바람이 꽤 쌀쌀해 콧물을 훌쩍이는 날씨에 반포한강에 왔다. 고속버...   \n",
              "4  [햄버거를 먹었다.]  말 그대로 햄버거를 먹었다. 아버지와 둘이서. 원래 아버지는...   \n",
              "\n",
              "                                             summary  \n",
              "0  unknown| 열정과 애정을 주고 상대를 배려하게 한다 정말 좋은것을 하는건지라 ...  \n",
              "1  unknown| 취진 전에서부터 취직 준비라는 게 정말 신기 것 같아요! 언젠가 당...  \n",
              "2  unknown| 취진 전에서부터 취직 후까지의 것만으로도 큰 일이었군요. 그래도 자...  \n",
              "3      unknown| 앞길을 걸으면서 발을 놀랐군요. 좋은시간을 보냈길 바래요!</s>  \n",
              "4  unknown| 성인이 되면 잠자리에 드는 마음으로 다른 사람처럼 변하는 건 정말 ...  "
            ],
            "text/html": [
              "\n",
              "  <div id=\"df-4f234015-de61-4525-abce-a736906503d0\">\n",
              "    <div class=\"colab-df-container\">\n",
              "      <div>\n",
              "<style scoped>\n",
              "    .dataframe tbody tr th:only-of-type {\n",
              "        vertical-align: middle;\n",
              "    }\n",
              "\n",
              "    .dataframe tbody tr th {\n",
              "        vertical-align: top;\n",
              "    }\n",
              "\n",
              "    .dataframe thead th {\n",
              "        text-align: right;\n",
              "    }\n",
              "</style>\n",
              "<table border=\"1\" class=\"dataframe\">\n",
              "  <thead>\n",
              "    <tr style=\"text-align: right;\">\n",
              "      <th></th>\n",
              "      <th>test_text</th>\n",
              "      <th>summary</th>\n",
              "    </tr>\n",
              "  </thead>\n",
              "  <tbody>\n",
              "    <tr>\n",
              "      <th>0</th>\n",
              "      <td>[2018년 3월 29일 목요일]  나를 사랑하는 연습 어떻게 하면 나를 사랑할 수...</td>\n",
              "      <td>unknown| 열정과 애정을 주고 상대를 배려하게 한다 정말 좋은것을 하는건지라 ...</td>\n",
              "    </tr>\n",
              "    <tr>\n",
              "      <th>1</th>\n",
              "      <td>[김동률 오래된콘서트를 기념하며]  김동률이 부르는 노래와 나의 인연은 2015년 ...</td>\n",
              "      <td>unknown| 취진 전에서부터 취직 준비라는 게 정말 신기 것 같아요! 언젠가 당...</td>\n",
              "    </tr>\n",
              "    <tr>\n",
              "      <th>2</th>\n",
              "      <td>[성인간호학 중환자실 실습후기]  2017 1월 2일 월요일 수간호사선선생님의 ot...</td>\n",
              "      <td>unknown| 취진 전에서부터 취직 후까지의 것만으로도 큰 일이었군요. 그래도 자...</td>\n",
              "    </tr>\n",
              "    <tr>\n",
              "      <th>3</th>\n",
              "      <td>[반포한강에서]  바람이 꽤 쌀쌀해 콧물을 훌쩍이는 날씨에 반포한강에 왔다. 고속버...</td>\n",
              "      <td>unknown| 앞길을 걸으면서 발을 놀랐군요. 좋은시간을 보냈길 바래요!&lt;/s&gt;</td>\n",
              "    </tr>\n",
              "    <tr>\n",
              "      <th>4</th>\n",
              "      <td>[햄버거를 먹었다.]  말 그대로 햄버거를 먹었다. 아버지와 둘이서. 원래 아버지는...</td>\n",
              "      <td>unknown| 성인이 되면 잠자리에 드는 마음으로 다른 사람처럼 변하는 건 정말 ...</td>\n",
              "    </tr>\n",
              "  </tbody>\n",
              "</table>\n",
              "</div>\n",
              "      <button class=\"colab-df-convert\" onclick=\"convertToInteractive('df-4f234015-de61-4525-abce-a736906503d0')\"\n",
              "              title=\"Convert this dataframe to an interactive table.\"\n",
              "              style=\"display:none;\">\n",
              "        \n",
              "  <svg xmlns=\"http://www.w3.org/2000/svg\" height=\"24px\"viewBox=\"0 0 24 24\"\n",
              "       width=\"24px\">\n",
              "    <path d=\"M0 0h24v24H0V0z\" fill=\"none\"/>\n",
              "    <path d=\"M18.56 5.44l.94 2.06.94-2.06 2.06-.94-2.06-.94-.94-2.06-.94 2.06-2.06.94zm-11 1L8.5 8.5l.94-2.06 2.06-.94-2.06-.94L8.5 2.5l-.94 2.06-2.06.94zm10 10l.94 2.06.94-2.06 2.06-.94-2.06-.94-.94-2.06-.94 2.06-2.06.94z\"/><path d=\"M17.41 7.96l-1.37-1.37c-.4-.4-.92-.59-1.43-.59-.52 0-1.04.2-1.43.59L10.3 9.45l-7.72 7.72c-.78.78-.78 2.05 0 2.83L4 21.41c.39.39.9.59 1.41.59.51 0 1.02-.2 1.41-.59l7.78-7.78 2.81-2.81c.8-.78.8-2.07 0-2.86zM5.41 20L4 18.59l7.72-7.72 1.47 1.35L5.41 20z\"/>\n",
              "  </svg>\n",
              "      </button>\n",
              "      \n",
              "  <style>\n",
              "    .colab-df-container {\n",
              "      display:flex;\n",
              "      flex-wrap:wrap;\n",
              "      gap: 12px;\n",
              "    }\n",
              "\n",
              "    .colab-df-convert {\n",
              "      background-color: #E8F0FE;\n",
              "      border: none;\n",
              "      border-radius: 50%;\n",
              "      cursor: pointer;\n",
              "      display: none;\n",
              "      fill: #1967D2;\n",
              "      height: 32px;\n",
              "      padding: 0 0 0 0;\n",
              "      width: 32px;\n",
              "    }\n",
              "\n",
              "    .colab-df-convert:hover {\n",
              "      background-color: #E2EBFA;\n",
              "      box-shadow: 0px 1px 2px rgba(60, 64, 67, 0.3), 0px 1px 3px 1px rgba(60, 64, 67, 0.15);\n",
              "      fill: #174EA6;\n",
              "    }\n",
              "\n",
              "    [theme=dark] .colab-df-convert {\n",
              "      background-color: #3B4455;\n",
              "      fill: #D2E3FC;\n",
              "    }\n",
              "\n",
              "    [theme=dark] .colab-df-convert:hover {\n",
              "      background-color: #434B5C;\n",
              "      box-shadow: 0px 1px 3px 1px rgba(0, 0, 0, 0.15);\n",
              "      filter: drop-shadow(0px 1px 2px rgba(0, 0, 0, 0.3));\n",
              "      fill: #FFFFFF;\n",
              "    }\n",
              "  </style>\n",
              "\n",
              "      <script>\n",
              "        const buttonEl =\n",
              "          document.querySelector('#df-4f234015-de61-4525-abce-a736906503d0 button.colab-df-convert');\n",
              "        buttonEl.style.display =\n",
              "          google.colab.kernel.accessAllowed ? 'block' : 'none';\n",
              "\n",
              "        async function convertToInteractive(key) {\n",
              "          const element = document.querySelector('#df-4f234015-de61-4525-abce-a736906503d0');\n",
              "          const dataTable =\n",
              "            await google.colab.kernel.invokeFunction('convertToInteractive',\n",
              "                                                     [key], {});\n",
              "          if (!dataTable) return;\n",
              "\n",
              "          const docLinkHtml = 'Like what you see? Visit the ' +\n",
              "            '<a target=\"_blank\" href=https://colab.research.google.com/notebooks/data_table.ipynb>data table notebook</a>'\n",
              "            + ' to learn more about interactive tables.';\n",
              "          element.innerHTML = '';\n",
              "          dataTable['output_type'] = 'display_data';\n",
              "          await google.colab.output.renderOutput(dataTable, element);\n",
              "          const docLink = document.createElement('div');\n",
              "          docLink.innerHTML = docLinkHtml;\n",
              "          element.appendChild(docLink);\n",
              "        }\n",
              "      </script>\n",
              "    </div>\n",
              "  </div>\n",
              "  "
            ]
          },
          "metadata": {},
          "execution_count": 55
        }
      ]
    },
    {
      "cell_type": "code",
      "source": [
        "test_data.to_csv('/content/drive/MyDrive/Colab Notebooks/graduation_project/data/test_data_oldmodel_after.csv')"
      ],
      "metadata": {
        "id": "oPThtseIMV7c"
      },
      "execution_count": null,
      "outputs": []
    },
    {
      "cell_type": "markdown",
      "source": [
        "* evaluation\n",
        "\n",
        "https://github.com/lovit/KoBERTScore"
      ],
      "metadata": {
        "id": "69nkKTQ1OR2T"
      }
    },
    {
      "cell_type": "code",
      "source": [
        "# !git clone https://github.com/lovit/KoBERTScore"
      ],
      "metadata": {
        "id": "IhJ9uG4LHUGl"
      },
      "execution_count": null,
      "outputs": []
    },
    {
      "cell_type": "code",
      "source": [
        "%cd '/content/drive/MyDrive/Colab Notebooks/graduation_project/KoBERTScore'"
      ],
      "metadata": {
        "colab": {
          "base_uri": "https://localhost:8080/"
        },
        "id": "Bx6AQh2gHdDC",
        "outputId": "7f01cf8e-b178-44e0-9b24-492a3fb85f9d"
      },
      "execution_count": null,
      "outputs": [
        {
          "output_type": "stream",
          "name": "stdout",
          "text": [
            "/content/drive/MyDrive/Colab Notebooks/graduation_project/KoBERTScore\n"
          ]
        }
      ]
    },
    {
      "cell_type": "code",
      "source": [
        "!pip install -r '/content/drive/MyDrive/Colab Notebooks/graduation_project/KoBERTScore/requirements.txt'"
      ],
      "metadata": {
        "colab": {
          "base_uri": "https://localhost:8080/"
        },
        "id": "dP_qQDGmI0FQ",
        "outputId": "547a6ce1-f1a9-4ff3-9849-c32e7a4966b2"
      },
      "execution_count": null,
      "outputs": [
        {
          "output_type": "stream",
          "name": "stdout",
          "text": [
            "Looking in indexes: https://pypi.org/simple, https://us-python.pkg.dev/colab-wheels/public/simple/\n",
            "Requirement already satisfied: bokeh>=1.4.0 in /usr/local/lib/python3.7/dist-packages (from -r /content/drive/MyDrive/Colab Notebooks/graduation_project/KoBERTScore/requirements.txt (line 1)) (2.3.3)\n",
            "Requirement already satisfied: korpora>=0.1.1 in /usr/local/lib/python3.7/dist-packages (from -r /content/drive/MyDrive/Colab Notebooks/graduation_project/KoBERTScore/requirements.txt (line 2)) (0.2.0)\n",
            "Requirement already satisfied: flake8>=3.6.0 in /usr/local/lib/python3.7/dist-packages (from -r /content/drive/MyDrive/Colab Notebooks/graduation_project/KoBERTScore/requirements.txt (line 3)) (5.0.4)\n",
            "Requirement already satisfied: scipy>=1.4.0 in /usr/local/lib/python3.7/dist-packages (from -r /content/drive/MyDrive/Colab Notebooks/graduation_project/KoBERTScore/requirements.txt (line 4)) (1.7.3)\n",
            "Requirement already satisfied: torch>=1.6.0 in /usr/local/lib/python3.7/dist-packages (from -r /content/drive/MyDrive/Colab Notebooks/graduation_project/KoBERTScore/requirements.txt (line 5)) (1.9.1)\n",
            "Requirement already satisfied: transformers==3.1.0 in /usr/local/lib/python3.7/dist-packages (from -r /content/drive/MyDrive/Colab Notebooks/graduation_project/KoBERTScore/requirements.txt (line 6)) (3.1.0)\n",
            "Requirement already satisfied: tqdm>=4.48.0 in /usr/local/lib/python3.7/dist-packages (from -r /content/drive/MyDrive/Colab Notebooks/graduation_project/KoBERTScore/requirements.txt (line 7)) (4.64.0)\n",
            "Requirement already satisfied: filelock in /usr/local/lib/python3.7/dist-packages (from transformers==3.1.0->-r /content/drive/MyDrive/Colab Notebooks/graduation_project/KoBERTScore/requirements.txt (line 6)) (3.7.1)\n",
            "Requirement already satisfied: regex!=2019.12.17 in /usr/local/lib/python3.7/dist-packages (from transformers==3.1.0->-r /content/drive/MyDrive/Colab Notebooks/graduation_project/KoBERTScore/requirements.txt (line 6)) (2022.6.2)\n",
            "Requirement already satisfied: requests in /usr/local/lib/python3.7/dist-packages (from transformers==3.1.0->-r /content/drive/MyDrive/Colab Notebooks/graduation_project/KoBERTScore/requirements.txt (line 6)) (2.23.0)\n",
            "Requirement already satisfied: sacremoses in /usr/local/lib/python3.7/dist-packages (from transformers==3.1.0->-r /content/drive/MyDrive/Colab Notebooks/graduation_project/KoBERTScore/requirements.txt (line 6)) (0.0.53)\n",
            "Requirement already satisfied: sentencepiece!=0.1.92 in /usr/local/lib/python3.7/dist-packages (from transformers==3.1.0->-r /content/drive/MyDrive/Colab Notebooks/graduation_project/KoBERTScore/requirements.txt (line 6)) (0.1.97)\n",
            "Requirement already satisfied: packaging in /usr/local/lib/python3.7/dist-packages (from transformers==3.1.0->-r /content/drive/MyDrive/Colab Notebooks/graduation_project/KoBERTScore/requirements.txt (line 6)) (21.3)\n",
            "Requirement already satisfied: tokenizers==0.8.1.rc2 in /usr/local/lib/python3.7/dist-packages (from transformers==3.1.0->-r /content/drive/MyDrive/Colab Notebooks/graduation_project/KoBERTScore/requirements.txt (line 6)) (0.8.1rc2)\n",
            "Requirement already satisfied: numpy in /usr/local/lib/python3.7/dist-packages (from transformers==3.1.0->-r /content/drive/MyDrive/Colab Notebooks/graduation_project/KoBERTScore/requirements.txt (line 6)) (1.21.6)\n",
            "Requirement already satisfied: Jinja2>=2.9 in /usr/local/lib/python3.7/dist-packages (from bokeh>=1.4.0->-r /content/drive/MyDrive/Colab Notebooks/graduation_project/KoBERTScore/requirements.txt (line 1)) (2.11.3)\n",
            "Requirement already satisfied: pillow>=7.1.0 in /usr/local/lib/python3.7/dist-packages (from bokeh>=1.4.0->-r /content/drive/MyDrive/Colab Notebooks/graduation_project/KoBERTScore/requirements.txt (line 1)) (7.1.2)\n",
            "Requirement already satisfied: tornado>=5.1 in /usr/local/lib/python3.7/dist-packages (from bokeh>=1.4.0->-r /content/drive/MyDrive/Colab Notebooks/graduation_project/KoBERTScore/requirements.txt (line 1)) (5.1.1)\n",
            "Requirement already satisfied: typing-extensions>=3.7.4 in /usr/local/lib/python3.7/dist-packages (from bokeh>=1.4.0->-r /content/drive/MyDrive/Colab Notebooks/graduation_project/KoBERTScore/requirements.txt (line 1)) (4.1.1)\n",
            "Requirement already satisfied: python-dateutil>=2.1 in /usr/local/lib/python3.7/dist-packages (from bokeh>=1.4.0->-r /content/drive/MyDrive/Colab Notebooks/graduation_project/KoBERTScore/requirements.txt (line 1)) (2.8.2)\n",
            "Requirement already satisfied: PyYAML>=3.10 in /usr/local/lib/python3.7/dist-packages (from bokeh>=1.4.0->-r /content/drive/MyDrive/Colab Notebooks/graduation_project/KoBERTScore/requirements.txt (line 1)) (6.0)\n",
            "Requirement already satisfied: xlrd>=1.2.0 in /usr/local/lib/python3.7/dist-packages (from korpora>=0.1.1->-r /content/drive/MyDrive/Colab Notebooks/graduation_project/KoBERTScore/requirements.txt (line 2)) (2.0.1)\n",
            "Requirement already satisfied: dataclasses>=0.6 in /usr/local/lib/python3.7/dist-packages (from korpora>=0.1.1->-r /content/drive/MyDrive/Colab Notebooks/graduation_project/KoBERTScore/requirements.txt (line 2)) (0.6)\n",
            "Requirement already satisfied: pyflakes<2.6.0,>=2.5.0 in /usr/local/lib/python3.7/dist-packages (from flake8>=3.6.0->-r /content/drive/MyDrive/Colab Notebooks/graduation_project/KoBERTScore/requirements.txt (line 3)) (2.5.0)\n",
            "Requirement already satisfied: importlib-metadata<4.3,>=1.1.0 in /usr/local/lib/python3.7/dist-packages (from flake8>=3.6.0->-r /content/drive/MyDrive/Colab Notebooks/graduation_project/KoBERTScore/requirements.txt (line 3)) (4.2.0)\n",
            "Requirement already satisfied: pycodestyle<2.10.0,>=2.9.0 in /usr/local/lib/python3.7/dist-packages (from flake8>=3.6.0->-r /content/drive/MyDrive/Colab Notebooks/graduation_project/KoBERTScore/requirements.txt (line 3)) (2.9.1)\n",
            "Requirement already satisfied: mccabe<0.8.0,>=0.7.0 in /usr/local/lib/python3.7/dist-packages (from flake8>=3.6.0->-r /content/drive/MyDrive/Colab Notebooks/graduation_project/KoBERTScore/requirements.txt (line 3)) (0.7.0)\n",
            "Requirement already satisfied: zipp>=0.5 in /usr/local/lib/python3.7/dist-packages (from importlib-metadata<4.3,>=1.1.0->flake8>=3.6.0->-r /content/drive/MyDrive/Colab Notebooks/graduation_project/KoBERTScore/requirements.txt (line 3)) (3.8.1)\n",
            "Requirement already satisfied: MarkupSafe>=0.23 in /usr/local/lib/python3.7/dist-packages (from Jinja2>=2.9->bokeh>=1.4.0->-r /content/drive/MyDrive/Colab Notebooks/graduation_project/KoBERTScore/requirements.txt (line 1)) (2.0.1)\n",
            "Requirement already satisfied: pyparsing!=3.0.5,>=2.0.2 in /usr/local/lib/python3.7/dist-packages (from packaging->transformers==3.1.0->-r /content/drive/MyDrive/Colab Notebooks/graduation_project/KoBERTScore/requirements.txt (line 6)) (3.0.9)\n",
            "Requirement already satisfied: six>=1.5 in /usr/local/lib/python3.7/dist-packages (from python-dateutil>=2.1->bokeh>=1.4.0->-r /content/drive/MyDrive/Colab Notebooks/graduation_project/KoBERTScore/requirements.txt (line 1)) (1.15.0)\n",
            "Requirement already satisfied: idna<3,>=2.5 in /usr/local/lib/python3.7/dist-packages (from requests->transformers==3.1.0->-r /content/drive/MyDrive/Colab Notebooks/graduation_project/KoBERTScore/requirements.txt (line 6)) (2.10)\n",
            "Requirement already satisfied: chardet<4,>=3.0.2 in /usr/local/lib/python3.7/dist-packages (from requests->transformers==3.1.0->-r /content/drive/MyDrive/Colab Notebooks/graduation_project/KoBERTScore/requirements.txt (line 6)) (3.0.4)\n",
            "Requirement already satisfied: urllib3!=1.25.0,!=1.25.1,<1.26,>=1.21.1 in /usr/local/lib/python3.7/dist-packages (from requests->transformers==3.1.0->-r /content/drive/MyDrive/Colab Notebooks/graduation_project/KoBERTScore/requirements.txt (line 6)) (1.24.3)\n",
            "Requirement already satisfied: certifi>=2017.4.17 in /usr/local/lib/python3.7/dist-packages (from requests->transformers==3.1.0->-r /content/drive/MyDrive/Colab Notebooks/graduation_project/KoBERTScore/requirements.txt (line 6)) (2022.6.15)\n",
            "Requirement already satisfied: joblib in /usr/local/lib/python3.7/dist-packages (from sacremoses->transformers==3.1.0->-r /content/drive/MyDrive/Colab Notebooks/graduation_project/KoBERTScore/requirements.txt (line 6)) (1.1.0)\n",
            "Requirement already satisfied: click in /usr/local/lib/python3.7/dist-packages (from sacremoses->transformers==3.1.0->-r /content/drive/MyDrive/Colab Notebooks/graduation_project/KoBERTScore/requirements.txt (line 6)) (7.1.2)\n"
          ]
        }
      ]
    },
    {
      "cell_type": "code",
      "source": [
        "!python setup.py install"
      ],
      "metadata": {
        "colab": {
          "base_uri": "https://localhost:8080/"
        },
        "id": "Ozfv_D5iHgDy",
        "outputId": "9cf1482c-e5f8-43e3-b924-8e9ca4b7efff"
      },
      "execution_count": null,
      "outputs": [
        {
          "output_type": "stream",
          "name": "stdout",
          "text": [
            "running install\n",
            "running bdist_egg\n",
            "running egg_info\n",
            "writing KoBERTScore.egg-info/PKG-INFO\n",
            "writing dependency_links to KoBERTScore.egg-info/dependency_links.txt\n",
            "writing entry points to KoBERTScore.egg-info/entry_points.txt\n",
            "writing requirements to KoBERTScore.egg-info/requires.txt\n",
            "writing top-level names to KoBERTScore.egg-info/top_level.txt\n",
            "reading manifest template 'MANIFEST.in'\n",
            "writing manifest file 'KoBERTScore.egg-info/SOURCES.txt'\n",
            "installing library code to build/bdist.linux-x86_64/egg\n",
            "running install_lib\n",
            "running build_py\n",
            "creating build/bdist.linux-x86_64/egg\n",
            "creating build/bdist.linux-x86_64/egg/KoBERTScore\n",
            "copying build/lib/KoBERTScore/__init__.py -> build/bdist.linux-x86_64/egg/KoBERTScore\n",
            "copying build/lib/KoBERTScore/tasks.py -> build/bdist.linux-x86_64/egg/KoBERTScore\n",
            "copying build/lib/KoBERTScore/about.py -> build/bdist.linux-x86_64/egg/KoBERTScore\n",
            "copying build/lib/KoBERTScore/cli.py -> build/bdist.linux-x86_64/egg/KoBERTScore\n",
            "copying build/lib/KoBERTScore/score.py -> build/bdist.linux-x86_64/egg/KoBERTScore\n",
            "byte-compiling build/bdist.linux-x86_64/egg/KoBERTScore/__init__.py to __init__.cpython-37.pyc\n",
            "byte-compiling build/bdist.linux-x86_64/egg/KoBERTScore/tasks.py to tasks.cpython-37.pyc\n",
            "byte-compiling build/bdist.linux-x86_64/egg/KoBERTScore/about.py to about.cpython-37.pyc\n",
            "byte-compiling build/bdist.linux-x86_64/egg/KoBERTScore/cli.py to cli.cpython-37.pyc\n",
            "byte-compiling build/bdist.linux-x86_64/egg/KoBERTScore/score.py to score.cpython-37.pyc\n",
            "creating build/bdist.linux-x86_64/egg/EGG-INFO\n",
            "copying KoBERTScore.egg-info/PKG-INFO -> build/bdist.linux-x86_64/egg/EGG-INFO\n",
            "copying KoBERTScore.egg-info/SOURCES.txt -> build/bdist.linux-x86_64/egg/EGG-INFO\n",
            "copying KoBERTScore.egg-info/dependency_links.txt -> build/bdist.linux-x86_64/egg/EGG-INFO\n",
            "copying KoBERTScore.egg-info/entry_points.txt -> build/bdist.linux-x86_64/egg/EGG-INFO\n",
            "copying KoBERTScore.egg-info/requires.txt -> build/bdist.linux-x86_64/egg/EGG-INFO\n",
            "copying KoBERTScore.egg-info/top_level.txt -> build/bdist.linux-x86_64/egg/EGG-INFO\n",
            "zip_safe flag not set; analyzing archive contents...\n",
            "creating 'dist/KoBERTScore-1.0.0-py3.7.egg' and adding 'build/bdist.linux-x86_64/egg' to it\n",
            "removing 'build/bdist.linux-x86_64/egg' (and everything under it)\n",
            "Processing KoBERTScore-1.0.0-py3.7.egg\n",
            "Removing /usr/local/lib/python3.7/dist-packages/KoBERTScore-1.0.0-py3.7.egg\n",
            "Copying KoBERTScore-1.0.0-py3.7.egg to /usr/local/lib/python3.7/dist-packages\n",
            "KoBERTScore 1.0.0 is already the active version in easy-install.pth\n",
            "Installing kobertscore script to /usr/local/bin\n",
            "\n",
            "Installed /usr/local/lib/python3.7/dist-packages/KoBERTScore-1.0.0-py3.7.egg\n",
            "Processing dependencies for KoBERTScore==1.0.0\n",
            "Searching for tqdm==4.64.0\n",
            "Best match: tqdm 4.64.0\n",
            "Adding tqdm 4.64.0 to easy-install.pth file\n",
            "Installing tqdm script to /usr/local/bin\n",
            "\n",
            "Using /usr/local/lib/python3.7/dist-packages\n",
            "Searching for transformers==3.1.0\n",
            "Best match: transformers 3.1.0\n",
            "Adding transformers 3.1.0 to easy-install.pth file\n",
            "Installing transformers-cli script to /usr/local/bin\n",
            "\n",
            "Using /usr/local/lib/python3.7/dist-packages\n",
            "Searching for torch==1.9.1\n",
            "Best match: torch 1.9.1\n",
            "Adding torch 1.9.1 to easy-install.pth file\n",
            "Installing convert-caffe2-to-onnx script to /usr/local/bin\n",
            "Installing convert-onnx-to-caffe2 script to /usr/local/bin\n",
            "\n",
            "Using /usr/local/lib/python3.7/dist-packages\n",
            "Searching for scipy==1.7.3\n",
            "Best match: scipy 1.7.3\n",
            "Adding scipy 1.7.3 to easy-install.pth file\n",
            "\n",
            "Using /usr/local/lib/python3.7/dist-packages\n",
            "Searching for flake8==5.0.4\n",
            "Best match: flake8 5.0.4\n",
            "Adding flake8 5.0.4 to easy-install.pth file\n",
            "Installing flake8 script to /usr/local/bin\n",
            "\n",
            "Using /usr/local/lib/python3.7/dist-packages\n",
            "Searching for Korpora==0.2.0\n",
            "Best match: Korpora 0.2.0\n",
            "Adding Korpora 0.2.0 to easy-install.pth file\n",
            "Installing korpora script to /usr/local/bin\n",
            "\n",
            "Using /usr/local/lib/python3.7/dist-packages\n",
            "Searching for bokeh==2.3.3\n",
            "Best match: bokeh 2.3.3\n",
            "Adding bokeh 2.3.3 to easy-install.pth file\n",
            "Installing bokeh script to /usr/local/bin\n",
            "\n",
            "Using /usr/local/lib/python3.7/dist-packages\n",
            "Searching for numpy==1.21.6\n",
            "Best match: numpy 1.21.6\n",
            "Adding numpy 1.21.6 to easy-install.pth file\n",
            "Installing f2py script to /usr/local/bin\n",
            "Installing f2py3 script to /usr/local/bin\n",
            "Installing f2py3.7 script to /usr/local/bin\n",
            "\n",
            "Using /usr/local/lib/python3.7/dist-packages\n",
            "Searching for requests==2.23.0\n",
            "Best match: requests 2.23.0\n",
            "Adding requests 2.23.0 to easy-install.pth file\n",
            "\n",
            "Using /usr/local/lib/python3.7/dist-packages\n",
            "Searching for regex==2022.6.2\n",
            "Best match: regex 2022.6.2\n",
            "Adding regex 2022.6.2 to easy-install.pth file\n",
            "\n",
            "Using /usr/local/lib/python3.7/dist-packages\n",
            "Searching for filelock==3.7.1\n",
            "Best match: filelock 3.7.1\n",
            "Adding filelock 3.7.1 to easy-install.pth file\n",
            "\n",
            "Using /usr/local/lib/python3.7/dist-packages\n",
            "Searching for sentencepiece==0.1.97\n",
            "Best match: sentencepiece 0.1.97\n",
            "Adding sentencepiece 0.1.97 to easy-install.pth file\n",
            "\n",
            "Using /usr/local/lib/python3.7/dist-packages\n",
            "Searching for tokenizers==0.8.1rc2\n",
            "Best match: tokenizers 0.8.1rc2\n",
            "Adding tokenizers 0.8.1rc2 to easy-install.pth file\n",
            "\n",
            "Using /usr/local/lib/python3.7/dist-packages\n",
            "Searching for sacremoses==0.0.53\n",
            "Best match: sacremoses 0.0.53\n",
            "Adding sacremoses 0.0.53 to easy-install.pth file\n",
            "Installing sacremoses script to /usr/local/bin\n",
            "\n",
            "Using /usr/local/lib/python3.7/dist-packages\n",
            "Searching for packaging==21.3\n",
            "Best match: packaging 21.3\n",
            "Adding packaging 21.3 to easy-install.pth file\n",
            "\n",
            "Using /usr/local/lib/python3.7/dist-packages\n",
            "Searching for typing-extensions==4.1.1\n",
            "Best match: typing-extensions 4.1.1\n",
            "Adding typing-extensions 4.1.1 to easy-install.pth file\n",
            "\n",
            "Using /usr/local/lib/python3.7/dist-packages\n",
            "Searching for importlib-metadata==4.2.0\n",
            "Best match: importlib-metadata 4.2.0\n",
            "Adding importlib-metadata 4.2.0 to easy-install.pth file\n",
            "\n",
            "Using /usr/local/lib/python3.7/dist-packages\n",
            "Searching for pycodestyle==2.9.1\n",
            "Best match: pycodestyle 2.9.1\n",
            "Adding pycodestyle 2.9.1 to easy-install.pth file\n",
            "Installing pycodestyle script to /usr/local/bin\n",
            "\n",
            "Using /usr/local/lib/python3.7/dist-packages\n",
            "Searching for pyflakes==2.5.0\n",
            "Best match: pyflakes 2.5.0\n",
            "Adding pyflakes 2.5.0 to easy-install.pth file\n",
            "Installing pyflakes script to /usr/local/bin\n",
            "\n",
            "Using /usr/local/lib/python3.7/dist-packages\n",
            "Searching for mccabe==0.7.0\n",
            "Best match: mccabe 0.7.0\n",
            "Adding mccabe 0.7.0 to easy-install.pth file\n",
            "\n",
            "Using /usr/local/lib/python3.7/dist-packages\n",
            "Searching for dataclasses==0.6\n",
            "Best match: dataclasses 0.6\n",
            "Adding dataclasses 0.6 to easy-install.pth file\n",
            "\n",
            "Using /usr/local/lib/python3.7/dist-packages\n",
            "Searching for xlrd==2.0.1\n",
            "Best match: xlrd 2.0.1\n",
            "Adding xlrd 2.0.1 to easy-install.pth file\n",
            "\n",
            "Using /usr/local/lib/python3.7/dist-packages\n",
            "Searching for Jinja2==2.11.3\n",
            "Best match: Jinja2 2.11.3\n",
            "Adding Jinja2 2.11.3 to easy-install.pth file\n",
            "\n",
            "Using /usr/local/lib/python3.7/dist-packages\n",
            "Searching for python-dateutil==2.8.2\n",
            "Best match: python-dateutil 2.8.2\n",
            "Adding python-dateutil 2.8.2 to easy-install.pth file\n",
            "\n",
            "Using /usr/local/lib/python3.7/dist-packages\n",
            "Searching for tornado==5.1.1\n",
            "Best match: tornado 5.1.1\n",
            "Adding tornado 5.1.1 to easy-install.pth file\n",
            "\n",
            "Using /usr/local/lib/python3.7/dist-packages\n",
            "Searching for Pillow==7.1.2\n",
            "Best match: Pillow 7.1.2\n",
            "Adding Pillow 7.1.2 to easy-install.pth file\n",
            "\n",
            "Using /usr/local/lib/python3.7/dist-packages\n",
            "Searching for PyYAML==6.0\n",
            "Best match: PyYAML 6.0\n",
            "Adding PyYAML 6.0 to easy-install.pth file\n",
            "\n",
            "Using /usr/local/lib/python3.7/dist-packages\n",
            "Searching for certifi==2022.6.15\n",
            "Best match: certifi 2022.6.15\n",
            "Adding certifi 2022.6.15 to easy-install.pth file\n",
            "\n",
            "Using /usr/local/lib/python3.7/dist-packages\n",
            "Searching for idna==2.10\n",
            "Best match: idna 2.10\n",
            "Adding idna 2.10 to easy-install.pth file\n",
            "\n",
            "Using /usr/local/lib/python3.7/dist-packages\n",
            "Searching for urllib3==1.24.3\n",
            "Best match: urllib3 1.24.3\n",
            "Adding urllib3 1.24.3 to easy-install.pth file\n",
            "\n",
            "Using /usr/local/lib/python3.7/dist-packages\n",
            "Searching for chardet==3.0.4\n",
            "Best match: chardet 3.0.4\n",
            "Adding chardet 3.0.4 to easy-install.pth file\n",
            "Installing chardetect script to /usr/local/bin\n",
            "\n",
            "Using /usr/local/lib/python3.7/dist-packages\n",
            "Searching for six==1.15.0\n",
            "Best match: six 1.15.0\n",
            "Adding six 1.15.0 to easy-install.pth file\n",
            "\n",
            "Using /usr/local/lib/python3.7/dist-packages\n",
            "Searching for click==7.1.2\n",
            "Best match: click 7.1.2\n",
            "Adding click 7.1.2 to easy-install.pth file\n",
            "\n",
            "Using /usr/local/lib/python3.7/dist-packages\n",
            "Searching for joblib==1.1.0\n",
            "Best match: joblib 1.1.0\n",
            "Adding joblib 1.1.0 to easy-install.pth file\n",
            "\n",
            "Using /usr/local/lib/python3.7/dist-packages\n",
            "Searching for pyparsing==3.0.9\n",
            "Best match: pyparsing 3.0.9\n",
            "Adding pyparsing 3.0.9 to easy-install.pth file\n",
            "\n",
            "Using /usr/local/lib/python3.7/dist-packages\n",
            "Searching for zipp==3.8.1\n",
            "Best match: zipp 3.8.1\n",
            "Adding zipp 3.8.1 to easy-install.pth file\n",
            "\n",
            "Using /usr/local/lib/python3.7/dist-packages\n",
            "Searching for MarkupSafe==2.0.1\n",
            "Best match: MarkupSafe 2.0.1\n",
            "Adding MarkupSafe 2.0.1 to easy-install.pth file\n",
            "\n",
            "Using /usr/local/lib/python3.7/dist-packages\n",
            "Finished processing dependencies for KoBERTScore==1.0.0\n"
          ]
        }
      ]
    },
    {
      "cell_type": "code",
      "source": [
        "# %cd '/content/drive/MyDrive/Colab Notebooks/graduation_project'"
      ],
      "metadata": {
        "id": "RmvZ1gr-HijO"
      },
      "execution_count": null,
      "outputs": []
    },
    {
      "cell_type": "code",
      "source": [
        "import csv\n",
        "import pandas as pd\n",
        "\n",
        "# references 불러오기\n",
        "with open('/content/drive/MyDrive/Colab Notebooks/graduation_project/data/references.csv', 'r') as data:\n",
        "  train_data= csv.reader(data, delimiter=',')\n",
        "\n",
        "references_df= pd.read_csv('/content/drive/MyDrive/Colab Notebooks/graduation_project/data/references.csv') \n",
        "\n",
        "references_df= references_df[['title', 'summary']]"
      ],
      "metadata": {
        "id": "eB78oHjCpvhO"
      },
      "execution_count": null,
      "outputs": []
    },
    {
      "cell_type": "code",
      "source": [
        "with open('/content/drive/MyDrive/Colab Notebooks/graduation_project/data/test_data_oldmodel_after.csv', 'r') as data:\n",
        "  train_data= csv.reader(data, delimiter=',')\n",
        "\n",
        "candidates_df= pd.read_csv('/content/drive/MyDrive/Colab Notebooks/graduation_project/data/test_data_oldmodel_after.csv') \n",
        "\n",
        "candidates_df= candidates_df[['test_text', 'summary']]"
      ],
      "metadata": {
        "id": "MMWsfnaYMSKB"
      },
      "execution_count": null,
      "outputs": []
    },
    {
      "cell_type": "code",
      "source": [
        "references_df.head()"
      ],
      "metadata": {
        "id": "qWkGIyAiqqeI",
        "colab": {
          "base_uri": "https://localhost:8080/",
          "height": 206
        },
        "outputId": "d6720811-e84e-4e41-f71d-ebf5679c5b80"
      },
      "execution_count": null,
      "outputs": [
        {
          "output_type": "execute_result",
          "data": {
            "text/plain": [
              "              title                                            summary\n",
              "0  2018년 3월 29일 목요일  당신은 예쁜 사람이니까 자책할 필요 없다고 생각해요. 당신을 사랑해줄 사람과 연애를...\n",
              "1  김동률 오래된콘서트를 기념하며  김동률의 공연을 보며 크게 감명을 받았군요. 인생에서 좋았던 순간들에 한 장면이 추...\n",
              "2   성인간호학 중환자실 실습후기  중환자실 실습을 했군요. 기관절개 한 곳으로 가래가 넘쳐 나온 걸 연차가 높으신 선...\n",
              "3            반포한강에서  뱐포 한강에 가서 남준이의 노래를 들었군요. 남준이를 굉장히 좋아하나봐요. 그리고 ...\n",
              "4         햄버거를 먹었다.  오랜만에 햄버거를 먹었군요! 햄버거를 묘사한 글에서 햄버거에 대한 당신의 애정이 느..."
            ],
            "text/html": [
              "\n",
              "  <div id=\"df-8a931683-d2ec-430e-bb34-3342d3c1f9fb\">\n",
              "    <div class=\"colab-df-container\">\n",
              "      <div>\n",
              "<style scoped>\n",
              "    .dataframe tbody tr th:only-of-type {\n",
              "        vertical-align: middle;\n",
              "    }\n",
              "\n",
              "    .dataframe tbody tr th {\n",
              "        vertical-align: top;\n",
              "    }\n",
              "\n",
              "    .dataframe thead th {\n",
              "        text-align: right;\n",
              "    }\n",
              "</style>\n",
              "<table border=\"1\" class=\"dataframe\">\n",
              "  <thead>\n",
              "    <tr style=\"text-align: right;\">\n",
              "      <th></th>\n",
              "      <th>title</th>\n",
              "      <th>summary</th>\n",
              "    </tr>\n",
              "  </thead>\n",
              "  <tbody>\n",
              "    <tr>\n",
              "      <th>0</th>\n",
              "      <td>2018년 3월 29일 목요일</td>\n",
              "      <td>당신은 예쁜 사람이니까 자책할 필요 없다고 생각해요. 당신을 사랑해줄 사람과 연애를...</td>\n",
              "    </tr>\n",
              "    <tr>\n",
              "      <th>1</th>\n",
              "      <td>김동률 오래된콘서트를 기념하며</td>\n",
              "      <td>김동률의 공연을 보며 크게 감명을 받았군요. 인생에서 좋았던 순간들에 한 장면이 추...</td>\n",
              "    </tr>\n",
              "    <tr>\n",
              "      <th>2</th>\n",
              "      <td>성인간호학 중환자실 실습후기</td>\n",
              "      <td>중환자실 실습을 했군요. 기관절개 한 곳으로 가래가 넘쳐 나온 걸 연차가 높으신 선...</td>\n",
              "    </tr>\n",
              "    <tr>\n",
              "      <th>3</th>\n",
              "      <td>반포한강에서</td>\n",
              "      <td>뱐포 한강에 가서 남준이의 노래를 들었군요. 남준이를 굉장히 좋아하나봐요. 그리고 ...</td>\n",
              "    </tr>\n",
              "    <tr>\n",
              "      <th>4</th>\n",
              "      <td>햄버거를 먹었다.</td>\n",
              "      <td>오랜만에 햄버거를 먹었군요! 햄버거를 묘사한 글에서 햄버거에 대한 당신의 애정이 느...</td>\n",
              "    </tr>\n",
              "  </tbody>\n",
              "</table>\n",
              "</div>\n",
              "      <button class=\"colab-df-convert\" onclick=\"convertToInteractive('df-8a931683-d2ec-430e-bb34-3342d3c1f9fb')\"\n",
              "              title=\"Convert this dataframe to an interactive table.\"\n",
              "              style=\"display:none;\">\n",
              "        \n",
              "  <svg xmlns=\"http://www.w3.org/2000/svg\" height=\"24px\"viewBox=\"0 0 24 24\"\n",
              "       width=\"24px\">\n",
              "    <path d=\"M0 0h24v24H0V0z\" fill=\"none\"/>\n",
              "    <path d=\"M18.56 5.44l.94 2.06.94-2.06 2.06-.94-2.06-.94-.94-2.06-.94 2.06-2.06.94zm-11 1L8.5 8.5l.94-2.06 2.06-.94-2.06-.94L8.5 2.5l-.94 2.06-2.06.94zm10 10l.94 2.06.94-2.06 2.06-.94-2.06-.94-.94-2.06-.94 2.06-2.06.94z\"/><path d=\"M17.41 7.96l-1.37-1.37c-.4-.4-.92-.59-1.43-.59-.52 0-1.04.2-1.43.59L10.3 9.45l-7.72 7.72c-.78.78-.78 2.05 0 2.83L4 21.41c.39.39.9.59 1.41.59.51 0 1.02-.2 1.41-.59l7.78-7.78 2.81-2.81c.8-.78.8-2.07 0-2.86zM5.41 20L4 18.59l7.72-7.72 1.47 1.35L5.41 20z\"/>\n",
              "  </svg>\n",
              "      </button>\n",
              "      \n",
              "  <style>\n",
              "    .colab-df-container {\n",
              "      display:flex;\n",
              "      flex-wrap:wrap;\n",
              "      gap: 12px;\n",
              "    }\n",
              "\n",
              "    .colab-df-convert {\n",
              "      background-color: #E8F0FE;\n",
              "      border: none;\n",
              "      border-radius: 50%;\n",
              "      cursor: pointer;\n",
              "      display: none;\n",
              "      fill: #1967D2;\n",
              "      height: 32px;\n",
              "      padding: 0 0 0 0;\n",
              "      width: 32px;\n",
              "    }\n",
              "\n",
              "    .colab-df-convert:hover {\n",
              "      background-color: #E2EBFA;\n",
              "      box-shadow: 0px 1px 2px rgba(60, 64, 67, 0.3), 0px 1px 3px 1px rgba(60, 64, 67, 0.15);\n",
              "      fill: #174EA6;\n",
              "    }\n",
              "\n",
              "    [theme=dark] .colab-df-convert {\n",
              "      background-color: #3B4455;\n",
              "      fill: #D2E3FC;\n",
              "    }\n",
              "\n",
              "    [theme=dark] .colab-df-convert:hover {\n",
              "      background-color: #434B5C;\n",
              "      box-shadow: 0px 1px 3px 1px rgba(0, 0, 0, 0.15);\n",
              "      filter: drop-shadow(0px 1px 2px rgba(0, 0, 0, 0.3));\n",
              "      fill: #FFFFFF;\n",
              "    }\n",
              "  </style>\n",
              "\n",
              "      <script>\n",
              "        const buttonEl =\n",
              "          document.querySelector('#df-8a931683-d2ec-430e-bb34-3342d3c1f9fb button.colab-df-convert');\n",
              "        buttonEl.style.display =\n",
              "          google.colab.kernel.accessAllowed ? 'block' : 'none';\n",
              "\n",
              "        async function convertToInteractive(key) {\n",
              "          const element = document.querySelector('#df-8a931683-d2ec-430e-bb34-3342d3c1f9fb');\n",
              "          const dataTable =\n",
              "            await google.colab.kernel.invokeFunction('convertToInteractive',\n",
              "                                                     [key], {});\n",
              "          if (!dataTable) return;\n",
              "\n",
              "          const docLinkHtml = 'Like what you see? Visit the ' +\n",
              "            '<a target=\"_blank\" href=https://colab.research.google.com/notebooks/data_table.ipynb>data table notebook</a>'\n",
              "            + ' to learn more about interactive tables.';\n",
              "          element.innerHTML = '';\n",
              "          dataTable['output_type'] = 'display_data';\n",
              "          await google.colab.output.renderOutput(dataTable, element);\n",
              "          const docLink = document.createElement('div');\n",
              "          docLink.innerHTML = docLinkHtml;\n",
              "          element.appendChild(docLink);\n",
              "        }\n",
              "      </script>\n",
              "    </div>\n",
              "  </div>\n",
              "  "
            ]
          },
          "metadata": {},
          "execution_count": 11
        }
      ]
    },
    {
      "cell_type": "code",
      "source": [
        "candidates_df.head()"
      ],
      "metadata": {
        "colab": {
          "base_uri": "https://localhost:8080/",
          "height": 337
        },
        "id": "WHAi3vuyMlKp",
        "outputId": "f3c17bd7-59fc-4754-8b34-912c7648dfa6"
      },
      "execution_count": null,
      "outputs": [
        {
          "output_type": "execute_result",
          "data": {
            "text/plain": [
              "                                           test_text  \\\n",
              "0  [2018년 3월 29일 목요일]  나를 사랑하는 연습 어떻게 하면 나를 사랑할 수...   \n",
              "1  [김동률 오래된콘서트를 기념하며]  김동률이 부르는 노래와 나의 인연은 2015년 ...   \n",
              "2  [성인간호학 중환자실 실습후기]  2017 1월 2일 월요일 수간호사선선생님의 ot...   \n",
              "3  [반포한강에서]  바람이 꽤 쌀쌀해 콧물을 훌쩍이는 날씨에 반포한강에 왔다. 고속버...   \n",
              "4  [햄버거를 먹었다.]  말 그대로 햄버거를 먹었다. 아버지와 둘이서. 원래 아버지는...   \n",
              "\n",
              "                                             summary  \n",
              "0  unknown| 열정과 애정을 주고 상대를 배려하게 한다 정말 좋은것을 하는건지라 ...  \n",
              "1  unknown| 취진 전에서부터 취직 준비라는 게 정말 신기 것 같아요! 언젠가 당...  \n",
              "2  unknown| 취진 전에서부터 취직 후까지의 것만으로도 큰 일이었군요. 그래도 자...  \n",
              "3      unknown| 앞길을 걸으면서 발을 놀랐군요. 좋은시간을 보냈길 바래요!</s>  \n",
              "4  unknown| 성인이 되면 잠자리에 드는 마음으로 다른 사람처럼 변하는 건 정말 ...  "
            ],
            "text/html": [
              "\n",
              "  <div id=\"df-e8dadb0e-a753-4c81-bdf4-f92a5f77714f\">\n",
              "    <div class=\"colab-df-container\">\n",
              "      <div>\n",
              "<style scoped>\n",
              "    .dataframe tbody tr th:only-of-type {\n",
              "        vertical-align: middle;\n",
              "    }\n",
              "\n",
              "    .dataframe tbody tr th {\n",
              "        vertical-align: top;\n",
              "    }\n",
              "\n",
              "    .dataframe thead th {\n",
              "        text-align: right;\n",
              "    }\n",
              "</style>\n",
              "<table border=\"1\" class=\"dataframe\">\n",
              "  <thead>\n",
              "    <tr style=\"text-align: right;\">\n",
              "      <th></th>\n",
              "      <th>test_text</th>\n",
              "      <th>summary</th>\n",
              "    </tr>\n",
              "  </thead>\n",
              "  <tbody>\n",
              "    <tr>\n",
              "      <th>0</th>\n",
              "      <td>[2018년 3월 29일 목요일]  나를 사랑하는 연습 어떻게 하면 나를 사랑할 수...</td>\n",
              "      <td>unknown| 열정과 애정을 주고 상대를 배려하게 한다 정말 좋은것을 하는건지라 ...</td>\n",
              "    </tr>\n",
              "    <tr>\n",
              "      <th>1</th>\n",
              "      <td>[김동률 오래된콘서트를 기념하며]  김동률이 부르는 노래와 나의 인연은 2015년 ...</td>\n",
              "      <td>unknown| 취진 전에서부터 취직 준비라는 게 정말 신기 것 같아요! 언젠가 당...</td>\n",
              "    </tr>\n",
              "    <tr>\n",
              "      <th>2</th>\n",
              "      <td>[성인간호학 중환자실 실습후기]  2017 1월 2일 월요일 수간호사선선생님의 ot...</td>\n",
              "      <td>unknown| 취진 전에서부터 취직 후까지의 것만으로도 큰 일이었군요. 그래도 자...</td>\n",
              "    </tr>\n",
              "    <tr>\n",
              "      <th>3</th>\n",
              "      <td>[반포한강에서]  바람이 꽤 쌀쌀해 콧물을 훌쩍이는 날씨에 반포한강에 왔다. 고속버...</td>\n",
              "      <td>unknown| 앞길을 걸으면서 발을 놀랐군요. 좋은시간을 보냈길 바래요!&lt;/s&gt;</td>\n",
              "    </tr>\n",
              "    <tr>\n",
              "      <th>4</th>\n",
              "      <td>[햄버거를 먹었다.]  말 그대로 햄버거를 먹었다. 아버지와 둘이서. 원래 아버지는...</td>\n",
              "      <td>unknown| 성인이 되면 잠자리에 드는 마음으로 다른 사람처럼 변하는 건 정말 ...</td>\n",
              "    </tr>\n",
              "  </tbody>\n",
              "</table>\n",
              "</div>\n",
              "      <button class=\"colab-df-convert\" onclick=\"convertToInteractive('df-e8dadb0e-a753-4c81-bdf4-f92a5f77714f')\"\n",
              "              title=\"Convert this dataframe to an interactive table.\"\n",
              "              style=\"display:none;\">\n",
              "        \n",
              "  <svg xmlns=\"http://www.w3.org/2000/svg\" height=\"24px\"viewBox=\"0 0 24 24\"\n",
              "       width=\"24px\">\n",
              "    <path d=\"M0 0h24v24H0V0z\" fill=\"none\"/>\n",
              "    <path d=\"M18.56 5.44l.94 2.06.94-2.06 2.06-.94-2.06-.94-.94-2.06-.94 2.06-2.06.94zm-11 1L8.5 8.5l.94-2.06 2.06-.94-2.06-.94L8.5 2.5l-.94 2.06-2.06.94zm10 10l.94 2.06.94-2.06 2.06-.94-2.06-.94-.94-2.06-.94 2.06-2.06.94z\"/><path d=\"M17.41 7.96l-1.37-1.37c-.4-.4-.92-.59-1.43-.59-.52 0-1.04.2-1.43.59L10.3 9.45l-7.72 7.72c-.78.78-.78 2.05 0 2.83L4 21.41c.39.39.9.59 1.41.59.51 0 1.02-.2 1.41-.59l7.78-7.78 2.81-2.81c.8-.78.8-2.07 0-2.86zM5.41 20L4 18.59l7.72-7.72 1.47 1.35L5.41 20z\"/>\n",
              "  </svg>\n",
              "      </button>\n",
              "      \n",
              "  <style>\n",
              "    .colab-df-container {\n",
              "      display:flex;\n",
              "      flex-wrap:wrap;\n",
              "      gap: 12px;\n",
              "    }\n",
              "\n",
              "    .colab-df-convert {\n",
              "      background-color: #E8F0FE;\n",
              "      border: none;\n",
              "      border-radius: 50%;\n",
              "      cursor: pointer;\n",
              "      display: none;\n",
              "      fill: #1967D2;\n",
              "      height: 32px;\n",
              "      padding: 0 0 0 0;\n",
              "      width: 32px;\n",
              "    }\n",
              "\n",
              "    .colab-df-convert:hover {\n",
              "      background-color: #E2EBFA;\n",
              "      box-shadow: 0px 1px 2px rgba(60, 64, 67, 0.3), 0px 1px 3px 1px rgba(60, 64, 67, 0.15);\n",
              "      fill: #174EA6;\n",
              "    }\n",
              "\n",
              "    [theme=dark] .colab-df-convert {\n",
              "      background-color: #3B4455;\n",
              "      fill: #D2E3FC;\n",
              "    }\n",
              "\n",
              "    [theme=dark] .colab-df-convert:hover {\n",
              "      background-color: #434B5C;\n",
              "      box-shadow: 0px 1px 3px 1px rgba(0, 0, 0, 0.15);\n",
              "      filter: drop-shadow(0px 1px 2px rgba(0, 0, 0, 0.3));\n",
              "      fill: #FFFFFF;\n",
              "    }\n",
              "  </style>\n",
              "\n",
              "      <script>\n",
              "        const buttonEl =\n",
              "          document.querySelector('#df-e8dadb0e-a753-4c81-bdf4-f92a5f77714f button.colab-df-convert');\n",
              "        buttonEl.style.display =\n",
              "          google.colab.kernel.accessAllowed ? 'block' : 'none';\n",
              "\n",
              "        async function convertToInteractive(key) {\n",
              "          const element = document.querySelector('#df-e8dadb0e-a753-4c81-bdf4-f92a5f77714f');\n",
              "          const dataTable =\n",
              "            await google.colab.kernel.invokeFunction('convertToInteractive',\n",
              "                                                     [key], {});\n",
              "          if (!dataTable) return;\n",
              "\n",
              "          const docLinkHtml = 'Like what you see? Visit the ' +\n",
              "            '<a target=\"_blank\" href=https://colab.research.google.com/notebooks/data_table.ipynb>data table notebook</a>'\n",
              "            + ' to learn more about interactive tables.';\n",
              "          element.innerHTML = '';\n",
              "          dataTable['output_type'] = 'display_data';\n",
              "          await google.colab.output.renderOutput(dataTable, element);\n",
              "          const docLink = document.createElement('div');\n",
              "          docLink.innerHTML = docLinkHtml;\n",
              "          element.appendChild(docLink);\n",
              "        }\n",
              "      </script>\n",
              "    </div>\n",
              "  </div>\n",
              "  "
            ]
          },
          "metadata": {},
          "execution_count": 12
        }
      ]
    },
    {
      "cell_type": "code",
      "source": [
        "# bert score\n",
        "from KoBERTScore import BERTScore\n",
        "\n",
        "model_name = \"beomi/kcbert-base\"\n",
        "bertscore = BERTScore(model_name, best_layer=4)"
      ],
      "metadata": {
        "id": "__mPd7J-hQt5",
        "colab": {
          "base_uri": "https://localhost:8080/",
          "height": 163,
          "referenced_widgets": [
            "b251d05c27f246f581cdbe7db7ff8fc6",
            "5774ee4b3eae4a0eb49fc0a79526947a",
            "f6335c915808493daecb3fcca5bd996d",
            "a9a9dd4a893341e083cc8bb1afe7af0b",
            "8dcab39c0822425189b86f23e2a46886",
            "1ecd31a3b40e4118b0eda5b1afa566e3",
            "9db3e0c03fcb485ebf808fa1daf9ece2",
            "3b5bf0b9da7c4cf6b90878e60732b9ca",
            "0fb28e3ef82a4fd09659da42333b795c",
            "4c91a5d4612b4293ae33d91dce616fe3",
            "49b06b7602864ae4abbfc983cd383862",
            "cbf596587d9645dd9dc3640a180084c1",
            "3015e1c7d3d84efbbda338ef95b8d73a",
            "0a8bf52ad0da4c83a71b2c27e0ef8f79",
            "7ff26acf6af04c91a13c313da75fac53",
            "f1a53cfb0943491ab97ca75ed7000929",
            "5a8b994b582842358e8c38383474d63b",
            "ceb0db7322024717b63be72560d2d876",
            "4c5c8cd049374f91b351e7c2402ec200",
            "bb294857c6fd4da7bd5f1b9aceaccf27",
            "d1701ac9d393471384aba0fb1d81f68e",
            "73a139be69df4b80988cbc7aff5bef00",
            "e42cdb6b442644688c953b6d9553d177",
            "321395d41d254875991c6ad5fe13fce5",
            "c2dae9491f17463c813432e41ed6feb3",
            "0ce72bc17196478794bba1b15d056c98",
            "5d8f5aa688344207a77b1b71bf092acd",
            "10b68ea9df1e400180fd767973863795",
            "275c4212649e4b4abaac439b042aed49",
            "d21c2d3635394944a5b1c14a0be9eb8d",
            "a59bd27588b042138dec0275b0dc1e1a",
            "260e0c18216b4ad585271e68240629b1",
            "51ccaf7c3b844a148617ebb278d51492",
            "a8b7b337e17b419aa0d7a09ca4c4e481",
            "a43469aaca99442c98100a930e644b13",
            "0373633aa0174e478ea7fe80d48823fc",
            "e88d762c89424f4c94b91b1805b4609c",
            "d5a43a5dcf8a426782532b66e712a6dd",
            "3795bf2f8ee24cef878a782bdbb3a391",
            "66f57e1bea644ac9966b22238b780569",
            "b0f2394a9b0a492fb029f8f135ed2eee",
            "d1d6a2da579444fb98c4fca8c830cf63",
            "26cb2b9ec6424f269dc54f772f055040",
            "7d773e543edd49f0a9d7e178a140b696"
          ]
        },
        "outputId": "1c55b660-4df6-437b-e7cd-0ec448ce2181"
      },
      "execution_count": null,
      "outputs": [
        {
          "output_type": "display_data",
          "data": {
            "text/plain": [
              "Downloading:   0%|          | 0.00/250k [00:00<?, ?B/s]"
            ],
            "application/vnd.jupyter.widget-view+json": {
              "version_major": 2,
              "version_minor": 0,
              "model_id": "b251d05c27f246f581cdbe7db7ff8fc6"
            }
          },
          "metadata": {}
        },
        {
          "output_type": "display_data",
          "data": {
            "text/plain": [
              "Downloading:   0%|          | 0.00/49.0 [00:00<?, ?B/s]"
            ],
            "application/vnd.jupyter.widget-view+json": {
              "version_major": 2,
              "version_minor": 0,
              "model_id": "cbf596587d9645dd9dc3640a180084c1"
            }
          },
          "metadata": {}
        },
        {
          "output_type": "display_data",
          "data": {
            "text/plain": [
              "Downloading:   0%|          | 0.00/619 [00:00<?, ?B/s]"
            ],
            "application/vnd.jupyter.widget-view+json": {
              "version_major": 2,
              "version_minor": 0,
              "model_id": "e42cdb6b442644688c953b6d9553d177"
            }
          },
          "metadata": {}
        },
        {
          "output_type": "display_data",
          "data": {
            "text/plain": [
              "Downloading:   0%|          | 0.00/438M [00:00<?, ?B/s]"
            ],
            "application/vnd.jupyter.widget-view+json": {
              "version_major": 2,
              "version_minor": 0,
              "model_id": "a8b7b337e17b419aa0d7a09ca4c4e481"
            }
          },
          "metadata": {}
        },
        {
          "output_type": "stream",
          "name": "stdout",
          "text": [
            "Load beomi/kcbert-base with 4 layers\n"
          ]
        }
      ]
    },
    {
      "cell_type": "code",
      "source": [
        "# candidates_df['summary']\n",
        "# references_df['summary']"
      ],
      "metadata": {
        "id": "vXb-FdjcLdXi"
      },
      "execution_count": null,
      "outputs": []
    },
    {
      "cell_type": "code",
      "source": [
        "# references : 사람이 만든 요약문\n",
        "# candidates : 기계가 만든 요약문\n",
        "\n",
        "# list로 들어가야함\n",
        "references = references_df['summary']\n",
        "candidates = candidates_df['summary']\n",
        "\n",
        "bertscore(references, candidates, batch_size=8)"
      ],
      "metadata": {
        "id": "A9cXmOoyoG-Q",
        "colab": {
          "base_uri": "https://localhost:8080/"
        },
        "outputId": "9a891a8d-e707-427a-b650-565ae5abc0ba"
      },
      "execution_count": null,
      "outputs": [
        {
          "output_type": "stream",
          "name": "stderr",
          "text": [
            "Calculating BERTScore:   0%|          | 0/4 [00:00<?, ?it/s]\n",
            "Train IDF: 1it [00:00, 28.23it/s]\n",
            "Calculating BERTScore: 100%|██████████| 4/4 [00:00<00:00, 16.05it/s]\n"
          ]
        },
        {
          "output_type": "execute_result",
          "data": {
            "text/plain": [
              "[0.43512198328971863,\n",
              " 0.4564851224422455,\n",
              " 0.47720834612846375,\n",
              " 0.5189951658248901,\n",
              " 0.39213478565216064,\n",
              " 0.43747153878211975,\n",
              " 0.3775472640991211,\n",
              " 0.4029836058616638,\n",
              " 0.4536148011684418,\n",
              " 0.37325915694236755,\n",
              " 0.44751209020614624,\n",
              " 0.5291141867637634,\n",
              " 0.46595367789268494,\n",
              " 0.3765501081943512,\n",
              " 0.49407440423965454,\n",
              " 0.4440452456474304,\n",
              " 0.3358968496322632,\n",
              " 0.37318283319473267,\n",
              " 0.43323031067848206,\n",
              " 0.37105754017829895,\n",
              " 0.46097442507743835,\n",
              " 0.37384891510009766,\n",
              " 0.44744569063186646,\n",
              " 0.44189706444740295,\n",
              " 0.3522997498512268,\n",
              " 0.5498180985450745,\n",
              " 0.4616355299949646,\n",
              " 0.4249539375305176,\n",
              " 0.4559708833694458,\n",
              " 0.4739435315132141,\n",
              " 0.368872731924057]"
            ]
          },
          "metadata": {},
          "execution_count": 16
        }
      ]
    },
    {
      "cell_type": "code",
      "source": [],
      "metadata": {
        "id": "fj_YtJERgn5b"
      },
      "execution_count": null,
      "outputs": []
    }
  ],
  "metadata": {
    "colab": {
      "collapsed_sections": [],
      "machine_shape": "hm",
      "provenance": [],
      "mount_file_id": "1SvHOapnwltlKO2Facck6ECJGOy9li2Aj",
      "authorship_tag": "ABX9TyP/rjltZTf3D8k5VO03VHLQ",
      "include_colab_link": true
    },
    "kernelspec": {
      "display_name": "Python 3",
      "name": "python3"
    },
    "language_info": {
      "name": "python"
    },
    "accelerator": "GPU",
    "widgets": {
      "application/vnd.jupyter.widget-state+json": {
        "abb68f9190964b069ed7f438ad2058e8": {
          "model_module": "@jupyter-widgets/controls",
          "model_name": "HBoxModel",
          "model_module_version": "1.5.0",
          "state": {
            "_dom_classes": [],
            "_model_module": "@jupyter-widgets/controls",
            "_model_module_version": "1.5.0",
            "_model_name": "HBoxModel",
            "_view_count": null,
            "_view_module": "@jupyter-widgets/controls",
            "_view_module_version": "1.5.0",
            "_view_name": "HBoxView",
            "box_style": "",
            "children": [
              "IPY_MODEL_e271b757f56a4682ba83c4d659359650",
              "IPY_MODEL_56119cd84767474fa8a55f3c4e83bb3d",
              "IPY_MODEL_b70e549d59df488593a2c9822d03b223"
            ],
            "layout": "IPY_MODEL_f0fb4acdcdef4491990ddd0f48efc657"
          }
        },
        "e271b757f56a4682ba83c4d659359650": {
          "model_module": "@jupyter-widgets/controls",
          "model_name": "HTMLModel",
          "model_module_version": "1.5.0",
          "state": {
            "_dom_classes": [],
            "_model_module": "@jupyter-widgets/controls",
            "_model_module_version": "1.5.0",
            "_model_name": "HTMLModel",
            "_view_count": null,
            "_view_module": "@jupyter-widgets/controls",
            "_view_module_version": "1.5.0",
            "_view_name": "HTMLView",
            "description": "",
            "description_tooltip": null,
            "layout": "IPY_MODEL_bd379fb0bf534183a6748ffb1da6a99c",
            "placeholder": "​",
            "style": "IPY_MODEL_7b4ca31406a94fc597f741a6f3011c8e",
            "value": "Downloading: 100%"
          }
        },
        "56119cd84767474fa8a55f3c4e83bb3d": {
          "model_module": "@jupyter-widgets/controls",
          "model_name": "FloatProgressModel",
          "model_module_version": "1.5.0",
          "state": {
            "_dom_classes": [],
            "_model_module": "@jupyter-widgets/controls",
            "_model_module_version": "1.5.0",
            "_model_name": "FloatProgressModel",
            "_view_count": null,
            "_view_module": "@jupyter-widgets/controls",
            "_view_module_version": "1.5.0",
            "_view_name": "ProgressView",
            "bar_style": "success",
            "description": "",
            "description_tooltip": null,
            "layout": "IPY_MODEL_87f812ff080e4f6e9e581a06333c3076",
            "max": 2825034,
            "min": 0,
            "orientation": "horizontal",
            "style": "IPY_MODEL_4a2107fcde4045949ec9e2566a09c33f",
            "value": 2825034
          }
        },
        "b70e549d59df488593a2c9822d03b223": {
          "model_module": "@jupyter-widgets/controls",
          "model_name": "HTMLModel",
          "model_module_version": "1.5.0",
          "state": {
            "_dom_classes": [],
            "_model_module": "@jupyter-widgets/controls",
            "_model_module_version": "1.5.0",
            "_model_name": "HTMLModel",
            "_view_count": null,
            "_view_module": "@jupyter-widgets/controls",
            "_view_module_version": "1.5.0",
            "_view_name": "HTMLView",
            "description": "",
            "description_tooltip": null,
            "layout": "IPY_MODEL_955d1a349f2f4d1ebaa045719cf18b4a",
            "placeholder": "​",
            "style": "IPY_MODEL_726ee0018f4c4d6bb753143fa9372890",
            "value": " 2.69M/2.69M [00:00&lt;00:00, 2.46MB/s]"
          }
        },
        "f0fb4acdcdef4491990ddd0f48efc657": {
          "model_module": "@jupyter-widgets/base",
          "model_name": "LayoutModel",
          "model_module_version": "1.2.0",
          "state": {
            "_model_module": "@jupyter-widgets/base",
            "_model_module_version": "1.2.0",
            "_model_name": "LayoutModel",
            "_view_count": null,
            "_view_module": "@jupyter-widgets/base",
            "_view_module_version": "1.2.0",
            "_view_name": "LayoutView",
            "align_content": null,
            "align_items": null,
            "align_self": null,
            "border": null,
            "bottom": null,
            "display": null,
            "flex": null,
            "flex_flow": null,
            "grid_area": null,
            "grid_auto_columns": null,
            "grid_auto_flow": null,
            "grid_auto_rows": null,
            "grid_column": null,
            "grid_gap": null,
            "grid_row": null,
            "grid_template_areas": null,
            "grid_template_columns": null,
            "grid_template_rows": null,
            "height": null,
            "justify_content": null,
            "justify_items": null,
            "left": null,
            "margin": null,
            "max_height": null,
            "max_width": null,
            "min_height": null,
            "min_width": null,
            "object_fit": null,
            "object_position": null,
            "order": null,
            "overflow": null,
            "overflow_x": null,
            "overflow_y": null,
            "padding": null,
            "right": null,
            "top": null,
            "visibility": null,
            "width": null
          }
        },
        "bd379fb0bf534183a6748ffb1da6a99c": {
          "model_module": "@jupyter-widgets/base",
          "model_name": "LayoutModel",
          "model_module_version": "1.2.0",
          "state": {
            "_model_module": "@jupyter-widgets/base",
            "_model_module_version": "1.2.0",
            "_model_name": "LayoutModel",
            "_view_count": null,
            "_view_module": "@jupyter-widgets/base",
            "_view_module_version": "1.2.0",
            "_view_name": "LayoutView",
            "align_content": null,
            "align_items": null,
            "align_self": null,
            "border": null,
            "bottom": null,
            "display": null,
            "flex": null,
            "flex_flow": null,
            "grid_area": null,
            "grid_auto_columns": null,
            "grid_auto_flow": null,
            "grid_auto_rows": null,
            "grid_column": null,
            "grid_gap": null,
            "grid_row": null,
            "grid_template_areas": null,
            "grid_template_columns": null,
            "grid_template_rows": null,
            "height": null,
            "justify_content": null,
            "justify_items": null,
            "left": null,
            "margin": null,
            "max_height": null,
            "max_width": null,
            "min_height": null,
            "min_width": null,
            "object_fit": null,
            "object_position": null,
            "order": null,
            "overflow": null,
            "overflow_x": null,
            "overflow_y": null,
            "padding": null,
            "right": null,
            "top": null,
            "visibility": null,
            "width": null
          }
        },
        "7b4ca31406a94fc597f741a6f3011c8e": {
          "model_module": "@jupyter-widgets/controls",
          "model_name": "DescriptionStyleModel",
          "model_module_version": "1.5.0",
          "state": {
            "_model_module": "@jupyter-widgets/controls",
            "_model_module_version": "1.5.0",
            "_model_name": "DescriptionStyleModel",
            "_view_count": null,
            "_view_module": "@jupyter-widgets/base",
            "_view_module_version": "1.2.0",
            "_view_name": "StyleView",
            "description_width": ""
          }
        },
        "87f812ff080e4f6e9e581a06333c3076": {
          "model_module": "@jupyter-widgets/base",
          "model_name": "LayoutModel",
          "model_module_version": "1.2.0",
          "state": {
            "_model_module": "@jupyter-widgets/base",
            "_model_module_version": "1.2.0",
            "_model_name": "LayoutModel",
            "_view_count": null,
            "_view_module": "@jupyter-widgets/base",
            "_view_module_version": "1.2.0",
            "_view_name": "LayoutView",
            "align_content": null,
            "align_items": null,
            "align_self": null,
            "border": null,
            "bottom": null,
            "display": null,
            "flex": null,
            "flex_flow": null,
            "grid_area": null,
            "grid_auto_columns": null,
            "grid_auto_flow": null,
            "grid_auto_rows": null,
            "grid_column": null,
            "grid_gap": null,
            "grid_row": null,
            "grid_template_areas": null,
            "grid_template_columns": null,
            "grid_template_rows": null,
            "height": null,
            "justify_content": null,
            "justify_items": null,
            "left": null,
            "margin": null,
            "max_height": null,
            "max_width": null,
            "min_height": null,
            "min_width": null,
            "object_fit": null,
            "object_position": null,
            "order": null,
            "overflow": null,
            "overflow_x": null,
            "overflow_y": null,
            "padding": null,
            "right": null,
            "top": null,
            "visibility": null,
            "width": null
          }
        },
        "4a2107fcde4045949ec9e2566a09c33f": {
          "model_module": "@jupyter-widgets/controls",
          "model_name": "ProgressStyleModel",
          "model_module_version": "1.5.0",
          "state": {
            "_model_module": "@jupyter-widgets/controls",
            "_model_module_version": "1.5.0",
            "_model_name": "ProgressStyleModel",
            "_view_count": null,
            "_view_module": "@jupyter-widgets/base",
            "_view_module_version": "1.2.0",
            "_view_name": "StyleView",
            "bar_color": null,
            "description_width": ""
          }
        },
        "955d1a349f2f4d1ebaa045719cf18b4a": {
          "model_module": "@jupyter-widgets/base",
          "model_name": "LayoutModel",
          "model_module_version": "1.2.0",
          "state": {
            "_model_module": "@jupyter-widgets/base",
            "_model_module_version": "1.2.0",
            "_model_name": "LayoutModel",
            "_view_count": null,
            "_view_module": "@jupyter-widgets/base",
            "_view_module_version": "1.2.0",
            "_view_name": "LayoutView",
            "align_content": null,
            "align_items": null,
            "align_self": null,
            "border": null,
            "bottom": null,
            "display": null,
            "flex": null,
            "flex_flow": null,
            "grid_area": null,
            "grid_auto_columns": null,
            "grid_auto_flow": null,
            "grid_auto_rows": null,
            "grid_column": null,
            "grid_gap": null,
            "grid_row": null,
            "grid_template_areas": null,
            "grid_template_columns": null,
            "grid_template_rows": null,
            "height": null,
            "justify_content": null,
            "justify_items": null,
            "left": null,
            "margin": null,
            "max_height": null,
            "max_width": null,
            "min_height": null,
            "min_width": null,
            "object_fit": null,
            "object_position": null,
            "order": null,
            "overflow": null,
            "overflow_x": null,
            "overflow_y": null,
            "padding": null,
            "right": null,
            "top": null,
            "visibility": null,
            "width": null
          }
        },
        "726ee0018f4c4d6bb753143fa9372890": {
          "model_module": "@jupyter-widgets/controls",
          "model_name": "DescriptionStyleModel",
          "model_module_version": "1.5.0",
          "state": {
            "_model_module": "@jupyter-widgets/controls",
            "_model_module_version": "1.5.0",
            "_model_name": "DescriptionStyleModel",
            "_view_count": null,
            "_view_module": "@jupyter-widgets/base",
            "_view_module_version": "1.2.0",
            "_view_name": "StyleView",
            "description_width": ""
          }
        },
        "9c67719180054d42876e208274e64318": {
          "model_module": "@jupyter-widgets/controls",
          "model_name": "HBoxModel",
          "model_module_version": "1.5.0",
          "state": {
            "_dom_classes": [],
            "_model_module": "@jupyter-widgets/controls",
            "_model_module_version": "1.5.0",
            "_model_name": "HBoxModel",
            "_view_count": null,
            "_view_module": "@jupyter-widgets/controls",
            "_view_module_version": "1.5.0",
            "_view_name": "HBoxView",
            "box_style": "",
            "children": [
              "IPY_MODEL_20b46d74f470401f9f08e6932122423f",
              "IPY_MODEL_28e1882cf4f1406180873bb95485908d",
              "IPY_MODEL_345b3c26298745f3bb9ae59764bffdd3"
            ],
            "layout": "IPY_MODEL_fb63c1e8f3fa490f9eb2afd52ef54aff"
          }
        },
        "20b46d74f470401f9f08e6932122423f": {
          "model_module": "@jupyter-widgets/controls",
          "model_name": "HTMLModel",
          "model_module_version": "1.5.0",
          "state": {
            "_dom_classes": [],
            "_model_module": "@jupyter-widgets/controls",
            "_model_module_version": "1.5.0",
            "_model_name": "HTMLModel",
            "_view_count": null,
            "_view_module": "@jupyter-widgets/controls",
            "_view_module_version": "1.5.0",
            "_view_name": "HTMLView",
            "description": "",
            "description_tooltip": null,
            "layout": "IPY_MODEL_c290d316181147f2b3a5b2b8c54ea54a",
            "placeholder": "​",
            "style": "IPY_MODEL_86359bbb99704743a000a936012d3663",
            "value": "Downloading: 100%"
          }
        },
        "28e1882cf4f1406180873bb95485908d": {
          "model_module": "@jupyter-widgets/controls",
          "model_name": "FloatProgressModel",
          "model_module_version": "1.5.0",
          "state": {
            "_dom_classes": [],
            "_model_module": "@jupyter-widgets/controls",
            "_model_module_version": "1.5.0",
            "_model_name": "FloatProgressModel",
            "_view_count": null,
            "_view_module": "@jupyter-widgets/controls",
            "_view_module_version": "1.5.0",
            "_view_name": "ProgressView",
            "bar_style": "success",
            "description": "",
            "description_tooltip": null,
            "layout": "IPY_MODEL_2542bd6b35364906a582b727fa8a498b",
            "max": 1000,
            "min": 0,
            "orientation": "horizontal",
            "style": "IPY_MODEL_6db3bb47dc0d4106b28bab5bebe35ff5",
            "value": 1000
          }
        },
        "345b3c26298745f3bb9ae59764bffdd3": {
          "model_module": "@jupyter-widgets/controls",
          "model_name": "HTMLModel",
          "model_module_version": "1.5.0",
          "state": {
            "_dom_classes": [],
            "_model_module": "@jupyter-widgets/controls",
            "_model_module_version": "1.5.0",
            "_model_name": "HTMLModel",
            "_view_count": null,
            "_view_module": "@jupyter-widgets/controls",
            "_view_module_version": "1.5.0",
            "_view_name": "HTMLView",
            "description": "",
            "description_tooltip": null,
            "layout": "IPY_MODEL_1f0a08d47ac44b99b559528be47364dd",
            "placeholder": "​",
            "style": "IPY_MODEL_8ce3a60e5dc64be8a550a40a0a0d1aec",
            "value": " 0.98k/0.98k [00:00&lt;00:00, 24.7kB/s]"
          }
        },
        "fb63c1e8f3fa490f9eb2afd52ef54aff": {
          "model_module": "@jupyter-widgets/base",
          "model_name": "LayoutModel",
          "model_module_version": "1.2.0",
          "state": {
            "_model_module": "@jupyter-widgets/base",
            "_model_module_version": "1.2.0",
            "_model_name": "LayoutModel",
            "_view_count": null,
            "_view_module": "@jupyter-widgets/base",
            "_view_module_version": "1.2.0",
            "_view_name": "LayoutView",
            "align_content": null,
            "align_items": null,
            "align_self": null,
            "border": null,
            "bottom": null,
            "display": null,
            "flex": null,
            "flex_flow": null,
            "grid_area": null,
            "grid_auto_columns": null,
            "grid_auto_flow": null,
            "grid_auto_rows": null,
            "grid_column": null,
            "grid_gap": null,
            "grid_row": null,
            "grid_template_areas": null,
            "grid_template_columns": null,
            "grid_template_rows": null,
            "height": null,
            "justify_content": null,
            "justify_items": null,
            "left": null,
            "margin": null,
            "max_height": null,
            "max_width": null,
            "min_height": null,
            "min_width": null,
            "object_fit": null,
            "object_position": null,
            "order": null,
            "overflow": null,
            "overflow_x": null,
            "overflow_y": null,
            "padding": null,
            "right": null,
            "top": null,
            "visibility": null,
            "width": null
          }
        },
        "c290d316181147f2b3a5b2b8c54ea54a": {
          "model_module": "@jupyter-widgets/base",
          "model_name": "LayoutModel",
          "model_module_version": "1.2.0",
          "state": {
            "_model_module": "@jupyter-widgets/base",
            "_model_module_version": "1.2.0",
            "_model_name": "LayoutModel",
            "_view_count": null,
            "_view_module": "@jupyter-widgets/base",
            "_view_module_version": "1.2.0",
            "_view_name": "LayoutView",
            "align_content": null,
            "align_items": null,
            "align_self": null,
            "border": null,
            "bottom": null,
            "display": null,
            "flex": null,
            "flex_flow": null,
            "grid_area": null,
            "grid_auto_columns": null,
            "grid_auto_flow": null,
            "grid_auto_rows": null,
            "grid_column": null,
            "grid_gap": null,
            "grid_row": null,
            "grid_template_areas": null,
            "grid_template_columns": null,
            "grid_template_rows": null,
            "height": null,
            "justify_content": null,
            "justify_items": null,
            "left": null,
            "margin": null,
            "max_height": null,
            "max_width": null,
            "min_height": null,
            "min_width": null,
            "object_fit": null,
            "object_position": null,
            "order": null,
            "overflow": null,
            "overflow_x": null,
            "overflow_y": null,
            "padding": null,
            "right": null,
            "top": null,
            "visibility": null,
            "width": null
          }
        },
        "86359bbb99704743a000a936012d3663": {
          "model_module": "@jupyter-widgets/controls",
          "model_name": "DescriptionStyleModel",
          "model_module_version": "1.5.0",
          "state": {
            "_model_module": "@jupyter-widgets/controls",
            "_model_module_version": "1.5.0",
            "_model_name": "DescriptionStyleModel",
            "_view_count": null,
            "_view_module": "@jupyter-widgets/base",
            "_view_module_version": "1.2.0",
            "_view_name": "StyleView",
            "description_width": ""
          }
        },
        "2542bd6b35364906a582b727fa8a498b": {
          "model_module": "@jupyter-widgets/base",
          "model_name": "LayoutModel",
          "model_module_version": "1.2.0",
          "state": {
            "_model_module": "@jupyter-widgets/base",
            "_model_module_version": "1.2.0",
            "_model_name": "LayoutModel",
            "_view_count": null,
            "_view_module": "@jupyter-widgets/base",
            "_view_module_version": "1.2.0",
            "_view_name": "LayoutView",
            "align_content": null,
            "align_items": null,
            "align_self": null,
            "border": null,
            "bottom": null,
            "display": null,
            "flex": null,
            "flex_flow": null,
            "grid_area": null,
            "grid_auto_columns": null,
            "grid_auto_flow": null,
            "grid_auto_rows": null,
            "grid_column": null,
            "grid_gap": null,
            "grid_row": null,
            "grid_template_areas": null,
            "grid_template_columns": null,
            "grid_template_rows": null,
            "height": null,
            "justify_content": null,
            "justify_items": null,
            "left": null,
            "margin": null,
            "max_height": null,
            "max_width": null,
            "min_height": null,
            "min_width": null,
            "object_fit": null,
            "object_position": null,
            "order": null,
            "overflow": null,
            "overflow_x": null,
            "overflow_y": null,
            "padding": null,
            "right": null,
            "top": null,
            "visibility": null,
            "width": null
          }
        },
        "6db3bb47dc0d4106b28bab5bebe35ff5": {
          "model_module": "@jupyter-widgets/controls",
          "model_name": "ProgressStyleModel",
          "model_module_version": "1.5.0",
          "state": {
            "_model_module": "@jupyter-widgets/controls",
            "_model_module_version": "1.5.0",
            "_model_name": "ProgressStyleModel",
            "_view_count": null,
            "_view_module": "@jupyter-widgets/base",
            "_view_module_version": "1.2.0",
            "_view_name": "StyleView",
            "bar_color": null,
            "description_width": ""
          }
        },
        "1f0a08d47ac44b99b559528be47364dd": {
          "model_module": "@jupyter-widgets/base",
          "model_name": "LayoutModel",
          "model_module_version": "1.2.0",
          "state": {
            "_model_module": "@jupyter-widgets/base",
            "_model_module_version": "1.2.0",
            "_model_name": "LayoutModel",
            "_view_count": null,
            "_view_module": "@jupyter-widgets/base",
            "_view_module_version": "1.2.0",
            "_view_name": "LayoutView",
            "align_content": null,
            "align_items": null,
            "align_self": null,
            "border": null,
            "bottom": null,
            "display": null,
            "flex": null,
            "flex_flow": null,
            "grid_area": null,
            "grid_auto_columns": null,
            "grid_auto_flow": null,
            "grid_auto_rows": null,
            "grid_column": null,
            "grid_gap": null,
            "grid_row": null,
            "grid_template_areas": null,
            "grid_template_columns": null,
            "grid_template_rows": null,
            "height": null,
            "justify_content": null,
            "justify_items": null,
            "left": null,
            "margin": null,
            "max_height": null,
            "max_width": null,
            "min_height": null,
            "min_width": null,
            "object_fit": null,
            "object_position": null,
            "order": null,
            "overflow": null,
            "overflow_x": null,
            "overflow_y": null,
            "padding": null,
            "right": null,
            "top": null,
            "visibility": null,
            "width": null
          }
        },
        "8ce3a60e5dc64be8a550a40a0a0d1aec": {
          "model_module": "@jupyter-widgets/controls",
          "model_name": "DescriptionStyleModel",
          "model_module_version": "1.5.0",
          "state": {
            "_model_module": "@jupyter-widgets/controls",
            "_model_module_version": "1.5.0",
            "_model_name": "DescriptionStyleModel",
            "_view_count": null,
            "_view_module": "@jupyter-widgets/base",
            "_view_module_version": "1.2.0",
            "_view_name": "StyleView",
            "description_width": ""
          }
        },
        "77bd63fdb15f4c8abaac34763d994289": {
          "model_module": "@jupyter-widgets/controls",
          "model_name": "HBoxModel",
          "model_module_version": "1.5.0",
          "state": {
            "_dom_classes": [],
            "_model_module": "@jupyter-widgets/controls",
            "_model_module_version": "1.5.0",
            "_model_name": "HBoxModel",
            "_view_count": null,
            "_view_module": "@jupyter-widgets/controls",
            "_view_module_version": "1.5.0",
            "_view_name": "HBoxView",
            "box_style": "",
            "children": [
              "IPY_MODEL_294dafedca1a49abaa5c00ea6c350f0b",
              "IPY_MODEL_7d20984950964731addc1246255bc082",
              "IPY_MODEL_64b66edc61f04c2dbb5fe2a531c4ea8b"
            ],
            "layout": "IPY_MODEL_4c8fc934cb664447a3cff54f90e947e7"
          }
        },
        "294dafedca1a49abaa5c00ea6c350f0b": {
          "model_module": "@jupyter-widgets/controls",
          "model_name": "HTMLModel",
          "model_module_version": "1.5.0",
          "state": {
            "_dom_classes": [],
            "_model_module": "@jupyter-widgets/controls",
            "_model_module_version": "1.5.0",
            "_model_name": "HTMLModel",
            "_view_count": null,
            "_view_module": "@jupyter-widgets/controls",
            "_view_module_version": "1.5.0",
            "_view_name": "HTMLView",
            "description": "",
            "description_tooltip": null,
            "layout": "IPY_MODEL_50411156c8c74fa8aad37575c3968e96",
            "placeholder": "​",
            "style": "IPY_MODEL_ef1b28c3800a45208347786eab379fe8",
            "value": "Downloading: 100%"
          }
        },
        "7d20984950964731addc1246255bc082": {
          "model_module": "@jupyter-widgets/controls",
          "model_name": "FloatProgressModel",
          "model_module_version": "1.5.0",
          "state": {
            "_dom_classes": [],
            "_model_module": "@jupyter-widgets/controls",
            "_model_module_version": "1.5.0",
            "_model_name": "FloatProgressModel",
            "_view_count": null,
            "_view_module": "@jupyter-widgets/controls",
            "_view_module_version": "1.5.0",
            "_view_name": "ProgressView",
            "bar_style": "success",
            "description": "",
            "description_tooltip": null,
            "layout": "IPY_MODEL_eec606424ba2475dad9b88fcbfb7316a",
            "max": 513302779,
            "min": 0,
            "orientation": "horizontal",
            "style": "IPY_MODEL_9e282c83c358493dbfc197aec40cbebb",
            "value": 513302779
          }
        },
        "64b66edc61f04c2dbb5fe2a531c4ea8b": {
          "model_module": "@jupyter-widgets/controls",
          "model_name": "HTMLModel",
          "model_module_version": "1.5.0",
          "state": {
            "_dom_classes": [],
            "_model_module": "@jupyter-widgets/controls",
            "_model_module_version": "1.5.0",
            "_model_name": "HTMLModel",
            "_view_count": null,
            "_view_module": "@jupyter-widgets/controls",
            "_view_module_version": "1.5.0",
            "_view_name": "HTMLView",
            "description": "",
            "description_tooltip": null,
            "layout": "IPY_MODEL_40b23dfe6ff943989d046dd2f35272af",
            "placeholder": "​",
            "style": "IPY_MODEL_2158b514bd1b4787af478f35f0cede49",
            "value": " 490M/490M [00:14&lt;00:00, 46.2MB/s]"
          }
        },
        "4c8fc934cb664447a3cff54f90e947e7": {
          "model_module": "@jupyter-widgets/base",
          "model_name": "LayoutModel",
          "model_module_version": "1.2.0",
          "state": {
            "_model_module": "@jupyter-widgets/base",
            "_model_module_version": "1.2.0",
            "_model_name": "LayoutModel",
            "_view_count": null,
            "_view_module": "@jupyter-widgets/base",
            "_view_module_version": "1.2.0",
            "_view_name": "LayoutView",
            "align_content": null,
            "align_items": null,
            "align_self": null,
            "border": null,
            "bottom": null,
            "display": null,
            "flex": null,
            "flex_flow": null,
            "grid_area": null,
            "grid_auto_columns": null,
            "grid_auto_flow": null,
            "grid_auto_rows": null,
            "grid_column": null,
            "grid_gap": null,
            "grid_row": null,
            "grid_template_areas": null,
            "grid_template_columns": null,
            "grid_template_rows": null,
            "height": null,
            "justify_content": null,
            "justify_items": null,
            "left": null,
            "margin": null,
            "max_height": null,
            "max_width": null,
            "min_height": null,
            "min_width": null,
            "object_fit": null,
            "object_position": null,
            "order": null,
            "overflow": null,
            "overflow_x": null,
            "overflow_y": null,
            "padding": null,
            "right": null,
            "top": null,
            "visibility": null,
            "width": null
          }
        },
        "50411156c8c74fa8aad37575c3968e96": {
          "model_module": "@jupyter-widgets/base",
          "model_name": "LayoutModel",
          "model_module_version": "1.2.0",
          "state": {
            "_model_module": "@jupyter-widgets/base",
            "_model_module_version": "1.2.0",
            "_model_name": "LayoutModel",
            "_view_count": null,
            "_view_module": "@jupyter-widgets/base",
            "_view_module_version": "1.2.0",
            "_view_name": "LayoutView",
            "align_content": null,
            "align_items": null,
            "align_self": null,
            "border": null,
            "bottom": null,
            "display": null,
            "flex": null,
            "flex_flow": null,
            "grid_area": null,
            "grid_auto_columns": null,
            "grid_auto_flow": null,
            "grid_auto_rows": null,
            "grid_column": null,
            "grid_gap": null,
            "grid_row": null,
            "grid_template_areas": null,
            "grid_template_columns": null,
            "grid_template_rows": null,
            "height": null,
            "justify_content": null,
            "justify_items": null,
            "left": null,
            "margin": null,
            "max_height": null,
            "max_width": null,
            "min_height": null,
            "min_width": null,
            "object_fit": null,
            "object_position": null,
            "order": null,
            "overflow": null,
            "overflow_x": null,
            "overflow_y": null,
            "padding": null,
            "right": null,
            "top": null,
            "visibility": null,
            "width": null
          }
        },
        "ef1b28c3800a45208347786eab379fe8": {
          "model_module": "@jupyter-widgets/controls",
          "model_name": "DescriptionStyleModel",
          "model_module_version": "1.5.0",
          "state": {
            "_model_module": "@jupyter-widgets/controls",
            "_model_module_version": "1.5.0",
            "_model_name": "DescriptionStyleModel",
            "_view_count": null,
            "_view_module": "@jupyter-widgets/base",
            "_view_module_version": "1.2.0",
            "_view_name": "StyleView",
            "description_width": ""
          }
        },
        "eec606424ba2475dad9b88fcbfb7316a": {
          "model_module": "@jupyter-widgets/base",
          "model_name": "LayoutModel",
          "model_module_version": "1.2.0",
          "state": {
            "_model_module": "@jupyter-widgets/base",
            "_model_module_version": "1.2.0",
            "_model_name": "LayoutModel",
            "_view_count": null,
            "_view_module": "@jupyter-widgets/base",
            "_view_module_version": "1.2.0",
            "_view_name": "LayoutView",
            "align_content": null,
            "align_items": null,
            "align_self": null,
            "border": null,
            "bottom": null,
            "display": null,
            "flex": null,
            "flex_flow": null,
            "grid_area": null,
            "grid_auto_columns": null,
            "grid_auto_flow": null,
            "grid_auto_rows": null,
            "grid_column": null,
            "grid_gap": null,
            "grid_row": null,
            "grid_template_areas": null,
            "grid_template_columns": null,
            "grid_template_rows": null,
            "height": null,
            "justify_content": null,
            "justify_items": null,
            "left": null,
            "margin": null,
            "max_height": null,
            "max_width": null,
            "min_height": null,
            "min_width": null,
            "object_fit": null,
            "object_position": null,
            "order": null,
            "overflow": null,
            "overflow_x": null,
            "overflow_y": null,
            "padding": null,
            "right": null,
            "top": null,
            "visibility": null,
            "width": null
          }
        },
        "9e282c83c358493dbfc197aec40cbebb": {
          "model_module": "@jupyter-widgets/controls",
          "model_name": "ProgressStyleModel",
          "model_module_version": "1.5.0",
          "state": {
            "_model_module": "@jupyter-widgets/controls",
            "_model_module_version": "1.5.0",
            "_model_name": "ProgressStyleModel",
            "_view_count": null,
            "_view_module": "@jupyter-widgets/base",
            "_view_module_version": "1.2.0",
            "_view_name": "StyleView",
            "bar_color": null,
            "description_width": ""
          }
        },
        "40b23dfe6ff943989d046dd2f35272af": {
          "model_module": "@jupyter-widgets/base",
          "model_name": "LayoutModel",
          "model_module_version": "1.2.0",
          "state": {
            "_model_module": "@jupyter-widgets/base",
            "_model_module_version": "1.2.0",
            "_model_name": "LayoutModel",
            "_view_count": null,
            "_view_module": "@jupyter-widgets/base",
            "_view_module_version": "1.2.0",
            "_view_name": "LayoutView",
            "align_content": null,
            "align_items": null,
            "align_self": null,
            "border": null,
            "bottom": null,
            "display": null,
            "flex": null,
            "flex_flow": null,
            "grid_area": null,
            "grid_auto_columns": null,
            "grid_auto_flow": null,
            "grid_auto_rows": null,
            "grid_column": null,
            "grid_gap": null,
            "grid_row": null,
            "grid_template_areas": null,
            "grid_template_columns": null,
            "grid_template_rows": null,
            "height": null,
            "justify_content": null,
            "justify_items": null,
            "left": null,
            "margin": null,
            "max_height": null,
            "max_width": null,
            "min_height": null,
            "min_width": null,
            "object_fit": null,
            "object_position": null,
            "order": null,
            "overflow": null,
            "overflow_x": null,
            "overflow_y": null,
            "padding": null,
            "right": null,
            "top": null,
            "visibility": null,
            "width": null
          }
        },
        "2158b514bd1b4787af478f35f0cede49": {
          "model_module": "@jupyter-widgets/controls",
          "model_name": "DescriptionStyleModel",
          "model_module_version": "1.5.0",
          "state": {
            "_model_module": "@jupyter-widgets/controls",
            "_model_module_version": "1.5.0",
            "_model_name": "DescriptionStyleModel",
            "_view_count": null,
            "_view_module": "@jupyter-widgets/base",
            "_view_module_version": "1.2.0",
            "_view_name": "StyleView",
            "description_width": ""
          }
        },
        "b251d05c27f246f581cdbe7db7ff8fc6": {
          "model_module": "@jupyter-widgets/controls",
          "model_name": "HBoxModel",
          "model_module_version": "1.5.0",
          "state": {
            "_dom_classes": [],
            "_model_module": "@jupyter-widgets/controls",
            "_model_module_version": "1.5.0",
            "_model_name": "HBoxModel",
            "_view_count": null,
            "_view_module": "@jupyter-widgets/controls",
            "_view_module_version": "1.5.0",
            "_view_name": "HBoxView",
            "box_style": "",
            "children": [
              "IPY_MODEL_5774ee4b3eae4a0eb49fc0a79526947a",
              "IPY_MODEL_f6335c915808493daecb3fcca5bd996d",
              "IPY_MODEL_a9a9dd4a893341e083cc8bb1afe7af0b"
            ],
            "layout": "IPY_MODEL_8dcab39c0822425189b86f23e2a46886"
          }
        },
        "5774ee4b3eae4a0eb49fc0a79526947a": {
          "model_module": "@jupyter-widgets/controls",
          "model_name": "HTMLModel",
          "model_module_version": "1.5.0",
          "state": {
            "_dom_classes": [],
            "_model_module": "@jupyter-widgets/controls",
            "_model_module_version": "1.5.0",
            "_model_name": "HTMLModel",
            "_view_count": null,
            "_view_module": "@jupyter-widgets/controls",
            "_view_module_version": "1.5.0",
            "_view_name": "HTMLView",
            "description": "",
            "description_tooltip": null,
            "layout": "IPY_MODEL_1ecd31a3b40e4118b0eda5b1afa566e3",
            "placeholder": "​",
            "style": "IPY_MODEL_9db3e0c03fcb485ebf808fa1daf9ece2",
            "value": "Downloading: 100%"
          }
        },
        "f6335c915808493daecb3fcca5bd996d": {
          "model_module": "@jupyter-widgets/controls",
          "model_name": "FloatProgressModel",
          "model_module_version": "1.5.0",
          "state": {
            "_dom_classes": [],
            "_model_module": "@jupyter-widgets/controls",
            "_model_module_version": "1.5.0",
            "_model_name": "FloatProgressModel",
            "_view_count": null,
            "_view_module": "@jupyter-widgets/controls",
            "_view_module_version": "1.5.0",
            "_view_name": "ProgressView",
            "bar_style": "success",
            "description": "",
            "description_tooltip": null,
            "layout": "IPY_MODEL_3b5bf0b9da7c4cf6b90878e60732b9ca",
            "max": 249928,
            "min": 0,
            "orientation": "horizontal",
            "style": "IPY_MODEL_0fb28e3ef82a4fd09659da42333b795c",
            "value": 249928
          }
        },
        "a9a9dd4a893341e083cc8bb1afe7af0b": {
          "model_module": "@jupyter-widgets/controls",
          "model_name": "HTMLModel",
          "model_module_version": "1.5.0",
          "state": {
            "_dom_classes": [],
            "_model_module": "@jupyter-widgets/controls",
            "_model_module_version": "1.5.0",
            "_model_name": "HTMLModel",
            "_view_count": null,
            "_view_module": "@jupyter-widgets/controls",
            "_view_module_version": "1.5.0",
            "_view_name": "HTMLView",
            "description": "",
            "description_tooltip": null,
            "layout": "IPY_MODEL_4c91a5d4612b4293ae33d91dce616fe3",
            "placeholder": "​",
            "style": "IPY_MODEL_49b06b7602864ae4abbfc983cd383862",
            "value": " 250k/250k [00:00&lt;00:00, 423kB/s]"
          }
        },
        "8dcab39c0822425189b86f23e2a46886": {
          "model_module": "@jupyter-widgets/base",
          "model_name": "LayoutModel",
          "model_module_version": "1.2.0",
          "state": {
            "_model_module": "@jupyter-widgets/base",
            "_model_module_version": "1.2.0",
            "_model_name": "LayoutModel",
            "_view_count": null,
            "_view_module": "@jupyter-widgets/base",
            "_view_module_version": "1.2.0",
            "_view_name": "LayoutView",
            "align_content": null,
            "align_items": null,
            "align_self": null,
            "border": null,
            "bottom": null,
            "display": null,
            "flex": null,
            "flex_flow": null,
            "grid_area": null,
            "grid_auto_columns": null,
            "grid_auto_flow": null,
            "grid_auto_rows": null,
            "grid_column": null,
            "grid_gap": null,
            "grid_row": null,
            "grid_template_areas": null,
            "grid_template_columns": null,
            "grid_template_rows": null,
            "height": null,
            "justify_content": null,
            "justify_items": null,
            "left": null,
            "margin": null,
            "max_height": null,
            "max_width": null,
            "min_height": null,
            "min_width": null,
            "object_fit": null,
            "object_position": null,
            "order": null,
            "overflow": null,
            "overflow_x": null,
            "overflow_y": null,
            "padding": null,
            "right": null,
            "top": null,
            "visibility": null,
            "width": null
          }
        },
        "1ecd31a3b40e4118b0eda5b1afa566e3": {
          "model_module": "@jupyter-widgets/base",
          "model_name": "LayoutModel",
          "model_module_version": "1.2.0",
          "state": {
            "_model_module": "@jupyter-widgets/base",
            "_model_module_version": "1.2.0",
            "_model_name": "LayoutModel",
            "_view_count": null,
            "_view_module": "@jupyter-widgets/base",
            "_view_module_version": "1.2.0",
            "_view_name": "LayoutView",
            "align_content": null,
            "align_items": null,
            "align_self": null,
            "border": null,
            "bottom": null,
            "display": null,
            "flex": null,
            "flex_flow": null,
            "grid_area": null,
            "grid_auto_columns": null,
            "grid_auto_flow": null,
            "grid_auto_rows": null,
            "grid_column": null,
            "grid_gap": null,
            "grid_row": null,
            "grid_template_areas": null,
            "grid_template_columns": null,
            "grid_template_rows": null,
            "height": null,
            "justify_content": null,
            "justify_items": null,
            "left": null,
            "margin": null,
            "max_height": null,
            "max_width": null,
            "min_height": null,
            "min_width": null,
            "object_fit": null,
            "object_position": null,
            "order": null,
            "overflow": null,
            "overflow_x": null,
            "overflow_y": null,
            "padding": null,
            "right": null,
            "top": null,
            "visibility": null,
            "width": null
          }
        },
        "9db3e0c03fcb485ebf808fa1daf9ece2": {
          "model_module": "@jupyter-widgets/controls",
          "model_name": "DescriptionStyleModel",
          "model_module_version": "1.5.0",
          "state": {
            "_model_module": "@jupyter-widgets/controls",
            "_model_module_version": "1.5.0",
            "_model_name": "DescriptionStyleModel",
            "_view_count": null,
            "_view_module": "@jupyter-widgets/base",
            "_view_module_version": "1.2.0",
            "_view_name": "StyleView",
            "description_width": ""
          }
        },
        "3b5bf0b9da7c4cf6b90878e60732b9ca": {
          "model_module": "@jupyter-widgets/base",
          "model_name": "LayoutModel",
          "model_module_version": "1.2.0",
          "state": {
            "_model_module": "@jupyter-widgets/base",
            "_model_module_version": "1.2.0",
            "_model_name": "LayoutModel",
            "_view_count": null,
            "_view_module": "@jupyter-widgets/base",
            "_view_module_version": "1.2.0",
            "_view_name": "LayoutView",
            "align_content": null,
            "align_items": null,
            "align_self": null,
            "border": null,
            "bottom": null,
            "display": null,
            "flex": null,
            "flex_flow": null,
            "grid_area": null,
            "grid_auto_columns": null,
            "grid_auto_flow": null,
            "grid_auto_rows": null,
            "grid_column": null,
            "grid_gap": null,
            "grid_row": null,
            "grid_template_areas": null,
            "grid_template_columns": null,
            "grid_template_rows": null,
            "height": null,
            "justify_content": null,
            "justify_items": null,
            "left": null,
            "margin": null,
            "max_height": null,
            "max_width": null,
            "min_height": null,
            "min_width": null,
            "object_fit": null,
            "object_position": null,
            "order": null,
            "overflow": null,
            "overflow_x": null,
            "overflow_y": null,
            "padding": null,
            "right": null,
            "top": null,
            "visibility": null,
            "width": null
          }
        },
        "0fb28e3ef82a4fd09659da42333b795c": {
          "model_module": "@jupyter-widgets/controls",
          "model_name": "ProgressStyleModel",
          "model_module_version": "1.5.0",
          "state": {
            "_model_module": "@jupyter-widgets/controls",
            "_model_module_version": "1.5.0",
            "_model_name": "ProgressStyleModel",
            "_view_count": null,
            "_view_module": "@jupyter-widgets/base",
            "_view_module_version": "1.2.0",
            "_view_name": "StyleView",
            "bar_color": null,
            "description_width": ""
          }
        },
        "4c91a5d4612b4293ae33d91dce616fe3": {
          "model_module": "@jupyter-widgets/base",
          "model_name": "LayoutModel",
          "model_module_version": "1.2.0",
          "state": {
            "_model_module": "@jupyter-widgets/base",
            "_model_module_version": "1.2.0",
            "_model_name": "LayoutModel",
            "_view_count": null,
            "_view_module": "@jupyter-widgets/base",
            "_view_module_version": "1.2.0",
            "_view_name": "LayoutView",
            "align_content": null,
            "align_items": null,
            "align_self": null,
            "border": null,
            "bottom": null,
            "display": null,
            "flex": null,
            "flex_flow": null,
            "grid_area": null,
            "grid_auto_columns": null,
            "grid_auto_flow": null,
            "grid_auto_rows": null,
            "grid_column": null,
            "grid_gap": null,
            "grid_row": null,
            "grid_template_areas": null,
            "grid_template_columns": null,
            "grid_template_rows": null,
            "height": null,
            "justify_content": null,
            "justify_items": null,
            "left": null,
            "margin": null,
            "max_height": null,
            "max_width": null,
            "min_height": null,
            "min_width": null,
            "object_fit": null,
            "object_position": null,
            "order": null,
            "overflow": null,
            "overflow_x": null,
            "overflow_y": null,
            "padding": null,
            "right": null,
            "top": null,
            "visibility": null,
            "width": null
          }
        },
        "49b06b7602864ae4abbfc983cd383862": {
          "model_module": "@jupyter-widgets/controls",
          "model_name": "DescriptionStyleModel",
          "model_module_version": "1.5.0",
          "state": {
            "_model_module": "@jupyter-widgets/controls",
            "_model_module_version": "1.5.0",
            "_model_name": "DescriptionStyleModel",
            "_view_count": null,
            "_view_module": "@jupyter-widgets/base",
            "_view_module_version": "1.2.0",
            "_view_name": "StyleView",
            "description_width": ""
          }
        },
        "cbf596587d9645dd9dc3640a180084c1": {
          "model_module": "@jupyter-widgets/controls",
          "model_name": "HBoxModel",
          "model_module_version": "1.5.0",
          "state": {
            "_dom_classes": [],
            "_model_module": "@jupyter-widgets/controls",
            "_model_module_version": "1.5.0",
            "_model_name": "HBoxModel",
            "_view_count": null,
            "_view_module": "@jupyter-widgets/controls",
            "_view_module_version": "1.5.0",
            "_view_name": "HBoxView",
            "box_style": "",
            "children": [
              "IPY_MODEL_3015e1c7d3d84efbbda338ef95b8d73a",
              "IPY_MODEL_0a8bf52ad0da4c83a71b2c27e0ef8f79",
              "IPY_MODEL_7ff26acf6af04c91a13c313da75fac53"
            ],
            "layout": "IPY_MODEL_f1a53cfb0943491ab97ca75ed7000929"
          }
        },
        "3015e1c7d3d84efbbda338ef95b8d73a": {
          "model_module": "@jupyter-widgets/controls",
          "model_name": "HTMLModel",
          "model_module_version": "1.5.0",
          "state": {
            "_dom_classes": [],
            "_model_module": "@jupyter-widgets/controls",
            "_model_module_version": "1.5.0",
            "_model_name": "HTMLModel",
            "_view_count": null,
            "_view_module": "@jupyter-widgets/controls",
            "_view_module_version": "1.5.0",
            "_view_name": "HTMLView",
            "description": "",
            "description_tooltip": null,
            "layout": "IPY_MODEL_5a8b994b582842358e8c38383474d63b",
            "placeholder": "​",
            "style": "IPY_MODEL_ceb0db7322024717b63be72560d2d876",
            "value": "Downloading: 100%"
          }
        },
        "0a8bf52ad0da4c83a71b2c27e0ef8f79": {
          "model_module": "@jupyter-widgets/controls",
          "model_name": "FloatProgressModel",
          "model_module_version": "1.5.0",
          "state": {
            "_dom_classes": [],
            "_model_module": "@jupyter-widgets/controls",
            "_model_module_version": "1.5.0",
            "_model_name": "FloatProgressModel",
            "_view_count": null,
            "_view_module": "@jupyter-widgets/controls",
            "_view_module_version": "1.5.0",
            "_view_name": "ProgressView",
            "bar_style": "success",
            "description": "",
            "description_tooltip": null,
            "layout": "IPY_MODEL_4c5c8cd049374f91b351e7c2402ec200",
            "max": 49,
            "min": 0,
            "orientation": "horizontal",
            "style": "IPY_MODEL_bb294857c6fd4da7bd5f1b9aceaccf27",
            "value": 49
          }
        },
        "7ff26acf6af04c91a13c313da75fac53": {
          "model_module": "@jupyter-widgets/controls",
          "model_name": "HTMLModel",
          "model_module_version": "1.5.0",
          "state": {
            "_dom_classes": [],
            "_model_module": "@jupyter-widgets/controls",
            "_model_module_version": "1.5.0",
            "_model_name": "HTMLModel",
            "_view_count": null,
            "_view_module": "@jupyter-widgets/controls",
            "_view_module_version": "1.5.0",
            "_view_name": "HTMLView",
            "description": "",
            "description_tooltip": null,
            "layout": "IPY_MODEL_d1701ac9d393471384aba0fb1d81f68e",
            "placeholder": "​",
            "style": "IPY_MODEL_73a139be69df4b80988cbc7aff5bef00",
            "value": " 49.0/49.0 [00:00&lt;00:00, 1.59kB/s]"
          }
        },
        "f1a53cfb0943491ab97ca75ed7000929": {
          "model_module": "@jupyter-widgets/base",
          "model_name": "LayoutModel",
          "model_module_version": "1.2.0",
          "state": {
            "_model_module": "@jupyter-widgets/base",
            "_model_module_version": "1.2.0",
            "_model_name": "LayoutModel",
            "_view_count": null,
            "_view_module": "@jupyter-widgets/base",
            "_view_module_version": "1.2.0",
            "_view_name": "LayoutView",
            "align_content": null,
            "align_items": null,
            "align_self": null,
            "border": null,
            "bottom": null,
            "display": null,
            "flex": null,
            "flex_flow": null,
            "grid_area": null,
            "grid_auto_columns": null,
            "grid_auto_flow": null,
            "grid_auto_rows": null,
            "grid_column": null,
            "grid_gap": null,
            "grid_row": null,
            "grid_template_areas": null,
            "grid_template_columns": null,
            "grid_template_rows": null,
            "height": null,
            "justify_content": null,
            "justify_items": null,
            "left": null,
            "margin": null,
            "max_height": null,
            "max_width": null,
            "min_height": null,
            "min_width": null,
            "object_fit": null,
            "object_position": null,
            "order": null,
            "overflow": null,
            "overflow_x": null,
            "overflow_y": null,
            "padding": null,
            "right": null,
            "top": null,
            "visibility": null,
            "width": null
          }
        },
        "5a8b994b582842358e8c38383474d63b": {
          "model_module": "@jupyter-widgets/base",
          "model_name": "LayoutModel",
          "model_module_version": "1.2.0",
          "state": {
            "_model_module": "@jupyter-widgets/base",
            "_model_module_version": "1.2.0",
            "_model_name": "LayoutModel",
            "_view_count": null,
            "_view_module": "@jupyter-widgets/base",
            "_view_module_version": "1.2.0",
            "_view_name": "LayoutView",
            "align_content": null,
            "align_items": null,
            "align_self": null,
            "border": null,
            "bottom": null,
            "display": null,
            "flex": null,
            "flex_flow": null,
            "grid_area": null,
            "grid_auto_columns": null,
            "grid_auto_flow": null,
            "grid_auto_rows": null,
            "grid_column": null,
            "grid_gap": null,
            "grid_row": null,
            "grid_template_areas": null,
            "grid_template_columns": null,
            "grid_template_rows": null,
            "height": null,
            "justify_content": null,
            "justify_items": null,
            "left": null,
            "margin": null,
            "max_height": null,
            "max_width": null,
            "min_height": null,
            "min_width": null,
            "object_fit": null,
            "object_position": null,
            "order": null,
            "overflow": null,
            "overflow_x": null,
            "overflow_y": null,
            "padding": null,
            "right": null,
            "top": null,
            "visibility": null,
            "width": null
          }
        },
        "ceb0db7322024717b63be72560d2d876": {
          "model_module": "@jupyter-widgets/controls",
          "model_name": "DescriptionStyleModel",
          "model_module_version": "1.5.0",
          "state": {
            "_model_module": "@jupyter-widgets/controls",
            "_model_module_version": "1.5.0",
            "_model_name": "DescriptionStyleModel",
            "_view_count": null,
            "_view_module": "@jupyter-widgets/base",
            "_view_module_version": "1.2.0",
            "_view_name": "StyleView",
            "description_width": ""
          }
        },
        "4c5c8cd049374f91b351e7c2402ec200": {
          "model_module": "@jupyter-widgets/base",
          "model_name": "LayoutModel",
          "model_module_version": "1.2.0",
          "state": {
            "_model_module": "@jupyter-widgets/base",
            "_model_module_version": "1.2.0",
            "_model_name": "LayoutModel",
            "_view_count": null,
            "_view_module": "@jupyter-widgets/base",
            "_view_module_version": "1.2.0",
            "_view_name": "LayoutView",
            "align_content": null,
            "align_items": null,
            "align_self": null,
            "border": null,
            "bottom": null,
            "display": null,
            "flex": null,
            "flex_flow": null,
            "grid_area": null,
            "grid_auto_columns": null,
            "grid_auto_flow": null,
            "grid_auto_rows": null,
            "grid_column": null,
            "grid_gap": null,
            "grid_row": null,
            "grid_template_areas": null,
            "grid_template_columns": null,
            "grid_template_rows": null,
            "height": null,
            "justify_content": null,
            "justify_items": null,
            "left": null,
            "margin": null,
            "max_height": null,
            "max_width": null,
            "min_height": null,
            "min_width": null,
            "object_fit": null,
            "object_position": null,
            "order": null,
            "overflow": null,
            "overflow_x": null,
            "overflow_y": null,
            "padding": null,
            "right": null,
            "top": null,
            "visibility": null,
            "width": null
          }
        },
        "bb294857c6fd4da7bd5f1b9aceaccf27": {
          "model_module": "@jupyter-widgets/controls",
          "model_name": "ProgressStyleModel",
          "model_module_version": "1.5.0",
          "state": {
            "_model_module": "@jupyter-widgets/controls",
            "_model_module_version": "1.5.0",
            "_model_name": "ProgressStyleModel",
            "_view_count": null,
            "_view_module": "@jupyter-widgets/base",
            "_view_module_version": "1.2.0",
            "_view_name": "StyleView",
            "bar_color": null,
            "description_width": ""
          }
        },
        "d1701ac9d393471384aba0fb1d81f68e": {
          "model_module": "@jupyter-widgets/base",
          "model_name": "LayoutModel",
          "model_module_version": "1.2.0",
          "state": {
            "_model_module": "@jupyter-widgets/base",
            "_model_module_version": "1.2.0",
            "_model_name": "LayoutModel",
            "_view_count": null,
            "_view_module": "@jupyter-widgets/base",
            "_view_module_version": "1.2.0",
            "_view_name": "LayoutView",
            "align_content": null,
            "align_items": null,
            "align_self": null,
            "border": null,
            "bottom": null,
            "display": null,
            "flex": null,
            "flex_flow": null,
            "grid_area": null,
            "grid_auto_columns": null,
            "grid_auto_flow": null,
            "grid_auto_rows": null,
            "grid_column": null,
            "grid_gap": null,
            "grid_row": null,
            "grid_template_areas": null,
            "grid_template_columns": null,
            "grid_template_rows": null,
            "height": null,
            "justify_content": null,
            "justify_items": null,
            "left": null,
            "margin": null,
            "max_height": null,
            "max_width": null,
            "min_height": null,
            "min_width": null,
            "object_fit": null,
            "object_position": null,
            "order": null,
            "overflow": null,
            "overflow_x": null,
            "overflow_y": null,
            "padding": null,
            "right": null,
            "top": null,
            "visibility": null,
            "width": null
          }
        },
        "73a139be69df4b80988cbc7aff5bef00": {
          "model_module": "@jupyter-widgets/controls",
          "model_name": "DescriptionStyleModel",
          "model_module_version": "1.5.0",
          "state": {
            "_model_module": "@jupyter-widgets/controls",
            "_model_module_version": "1.5.0",
            "_model_name": "DescriptionStyleModel",
            "_view_count": null,
            "_view_module": "@jupyter-widgets/base",
            "_view_module_version": "1.2.0",
            "_view_name": "StyleView",
            "description_width": ""
          }
        },
        "e42cdb6b442644688c953b6d9553d177": {
          "model_module": "@jupyter-widgets/controls",
          "model_name": "HBoxModel",
          "model_module_version": "1.5.0",
          "state": {
            "_dom_classes": [],
            "_model_module": "@jupyter-widgets/controls",
            "_model_module_version": "1.5.0",
            "_model_name": "HBoxModel",
            "_view_count": null,
            "_view_module": "@jupyter-widgets/controls",
            "_view_module_version": "1.5.0",
            "_view_name": "HBoxView",
            "box_style": "",
            "children": [
              "IPY_MODEL_321395d41d254875991c6ad5fe13fce5",
              "IPY_MODEL_c2dae9491f17463c813432e41ed6feb3",
              "IPY_MODEL_0ce72bc17196478794bba1b15d056c98"
            ],
            "layout": "IPY_MODEL_5d8f5aa688344207a77b1b71bf092acd"
          }
        },
        "321395d41d254875991c6ad5fe13fce5": {
          "model_module": "@jupyter-widgets/controls",
          "model_name": "HTMLModel",
          "model_module_version": "1.5.0",
          "state": {
            "_dom_classes": [],
            "_model_module": "@jupyter-widgets/controls",
            "_model_module_version": "1.5.0",
            "_model_name": "HTMLModel",
            "_view_count": null,
            "_view_module": "@jupyter-widgets/controls",
            "_view_module_version": "1.5.0",
            "_view_name": "HTMLView",
            "description": "",
            "description_tooltip": null,
            "layout": "IPY_MODEL_10b68ea9df1e400180fd767973863795",
            "placeholder": "​",
            "style": "IPY_MODEL_275c4212649e4b4abaac439b042aed49",
            "value": "Downloading: 100%"
          }
        },
        "c2dae9491f17463c813432e41ed6feb3": {
          "model_module": "@jupyter-widgets/controls",
          "model_name": "FloatProgressModel",
          "model_module_version": "1.5.0",
          "state": {
            "_dom_classes": [],
            "_model_module": "@jupyter-widgets/controls",
            "_model_module_version": "1.5.0",
            "_model_name": "FloatProgressModel",
            "_view_count": null,
            "_view_module": "@jupyter-widgets/controls",
            "_view_module_version": "1.5.0",
            "_view_name": "ProgressView",
            "bar_style": "success",
            "description": "",
            "description_tooltip": null,
            "layout": "IPY_MODEL_d21c2d3635394944a5b1c14a0be9eb8d",
            "max": 619,
            "min": 0,
            "orientation": "horizontal",
            "style": "IPY_MODEL_a59bd27588b042138dec0275b0dc1e1a",
            "value": 619
          }
        },
        "0ce72bc17196478794bba1b15d056c98": {
          "model_module": "@jupyter-widgets/controls",
          "model_name": "HTMLModel",
          "model_module_version": "1.5.0",
          "state": {
            "_dom_classes": [],
            "_model_module": "@jupyter-widgets/controls",
            "_model_module_version": "1.5.0",
            "_model_name": "HTMLModel",
            "_view_count": null,
            "_view_module": "@jupyter-widgets/controls",
            "_view_module_version": "1.5.0",
            "_view_name": "HTMLView",
            "description": "",
            "description_tooltip": null,
            "layout": "IPY_MODEL_260e0c18216b4ad585271e68240629b1",
            "placeholder": "​",
            "style": "IPY_MODEL_51ccaf7c3b844a148617ebb278d51492",
            "value": " 619/619 [00:00&lt;00:00, 18.3kB/s]"
          }
        },
        "5d8f5aa688344207a77b1b71bf092acd": {
          "model_module": "@jupyter-widgets/base",
          "model_name": "LayoutModel",
          "model_module_version": "1.2.0",
          "state": {
            "_model_module": "@jupyter-widgets/base",
            "_model_module_version": "1.2.0",
            "_model_name": "LayoutModel",
            "_view_count": null,
            "_view_module": "@jupyter-widgets/base",
            "_view_module_version": "1.2.0",
            "_view_name": "LayoutView",
            "align_content": null,
            "align_items": null,
            "align_self": null,
            "border": null,
            "bottom": null,
            "display": null,
            "flex": null,
            "flex_flow": null,
            "grid_area": null,
            "grid_auto_columns": null,
            "grid_auto_flow": null,
            "grid_auto_rows": null,
            "grid_column": null,
            "grid_gap": null,
            "grid_row": null,
            "grid_template_areas": null,
            "grid_template_columns": null,
            "grid_template_rows": null,
            "height": null,
            "justify_content": null,
            "justify_items": null,
            "left": null,
            "margin": null,
            "max_height": null,
            "max_width": null,
            "min_height": null,
            "min_width": null,
            "object_fit": null,
            "object_position": null,
            "order": null,
            "overflow": null,
            "overflow_x": null,
            "overflow_y": null,
            "padding": null,
            "right": null,
            "top": null,
            "visibility": null,
            "width": null
          }
        },
        "10b68ea9df1e400180fd767973863795": {
          "model_module": "@jupyter-widgets/base",
          "model_name": "LayoutModel",
          "model_module_version": "1.2.0",
          "state": {
            "_model_module": "@jupyter-widgets/base",
            "_model_module_version": "1.2.0",
            "_model_name": "LayoutModel",
            "_view_count": null,
            "_view_module": "@jupyter-widgets/base",
            "_view_module_version": "1.2.0",
            "_view_name": "LayoutView",
            "align_content": null,
            "align_items": null,
            "align_self": null,
            "border": null,
            "bottom": null,
            "display": null,
            "flex": null,
            "flex_flow": null,
            "grid_area": null,
            "grid_auto_columns": null,
            "grid_auto_flow": null,
            "grid_auto_rows": null,
            "grid_column": null,
            "grid_gap": null,
            "grid_row": null,
            "grid_template_areas": null,
            "grid_template_columns": null,
            "grid_template_rows": null,
            "height": null,
            "justify_content": null,
            "justify_items": null,
            "left": null,
            "margin": null,
            "max_height": null,
            "max_width": null,
            "min_height": null,
            "min_width": null,
            "object_fit": null,
            "object_position": null,
            "order": null,
            "overflow": null,
            "overflow_x": null,
            "overflow_y": null,
            "padding": null,
            "right": null,
            "top": null,
            "visibility": null,
            "width": null
          }
        },
        "275c4212649e4b4abaac439b042aed49": {
          "model_module": "@jupyter-widgets/controls",
          "model_name": "DescriptionStyleModel",
          "model_module_version": "1.5.0",
          "state": {
            "_model_module": "@jupyter-widgets/controls",
            "_model_module_version": "1.5.0",
            "_model_name": "DescriptionStyleModel",
            "_view_count": null,
            "_view_module": "@jupyter-widgets/base",
            "_view_module_version": "1.2.0",
            "_view_name": "StyleView",
            "description_width": ""
          }
        },
        "d21c2d3635394944a5b1c14a0be9eb8d": {
          "model_module": "@jupyter-widgets/base",
          "model_name": "LayoutModel",
          "model_module_version": "1.2.0",
          "state": {
            "_model_module": "@jupyter-widgets/base",
            "_model_module_version": "1.2.0",
            "_model_name": "LayoutModel",
            "_view_count": null,
            "_view_module": "@jupyter-widgets/base",
            "_view_module_version": "1.2.0",
            "_view_name": "LayoutView",
            "align_content": null,
            "align_items": null,
            "align_self": null,
            "border": null,
            "bottom": null,
            "display": null,
            "flex": null,
            "flex_flow": null,
            "grid_area": null,
            "grid_auto_columns": null,
            "grid_auto_flow": null,
            "grid_auto_rows": null,
            "grid_column": null,
            "grid_gap": null,
            "grid_row": null,
            "grid_template_areas": null,
            "grid_template_columns": null,
            "grid_template_rows": null,
            "height": null,
            "justify_content": null,
            "justify_items": null,
            "left": null,
            "margin": null,
            "max_height": null,
            "max_width": null,
            "min_height": null,
            "min_width": null,
            "object_fit": null,
            "object_position": null,
            "order": null,
            "overflow": null,
            "overflow_x": null,
            "overflow_y": null,
            "padding": null,
            "right": null,
            "top": null,
            "visibility": null,
            "width": null
          }
        },
        "a59bd27588b042138dec0275b0dc1e1a": {
          "model_module": "@jupyter-widgets/controls",
          "model_name": "ProgressStyleModel",
          "model_module_version": "1.5.0",
          "state": {
            "_model_module": "@jupyter-widgets/controls",
            "_model_module_version": "1.5.0",
            "_model_name": "ProgressStyleModel",
            "_view_count": null,
            "_view_module": "@jupyter-widgets/base",
            "_view_module_version": "1.2.0",
            "_view_name": "StyleView",
            "bar_color": null,
            "description_width": ""
          }
        },
        "260e0c18216b4ad585271e68240629b1": {
          "model_module": "@jupyter-widgets/base",
          "model_name": "LayoutModel",
          "model_module_version": "1.2.0",
          "state": {
            "_model_module": "@jupyter-widgets/base",
            "_model_module_version": "1.2.0",
            "_model_name": "LayoutModel",
            "_view_count": null,
            "_view_module": "@jupyter-widgets/base",
            "_view_module_version": "1.2.0",
            "_view_name": "LayoutView",
            "align_content": null,
            "align_items": null,
            "align_self": null,
            "border": null,
            "bottom": null,
            "display": null,
            "flex": null,
            "flex_flow": null,
            "grid_area": null,
            "grid_auto_columns": null,
            "grid_auto_flow": null,
            "grid_auto_rows": null,
            "grid_column": null,
            "grid_gap": null,
            "grid_row": null,
            "grid_template_areas": null,
            "grid_template_columns": null,
            "grid_template_rows": null,
            "height": null,
            "justify_content": null,
            "justify_items": null,
            "left": null,
            "margin": null,
            "max_height": null,
            "max_width": null,
            "min_height": null,
            "min_width": null,
            "object_fit": null,
            "object_position": null,
            "order": null,
            "overflow": null,
            "overflow_x": null,
            "overflow_y": null,
            "padding": null,
            "right": null,
            "top": null,
            "visibility": null,
            "width": null
          }
        },
        "51ccaf7c3b844a148617ebb278d51492": {
          "model_module": "@jupyter-widgets/controls",
          "model_name": "DescriptionStyleModel",
          "model_module_version": "1.5.0",
          "state": {
            "_model_module": "@jupyter-widgets/controls",
            "_model_module_version": "1.5.0",
            "_model_name": "DescriptionStyleModel",
            "_view_count": null,
            "_view_module": "@jupyter-widgets/base",
            "_view_module_version": "1.2.0",
            "_view_name": "StyleView",
            "description_width": ""
          }
        },
        "a8b7b337e17b419aa0d7a09ca4c4e481": {
          "model_module": "@jupyter-widgets/controls",
          "model_name": "HBoxModel",
          "model_module_version": "1.5.0",
          "state": {
            "_dom_classes": [],
            "_model_module": "@jupyter-widgets/controls",
            "_model_module_version": "1.5.0",
            "_model_name": "HBoxModel",
            "_view_count": null,
            "_view_module": "@jupyter-widgets/controls",
            "_view_module_version": "1.5.0",
            "_view_name": "HBoxView",
            "box_style": "",
            "children": [
              "IPY_MODEL_a43469aaca99442c98100a930e644b13",
              "IPY_MODEL_0373633aa0174e478ea7fe80d48823fc",
              "IPY_MODEL_e88d762c89424f4c94b91b1805b4609c"
            ],
            "layout": "IPY_MODEL_d5a43a5dcf8a426782532b66e712a6dd"
          }
        },
        "a43469aaca99442c98100a930e644b13": {
          "model_module": "@jupyter-widgets/controls",
          "model_name": "HTMLModel",
          "model_module_version": "1.5.0",
          "state": {
            "_dom_classes": [],
            "_model_module": "@jupyter-widgets/controls",
            "_model_module_version": "1.5.0",
            "_model_name": "HTMLModel",
            "_view_count": null,
            "_view_module": "@jupyter-widgets/controls",
            "_view_module_version": "1.5.0",
            "_view_name": "HTMLView",
            "description": "",
            "description_tooltip": null,
            "layout": "IPY_MODEL_3795bf2f8ee24cef878a782bdbb3a391",
            "placeholder": "​",
            "style": "IPY_MODEL_66f57e1bea644ac9966b22238b780569",
            "value": "Downloading: 100%"
          }
        },
        "0373633aa0174e478ea7fe80d48823fc": {
          "model_module": "@jupyter-widgets/controls",
          "model_name": "FloatProgressModel",
          "model_module_version": "1.5.0",
          "state": {
            "_dom_classes": [],
            "_model_module": "@jupyter-widgets/controls",
            "_model_module_version": "1.5.0",
            "_model_name": "FloatProgressModel",
            "_view_count": null,
            "_view_module": "@jupyter-widgets/controls",
            "_view_module_version": "1.5.0",
            "_view_name": "ProgressView",
            "bar_style": "success",
            "description": "",
            "description_tooltip": null,
            "layout": "IPY_MODEL_b0f2394a9b0a492fb029f8f135ed2eee",
            "max": 438218004,
            "min": 0,
            "orientation": "horizontal",
            "style": "IPY_MODEL_d1d6a2da579444fb98c4fca8c830cf63",
            "value": 438218004
          }
        },
        "e88d762c89424f4c94b91b1805b4609c": {
          "model_module": "@jupyter-widgets/controls",
          "model_name": "HTMLModel",
          "model_module_version": "1.5.0",
          "state": {
            "_dom_classes": [],
            "_model_module": "@jupyter-widgets/controls",
            "_model_module_version": "1.5.0",
            "_model_name": "HTMLModel",
            "_view_count": null,
            "_view_module": "@jupyter-widgets/controls",
            "_view_module_version": "1.5.0",
            "_view_name": "HTMLView",
            "description": "",
            "description_tooltip": null,
            "layout": "IPY_MODEL_26cb2b9ec6424f269dc54f772f055040",
            "placeholder": "​",
            "style": "IPY_MODEL_7d773e543edd49f0a9d7e178a140b696",
            "value": " 438M/438M [00:10&lt;00:00, 44.4MB/s]"
          }
        },
        "d5a43a5dcf8a426782532b66e712a6dd": {
          "model_module": "@jupyter-widgets/base",
          "model_name": "LayoutModel",
          "model_module_version": "1.2.0",
          "state": {
            "_model_module": "@jupyter-widgets/base",
            "_model_module_version": "1.2.0",
            "_model_name": "LayoutModel",
            "_view_count": null,
            "_view_module": "@jupyter-widgets/base",
            "_view_module_version": "1.2.0",
            "_view_name": "LayoutView",
            "align_content": null,
            "align_items": null,
            "align_self": null,
            "border": null,
            "bottom": null,
            "display": null,
            "flex": null,
            "flex_flow": null,
            "grid_area": null,
            "grid_auto_columns": null,
            "grid_auto_flow": null,
            "grid_auto_rows": null,
            "grid_column": null,
            "grid_gap": null,
            "grid_row": null,
            "grid_template_areas": null,
            "grid_template_columns": null,
            "grid_template_rows": null,
            "height": null,
            "justify_content": null,
            "justify_items": null,
            "left": null,
            "margin": null,
            "max_height": null,
            "max_width": null,
            "min_height": null,
            "min_width": null,
            "object_fit": null,
            "object_position": null,
            "order": null,
            "overflow": null,
            "overflow_x": null,
            "overflow_y": null,
            "padding": null,
            "right": null,
            "top": null,
            "visibility": null,
            "width": null
          }
        },
        "3795bf2f8ee24cef878a782bdbb3a391": {
          "model_module": "@jupyter-widgets/base",
          "model_name": "LayoutModel",
          "model_module_version": "1.2.0",
          "state": {
            "_model_module": "@jupyter-widgets/base",
            "_model_module_version": "1.2.0",
            "_model_name": "LayoutModel",
            "_view_count": null,
            "_view_module": "@jupyter-widgets/base",
            "_view_module_version": "1.2.0",
            "_view_name": "LayoutView",
            "align_content": null,
            "align_items": null,
            "align_self": null,
            "border": null,
            "bottom": null,
            "display": null,
            "flex": null,
            "flex_flow": null,
            "grid_area": null,
            "grid_auto_columns": null,
            "grid_auto_flow": null,
            "grid_auto_rows": null,
            "grid_column": null,
            "grid_gap": null,
            "grid_row": null,
            "grid_template_areas": null,
            "grid_template_columns": null,
            "grid_template_rows": null,
            "height": null,
            "justify_content": null,
            "justify_items": null,
            "left": null,
            "margin": null,
            "max_height": null,
            "max_width": null,
            "min_height": null,
            "min_width": null,
            "object_fit": null,
            "object_position": null,
            "order": null,
            "overflow": null,
            "overflow_x": null,
            "overflow_y": null,
            "padding": null,
            "right": null,
            "top": null,
            "visibility": null,
            "width": null
          }
        },
        "66f57e1bea644ac9966b22238b780569": {
          "model_module": "@jupyter-widgets/controls",
          "model_name": "DescriptionStyleModel",
          "model_module_version": "1.5.0",
          "state": {
            "_model_module": "@jupyter-widgets/controls",
            "_model_module_version": "1.5.0",
            "_model_name": "DescriptionStyleModel",
            "_view_count": null,
            "_view_module": "@jupyter-widgets/base",
            "_view_module_version": "1.2.0",
            "_view_name": "StyleView",
            "description_width": ""
          }
        },
        "b0f2394a9b0a492fb029f8f135ed2eee": {
          "model_module": "@jupyter-widgets/base",
          "model_name": "LayoutModel",
          "model_module_version": "1.2.0",
          "state": {
            "_model_module": "@jupyter-widgets/base",
            "_model_module_version": "1.2.0",
            "_model_name": "LayoutModel",
            "_view_count": null,
            "_view_module": "@jupyter-widgets/base",
            "_view_module_version": "1.2.0",
            "_view_name": "LayoutView",
            "align_content": null,
            "align_items": null,
            "align_self": null,
            "border": null,
            "bottom": null,
            "display": null,
            "flex": null,
            "flex_flow": null,
            "grid_area": null,
            "grid_auto_columns": null,
            "grid_auto_flow": null,
            "grid_auto_rows": null,
            "grid_column": null,
            "grid_gap": null,
            "grid_row": null,
            "grid_template_areas": null,
            "grid_template_columns": null,
            "grid_template_rows": null,
            "height": null,
            "justify_content": null,
            "justify_items": null,
            "left": null,
            "margin": null,
            "max_height": null,
            "max_width": null,
            "min_height": null,
            "min_width": null,
            "object_fit": null,
            "object_position": null,
            "order": null,
            "overflow": null,
            "overflow_x": null,
            "overflow_y": null,
            "padding": null,
            "right": null,
            "top": null,
            "visibility": null,
            "width": null
          }
        },
        "d1d6a2da579444fb98c4fca8c830cf63": {
          "model_module": "@jupyter-widgets/controls",
          "model_name": "ProgressStyleModel",
          "model_module_version": "1.5.0",
          "state": {
            "_model_module": "@jupyter-widgets/controls",
            "_model_module_version": "1.5.0",
            "_model_name": "ProgressStyleModel",
            "_view_count": null,
            "_view_module": "@jupyter-widgets/base",
            "_view_module_version": "1.2.0",
            "_view_name": "StyleView",
            "bar_color": null,
            "description_width": ""
          }
        },
        "26cb2b9ec6424f269dc54f772f055040": {
          "model_module": "@jupyter-widgets/base",
          "model_name": "LayoutModel",
          "model_module_version": "1.2.0",
          "state": {
            "_model_module": "@jupyter-widgets/base",
            "_model_module_version": "1.2.0",
            "_model_name": "LayoutModel",
            "_view_count": null,
            "_view_module": "@jupyter-widgets/base",
            "_view_module_version": "1.2.0",
            "_view_name": "LayoutView",
            "align_content": null,
            "align_items": null,
            "align_self": null,
            "border": null,
            "bottom": null,
            "display": null,
            "flex": null,
            "flex_flow": null,
            "grid_area": null,
            "grid_auto_columns": null,
            "grid_auto_flow": null,
            "grid_auto_rows": null,
            "grid_column": null,
            "grid_gap": null,
            "grid_row": null,
            "grid_template_areas": null,
            "grid_template_columns": null,
            "grid_template_rows": null,
            "height": null,
            "justify_content": null,
            "justify_items": null,
            "left": null,
            "margin": null,
            "max_height": null,
            "max_width": null,
            "min_height": null,
            "min_width": null,
            "object_fit": null,
            "object_position": null,
            "order": null,
            "overflow": null,
            "overflow_x": null,
            "overflow_y": null,
            "padding": null,
            "right": null,
            "top": null,
            "visibility": null,
            "width": null
          }
        },
        "7d773e543edd49f0a9d7e178a140b696": {
          "model_module": "@jupyter-widgets/controls",
          "model_name": "DescriptionStyleModel",
          "model_module_version": "1.5.0",
          "state": {
            "_model_module": "@jupyter-widgets/controls",
            "_model_module_version": "1.5.0",
            "_model_name": "DescriptionStyleModel",
            "_view_count": null,
            "_view_module": "@jupyter-widgets/base",
            "_view_module_version": "1.2.0",
            "_view_name": "StyleView",
            "description_width": ""
          }
        }
      }
    }
  },
  "nbformat": 4,
  "nbformat_minor": 0
}