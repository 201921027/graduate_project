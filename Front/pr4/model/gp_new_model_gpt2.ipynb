{
  "cells": [
    {
      "cell_type": "markdown",
      "metadata": {
        "id": "view-in-github",
        "colab_type": "text"
      },
      "source": [
        "<a href=\"https://colab.research.google.com/github/201921027/graduate_project_git/blob/main/gp_new_model_gpt2.ipynb\" target=\"_parent\"><img src=\"https://colab.research.google.com/assets/colab-badge.svg\" alt=\"Open In Colab\"/></a>"
      ]
    },
    {
      "cell_type": "markdown",
      "metadata": {
        "id": "7_plT70dN6kB"
      },
      "source": [
        "kogpt fine-tuning classification\n",
        "\n",
        "https://github.com/ukairia777/tensorflow-nlp-tutorial/blob/main/22.%20Fine-tuning%20GPT-2%20(Cls%2C%20Chatbot%2C%20NLI)/22-5.%20kogpt2_kornli_tpu.ipynb\n",
        "\n",
        "summarize 코드 참조\n",
        "\n",
        "https://www.nbshare.io/notebook/764386829/Amazon-Review-Summarization-Using-GPT-2-And-PyTorch/\n",
        "\n",
        "kakaoBrain kogpt3\n",
        "\n",
        "https://github.com/kakaobrain/kogpt \n",
        "\n",
        "skt-ai kogpt2\n",
        "\n",
        "https://github.com/SKT-AI/KoGPT2"
      ]
    },
    {
      "cell_type": "markdown",
      "metadata": {
        "id": "bMnZwiTbTnfY"
      },
      "source": [
        "runtime: ram 확장, GPU 가속"
      ]
    },
    {
      "cell_type": "markdown",
      "metadata": {
        "id": "oJ52cXC_Z7sv"
      },
      "source": [
        "* **데이터 불러오기**"
      ]
    },
    {
      "cell_type": "code",
      "execution_count": null,
      "metadata": {
        "colab": {
          "base_uri": "https://localhost:8080/"
        },
        "id": "fSJjXySBEryi",
        "outputId": "e0d93d2f-9d4e-4219-c199-20f6efb6a192"
      },
      "outputs": [
        {
          "output_type": "stream",
          "name": "stdout",
          "text": [
            "Mounted at /content/drive\n"
          ]
        }
      ],
      "source": [
        "from google.colab import drive\n",
        "drive.mount('/content/drive')"
      ]
    },
    {
      "cell_type": "code",
      "execution_count": null,
      "metadata": {
        "id": "gakzhzY0Zxzq",
        "colab": {
          "base_uri": "https://localhost:8080/"
        },
        "outputId": "c9993895-d5f9-439a-a372-913169b7e14e"
      },
      "outputs": [
        {
          "output_type": "stream",
          "name": "stdout",
          "text": [
            "/content/drive/MyDrive/Colab Notebooks/graduation_project\n"
          ]
        }
      ],
      "source": [
        "%cd '/content/drive/MyDrive/Colab Notebooks/graduation_project'"
      ]
    },
    {
      "cell_type": "code",
      "execution_count": null,
      "metadata": {
        "id": "sF_TJ1wrFxR2"
      },
      "outputs": [],
      "source": [
        "import csv\n",
        "\n",
        "with open('/content/drive/MyDrive/Colab Notebooks/graduation_project/data/train_total+2.csv', 'r') as data:\n",
        "  train_data= csv.reader(data, delimiter=',')\n",
        "\n",
        "with open('/content/drive/MyDrive/Colab Notebooks/graduation_project/data/test_data.csv', 'r') as data:\n",
        "  test_data= csv.reader(data, delimiter=',')"
      ]
    },
    {
      "cell_type": "code",
      "execution_count": null,
      "metadata": {
        "id": "NQVuHRvdHSOR"
      },
      "outputs": [],
      "source": [
        "import pandas as pd\n",
        "\n",
        "# pd.reset_option('display.max_colwidth', None)\n",
        "\n",
        "train_df= pd.read_csv('/content/drive/MyDrive/Colab Notebooks/graduation_project/data/train_total+2.csv') # encoding='cp949'\n",
        "test_df= pd.read_csv('/content/drive/MyDrive/Colab Notebooks/graduation_project/data/test_data.csv')"
      ]
    },
    {
      "cell_type": "code",
      "execution_count": null,
      "metadata": {
        "id": "WaqDxon2LGO_"
      },
      "outputs": [],
      "source": [
        "train_df= train_df[['title', 'text', 'emotion', 'emotion & summarize']]\n",
        "test_df= test_df[['title', 'text', 'emotion']]\n",
        "# train_df.head()"
      ]
    },
    {
      "cell_type": "code",
      "source": [
        "train_df['emotion'].value_counts()"
      ],
      "metadata": {
        "id": "quDqkjMcT6db",
        "colab": {
          "base_uri": "https://localhost:8080/"
        },
        "outputId": "7f3ccefd-125b-4c7a-d184-0b2bc34a1378"
      },
      "execution_count": null,
      "outputs": [
        {
          "output_type": "execute_result",
          "data": {
            "text/plain": [
              "기쁨         834\n",
              "슬픔         606\n",
              "두려움        176\n",
              "분노         168\n",
              "unknown    150\n",
              "Name: emotion, dtype: int64"
            ]
          },
          "metadata": {},
          "execution_count": 6
        }
      ]
    },
    {
      "cell_type": "code",
      "source": [
        "test_df['emotion'].value_counts()"
      ],
      "metadata": {
        "id": "jnySNlUtT63x",
        "colab": {
          "base_uri": "https://localhost:8080/"
        },
        "outputId": "69394f0c-845e-4048-9208-1bb6cbfbd3df"
      },
      "execution_count": null,
      "outputs": [
        {
          "output_type": "execute_result",
          "data": {
            "text/plain": [
              "기쁨         15\n",
              "슬픔          5\n",
              "unknown     5\n",
              "분노          4\n",
              "두려움         2\n",
              "Name: emotion, dtype: int64"
            ]
          },
          "metadata": {},
          "execution_count": 7
        }
      ]
    },
    {
      "cell_type": "code",
      "execution_count": null,
      "metadata": {
        "id": "i1gbvIHCLkjl",
        "colab": {
          "base_uri": "https://localhost:8080/",
          "height": 336
        },
        "outputId": "fdda78cc-8f46-4343-e2e1-086680855e7e"
      },
      "outputs": [
        {
          "output_type": "stream",
          "name": "stderr",
          "text": [
            "/usr/local/lib/python3.7/dist-packages/ipykernel_launcher.py:1: SettingWithCopyWarning: \n",
            "A value is trying to be set on a copy of a slice from a DataFrame.\n",
            "Try using .loc[row_indexer,col_indexer] = value instead\n",
            "\n",
            "See the caveats in the documentation: https://pandas.pydata.org/pandas-docs/stable/user_guide/indexing.html#returning-a-view-versus-a-copy\n",
            "  \"\"\"Entry point for launching an IPython kernel.\n"
          ]
        },
        {
          "output_type": "execute_result",
          "data": {
            "text/plain": [
              "                                           test_text\n",
              "0  [2018년 3월 29일 목요일]  나를 사랑하는 연습 어떻게 하면 나를 사랑할 수...\n",
              "1  [김동률 오래된콘서트를 기념하며]  김동률이 부르는 노래와 나의 인연은 2015년 ...\n",
              "2  [성인간호학 중환자실 실습후기]  2017 1월 2일 월요일 수간호사선선생님의 ot...\n",
              "3  [반포한강에서]  바람이 꽤 쌀쌀해 콧물을 훌쩍이는 날씨에 반포한강에 왔다. 고속버...\n",
              "4  [햄버거를 먹었다.]  말 그대로 햄버거를 먹었다. 아버지와 둘이서. 원래 아버지는..."
            ],
            "text/html": [
              "\n",
              "  <div id=\"df-85af4efa-84f9-4fe9-af81-3d33f979b43c\">\n",
              "    <div class=\"colab-df-container\">\n",
              "      <div>\n",
              "<style scoped>\n",
              "    .dataframe tbody tr th:only-of-type {\n",
              "        vertical-align: middle;\n",
              "    }\n",
              "\n",
              "    .dataframe tbody tr th {\n",
              "        vertical-align: top;\n",
              "    }\n",
              "\n",
              "    .dataframe thead th {\n",
              "        text-align: right;\n",
              "    }\n",
              "</style>\n",
              "<table border=\"1\" class=\"dataframe\">\n",
              "  <thead>\n",
              "    <tr style=\"text-align: right;\">\n",
              "      <th></th>\n",
              "      <th>test_text</th>\n",
              "    </tr>\n",
              "  </thead>\n",
              "  <tbody>\n",
              "    <tr>\n",
              "      <th>0</th>\n",
              "      <td>[2018년 3월 29일 목요일]  나를 사랑하는 연습 어떻게 하면 나를 사랑할 수...</td>\n",
              "    </tr>\n",
              "    <tr>\n",
              "      <th>1</th>\n",
              "      <td>[김동률 오래된콘서트를 기념하며]  김동률이 부르는 노래와 나의 인연은 2015년 ...</td>\n",
              "    </tr>\n",
              "    <tr>\n",
              "      <th>2</th>\n",
              "      <td>[성인간호학 중환자실 실습후기]  2017 1월 2일 월요일 수간호사선선생님의 ot...</td>\n",
              "    </tr>\n",
              "    <tr>\n",
              "      <th>3</th>\n",
              "      <td>[반포한강에서]  바람이 꽤 쌀쌀해 콧물을 훌쩍이는 날씨에 반포한강에 왔다. 고속버...</td>\n",
              "    </tr>\n",
              "    <tr>\n",
              "      <th>4</th>\n",
              "      <td>[햄버거를 먹었다.]  말 그대로 햄버거를 먹었다. 아버지와 둘이서. 원래 아버지는...</td>\n",
              "    </tr>\n",
              "  </tbody>\n",
              "</table>\n",
              "</div>\n",
              "      <button class=\"colab-df-convert\" onclick=\"convertToInteractive('df-85af4efa-84f9-4fe9-af81-3d33f979b43c')\"\n",
              "              title=\"Convert this dataframe to an interactive table.\"\n",
              "              style=\"display:none;\">\n",
              "        \n",
              "  <svg xmlns=\"http://www.w3.org/2000/svg\" height=\"24px\"viewBox=\"0 0 24 24\"\n",
              "       width=\"24px\">\n",
              "    <path d=\"M0 0h24v24H0V0z\" fill=\"none\"/>\n",
              "    <path d=\"M18.56 5.44l.94 2.06.94-2.06 2.06-.94-2.06-.94-.94-2.06-.94 2.06-2.06.94zm-11 1L8.5 8.5l.94-2.06 2.06-.94-2.06-.94L8.5 2.5l-.94 2.06-2.06.94zm10 10l.94 2.06.94-2.06 2.06-.94-2.06-.94-.94-2.06-.94 2.06-2.06.94z\"/><path d=\"M17.41 7.96l-1.37-1.37c-.4-.4-.92-.59-1.43-.59-.52 0-1.04.2-1.43.59L10.3 9.45l-7.72 7.72c-.78.78-.78 2.05 0 2.83L4 21.41c.39.39.9.59 1.41.59.51 0 1.02-.2 1.41-.59l7.78-7.78 2.81-2.81c.8-.78.8-2.07 0-2.86zM5.41 20L4 18.59l7.72-7.72 1.47 1.35L5.41 20z\"/>\n",
              "  </svg>\n",
              "      </button>\n",
              "      \n",
              "  <style>\n",
              "    .colab-df-container {\n",
              "      display:flex;\n",
              "      flex-wrap:wrap;\n",
              "      gap: 12px;\n",
              "    }\n",
              "\n",
              "    .colab-df-convert {\n",
              "      background-color: #E8F0FE;\n",
              "      border: none;\n",
              "      border-radius: 50%;\n",
              "      cursor: pointer;\n",
              "      display: none;\n",
              "      fill: #1967D2;\n",
              "      height: 32px;\n",
              "      padding: 0 0 0 0;\n",
              "      width: 32px;\n",
              "    }\n",
              "\n",
              "    .colab-df-convert:hover {\n",
              "      background-color: #E2EBFA;\n",
              "      box-shadow: 0px 1px 2px rgba(60, 64, 67, 0.3), 0px 1px 3px 1px rgba(60, 64, 67, 0.15);\n",
              "      fill: #174EA6;\n",
              "    }\n",
              "\n",
              "    [theme=dark] .colab-df-convert {\n",
              "      background-color: #3B4455;\n",
              "      fill: #D2E3FC;\n",
              "    }\n",
              "\n",
              "    [theme=dark] .colab-df-convert:hover {\n",
              "      background-color: #434B5C;\n",
              "      box-shadow: 0px 1px 3px 1px rgba(0, 0, 0, 0.15);\n",
              "      filter: drop-shadow(0px 1px 2px rgba(0, 0, 0, 0.3));\n",
              "      fill: #FFFFFF;\n",
              "    }\n",
              "  </style>\n",
              "\n",
              "      <script>\n",
              "        const buttonEl =\n",
              "          document.querySelector('#df-85af4efa-84f9-4fe9-af81-3d33f979b43c button.colab-df-convert');\n",
              "        buttonEl.style.display =\n",
              "          google.colab.kernel.accessAllowed ? 'block' : 'none';\n",
              "\n",
              "        async function convertToInteractive(key) {\n",
              "          const element = document.querySelector('#df-85af4efa-84f9-4fe9-af81-3d33f979b43c');\n",
              "          const dataTable =\n",
              "            await google.colab.kernel.invokeFunction('convertToInteractive',\n",
              "                                                     [key], {});\n",
              "          if (!dataTable) return;\n",
              "\n",
              "          const docLinkHtml = 'Like what you see? Visit the ' +\n",
              "            '<a target=\"_blank\" href=https://colab.research.google.com/notebooks/data_table.ipynb>data table notebook</a>'\n",
              "            + ' to learn more about interactive tables.';\n",
              "          element.innerHTML = '';\n",
              "          dataTable['output_type'] = 'display_data';\n",
              "          await google.colab.output.renderOutput(dataTable, element);\n",
              "          const docLink = document.createElement('div');\n",
              "          docLink.innerHTML = docLinkHtml;\n",
              "          element.appendChild(docLink);\n",
              "        }\n",
              "      </script>\n",
              "    </div>\n",
              "  </div>\n",
              "  "
            ]
          },
          "metadata": {},
          "execution_count": 8
        }
      ],
      "source": [
        "train_df['train_text']=    \"[\"+ train_df['title'].map(str) + \"] \" + train_df['text']  + ' |' + train_df['emotion']\n",
        "train_df['train_summary'] =  train_df['emotion & summarize']\n",
        "train_df= train_df[['train_text', 'train_summary']]\n",
        "test_df['test_text']=  \"[\"+ test_df['title'].map(str) + \"] \" + test_df['text'] + ' |' + test_df['emotion'] \n",
        "test_df= test_df[['test_text']]\n",
        "# train_df.head()\n",
        "test_df.head()"
      ]
    },
    {
      "cell_type": "code",
      "source": [
        "# pd.set_option('display.max_colwidth', None)\n",
        "# train_df.head(1)"
      ],
      "metadata": {
        "id": "BX6KEsPwNVOB"
      },
      "execution_count": null,
      "outputs": []
    },
    {
      "cell_type": "code",
      "execution_count": null,
      "metadata": {
        "id": "gxuMTRQyJMff"
      },
      "outputs": [],
      "source": [
        "train_df.to_csv('/content/drive/MyDrive/Colab Notebooks/graduation_project/data/new-model(gpt)_train_data.csv')\n",
        "test_df.to_csv('/content/drive/MyDrive/Colab Notebooks/graduation_project/data/new-model(gpt)_test_data.csv')"
      ]
    },
    {
      "cell_type": "code",
      "execution_count": null,
      "metadata": {
        "id": "fpj5Hi7vQWs_"
      },
      "outputs": [],
      "source": [
        "train_data= pd.read_csv('/content/drive/MyDrive/Colab Notebooks/graduation_project/data/new-model(gpt)_train_data.csv')\n",
        "train_data= train_data[['train_text', 'train_summary']]\n",
        "# train_data.head()"
      ]
    },
    {
      "cell_type": "code",
      "execution_count": null,
      "metadata": {
        "id": "JNtX5F5lQ2vQ"
      },
      "outputs": [],
      "source": [
        "# test_data= pd.read_csv('/content/drive/MyDrive/Colab Notebooks/graduation_project/data/new-model(gpt)_test_data.csv')\n",
        "# test_data= test_data[['test_text']]\n",
        "\n",
        "# test section에서 수행"
      ]
    },
    {
      "cell_type": "code",
      "execution_count": null,
      "metadata": {
        "id": "wJjPj7waRbz8"
      },
      "outputs": [],
      "source": [
        "# 결측값 제거 (단, 중복은 제거하지 않음)\n",
        "def drop_na(df):\n",
        "  df= df.dropna()\n",
        "  df= df.reset_index(drop=True)\n",
        "  return df"
      ]
    },
    {
      "cell_type": "code",
      "execution_count": null,
      "metadata": {
        "id": "rDVMesQfRxn5"
      },
      "outputs": [],
      "source": [
        "train_data= drop_na(train_data)"
      ]
    },
    {
      "cell_type": "code",
      "source": [
        "# gpt2 max length = 1024\n",
        "# summarize : 200자로 제한\n",
        "# 본문은 800자로 제한\n",
        "# summarize는 앞 200자를 자르고, 본문은 앞 400자, 뒤 400자를 잘라서 합침\n",
        "# 스터디 할 때 어디서인가 들었는데, \n",
        "# 모델 용량때문에 데이터를 잘라야할 땐 앞뒤를 잘라서 합치는 게 \n",
        "# 요약에 가장 성능이 좋다고 들었던 것 같아서..."
      ],
      "metadata": {
        "id": "L-grpE03ixwM"
      },
      "execution_count": null,
      "outputs": []
    },
    {
      "cell_type": "code",
      "source": [
        "max(train_data['train_text'].apply(len))"
      ],
      "metadata": {
        "id": "SsOKCBqwjS2i",
        "colab": {
          "base_uri": "https://localhost:8080/"
        },
        "outputId": "f9f37d4d-302d-48c6-f350-3f82046b1f43"
      },
      "execution_count": null,
      "outputs": [
        {
          "output_type": "execute_result",
          "data": {
            "text/plain": [
              "9306"
            ]
          },
          "metadata": {},
          "execution_count": 16
        }
      ]
    },
    {
      "cell_type": "code",
      "source": [
        "i=0\n",
        "for text in train_data['train_text']:\n",
        "  if len(text) > 800:\n",
        "    train_data['train_text'][i] = train_data['train_text'][i][0:400] + train_data['train_text'][i][len(text)-400:len(text)]\n",
        "  i += 1"
      ],
      "metadata": {
        "id": "wfPxPYf1X8w6"
      },
      "execution_count": null,
      "outputs": []
    },
    {
      "cell_type": "code",
      "source": [
        "max(train_data['train_text'].apply(len))"
      ],
      "metadata": {
        "id": "wZIRUrV2jW4M",
        "colab": {
          "base_uri": "https://localhost:8080/"
        },
        "outputId": "e56b47ac-2af7-4f7a-8a5f-98cd5ea5a169"
      },
      "execution_count": null,
      "outputs": [
        {
          "output_type": "execute_result",
          "data": {
            "text/plain": [
              "800"
            ]
          },
          "metadata": {},
          "execution_count": 18
        }
      ]
    },
    {
      "cell_type": "code",
      "source": [
        "max(train_data['train_summary'].apply(len))"
      ],
      "metadata": {
        "id": "ma2CdiDZZz4L",
        "colab": {
          "base_uri": "https://localhost:8080/"
        },
        "outputId": "47bb23bd-506f-4dbd-f616-b129b07c0380"
      },
      "execution_count": null,
      "outputs": [
        {
          "output_type": "execute_result",
          "data": {
            "text/plain": [
              "289"
            ]
          },
          "metadata": {},
          "execution_count": 19
        }
      ]
    },
    {
      "cell_type": "code",
      "source": [
        "i=0\n",
        "for text in train_data['train_summary']:\n",
        "  if len(text) > 200:\n",
        "    train_data['train_summary'][i] = train_data['train_summary'][i][0:200]\n",
        "  i += 1"
      ],
      "metadata": {
        "id": "KtXImmu5aEfq"
      },
      "execution_count": null,
      "outputs": []
    },
    {
      "cell_type": "code",
      "source": [
        "max(train_data['train_summary'].apply(len))"
      ],
      "metadata": {
        "id": "IeZn6g8IaQD1",
        "colab": {
          "base_uri": "https://localhost:8080/"
        },
        "outputId": "daadb6a3-1304-48bf-e51b-d6219965a25d"
      },
      "execution_count": null,
      "outputs": [
        {
          "output_type": "execute_result",
          "data": {
            "text/plain": [
              "200"
            ]
          },
          "metadata": {},
          "execution_count": 21
        }
      ]
    },
    {
      "cell_type": "code",
      "source": [
        "train_data['total']= train_data['train_text'] + ' TL;DR ' + train_data['train_summary']\n",
        "train_data.head()"
      ],
      "metadata": {
        "id": "DqptWQZIWRhD",
        "colab": {
          "base_uri": "https://localhost:8080/",
          "height": 337
        },
        "outputId": "af9cb49d-52b9-4d24-90ae-05d70e182dc8"
      },
      "execution_count": null,
      "outputs": [
        {
          "output_type": "execute_result",
          "data": {
            "text/plain": [
              "                                          train_text  \\\n",
              "0  [걱정]  오늘도 일기를 쓰기 위해 연필을 들었다. 오늘은 2월 5일. 벌써 202...   \n",
              "1  [20141008]  오늘 아침도 여전히 졸렸다. 잠을 적게 자는 것도 아니고 피곤...   \n",
              "2  [나의 요즘]  사람과 사람이 만났을 때 가장 많이 하는 말은 '요즘 뭐하고 지내?...   \n",
              "3  [편입일기.. ]  평생을 열심히 살아본 적이 없다고 스스로 생각했다. 성공한 인생...   \n",
              "4  [백수의 하루]  전날 난 일찍자고 일찍 일어나서 일반인의 하루를 보내리라 결심을 ...   \n",
              "\n",
              "                                       train_summary  \\\n",
              "0  시간이 많이 흘렀는데 이룬 것이 별로 없는 것 같아 불안하시군요. 미루는 습관 때문...   \n",
              "1  엄청 싫어하는 친구가 있어서 짜증이 나는군요. 그 친구가 당신의 친구랑 같이 다녀서...   \n",
              "2  누워서만 지내서 몸은 편한데 마음이 불편하군요. 무언가 해야할 것 같은 조바심과 당...   \n",
              "3  미래를 위해 미대 편입학원에 다니기 시작했군요. 하지만 편입 준비를 하는 것도, 학...   \n",
              "4  취업이 잘 되지 않아 힘든 상황이군요. 직업이 없는 상태라 하루하루 똑같은 날을 보...   \n",
              "\n",
              "                                               total  \n",
              "0  [걱정]  오늘도 일기를 쓰기 위해 연필을 들었다. 오늘은 2월 5일. 벌써 202...  \n",
              "1  [20141008]  오늘 아침도 여전히 졸렸다. 잠을 적게 자는 것도 아니고 피곤...  \n",
              "2  [나의 요즘]  사람과 사람이 만났을 때 가장 많이 하는 말은 '요즘 뭐하고 지내?...  \n",
              "3  [편입일기.. ]  평생을 열심히 살아본 적이 없다고 스스로 생각했다. 성공한 인생...  \n",
              "4  [백수의 하루]  전날 난 일찍자고 일찍 일어나서 일반인의 하루를 보내리라 결심을 ...  "
            ],
            "text/html": [
              "\n",
              "  <div id=\"df-a49ae727-b09c-4078-9d94-b1a49787d5c6\">\n",
              "    <div class=\"colab-df-container\">\n",
              "      <div>\n",
              "<style scoped>\n",
              "    .dataframe tbody tr th:only-of-type {\n",
              "        vertical-align: middle;\n",
              "    }\n",
              "\n",
              "    .dataframe tbody tr th {\n",
              "        vertical-align: top;\n",
              "    }\n",
              "\n",
              "    .dataframe thead th {\n",
              "        text-align: right;\n",
              "    }\n",
              "</style>\n",
              "<table border=\"1\" class=\"dataframe\">\n",
              "  <thead>\n",
              "    <tr style=\"text-align: right;\">\n",
              "      <th></th>\n",
              "      <th>train_text</th>\n",
              "      <th>train_summary</th>\n",
              "      <th>total</th>\n",
              "    </tr>\n",
              "  </thead>\n",
              "  <tbody>\n",
              "    <tr>\n",
              "      <th>0</th>\n",
              "      <td>[걱정]  오늘도 일기를 쓰기 위해 연필을 들었다. 오늘은 2월 5일. 벌써 202...</td>\n",
              "      <td>시간이 많이 흘렀는데 이룬 것이 별로 없는 것 같아 불안하시군요. 미루는 습관 때문...</td>\n",
              "      <td>[걱정]  오늘도 일기를 쓰기 위해 연필을 들었다. 오늘은 2월 5일. 벌써 202...</td>\n",
              "    </tr>\n",
              "    <tr>\n",
              "      <th>1</th>\n",
              "      <td>[20141008]  오늘 아침도 여전히 졸렸다. 잠을 적게 자는 것도 아니고 피곤...</td>\n",
              "      <td>엄청 싫어하는 친구가 있어서 짜증이 나는군요. 그 친구가 당신의 친구랑 같이 다녀서...</td>\n",
              "      <td>[20141008]  오늘 아침도 여전히 졸렸다. 잠을 적게 자는 것도 아니고 피곤...</td>\n",
              "    </tr>\n",
              "    <tr>\n",
              "      <th>2</th>\n",
              "      <td>[나의 요즘]  사람과 사람이 만났을 때 가장 많이 하는 말은 '요즘 뭐하고 지내?...</td>\n",
              "      <td>누워서만 지내서 몸은 편한데 마음이 불편하군요. 무언가 해야할 것 같은 조바심과 당...</td>\n",
              "      <td>[나의 요즘]  사람과 사람이 만났을 때 가장 많이 하는 말은 '요즘 뭐하고 지내?...</td>\n",
              "    </tr>\n",
              "    <tr>\n",
              "      <th>3</th>\n",
              "      <td>[편입일기.. ]  평생을 열심히 살아본 적이 없다고 스스로 생각했다. 성공한 인생...</td>\n",
              "      <td>미래를 위해 미대 편입학원에 다니기 시작했군요. 하지만 편입 준비를 하는 것도, 학...</td>\n",
              "      <td>[편입일기.. ]  평생을 열심히 살아본 적이 없다고 스스로 생각했다. 성공한 인생...</td>\n",
              "    </tr>\n",
              "    <tr>\n",
              "      <th>4</th>\n",
              "      <td>[백수의 하루]  전날 난 일찍자고 일찍 일어나서 일반인의 하루를 보내리라 결심을 ...</td>\n",
              "      <td>취업이 잘 되지 않아 힘든 상황이군요. 직업이 없는 상태라 하루하루 똑같은 날을 보...</td>\n",
              "      <td>[백수의 하루]  전날 난 일찍자고 일찍 일어나서 일반인의 하루를 보내리라 결심을 ...</td>\n",
              "    </tr>\n",
              "  </tbody>\n",
              "</table>\n",
              "</div>\n",
              "      <button class=\"colab-df-convert\" onclick=\"convertToInteractive('df-a49ae727-b09c-4078-9d94-b1a49787d5c6')\"\n",
              "              title=\"Convert this dataframe to an interactive table.\"\n",
              "              style=\"display:none;\">\n",
              "        \n",
              "  <svg xmlns=\"http://www.w3.org/2000/svg\" height=\"24px\"viewBox=\"0 0 24 24\"\n",
              "       width=\"24px\">\n",
              "    <path d=\"M0 0h24v24H0V0z\" fill=\"none\"/>\n",
              "    <path d=\"M18.56 5.44l.94 2.06.94-2.06 2.06-.94-2.06-.94-.94-2.06-.94 2.06-2.06.94zm-11 1L8.5 8.5l.94-2.06 2.06-.94-2.06-.94L8.5 2.5l-.94 2.06-2.06.94zm10 10l.94 2.06.94-2.06 2.06-.94-2.06-.94-.94-2.06-.94 2.06-2.06.94z\"/><path d=\"M17.41 7.96l-1.37-1.37c-.4-.4-.92-.59-1.43-.59-.52 0-1.04.2-1.43.59L10.3 9.45l-7.72 7.72c-.78.78-.78 2.05 0 2.83L4 21.41c.39.39.9.59 1.41.59.51 0 1.02-.2 1.41-.59l7.78-7.78 2.81-2.81c.8-.78.8-2.07 0-2.86zM5.41 20L4 18.59l7.72-7.72 1.47 1.35L5.41 20z\"/>\n",
              "  </svg>\n",
              "      </button>\n",
              "      \n",
              "  <style>\n",
              "    .colab-df-container {\n",
              "      display:flex;\n",
              "      flex-wrap:wrap;\n",
              "      gap: 12px;\n",
              "    }\n",
              "\n",
              "    .colab-df-convert {\n",
              "      background-color: #E8F0FE;\n",
              "      border: none;\n",
              "      border-radius: 50%;\n",
              "      cursor: pointer;\n",
              "      display: none;\n",
              "      fill: #1967D2;\n",
              "      height: 32px;\n",
              "      padding: 0 0 0 0;\n",
              "      width: 32px;\n",
              "    }\n",
              "\n",
              "    .colab-df-convert:hover {\n",
              "      background-color: #E2EBFA;\n",
              "      box-shadow: 0px 1px 2px rgba(60, 64, 67, 0.3), 0px 1px 3px 1px rgba(60, 64, 67, 0.15);\n",
              "      fill: #174EA6;\n",
              "    }\n",
              "\n",
              "    [theme=dark] .colab-df-convert {\n",
              "      background-color: #3B4455;\n",
              "      fill: #D2E3FC;\n",
              "    }\n",
              "\n",
              "    [theme=dark] .colab-df-convert:hover {\n",
              "      background-color: #434B5C;\n",
              "      box-shadow: 0px 1px 3px 1px rgba(0, 0, 0, 0.15);\n",
              "      filter: drop-shadow(0px 1px 2px rgba(0, 0, 0, 0.3));\n",
              "      fill: #FFFFFF;\n",
              "    }\n",
              "  </style>\n",
              "\n",
              "      <script>\n",
              "        const buttonEl =\n",
              "          document.querySelector('#df-a49ae727-b09c-4078-9d94-b1a49787d5c6 button.colab-df-convert');\n",
              "        buttonEl.style.display =\n",
              "          google.colab.kernel.accessAllowed ? 'block' : 'none';\n",
              "\n",
              "        async function convertToInteractive(key) {\n",
              "          const element = document.querySelector('#df-a49ae727-b09c-4078-9d94-b1a49787d5c6');\n",
              "          const dataTable =\n",
              "            await google.colab.kernel.invokeFunction('convertToInteractive',\n",
              "                                                     [key], {});\n",
              "          if (!dataTable) return;\n",
              "\n",
              "          const docLinkHtml = 'Like what you see? Visit the ' +\n",
              "            '<a target=\"_blank\" href=https://colab.research.google.com/notebooks/data_table.ipynb>data table notebook</a>'\n",
              "            + ' to learn more about interactive tables.';\n",
              "          element.innerHTML = '';\n",
              "          dataTable['output_type'] = 'display_data';\n",
              "          await google.colab.output.renderOutput(dataTable, element);\n",
              "          const docLink = document.createElement('div');\n",
              "          docLink.innerHTML = docLinkHtml;\n",
              "          element.appendChild(docLink);\n",
              "        }\n",
              "      </script>\n",
              "    </div>\n",
              "  </div>\n",
              "  "
            ]
          },
          "metadata": {},
          "execution_count": 22
        }
      ]
    },
    {
      "cell_type": "code",
      "source": [
        "# 합쳐진 문장(total) example 전문 출력하여 데이터가 제대로 구성됐는지 확인\n",
        "# pd.set_option('display.max_colwidth', None)\n",
        "# train_data['total'].head(1)"
      ],
      "metadata": {
        "id": "7shuhAtlP9NB"
      },
      "execution_count": null,
      "outputs": []
    },
    {
      "cell_type": "code",
      "source": [
        "print('total max length: ' , max(train_data['total'].apply(len)))"
      ],
      "metadata": {
        "id": "ie8UZdVhW1r-",
        "colab": {
          "base_uri": "https://localhost:8080/"
        },
        "outputId": "b0d6bc39-2b62-49c0-b069-2b651257ff8e"
      },
      "execution_count": null,
      "outputs": [
        {
          "output_type": "stream",
          "name": "stdout",
          "text": [
            "total max length:  1007\n"
          ]
        }
      ]
    },
    {
      "cell_type": "code",
      "execution_count": null,
      "metadata": {
        "id": "s2AQwsh2UQiE"
      },
      "outputs": [],
      "source": [
        "# !git clone https://github.com/kakaobrain/kogpt.git"
      ]
    },
    {
      "cell_type": "code",
      "source": [
        "# !git clone https://github.com/SKT-AI/KoGPT2.git"
      ],
      "metadata": {
        "id": "LewFf5umPcyc"
      },
      "execution_count": null,
      "outputs": []
    },
    {
      "cell_type": "code",
      "source": [
        "# ! git clone https://github.com/jiminAn/Capstone_2022.git"
      ],
      "metadata": {
        "id": "6E7Bn6wl0JPP"
      },
      "execution_count": null,
      "outputs": []
    },
    {
      "cell_type": "markdown",
      "metadata": {
        "id": "-bzgo9TcaOWl"
      },
      "source": [
        "* **pre-trained model(kakaoBrain kogpt) 불러오기**"
      ]
    },
    {
      "cell_type": "code",
      "execution_count": null,
      "metadata": {
        "id": "BIxZnh-sYgf1",
        "colab": {
          "base_uri": "https://localhost:8080/"
        },
        "outputId": "b4775bd7-7fb8-4dc5-cecd-338c2962ab44"
      },
      "outputs": [
        {
          "output_type": "stream",
          "name": "stdout",
          "text": [
            "Looking in indexes: https://pypi.org/simple, https://us-python.pkg.dev/colab-wheels/public/simple/\n",
            "Collecting torch~=1.9.0\n",
            "  Downloading torch-1.9.1-cp37-cp37m-manylinux1_x86_64.whl (831.4 MB)\n",
            "\u001b[K     |████████████████████████████████| 831.4 MB 6.5 kB/s \n",
            "\u001b[?25hCollecting transformers~=4.12.0\n",
            "  Downloading transformers-4.12.5-py3-none-any.whl (3.1 MB)\n",
            "\u001b[K     |████████████████████████████████| 3.1 MB 37.3 MB/s \n",
            "\u001b[?25hRequirement already satisfied: typing-extensions in /usr/local/lib/python3.7/dist-packages (from torch~=1.9.0->-r /content/drive/MyDrive/Colab Notebooks/graduation_project/kogpt/requirements.txt (line 1)) (4.1.1)\n",
            "Collecting huggingface-hub<1.0,>=0.1.0\n",
            "  Downloading huggingface_hub-0.8.1-py3-none-any.whl (101 kB)\n",
            "\u001b[K     |████████████████████████████████| 101 kB 11.9 MB/s \n",
            "\u001b[?25hRequirement already satisfied: filelock in /usr/local/lib/python3.7/dist-packages (from transformers~=4.12.0->-r /content/drive/MyDrive/Colab Notebooks/graduation_project/kogpt/requirements.txt (line 2)) (3.8.0)\n",
            "Collecting sacremoses\n",
            "  Downloading sacremoses-0.0.53.tar.gz (880 kB)\n",
            "\u001b[K     |████████████████████████████████| 880 kB 54.2 MB/s \n",
            "\u001b[?25hCollecting pyyaml>=5.1\n",
            "  Downloading PyYAML-6.0-cp37-cp37m-manylinux_2_5_x86_64.manylinux1_x86_64.manylinux_2_12_x86_64.manylinux2010_x86_64.whl (596 kB)\n",
            "\u001b[K     |████████████████████████████████| 596 kB 53.9 MB/s \n",
            "\u001b[?25hRequirement already satisfied: tqdm>=4.27 in /usr/local/lib/python3.7/dist-packages (from transformers~=4.12.0->-r /content/drive/MyDrive/Colab Notebooks/graduation_project/kogpt/requirements.txt (line 2)) (4.64.0)\n",
            "Requirement already satisfied: numpy>=1.17 in /usr/local/lib/python3.7/dist-packages (from transformers~=4.12.0->-r /content/drive/MyDrive/Colab Notebooks/graduation_project/kogpt/requirements.txt (line 2)) (1.21.6)\n",
            "Requirement already satisfied: regex!=2019.12.17 in /usr/local/lib/python3.7/dist-packages (from transformers~=4.12.0->-r /content/drive/MyDrive/Colab Notebooks/graduation_project/kogpt/requirements.txt (line 2)) (2022.6.2)\n",
            "Requirement already satisfied: packaging>=20.0 in /usr/local/lib/python3.7/dist-packages (from transformers~=4.12.0->-r /content/drive/MyDrive/Colab Notebooks/graduation_project/kogpt/requirements.txt (line 2)) (21.3)\n",
            "Collecting tokenizers<0.11,>=0.10.1\n",
            "  Downloading tokenizers-0.10.3-cp37-cp37m-manylinux_2_5_x86_64.manylinux1_x86_64.manylinux_2_12_x86_64.manylinux2010_x86_64.whl (3.3 MB)\n",
            "\u001b[K     |████████████████████████████████| 3.3 MB 43.1 MB/s \n",
            "\u001b[?25hRequirement already satisfied: requests in /usr/local/lib/python3.7/dist-packages (from transformers~=4.12.0->-r /content/drive/MyDrive/Colab Notebooks/graduation_project/kogpt/requirements.txt (line 2)) (2.23.0)\n",
            "Requirement already satisfied: importlib-metadata in /usr/local/lib/python3.7/dist-packages (from transformers~=4.12.0->-r /content/drive/MyDrive/Colab Notebooks/graduation_project/kogpt/requirements.txt (line 2)) (4.12.0)\n",
            "Requirement already satisfied: pyparsing!=3.0.5,>=2.0.2 in /usr/local/lib/python3.7/dist-packages (from packaging>=20.0->transformers~=4.12.0->-r /content/drive/MyDrive/Colab Notebooks/graduation_project/kogpt/requirements.txt (line 2)) (3.0.9)\n",
            "Requirement already satisfied: zipp>=0.5 in /usr/local/lib/python3.7/dist-packages (from importlib-metadata->transformers~=4.12.0->-r /content/drive/MyDrive/Colab Notebooks/graduation_project/kogpt/requirements.txt (line 2)) (3.8.1)\n",
            "Requirement already satisfied: certifi>=2017.4.17 in /usr/local/lib/python3.7/dist-packages (from requests->transformers~=4.12.0->-r /content/drive/MyDrive/Colab Notebooks/graduation_project/kogpt/requirements.txt (line 2)) (2022.6.15)\n",
            "Requirement already satisfied: chardet<4,>=3.0.2 in /usr/local/lib/python3.7/dist-packages (from requests->transformers~=4.12.0->-r /content/drive/MyDrive/Colab Notebooks/graduation_project/kogpt/requirements.txt (line 2)) (3.0.4)\n",
            "Requirement already satisfied: urllib3!=1.25.0,!=1.25.1,<1.26,>=1.21.1 in /usr/local/lib/python3.7/dist-packages (from requests->transformers~=4.12.0->-r /content/drive/MyDrive/Colab Notebooks/graduation_project/kogpt/requirements.txt (line 2)) (1.24.3)\n",
            "Requirement already satisfied: idna<3,>=2.5 in /usr/local/lib/python3.7/dist-packages (from requests->transformers~=4.12.0->-r /content/drive/MyDrive/Colab Notebooks/graduation_project/kogpt/requirements.txt (line 2)) (2.10)\n",
            "Requirement already satisfied: six in /usr/local/lib/python3.7/dist-packages (from sacremoses->transformers~=4.12.0->-r /content/drive/MyDrive/Colab Notebooks/graduation_project/kogpt/requirements.txt (line 2)) (1.15.0)\n",
            "Requirement already satisfied: click in /usr/local/lib/python3.7/dist-packages (from sacremoses->transformers~=4.12.0->-r /content/drive/MyDrive/Colab Notebooks/graduation_project/kogpt/requirements.txt (line 2)) (7.1.2)\n",
            "Requirement already satisfied: joblib in /usr/local/lib/python3.7/dist-packages (from sacremoses->transformers~=4.12.0->-r /content/drive/MyDrive/Colab Notebooks/graduation_project/kogpt/requirements.txt (line 2)) (1.1.0)\n",
            "Building wheels for collected packages: sacremoses\n",
            "  Building wheel for sacremoses (setup.py) ... \u001b[?25l\u001b[?25hdone\n",
            "  Created wheel for sacremoses: filename=sacremoses-0.0.53-py3-none-any.whl size=895260 sha256=79b26bd8b37ee23c289241fd9fc69f1ff5bcdc1fd02a8662ee0cef49b9a77d99\n",
            "  Stored in directory: /root/.cache/pip/wheels/87/39/dd/a83eeef36d0bf98e7a4d1933a4ad2d660295a40613079bafc9\n",
            "Successfully built sacremoses\n",
            "Installing collected packages: pyyaml, tokenizers, sacremoses, huggingface-hub, transformers, torch\n",
            "  Attempting uninstall: pyyaml\n",
            "    Found existing installation: PyYAML 3.13\n",
            "    Uninstalling PyYAML-3.13:\n",
            "      Successfully uninstalled PyYAML-3.13\n",
            "  Attempting uninstall: torch\n",
            "    Found existing installation: torch 1.12.1+cu113\n",
            "    Uninstalling torch-1.12.1+cu113:\n",
            "      Successfully uninstalled torch-1.12.1+cu113\n",
            "\u001b[31mERROR: pip's dependency resolver does not currently take into account all the packages that are installed. This behaviour is the source of the following dependency conflicts.\n",
            "torchvision 0.13.1+cu113 requires torch==1.12.1, but you have torch 1.9.1 which is incompatible.\n",
            "torchtext 0.13.1 requires torch==1.12.1, but you have torch 1.9.1 which is incompatible.\n",
            "torchaudio 0.12.1+cu113 requires torch==1.12.1, but you have torch 1.9.1 which is incompatible.\u001b[0m\n",
            "Successfully installed huggingface-hub-0.8.1 pyyaml-6.0 sacremoses-0.0.53 tokenizers-0.10.3 torch-1.9.1 transformers-4.12.5\n"
          ]
        }
      ],
      "source": [
        "!pip install -r '/content/drive/MyDrive/Colab Notebooks/graduation_project/kogpt/requirements.txt'"
      ]
    },
    {
      "cell_type": "code",
      "execution_count": null,
      "metadata": {
        "id": "uYpW8fRfaYMi"
      },
      "outputs": [],
      "source": [
        "import torch\n",
        "import tensorflow\n",
        "# from transformers import AutoModelForCausalLM, AutoTokenizer"
      ]
    },
    {
      "cell_type": "code",
      "execution_count": null,
      "metadata": {
        "id": "Us_v0tdfR60V"
      },
      "outputs": [],
      "source": [
        "# kogpt3\n",
        "\n",
        "# pre-trained tokenizer 불러오기\n",
        "# tokenizer = AutoTokenizer.from_pretrained(\n",
        "#   'kakaobrain/kogpt', revision='KoGPT6B-ryan1.5b-float16',  # or float32 version: revision=KoGPT6B-ryan1.5b\n",
        "#   bos_token='[BOS]', eos_token='[EOS]', unk_token='[UNK]', pad_token='[PAD]', mask_token='[MASK]'\n",
        "# )\n",
        "\n",
        "# # pre-trained model 불러오기\n",
        "# model = AutoModelForCausalLM.from_pretrained(\n",
        "#   'kakaobrain/kogpt', revision='KoGPT6B-ryan1.5b-float16',  # or float32 version: revision=KoGPT6B-ryan1.5b\n",
        "#   pad_token_id=tokenizer.eos_token_id,\n",
        "#   torch_dtype='auto', low_cpu_mem_usage=True\n",
        "# )#.to(device='cuda', non_blocking=True)\n",
        "# _ = model.eval()"
      ]
    },
    {
      "cell_type": "code",
      "source": [
        "# kogpt2\n",
        "from transformers import PreTrainedTokenizerFast\n",
        "\n",
        "tokenizer = PreTrainedTokenizerFast.from_pretrained(\"skt/kogpt2-base-v2\",\n",
        "  bos_token='</s>', eos_token='</s>', unk_token='<unk>',\n",
        "  pad_token='<pad>', mask_token='<mask>')\n"
      ],
      "metadata": {
        "id": "CgB9rEMvPD7p",
        "colab": {
          "base_uri": "https://localhost:8080/",
          "height": 156,
          "referenced_widgets": [
            "cf65d2631a634864a8cefacac3542585",
            "2e8401bfa53d4280bf62a69cc76aba56",
            "eeef4c2e7d1d40fea52d1e383a663e0c",
            "89df8fc8509e4c709c22c43edfc5293f",
            "199782347c65493f8cfc30af20bb3b26",
            "a2e0e4c131874e27929bf6b40e1d85d7",
            "9058a0b6ca8e459eadc86c611ffea4b3",
            "cd0bbbba87b74faca8afb98b18f77afa",
            "64351f6160bd4e8c899e39926b3e1466",
            "7b46a3ed0b5d4e18a1fa2a2e0f3da5e9",
            "e8e3990f663847d8bd387c6ea9154af6",
            "e9d7313dd2ca44c78a9d8cb171e57deb",
            "279be6bb7aad406598ea2581f9799395",
            "217b208f6caf4702a01001490219ae59",
            "2374e3d715c249f5803f6b82d8c73932",
            "e7982e1bf4b048338250d773f040d1b5",
            "5818409a273044878a0330d59d69a75c",
            "cb46eb66c2c84496897d82481cab09df",
            "61ec68f5dedc46569fff0e0901aebe64",
            "8ffeff521e824941a3339082f1496d07",
            "bb12405f22de47be90cf2bde1b038129",
            "b43854db21804a3a893bc4fc20df80d7"
          ]
        },
        "outputId": "a9a7d028-94d0-409c-988b-1bb4235aeddf"
      },
      "execution_count": null,
      "outputs": [
        {
          "output_type": "display_data",
          "data": {
            "text/plain": [
              "Downloading:   0%|          | 0.00/2.69M [00:00<?, ?B/s]"
            ],
            "application/vnd.jupyter.widget-view+json": {
              "version_major": 2,
              "version_minor": 0,
              "model_id": "cf65d2631a634864a8cefacac3542585"
            }
          },
          "metadata": {}
        },
        {
          "output_type": "display_data",
          "data": {
            "text/plain": [
              "Downloading:   0%|          | 0.00/0.98k [00:00<?, ?B/s]"
            ],
            "application/vnd.jupyter.widget-view+json": {
              "version_major": 2,
              "version_minor": 0,
              "model_id": "e9d7313dd2ca44c78a9d8cb171e57deb"
            }
          },
          "metadata": {}
        },
        {
          "output_type": "stream",
          "name": "stderr",
          "text": [
            "The tokenizer class you load from this checkpoint is not the same type as the class this function is called from. It may result in unexpected tokenization. \n",
            "The tokenizer class you load from this checkpoint is 'GPT2Tokenizer'. \n",
            "The class this function is called from is 'PreTrainedTokenizerFast'.\n"
          ]
        }
      ]
    },
    {
      "cell_type": "code",
      "source": [
        "import torch\n",
        "from transformers import GPT2LMHeadModel\n",
        "\n",
        "model = GPT2LMHeadModel.from_pretrained('skt/kogpt2-base-v2')"
      ],
      "metadata": {
        "id": "6I_1TrwvPRQF",
        "colab": {
          "base_uri": "https://localhost:8080/",
          "height": 49,
          "referenced_widgets": [
            "427df4e213a24df4a4b92fd49bc70244",
            "1a7a9c5ed21e47b0897fddc14b4e613a",
            "215ed907677042f6a65fa3417cc1cab2",
            "3cf3f055c6b7442fb2ec8954e5ab3448",
            "392c60467a794ee3a29b53466dc138c3",
            "3747687d4e9544439dde28d4326d0670",
            "b31b731283d74b4895bbdced2cb680df",
            "fd2fa9380f314c4da3ebbba24aab0a32",
            "0a8822e1b0df461fbbdb142cecac7d5c",
            "e71d43a954224d7faa6575b35cd5926b",
            "2ad2ec957cd14636b2923fad86a18b08"
          ]
        },
        "outputId": "30af65f5-d859-4555-9e54-cede502d77ed"
      },
      "execution_count": null,
      "outputs": [
        {
          "output_type": "display_data",
          "data": {
            "text/plain": [
              "Downloading:   0%|          | 0.00/490M [00:00<?, ?B/s]"
            ],
            "application/vnd.jupyter.widget-view+json": {
              "version_major": 2,
              "version_minor": 0,
              "model_id": "427df4e213a24df4a4b92fd49bc70244"
            }
          },
          "metadata": {}
        }
      ]
    },
    {
      "cell_type": "code",
      "execution_count": null,
      "metadata": {
        "id": "dTI8vghF4QUQ"
      },
      "outputs": [],
      "source": [
        "# model load\n",
        "# model= GPT2LMHeadModel.from_pretrained('./checkpoint/gpt_model.pt').to(device)"
      ]
    },
    {
      "cell_type": "code",
      "source": [
        "# model test\n",
        "\n",
        "# text = '[평범한 일상] 오늘은 아주 무난한 하루를 보냈다. 팝송도 듣고, 산책도 하고 등등. 매일이 오늘 같았으면 좋겠다!'\n",
        "# input_ids = tokenizer.encode(text, return_tensors='pt')\n",
        "# gen_ids = model.generate(input_ids,\n",
        "#                            max_length=128,\n",
        "#                            repetition_penalty=2.0,\n",
        "#                            pad_token_id=tokenizer.pad_token_id,\n",
        "#                            eos_token_id=tokenizer.eos_token_id,\n",
        "#                            bos_token_id=tokenizer.bos_token_id,\n",
        "#                            use_cache=True)\n",
        "# generated = tokenizer.decode(gen_ids[0])\n",
        "# print(generated)"
      ],
      "metadata": {
        "id": "KZDMNeBSyvD2"
      },
      "execution_count": null,
      "outputs": []
    },
    {
      "cell_type": "markdown",
      "metadata": {
        "id": "lMeCUlaaTSwj"
      },
      "source": [
        "* 참고한 summarize 코드\n",
        "\n",
        "https://towardsdatascience.com/question-answering-with-a-fine-tuned-bert-bc4dafd45626\n",
        "\n",
        "https://medium.com/analytics-vidhya/an-ai-that-does-your-homework-e5fa40c43d17\n",
        "\n",
        "https://www.nbshare.io/notebook/764386829/Amazon-Review-Summarization-Using-GPT-2-And-PyTorch/"
      ]
    },
    {
      "cell_type": "code",
      "execution_count": null,
      "metadata": {
        "id": "ixYCahQC8Rsp"
      },
      "outputs": [],
      "source": [
        "import numpy as np"
      ]
    },
    {
      "cell_type": "code",
      "execution_count": null,
      "metadata": {
        "id": "fiZ6H7uqb4IH"
      },
      "outputs": [],
      "source": [
        "device = torch.device('cuda:0' if torch.cuda.is_available() else 'cpu')"
      ]
    },
    {
      "cell_type": "code",
      "execution_count": null,
      "metadata": {
        "id": "I2eZ5nPhXPXJ"
      },
      "outputs": [],
      "source": [
        "text_data= train_data['train_text']\n",
        "summary_data= train_data['train_summary']"
      ]
    },
    {
      "cell_type": "code",
      "execution_count": null,
      "metadata": {
        "id": "RF5pO2haIQrW"
      },
      "outputs": [],
      "source": [
        "from torch.utils.data import Dataset, DataLoader\n",
        "\n",
        "max_len= len(max(train_data['total']))\n",
        "extra_length= len(tokenizer.encode(\" TL;DR \"))\n",
        "\n",
        "class textDataset(Dataset):  \n",
        "    def __init__(self, tokenizer, text, max_len):\n",
        "        self.max_len = max_len\n",
        "        self.tokenizer = tokenizer\n",
        "        self.eos = self.tokenizer.eos_token\n",
        "        self.eos_id = self.tokenizer.eos_token_id\n",
        "        self.text= text\n",
        "        self.result = []\n",
        "\n",
        "        for text in self.text:\n",
        "            # Encode the text using tokenizer.encode(). We add EOS at the end\n",
        "            tokenized = self.tokenizer.encode(text + self.eos)\n",
        "            \n",
        "            # Padding/truncating the encoded sequence to max_len \n",
        "            padded = self.pad_truncate(tokenized)            \n",
        "\n",
        "            # Creating a tensor and adding to the result\n",
        "            self.result.append(torch.tensor(padded))\n",
        "\n",
        "    def __len__(self):\n",
        "        return len(self.result)\n",
        "\n",
        "\n",
        "    def __getitem__(self, item):\n",
        "        return self.result[item]\n",
        "\n",
        "    def pad_truncate(self, name):\n",
        "        name_length = len(name) - extra_length\n",
        "        if name_length < self.max_len:\n",
        "            difference = self.max_len - name_length\n",
        "            result = name + [self.eos_id] * difference\n",
        "        elif name_length > self.max_len:\n",
        "            result = name[:self.max_len + 3]+[self.eos_id] \n",
        "        else:\n",
        "            result = name\n",
        "        return result"
      ]
    },
    {
      "cell_type": "code",
      "execution_count": null,
      "metadata": {
        "id": "gNy6PmsxKzeR"
      },
      "outputs": [],
      "source": [
        "dataset= textDataset(tokenizer, train_data['total'], max_len)"
      ]
    },
    {
      "cell_type": "code",
      "execution_count": null,
      "metadata": {
        "id": "WKzxxkM1LHgE"
      },
      "outputs": [],
      "source": [
        "dataloader= DataLoader(dataset, batch_size= 1, drop_last=True)"
      ]
    },
    {
      "cell_type": "code",
      "source": [
        "# model load\n",
        "# model= GPT2LMHeadModel.from_pretrained('./checkpoint/gpt_model.pt').to(device)"
      ],
      "metadata": {
        "id": "1U02wi6PHPLU"
      },
      "execution_count": null,
      "outputs": []
    },
    {
      "cell_type": "code",
      "execution_count": null,
      "metadata": {
        "id": "xa2D2EcyD1Yt"
      },
      "outputs": [],
      "source": [
        "def train(model, optimizer, dl, epochs):    \n",
        "    for epoch in range(epochs):\n",
        "        for idx, batch in enumerate(dl):\n",
        "             with torch.set_grad_enabled(True):\n",
        "                optimizer.zero_grad()\n",
        "                batch = batch.to(device)\n",
        "                output = model(batch, labels=batch)\n",
        "                loss = output[0]\n",
        "                loss.backward()\n",
        "                optimizer.step()\n",
        "                if idx % 100 == 0:\n",
        "                    print(\"epoch: %f, loss: %f, %d\"%(int(epoch), loss, idx))\n",
        "                    model.save_pretrained('./checkpoint/gpt_model_1+2.pt') # >>>>>>>>>>>>> epoch마다 모델명 수정할 것 <<<<<<<<<<<< (1)"
      ]
    },
    {
      "cell_type": "code",
      "execution_count": null,
      "metadata": {
        "id": "3WMKzgz2F3FS"
      },
      "outputs": [],
      "source": [
        "import torch.optim as optim\n",
        "\n",
        "optimizer= optim.AdamW(model.parameters(), lr= 3e-4)\n",
        "model= model.to(device)"
      ]
    },
    {
      "cell_type": "code",
      "execution_count": null,
      "metadata": {
        "id": "p5Viqq_pF7DL",
        "colab": {
          "base_uri": "https://localhost:8080/"
        },
        "outputId": "04d5f72c-98c0-426b-ffc9-93f8044fe630"
      },
      "outputs": [
        {
          "output_type": "stream",
          "name": "stdout",
          "text": [
            "epoch: 0.000000, loss: 9.516912, 0\n",
            "epoch: 0.000000, loss: 2.056159, 100\n",
            "epoch: 0.000000, loss: 1.835126, 200\n",
            "epoch: 0.000000, loss: 2.224770, 300\n",
            "epoch: 0.000000, loss: 2.116745, 400\n",
            "epoch: 0.000000, loss: 2.260252, 500\n",
            "epoch: 0.000000, loss: 2.048805, 600\n",
            "epoch: 0.000000, loss: 2.228275, 700\n",
            "epoch: 0.000000, loss: 2.451510, 800\n",
            "epoch: 0.000000, loss: 2.289315, 900\n",
            "epoch: 0.000000, loss: 2.026349, 1000\n",
            "epoch: 0.000000, loss: 1.811824, 1100\n",
            "epoch: 0.000000, loss: 1.544204, 1200\n",
            "epoch: 0.000000, loss: 1.865303, 1300\n",
            "epoch: 0.000000, loss: 1.942266, 1400\n",
            "epoch: 0.000000, loss: 1.844208, 1500\n",
            "epoch: 0.000000, loss: 1.806525, 1600\n",
            "epoch: 0.000000, loss: 1.560001, 1700\n",
            "epoch: 0.000000, loss: 1.858768, 1800\n",
            "epoch: 0.000000, loss: 1.097597, 1900\n"
          ]
        }
      ],
      "source": [
        "# train(model=model, optimizer=optimizer, dl=dataloader, epochs=1) # >>>>>>>>>>>>>>>>> epoch 수정 <<<<<<<<<<<<<<<<<< (2)"
      ]
    },
    {
      "cell_type": "code",
      "source": [
        "# model save\n",
        "# model.save_pretrained('./checkpoint/gpt_model_1+2.pt') # >>>>>>>>>> epoch마다 모델명 수정할 것 <<<<<<<<< (3)"
      ],
      "metadata": {
        "id": "kDio-zCqcx1e"
      },
      "execution_count": null,
      "outputs": []
    },
    {
      "cell_type": "code",
      "source": [
        "# model load\n",
        "model= GPT2LMHeadModel.from_pretrained('./checkpoint/gpt_model_1+2.pt').to(device) # >>>>>>>>>> epoch마다 모델명 수정할 것 <<<<<<<<< (4)"
      ],
      "metadata": {
        "id": "IfRIu8qY4qoz"
      },
      "execution_count": null,
      "outputs": []
    },
    {
      "cell_type": "code",
      "source": [
        "# 서버에서 본문 받아오기\n",
        "\n",
        "text = '[평범한 일상] 오늘은 아주 무난한 하루를 보냈다. 팝송도 듣고, 산책도 하고 등등. 매일이 오늘 같았으면 좋겠다!' # sample\n",
        "if len(text) + len(\" TL;DR \") > 800:\n",
        "  text = text[0:400] + text[len(text)-400:len(text)]\n",
        "text= text + \" TL;DR \""
      ],
      "metadata": {
        "id": "-SnBwrTIQ5pt"
      },
      "execution_count": null,
      "outputs": []
    },
    {
      "cell_type": "code",
      "source": [
        "# BERT의 output을 파일로 받아와서 str로 저장하기 -> 본문이랑 합쳐서 모델로 넘기기\n",
        "\n",
        "emotion= '기쁨' # sample\n",
        "text= emotion + '| ' + text\n",
        "print(text)"
      ],
      "metadata": {
        "colab": {
          "base_uri": "https://localhost:8080/"
        },
        "id": "3XGbRR7KQiRE",
        "outputId": "064a901b-eed9-484c-c9fb-f04d235c7a2d"
      },
      "execution_count": null,
      "outputs": [
        {
          "output_type": "stream",
          "name": "stdout",
          "text": [
            "기쁨| [평범한 일상] 오늘은 아주 무난한 하루를 보냈다. 팝송도 듣고, 산책도 하고 등등. 매일이 오늘 같았으면 좋겠다! TL;DR \n"
          ]
        }
      ]
    },
    {
      "cell_type": "code",
      "execution_count": null,
      "metadata": {
        "id": "AjyQJ4jzLvp6",
        "colab": {
          "base_uri": "https://localhost:8080/"
        },
        "outputId": "e8eca12f-ab5e-4faf-de40-0f30dd207a82"
      },
      "outputs": [
        {
          "output_type": "stream",
          "name": "stdout",
          "text": [
            "기쁨| [평범한 일상] 오늘은 아주 무난한 하루를 보냈다. 팝송도 듣고, 산책도 하고 등등. 매일이 오늘 같았으면 좋겠다! TL;DR  꿈에서 소외감을 느끼는군요. 당신은 항상 우울한 일만 하는 것이니까, 나는 그게 좋은 것 같아요?</s>\n"
          ]
        }
      ],
      "source": [
        "# model overfitting 확인\n",
        "\n",
        "input_ids = tokenizer.encode(text, return_tensors='pt').to(device)\n",
        "gen_ids = model.generate(input_ids,\n",
        "                           max_length=len(input_ids[0])+ 50, # 50 -> 약 120자\n",
        "                           repetition_penalty=2.0,\n",
        "                           pad_token_id=tokenizer.pad_token_id,\n",
        "                           eos_token_id=tokenizer.eos_token_id,\n",
        "                           bos_token_id=tokenizer.bos_token_id,\n",
        "                           use_cache=True).to(device)\n",
        "generated = tokenizer.decode(gen_ids[0])\n",
        "print(generated)\n",
        "# print(len(text), len(generated))"
      ]
    },
    {
      "cell_type": "code",
      "source": [
        "TLDR_index= generated.index('TL;DR')\n",
        "output= generated[TLDR_index+6:]\n",
        "print('return comment:' , output)"
      ],
      "metadata": {
        "colab": {
          "base_uri": "https://localhost:8080/"
        },
        "id": "ENFWQGSAGbKQ",
        "outputId": "f63b7fb8-5468-4be4-bfaa-5f47dd0a0e75"
      },
      "execution_count": null,
      "outputs": [
        {
          "output_type": "stream",
          "name": "stdout",
          "text": [
            "return comment:  꿈에서 소외감을 느끼는군요. 당신은 항상 우울한 일만 하는 것이니까, 나는 그게 좋은 것 같아요?</s>\n"
          ]
        }
      ]
    },
    {
      "cell_type": "markdown",
      "source": [
        "* test"
      ],
      "metadata": {
        "id": "r52lA5UnRK46"
      }
    },
    {
      "cell_type": "code",
      "source": [
        "# model load\n",
        "model= GPT2LMHeadModel.from_pretrained('./checkpoint/gpt_model_1.pt').to(device) # >>>>>>>> epoch마다 모델명 수정할 것 <<<<<<< (5)"
      ],
      "metadata": {
        "id": "OhlSmmcnR1IZ"
      },
      "execution_count": null,
      "outputs": []
    },
    {
      "cell_type": "code",
      "source": [
        "test_data= pd.read_csv('/content/drive/MyDrive/Colab Notebooks/graduation_project/data/new-model(gpt)_test_data.csv')\n",
        "test_data= test_data[['test_text']]\n",
        "\n",
        "test_data= drop_na(test_data)"
      ],
      "metadata": {
        "id": "3Qpfl8orRKBg"
      },
      "execution_count": null,
      "outputs": []
    },
    {
      "cell_type": "code",
      "source": [
        "text_list = test_data['test_text']\n",
        "summary_list=list()\n",
        "# print(text_list)"
      ],
      "metadata": {
        "id": "7z9UVYHuRydl"
      },
      "execution_count": null,
      "outputs": []
    },
    {
      "cell_type": "code",
      "source": [
        "text_list = test_data['test_text']\n",
        "summary_list=list()\n",
        "\n",
        "for i, text in enumerate(text_list):\n",
        "  if len(text) + len(\" TL;DR \") > 800:\n",
        "    text = text[0:400] + text[len(text)-400:len(text)]\n",
        "  text= text + \" TL;DR \"\n",
        "\n",
        "  input_ids = tokenizer.encode(text, return_tensors='pt').to(device)\n",
        "  gen_ids = model.generate(input_ids,\n",
        "                            max_length=len(input_ids[0]) + 120, # 50 -> 약 120자\n",
        "                            repetition_penalty=2.0,\n",
        "                            pad_token_id=tokenizer.pad_token_id,\n",
        "                            eos_token_id=tokenizer.eos_token_id,\n",
        "                            bos_token_id=tokenizer.bos_token_id,\n",
        "                            use_cache=True).to(device)\n",
        "  generated = tokenizer.decode(gen_ids[0])\n",
        "  TLDR_index= generated.index('TL;DR')\n",
        "  output= generated[TLDR_index+6:]\n",
        "  summary_list.append(output)\n",
        "  if i%10 == 0:\n",
        "    print('test {} 개 진행중'.format(i))"
      ],
      "metadata": {
        "colab": {
          "base_uri": "https://localhost:8080/"
        },
        "id": "kqYevEcGR8Lk",
        "outputId": "0362d80f-b137-4f53-f411-da2a6da5cfea"
      },
      "execution_count": null,
      "outputs": [
        {
          "output_type": "stream",
          "name": "stdout",
          "text": [
            "test 0 개 진행중\n",
            "test 10 개 진행중\n",
            "test 20 개 진행중\n",
            "test 30 개 진행중\n"
          ]
        }
      ]
    },
    {
      "cell_type": "code",
      "source": [
        "summary_list"
      ],
      "metadata": {
        "id": "_9rglFXkSJVj",
        "colab": {
          "base_uri": "https://localhost:8080/"
        },
        "outputId": "8bacad5c-f6c0-401f-99b1-37b662cf0bd5"
      },
      "execution_count": null,
      "outputs": [
        {
          "output_type": "execute_result",
          "data": {
            "text/plain": [
              "[' 당신은 분명 나 자신이 될 거예요. 당신의 마음이 답답한 것 같지만, 내가 잘 할 것이라고 생각해요!</s>',\n",
              " '괌 여행을 다녀와서 동률을 알려준다는 건 정말 뜻이에요!</s>',\n",
              " '괜찮은 상태를 고치느라 힘들었을 것 같아요. 하지만 당신은 분명 좋은 사람인일이었을거라고 생각해요!</s>',\n",
              " ' 비가 많이 내려서 우산을 타고 서울역으로 갔군요. 그래도 무사히 도착해서 다행이에요!</s>',\n",
              " ' 맛있는 걸로테러 가고, 친구와 함께 놀았군요. 당신은 정말 좋아하는 아이돌 그룹입니다. 하지만 그 순간에 대해 걱정될 일만 했겠어요, 당신의 말을 듣고 기뻤던 건지도 모른다고 생각해서, 좋은 이야기를 해보길 바랄 뿐이에요.</s>',\n",
              " ' 새벽밤은 너무 우울한 것 같아요. 당신은 분명 잘 될 것이라고 생각해요?</s>',\n",
              " '괜히 마음이 이해가 되는군요. 당신은 분명 좋은 사람이 될 것이라고 생각해요!</s>',\n",
              " ' 요즘 당신은 분명 성장할 수 있을 것이라고 생각해요. 당신의 말로는 정말 좋은 경험이 되고 싶어지고, 목표가 되지 않는다면 결국 포기하고 싶은 마음이 이해가 되는군요. 그래도 포기하지 말고 열심히 하길 바랄 뿐입니다.</s>',\n",
              " '조나조로 꿈을 꾸고, 공부를 하고 있는군요. 당신은 분명 좋은 사람이 될 거라고 생각해요</s>',\n",
              " ' 2019년의 시작과 다짐에 대해 걱정되는군요. 당신은 분명 성장할 수 있을 것이라고 생각해요!</s>',\n",
              " ' 당신의 죽음에 대해 걱정하는 건 정말 허무할 일인것 같아요. 당신은 분명 성장할 것이라고 생각해요!</s>',\n",
              " ' 첫 임용고시 준비를 하고 나서 좋은 선택을 했군요. 당신은 분명 성장할 거예요!</s>',\n",
              " '방 탄북단이 정말 허무하게 몰려왔군요. 하지만 당신의 말대로 좋은 일만 하는 건 어려운 것 같지만, 분명 성장할 수 있을 것이라고 생각해요!</s>',\n",
              " ' 해외에 나가니 정말 힘들었을 것 같아요. 당신은 분명 성장할 거예요!</s>',\n",
              " '태국에서 여행을 떠나는 걸음으로 비행기를 타고 공항으로 이동했군요. 그래도 무사히 도착은 했지만, 신종 바이러스 때문에 힘들었을 것 같아요?</s>',\n",
              " ' 테러리스트난을 옮기는 데에 관심이 없군요. 당신은 분명 당신의 슬픔을 나눌 걸 좋아할 거예요!</s>',\n",
              " ' 좋은 성적을 얻고 싶다는 생각에 마음을 먹으며 수능이 올랐군요. 당신은 분명 성장할 거예요!</s>',\n",
              " ' 소외감을 느끼는군요. 당신은 분명 좋은 인연이 될 있을 거란 믿어요!</s>',\n",
              " ' 2018/07&ampknownty Briendies와 워이트러리스트를 듣고 있군요. 당신은 분명 성장할 것이라고 생각해요?</s>',\n",
              " ' 당신의 취미를 위해 공부를 했군요. 당신은 분명 성장할 수 있을 것이라고 생각해요?</s>',\n",
              " ' 좋은 인연과 친구 관계가 끊기지 않고 계속 불안하고 걱정되는군요. 당신은 분명 성장할 거예요!</s>',\n",
              " ' 새벽 5시에 일어나서 놀았군요. 당신은 항상 행복할 것이라고 생각해요!</s>',\n",
              " '무기력이 상실을 당하는 것은 당신이 될 수 없다고 생각하고 있는 것 같아요. 하지만 당신의 말대로 분명 성장할 것이라고 믿어요!</s>',\n",
              " ' 여행을 가서 첫 번째 해외여행을 다녀와서 즐거운 경험을 했군요. 당신은 분명 성장할 수 있을 것이라고 생각해요 파이팅을 응원일인트로 가득찬으로 가득한 당신의 곁에 대해선당신이 될 거라고 믿어 저를 위로하는 건 어떨지 걱정되는 일이었을지도 모른다고 생각하고 계셨던 것이었을텐데, 그래도 무사히 다녀온다는건 다행이에요.</s>',\n",
              " ' 당신의 말대로 당신은 분명 소중한 존재일인줄 알았는데도, 행복은 늘 어려운 일이 될 것이라고 생각해요. 그래도 포기하지 않았으니 다행이에요?</s>',\n",
              " ' 우울이 몰려오는 건 정말 어려운 것 같아요. 당신은 분명 성장할 것이라고 생각해요!</s>',\n",
              " ' 일을 하기 위해 공부를 하다가 학원에 가고 싶은 것이 너무 많아서 힘들었을 것이라고 생각해요. 하지만 분명 좋은 일이 될 것이라 믿어요!</s>',\n",
              " '괜히 일을 하던 중단이 그만두게 되었군요. 당신의 잘못은 자책하고 싶지만, 분명 앞으로도 성장할 거예요!</s>',\n",
              " '괜히 힘들었을 것 같군요. 그래도 나름 열심히 하는 것이 좋으니 다행이에요? 당신은 분명 잘 할 수 있을 거예 싶어하는 건지도 모른다고 생각해서, 정말 우울한 일인줄 알았다니 걱정되는 게으름이 될 것이라고 믿어요.</s>',\n",
              " ' 야근중이라서 일하지 못했는데 자꾸 우울할 것 같아 걱정되는군요! 그래도 열심히 하는건 좋은것일인 것이라고 생각해 다행이에 저를 응원하는 것도 어려운 것일 수 있겠지만, 분명 당신의 말대로 될 있을 것이라 믿어요.</s>',\n",
              " ' 매일매일 하루하루 힘들었을군요. 하지만 당신은 분명 성장할 것이라고 생각해니, 당신의 말대로, 좋은 사람이 되고 싶어지고, 자책하거나 우울해질 수밖에 없을거 같아 두려웠을것같지만, 앞으로 더 열심히 할수 있길 바라랄게 있어요.</s>']"
            ]
          },
          "metadata": {},
          "execution_count": 80
        }
      ]
    },
    {
      "cell_type": "code",
      "source": [
        "test_data['summary'] = summary_list\n",
        "# test_data.head()"
      ],
      "metadata": {
        "id": "4a25wuJ3SLTm"
      },
      "execution_count": null,
      "outputs": []
    },
    {
      "cell_type": "code",
      "source": [
        "test_data.to_csv('/content/drive/MyDrive/Colab Notebooks/graduation_project/data/test_data_newmodel(gpt)1_after.csv') \n",
        "# >>>>>>>>>> epoch마다 파일명 수정할 것 <<<<<<<<< (6)"
      ],
      "metadata": {
        "id": "MYBNj46bSNB6"
      },
      "execution_count": null,
      "outputs": []
    },
    {
      "cell_type": "markdown",
      "source": [
        "* evaluation\n",
        "\n",
        "https://github.com/lovit/KoBERTScore"
      ],
      "metadata": {
        "id": "_9g_FcdknjRs"
      }
    },
    {
      "cell_type": "markdown",
      "source": [
        "( BERT score )"
      ],
      "metadata": {
        "id": "YQ-exiJ3fkDQ"
      }
    },
    {
      "cell_type": "code",
      "source": [
        "# !git clone https://github.com/lovit/KoBERTScore"
      ],
      "metadata": {
        "id": "IhJ9uG4LHUGl"
      },
      "execution_count": null,
      "outputs": []
    },
    {
      "cell_type": "code",
      "source": [
        "%cd '/content/drive/MyDrive/Colab Notebooks/graduation_project/KoBERTScore'"
      ],
      "metadata": {
        "colab": {
          "base_uri": "https://localhost:8080/"
        },
        "id": "Bx6AQh2gHdDC",
        "outputId": "7efb41c9-4606-4e50-840b-943cae9d980b"
      },
      "execution_count": null,
      "outputs": [
        {
          "output_type": "stream",
          "name": "stdout",
          "text": [
            "/content/drive/MyDrive/Colab Notebooks/graduation_project/KoBERTScore\n"
          ]
        }
      ]
    },
    {
      "cell_type": "code",
      "source": [
        "!pip install -r '/content/drive/MyDrive/Colab Notebooks/graduation_project/KoBERTScore/requirements.txt'"
      ],
      "metadata": {
        "colab": {
          "base_uri": "https://localhost:8080/"
        },
        "id": "dP_qQDGmI0FQ",
        "outputId": "adb2c8cd-471b-48c2-b82b-193a1df35c75"
      },
      "execution_count": null,
      "outputs": [
        {
          "output_type": "stream",
          "name": "stdout",
          "text": [
            "Looking in indexes: https://pypi.org/simple, https://us-python.pkg.dev/colab-wheels/public/simple/\n",
            "Requirement already satisfied: bokeh>=1.4.0 in /usr/local/lib/python3.7/dist-packages (from -r /content/drive/MyDrive/Colab Notebooks/graduation_project/KoBERTScore/requirements.txt (line 1)) (2.3.3)\n",
            "Collecting korpora>=0.1.1\n",
            "  Downloading Korpora-0.2.0-py3-none-any.whl (57 kB)\n",
            "\u001b[K     |████████████████████████████████| 57 kB 2.8 MB/s \n",
            "\u001b[?25hCollecting flake8>=3.6.0\n",
            "  Downloading flake8-5.0.4-py2.py3-none-any.whl (61 kB)\n",
            "\u001b[K     |████████████████████████████████| 61 kB 548 kB/s \n",
            "\u001b[?25hRequirement already satisfied: scipy>=1.4.0 in /usr/local/lib/python3.7/dist-packages (from -r /content/drive/MyDrive/Colab Notebooks/graduation_project/KoBERTScore/requirements.txt (line 4)) (1.7.3)\n",
            "Requirement already satisfied: torch>=1.6.0 in /usr/local/lib/python3.7/dist-packages (from -r /content/drive/MyDrive/Colab Notebooks/graduation_project/KoBERTScore/requirements.txt (line 5)) (1.12.1+cu113)\n",
            "Collecting transformers==3.1.0\n",
            "  Downloading transformers-3.1.0-py3-none-any.whl (884 kB)\n",
            "\u001b[K     |████████████████████████████████| 884 kB 29.2 MB/s \n",
            "\u001b[?25hRequirement already satisfied: tqdm>=4.48.0 in /usr/local/lib/python3.7/dist-packages (from -r /content/drive/MyDrive/Colab Notebooks/graduation_project/KoBERTScore/requirements.txt (line 7)) (4.64.0)\n",
            "Collecting tokenizers==0.8.1.rc2\n",
            "  Downloading tokenizers-0.8.1rc2-cp37-cp37m-manylinux1_x86_64.whl (3.0 MB)\n",
            "\u001b[K     |████████████████████████████████| 3.0 MB 62.4 MB/s \n",
            "\u001b[?25hRequirement already satisfied: packaging in /usr/local/lib/python3.7/dist-packages (from transformers==3.1.0->-r /content/drive/MyDrive/Colab Notebooks/graduation_project/KoBERTScore/requirements.txt (line 6)) (21.3)\n",
            "Collecting sentencepiece!=0.1.92\n",
            "  Downloading sentencepiece-0.1.97-cp37-cp37m-manylinux_2_17_x86_64.manylinux2014_x86_64.whl (1.3 MB)\n",
            "\u001b[K     |████████████████████████████████| 1.3 MB 58.7 MB/s \n",
            "\u001b[?25hCollecting sacremoses\n",
            "  Downloading sacremoses-0.0.53.tar.gz (880 kB)\n",
            "\u001b[K     |████████████████████████████████| 880 kB 88.2 MB/s \n",
            "\u001b[?25hRequirement already satisfied: requests in /usr/local/lib/python3.7/dist-packages (from transformers==3.1.0->-r /content/drive/MyDrive/Colab Notebooks/graduation_project/KoBERTScore/requirements.txt (line 6)) (2.23.0)\n",
            "Requirement already satisfied: filelock in /usr/local/lib/python3.7/dist-packages (from transformers==3.1.0->-r /content/drive/MyDrive/Colab Notebooks/graduation_project/KoBERTScore/requirements.txt (line 6)) (3.8.0)\n",
            "Requirement already satisfied: regex!=2019.12.17 in /usr/local/lib/python3.7/dist-packages (from transformers==3.1.0->-r /content/drive/MyDrive/Colab Notebooks/graduation_project/KoBERTScore/requirements.txt (line 6)) (2022.6.2)\n",
            "Requirement already satisfied: numpy in /usr/local/lib/python3.7/dist-packages (from transformers==3.1.0->-r /content/drive/MyDrive/Colab Notebooks/graduation_project/KoBERTScore/requirements.txt (line 6)) (1.21.6)\n",
            "Requirement already satisfied: pillow>=7.1.0 in /usr/local/lib/python3.7/dist-packages (from bokeh>=1.4.0->-r /content/drive/MyDrive/Colab Notebooks/graduation_project/KoBERTScore/requirements.txt (line 1)) (7.1.2)\n",
            "Requirement already satisfied: Jinja2>=2.9 in /usr/local/lib/python3.7/dist-packages (from bokeh>=1.4.0->-r /content/drive/MyDrive/Colab Notebooks/graduation_project/KoBERTScore/requirements.txt (line 1)) (2.11.3)\n",
            "Requirement already satisfied: typing-extensions>=3.7.4 in /usr/local/lib/python3.7/dist-packages (from bokeh>=1.4.0->-r /content/drive/MyDrive/Colab Notebooks/graduation_project/KoBERTScore/requirements.txt (line 1)) (4.1.1)\n",
            "Requirement already satisfied: tornado>=5.1 in /usr/local/lib/python3.7/dist-packages (from bokeh>=1.4.0->-r /content/drive/MyDrive/Colab Notebooks/graduation_project/KoBERTScore/requirements.txt (line 1)) (5.1.1)\n",
            "Requirement already satisfied: PyYAML>=3.10 in /usr/local/lib/python3.7/dist-packages (from bokeh>=1.4.0->-r /content/drive/MyDrive/Colab Notebooks/graduation_project/KoBERTScore/requirements.txt (line 1)) (6.0)\n",
            "Requirement already satisfied: python-dateutil>=2.1 in /usr/local/lib/python3.7/dist-packages (from bokeh>=1.4.0->-r /content/drive/MyDrive/Colab Notebooks/graduation_project/KoBERTScore/requirements.txt (line 1)) (2.8.2)\n",
            "Collecting xlrd>=1.2.0\n",
            "  Downloading xlrd-2.0.1-py2.py3-none-any.whl (96 kB)\n",
            "\u001b[K     |████████████████████████████████| 96 kB 5.5 MB/s \n",
            "\u001b[?25hCollecting dataclasses>=0.6\n",
            "  Downloading dataclasses-0.6-py3-none-any.whl (14 kB)\n",
            "Collecting pyflakes<2.6.0,>=2.5.0\n",
            "  Downloading pyflakes-2.5.0-py2.py3-none-any.whl (66 kB)\n",
            "\u001b[K     |████████████████████████████████| 66 kB 3.4 MB/s \n",
            "\u001b[?25hCollecting mccabe<0.8.0,>=0.7.0\n",
            "  Downloading mccabe-0.7.0-py2.py3-none-any.whl (7.3 kB)\n",
            "Collecting importlib-metadata<4.3,>=1.1.0\n",
            "  Downloading importlib_metadata-4.2.0-py3-none-any.whl (16 kB)\n",
            "Collecting pycodestyle<2.10.0,>=2.9.0\n",
            "  Downloading pycodestyle-2.9.1-py2.py3-none-any.whl (41 kB)\n",
            "\u001b[K     |████████████████████████████████| 41 kB 488 kB/s \n",
            "\u001b[?25hRequirement already satisfied: zipp>=0.5 in /usr/local/lib/python3.7/dist-packages (from importlib-metadata<4.3,>=1.1.0->flake8>=3.6.0->-r /content/drive/MyDrive/Colab Notebooks/graduation_project/KoBERTScore/requirements.txt (line 3)) (3.8.1)\n",
            "Requirement already satisfied: MarkupSafe>=0.23 in /usr/local/lib/python3.7/dist-packages (from Jinja2>=2.9->bokeh>=1.4.0->-r /content/drive/MyDrive/Colab Notebooks/graduation_project/KoBERTScore/requirements.txt (line 1)) (2.0.1)\n",
            "Requirement already satisfied: pyparsing!=3.0.5,>=2.0.2 in /usr/local/lib/python3.7/dist-packages (from packaging->transformers==3.1.0->-r /content/drive/MyDrive/Colab Notebooks/graduation_project/KoBERTScore/requirements.txt (line 6)) (3.0.9)\n",
            "Requirement already satisfied: six>=1.5 in /usr/local/lib/python3.7/dist-packages (from python-dateutil>=2.1->bokeh>=1.4.0->-r /content/drive/MyDrive/Colab Notebooks/graduation_project/KoBERTScore/requirements.txt (line 1)) (1.15.0)\n",
            "Requirement already satisfied: idna<3,>=2.5 in /usr/local/lib/python3.7/dist-packages (from requests->transformers==3.1.0->-r /content/drive/MyDrive/Colab Notebooks/graduation_project/KoBERTScore/requirements.txt (line 6)) (2.10)\n",
            "Requirement already satisfied: chardet<4,>=3.0.2 in /usr/local/lib/python3.7/dist-packages (from requests->transformers==3.1.0->-r /content/drive/MyDrive/Colab Notebooks/graduation_project/KoBERTScore/requirements.txt (line 6)) (3.0.4)\n",
            "Requirement already satisfied: certifi>=2017.4.17 in /usr/local/lib/python3.7/dist-packages (from requests->transformers==3.1.0->-r /content/drive/MyDrive/Colab Notebooks/graduation_project/KoBERTScore/requirements.txt (line 6)) (2022.6.15)\n",
            "Requirement already satisfied: urllib3!=1.25.0,!=1.25.1,<1.26,>=1.21.1 in /usr/local/lib/python3.7/dist-packages (from requests->transformers==3.1.0->-r /content/drive/MyDrive/Colab Notebooks/graduation_project/KoBERTScore/requirements.txt (line 6)) (1.24.3)\n",
            "Requirement already satisfied: click in /usr/local/lib/python3.7/dist-packages (from sacremoses->transformers==3.1.0->-r /content/drive/MyDrive/Colab Notebooks/graduation_project/KoBERTScore/requirements.txt (line 6)) (7.1.2)\n",
            "Requirement already satisfied: joblib in /usr/local/lib/python3.7/dist-packages (from sacremoses->transformers==3.1.0->-r /content/drive/MyDrive/Colab Notebooks/graduation_project/KoBERTScore/requirements.txt (line 6)) (1.1.0)\n",
            "Building wheels for collected packages: sacremoses\n",
            "  Building wheel for sacremoses (setup.py) ... \u001b[?25l\u001b[?25hdone\n",
            "  Created wheel for sacremoses: filename=sacremoses-0.0.53-py3-none-any.whl size=895260 sha256=7ddda3faa37f82915de34c8826a99373a7c537f436498bce7364f839edcf9c3a\n",
            "  Stored in directory: /root/.cache/pip/wheels/87/39/dd/a83eeef36d0bf98e7a4d1933a4ad2d660295a40613079bafc9\n",
            "Successfully built sacremoses\n",
            "Installing collected packages: xlrd, tokenizers, sentencepiece, sacremoses, pyflakes, pycodestyle, mccabe, importlib-metadata, dataclasses, transformers, korpora, flake8\n",
            "  Attempting uninstall: xlrd\n",
            "    Found existing installation: xlrd 1.1.0\n",
            "    Uninstalling xlrd-1.1.0:\n",
            "      Successfully uninstalled xlrd-1.1.0\n",
            "  Attempting uninstall: importlib-metadata\n",
            "    Found existing installation: importlib-metadata 4.12.0\n",
            "    Uninstalling importlib-metadata-4.12.0:\n",
            "      Successfully uninstalled importlib-metadata-4.12.0\n",
            "\u001b[31mERROR: pip's dependency resolver does not currently take into account all the packages that are installed. This behaviour is the source of the following dependency conflicts.\n",
            "markdown 3.4.1 requires importlib-metadata>=4.4; python_version < \"3.10\", but you have importlib-metadata 4.2.0 which is incompatible.\n",
            "gym 0.25.1 requires importlib-metadata>=4.8.0; python_version < \"3.10\", but you have importlib-metadata 4.2.0 which is incompatible.\u001b[0m\n",
            "Successfully installed dataclasses-0.6 flake8-5.0.4 importlib-metadata-4.2.0 korpora-0.2.0 mccabe-0.7.0 pycodestyle-2.9.1 pyflakes-2.5.0 sacremoses-0.0.53 sentencepiece-0.1.97 tokenizers-0.8.1rc2 transformers-3.1.0 xlrd-2.0.1\n"
          ]
        }
      ]
    },
    {
      "cell_type": "code",
      "source": [
        "!python setup.py install"
      ],
      "metadata": {
        "colab": {
          "base_uri": "https://localhost:8080/"
        },
        "id": "Ozfv_D5iHgDy",
        "outputId": "a949b792-1cdb-4f55-a099-752c44de34b7"
      },
      "execution_count": null,
      "outputs": [
        {
          "output_type": "stream",
          "name": "stdout",
          "text": [
            "running install\n",
            "running bdist_egg\n",
            "running egg_info\n",
            "writing KoBERTScore.egg-info/PKG-INFO\n",
            "writing dependency_links to KoBERTScore.egg-info/dependency_links.txt\n",
            "writing entry points to KoBERTScore.egg-info/entry_points.txt\n",
            "writing requirements to KoBERTScore.egg-info/requires.txt\n",
            "writing top-level names to KoBERTScore.egg-info/top_level.txt\n",
            "reading manifest template 'MANIFEST.in'\n",
            "writing manifest file 'KoBERTScore.egg-info/SOURCES.txt'\n",
            "installing library code to build/bdist.linux-x86_64/egg\n",
            "running install_lib\n",
            "running build_py\n",
            "creating build/bdist.linux-x86_64/egg\n",
            "creating build/bdist.linux-x86_64/egg/KoBERTScore\n",
            "copying build/lib/KoBERTScore/__init__.py -> build/bdist.linux-x86_64/egg/KoBERTScore\n",
            "copying build/lib/KoBERTScore/tasks.py -> build/bdist.linux-x86_64/egg/KoBERTScore\n",
            "copying build/lib/KoBERTScore/about.py -> build/bdist.linux-x86_64/egg/KoBERTScore\n",
            "copying build/lib/KoBERTScore/cli.py -> build/bdist.linux-x86_64/egg/KoBERTScore\n",
            "copying build/lib/KoBERTScore/score.py -> build/bdist.linux-x86_64/egg/KoBERTScore\n",
            "byte-compiling build/bdist.linux-x86_64/egg/KoBERTScore/__init__.py to __init__.cpython-37.pyc\n",
            "byte-compiling build/bdist.linux-x86_64/egg/KoBERTScore/tasks.py to tasks.cpython-37.pyc\n",
            "byte-compiling build/bdist.linux-x86_64/egg/KoBERTScore/about.py to about.cpython-37.pyc\n",
            "byte-compiling build/bdist.linux-x86_64/egg/KoBERTScore/cli.py to cli.cpython-37.pyc\n",
            "byte-compiling build/bdist.linux-x86_64/egg/KoBERTScore/score.py to score.cpython-37.pyc\n",
            "creating build/bdist.linux-x86_64/egg/EGG-INFO\n",
            "copying KoBERTScore.egg-info/PKG-INFO -> build/bdist.linux-x86_64/egg/EGG-INFO\n",
            "copying KoBERTScore.egg-info/SOURCES.txt -> build/bdist.linux-x86_64/egg/EGG-INFO\n",
            "copying KoBERTScore.egg-info/dependency_links.txt -> build/bdist.linux-x86_64/egg/EGG-INFO\n",
            "copying KoBERTScore.egg-info/entry_points.txt -> build/bdist.linux-x86_64/egg/EGG-INFO\n",
            "copying KoBERTScore.egg-info/requires.txt -> build/bdist.linux-x86_64/egg/EGG-INFO\n",
            "copying KoBERTScore.egg-info/top_level.txt -> build/bdist.linux-x86_64/egg/EGG-INFO\n",
            "zip_safe flag not set; analyzing archive contents...\n",
            "creating 'dist/KoBERTScore-1.0.0-py3.7.egg' and adding 'build/bdist.linux-x86_64/egg' to it\n",
            "removing 'build/bdist.linux-x86_64/egg' (and everything under it)\n",
            "Processing KoBERTScore-1.0.0-py3.7.egg\n",
            "Copying KoBERTScore-1.0.0-py3.7.egg to /usr/local/lib/python3.7/dist-packages\n",
            "Adding KoBERTScore 1.0.0 to easy-install.pth file\n",
            "Installing kobertscore script to /usr/local/bin\n",
            "\n",
            "Installed /usr/local/lib/python3.7/dist-packages/KoBERTScore-1.0.0-py3.7.egg\n",
            "Processing dependencies for KoBERTScore==1.0.0\n",
            "Searching for tqdm==4.64.0\n",
            "Best match: tqdm 4.64.0\n",
            "Adding tqdm 4.64.0 to easy-install.pth file\n",
            "Installing tqdm script to /usr/local/bin\n",
            "\n",
            "Using /usr/local/lib/python3.7/dist-packages\n",
            "Searching for transformers==3.1.0\n",
            "Best match: transformers 3.1.0\n",
            "Adding transformers 3.1.0 to easy-install.pth file\n",
            "Installing transformers-cli script to /usr/local/bin\n",
            "\n",
            "Using /usr/local/lib/python3.7/dist-packages\n",
            "Searching for torch==1.12.1+cu113\n",
            "Best match: torch 1.12.1+cu113\n",
            "Adding torch 1.12.1+cu113 to easy-install.pth file\n",
            "Installing convert-caffe2-to-onnx script to /usr/local/bin\n",
            "Installing convert-onnx-to-caffe2 script to /usr/local/bin\n",
            "Installing torchrun script to /usr/local/bin\n",
            "\n",
            "Using /usr/local/lib/python3.7/dist-packages\n",
            "Searching for scipy==1.7.3\n",
            "Best match: scipy 1.7.3\n",
            "Adding scipy 1.7.3 to easy-install.pth file\n",
            "\n",
            "Using /usr/local/lib/python3.7/dist-packages\n",
            "Searching for flake8==5.0.4\n",
            "Best match: flake8 5.0.4\n",
            "Adding flake8 5.0.4 to easy-install.pth file\n",
            "Installing flake8 script to /usr/local/bin\n",
            "\n",
            "Using /usr/local/lib/python3.7/dist-packages\n",
            "Searching for Korpora==0.2.0\n",
            "Best match: Korpora 0.2.0\n",
            "Adding Korpora 0.2.0 to easy-install.pth file\n",
            "Installing korpora script to /usr/local/bin\n",
            "\n",
            "Using /usr/local/lib/python3.7/dist-packages\n",
            "Searching for bokeh==2.3.3\n",
            "Best match: bokeh 2.3.3\n",
            "Adding bokeh 2.3.3 to easy-install.pth file\n",
            "Installing bokeh script to /usr/local/bin\n",
            "\n",
            "Using /usr/local/lib/python3.7/dist-packages\n",
            "Searching for sacremoses==0.0.53\n",
            "Best match: sacremoses 0.0.53\n",
            "Adding sacremoses 0.0.53 to easy-install.pth file\n",
            "Installing sacremoses script to /usr/local/bin\n",
            "\n",
            "Using /usr/local/lib/python3.7/dist-packages\n",
            "Searching for filelock==3.8.0\n",
            "Best match: filelock 3.8.0\n",
            "Adding filelock 3.8.0 to easy-install.pth file\n",
            "\n",
            "Using /usr/local/lib/python3.7/dist-packages\n",
            "Searching for numpy==1.21.6\n",
            "Best match: numpy 1.21.6\n",
            "Adding numpy 1.21.6 to easy-install.pth file\n",
            "Installing f2py script to /usr/local/bin\n",
            "Installing f2py3 script to /usr/local/bin\n",
            "Installing f2py3.7 script to /usr/local/bin\n",
            "\n",
            "Using /usr/local/lib/python3.7/dist-packages\n",
            "Searching for packaging==21.3\n",
            "Best match: packaging 21.3\n",
            "Adding packaging 21.3 to easy-install.pth file\n",
            "\n",
            "Using /usr/local/lib/python3.7/dist-packages\n",
            "Searching for requests==2.23.0\n",
            "Best match: requests 2.23.0\n",
            "Adding requests 2.23.0 to easy-install.pth file\n",
            "\n",
            "Using /usr/local/lib/python3.7/dist-packages\n",
            "Searching for sentencepiece==0.1.97\n",
            "Best match: sentencepiece 0.1.97\n",
            "Adding sentencepiece 0.1.97 to easy-install.pth file\n",
            "\n",
            "Using /usr/local/lib/python3.7/dist-packages\n",
            "Searching for regex==2022.6.2\n",
            "Best match: regex 2022.6.2\n",
            "Adding regex 2022.6.2 to easy-install.pth file\n",
            "\n",
            "Using /usr/local/lib/python3.7/dist-packages\n",
            "Searching for tokenizers==0.8.1rc2\n",
            "Best match: tokenizers 0.8.1rc2\n",
            "Adding tokenizers 0.8.1rc2 to easy-install.pth file\n",
            "\n",
            "Using /usr/local/lib/python3.7/dist-packages\n",
            "Searching for typing-extensions==4.1.1\n",
            "Best match: typing-extensions 4.1.1\n",
            "Adding typing-extensions 4.1.1 to easy-install.pth file\n",
            "\n",
            "Using /usr/local/lib/python3.7/dist-packages\n",
            "Searching for mccabe==0.7.0\n",
            "Best match: mccabe 0.7.0\n",
            "Adding mccabe 0.7.0 to easy-install.pth file\n",
            "\n",
            "Using /usr/local/lib/python3.7/dist-packages\n",
            "Searching for pyflakes==2.5.0\n",
            "Best match: pyflakes 2.5.0\n",
            "Adding pyflakes 2.5.0 to easy-install.pth file\n",
            "Installing pyflakes script to /usr/local/bin\n",
            "\n",
            "Using /usr/local/lib/python3.7/dist-packages\n",
            "Searching for pycodestyle==2.9.1\n",
            "Best match: pycodestyle 2.9.1\n",
            "Adding pycodestyle 2.9.1 to easy-install.pth file\n",
            "Installing pycodestyle script to /usr/local/bin\n",
            "\n",
            "Using /usr/local/lib/python3.7/dist-packages\n",
            "Searching for importlib-metadata==4.2.0\n",
            "Best match: importlib-metadata 4.2.0\n",
            "Adding importlib-metadata 4.2.0 to easy-install.pth file\n",
            "\n",
            "Using /usr/local/lib/python3.7/dist-packages\n",
            "Searching for dataclasses==0.6\n",
            "Best match: dataclasses 0.6\n",
            "Adding dataclasses 0.6 to easy-install.pth file\n",
            "\n",
            "Using /usr/local/lib/python3.7/dist-packages\n",
            "Searching for xlrd==2.0.1\n",
            "Best match: xlrd 2.0.1\n",
            "Adding xlrd 2.0.1 to easy-install.pth file\n",
            "\n",
            "Using /usr/local/lib/python3.7/dist-packages\n",
            "Searching for PyYAML==6.0\n",
            "Best match: PyYAML 6.0\n",
            "Adding PyYAML 6.0 to easy-install.pth file\n",
            "\n",
            "Using /usr/local/lib/python3.7/dist-packages\n",
            "Searching for Pillow==7.1.2\n",
            "Best match: Pillow 7.1.2\n",
            "Adding Pillow 7.1.2 to easy-install.pth file\n",
            "\n",
            "Using /usr/local/lib/python3.7/dist-packages\n",
            "Searching for tornado==5.1.1\n",
            "Best match: tornado 5.1.1\n",
            "Adding tornado 5.1.1 to easy-install.pth file\n",
            "\n",
            "Using /usr/local/lib/python3.7/dist-packages\n",
            "Searching for Jinja2==2.11.3\n",
            "Best match: Jinja2 2.11.3\n",
            "Adding Jinja2 2.11.3 to easy-install.pth file\n",
            "\n",
            "Using /usr/local/lib/python3.7/dist-packages\n",
            "Searching for python-dateutil==2.8.2\n",
            "Best match: python-dateutil 2.8.2\n",
            "Adding python-dateutil 2.8.2 to easy-install.pth file\n",
            "\n",
            "Using /usr/local/lib/python3.7/dist-packages\n",
            "Searching for six==1.15.0\n",
            "Best match: six 1.15.0\n",
            "Adding six 1.15.0 to easy-install.pth file\n",
            "\n",
            "Using /usr/local/lib/python3.7/dist-packages\n",
            "Searching for click==7.1.2\n",
            "Best match: click 7.1.2\n",
            "Adding click 7.1.2 to easy-install.pth file\n",
            "\n",
            "Using /usr/local/lib/python3.7/dist-packages\n",
            "Searching for joblib==1.1.0\n",
            "Best match: joblib 1.1.0\n",
            "Adding joblib 1.1.0 to easy-install.pth file\n",
            "\n",
            "Using /usr/local/lib/python3.7/dist-packages\n",
            "Searching for pyparsing==3.0.9\n",
            "Best match: pyparsing 3.0.9\n",
            "Adding pyparsing 3.0.9 to easy-install.pth file\n",
            "\n",
            "Using /usr/local/lib/python3.7/dist-packages\n",
            "Searching for urllib3==1.24.3\n",
            "Best match: urllib3 1.24.3\n",
            "Adding urllib3 1.24.3 to easy-install.pth file\n",
            "\n",
            "Using /usr/local/lib/python3.7/dist-packages\n",
            "Searching for chardet==3.0.4\n",
            "Best match: chardet 3.0.4\n",
            "Adding chardet 3.0.4 to easy-install.pth file\n",
            "Installing chardetect script to /usr/local/bin\n",
            "\n",
            "Using /usr/local/lib/python3.7/dist-packages\n",
            "Searching for idna==2.10\n",
            "Best match: idna 2.10\n",
            "Adding idna 2.10 to easy-install.pth file\n",
            "\n",
            "Using /usr/local/lib/python3.7/dist-packages\n",
            "Searching for certifi==2022.6.15\n",
            "Best match: certifi 2022.6.15\n",
            "Adding certifi 2022.6.15 to easy-install.pth file\n",
            "\n",
            "Using /usr/local/lib/python3.7/dist-packages\n",
            "Searching for zipp==3.8.1\n",
            "Best match: zipp 3.8.1\n",
            "Adding zipp 3.8.1 to easy-install.pth file\n",
            "\n",
            "Using /usr/local/lib/python3.7/dist-packages\n",
            "Searching for MarkupSafe==2.0.1\n",
            "Best match: MarkupSafe 2.0.1\n",
            "Adding MarkupSafe 2.0.1 to easy-install.pth file\n",
            "\n",
            "Using /usr/local/lib/python3.7/dist-packages\n",
            "Finished processing dependencies for KoBERTScore==1.0.0\n"
          ]
        }
      ]
    },
    {
      "cell_type": "code",
      "source": [
        "# %cd '/content/drive/MyDrive/Colab Notebooks/graduation_project'"
      ],
      "metadata": {
        "id": "RmvZ1gr-HijO"
      },
      "execution_count": null,
      "outputs": []
    },
    {
      "cell_type": "code",
      "source": [
        "import csv\n",
        "import pandas as pd\n",
        "\n",
        "# references 불러오기\n",
        "with open('/content/drive/MyDrive/Colab Notebooks/graduation_project/data/references.csv', 'r') as data:\n",
        "  train_data= csv.reader(data, delimiter=',')\n",
        "\n",
        "references_df= pd.read_csv('/content/drive/MyDrive/Colab Notebooks/graduation_project/data/references.csv') \n",
        "\n",
        "references_df= references_df[['title', 'summary']]"
      ],
      "metadata": {
        "id": "eB78oHjCpvhO"
      },
      "execution_count": null,
      "outputs": []
    },
    {
      "cell_type": "code",
      "source": [
        "with open('/content/drive/MyDrive/Colab Notebooks/graduation_project/data/test_data_newmodel(gpt)1_after.csv', 'r') as data:\n",
        "  train_data= csv.reader(data, delimiter=',')\n",
        "  # >>>>>>>>>> epoch마다 파일명 수정할 것 <<<<<<<<< (7)\n",
        "\n",
        "candidates_df= pd.read_csv('/content/drive/MyDrive/Colab Notebooks/graduation_project/data/test_data_newmodel(gpt)1_after.csv') \n",
        "  # >>>>>>>>>> epoch마다 파일명 수정할 것 <<<<<<<<< (8)\n",
        "\n",
        "candidates_df= candidates_df[['test_text', 'summary']]"
      ],
      "metadata": {
        "id": "MMWsfnaYMSKB"
      },
      "execution_count": null,
      "outputs": []
    },
    {
      "cell_type": "code",
      "source": [
        "references_df.head()"
      ],
      "metadata": {
        "id": "qWkGIyAiqqeI",
        "colab": {
          "base_uri": "https://localhost:8080/",
          "height": 206
        },
        "outputId": "68c41d73-1bdf-4dc9-bf9b-7e16f6b9ad27"
      },
      "execution_count": null,
      "outputs": [
        {
          "output_type": "execute_result",
          "data": {
            "text/plain": [
              "              title                                            summary\n",
              "0  2018년 3월 29일 목요일  당신은 예쁜 사람이니까 자책할 필요 없다고 생각해요. 당신을 사랑해줄 사람과 연애를...\n",
              "1  김동률 오래된콘서트를 기념하며  김동률의 공연을 보며 크게 감명을 받았군요. 인생에서 좋았던 순간들에 한 장면이 추...\n",
              "2   성인간호학 중환자실 실습후기  중환자실 실습을 했군요. 기관절개 한 곳으로 가래가 넘쳐 나온 걸 연차가 높으신 선...\n",
              "3            반포한강에서  뱐포 한강에 가서 남준이의 노래를 들었군요. 남준이를 굉장히 좋아하나봐요. 그리고 ...\n",
              "4         햄버거를 먹었다.  오랜만에 햄버거를 먹었군요! 햄버거를 묘사한 글에서 햄버거에 대한 당신의 애정이 느..."
            ],
            "text/html": [
              "\n",
              "  <div id=\"df-1743ba29-fbc0-4655-8082-96f5b6a8c7fb\">\n",
              "    <div class=\"colab-df-container\">\n",
              "      <div>\n",
              "<style scoped>\n",
              "    .dataframe tbody tr th:only-of-type {\n",
              "        vertical-align: middle;\n",
              "    }\n",
              "\n",
              "    .dataframe tbody tr th {\n",
              "        vertical-align: top;\n",
              "    }\n",
              "\n",
              "    .dataframe thead th {\n",
              "        text-align: right;\n",
              "    }\n",
              "</style>\n",
              "<table border=\"1\" class=\"dataframe\">\n",
              "  <thead>\n",
              "    <tr style=\"text-align: right;\">\n",
              "      <th></th>\n",
              "      <th>title</th>\n",
              "      <th>summary</th>\n",
              "    </tr>\n",
              "  </thead>\n",
              "  <tbody>\n",
              "    <tr>\n",
              "      <th>0</th>\n",
              "      <td>2018년 3월 29일 목요일</td>\n",
              "      <td>당신은 예쁜 사람이니까 자책할 필요 없다고 생각해요. 당신을 사랑해줄 사람과 연애를...</td>\n",
              "    </tr>\n",
              "    <tr>\n",
              "      <th>1</th>\n",
              "      <td>김동률 오래된콘서트를 기념하며</td>\n",
              "      <td>김동률의 공연을 보며 크게 감명을 받았군요. 인생에서 좋았던 순간들에 한 장면이 추...</td>\n",
              "    </tr>\n",
              "    <tr>\n",
              "      <th>2</th>\n",
              "      <td>성인간호학 중환자실 실습후기</td>\n",
              "      <td>중환자실 실습을 했군요. 기관절개 한 곳으로 가래가 넘쳐 나온 걸 연차가 높으신 선...</td>\n",
              "    </tr>\n",
              "    <tr>\n",
              "      <th>3</th>\n",
              "      <td>반포한강에서</td>\n",
              "      <td>뱐포 한강에 가서 남준이의 노래를 들었군요. 남준이를 굉장히 좋아하나봐요. 그리고 ...</td>\n",
              "    </tr>\n",
              "    <tr>\n",
              "      <th>4</th>\n",
              "      <td>햄버거를 먹었다.</td>\n",
              "      <td>오랜만에 햄버거를 먹었군요! 햄버거를 묘사한 글에서 햄버거에 대한 당신의 애정이 느...</td>\n",
              "    </tr>\n",
              "  </tbody>\n",
              "</table>\n",
              "</div>\n",
              "      <button class=\"colab-df-convert\" onclick=\"convertToInteractive('df-1743ba29-fbc0-4655-8082-96f5b6a8c7fb')\"\n",
              "              title=\"Convert this dataframe to an interactive table.\"\n",
              "              style=\"display:none;\">\n",
              "        \n",
              "  <svg xmlns=\"http://www.w3.org/2000/svg\" height=\"24px\"viewBox=\"0 0 24 24\"\n",
              "       width=\"24px\">\n",
              "    <path d=\"M0 0h24v24H0V0z\" fill=\"none\"/>\n",
              "    <path d=\"M18.56 5.44l.94 2.06.94-2.06 2.06-.94-2.06-.94-.94-2.06-.94 2.06-2.06.94zm-11 1L8.5 8.5l.94-2.06 2.06-.94-2.06-.94L8.5 2.5l-.94 2.06-2.06.94zm10 10l.94 2.06.94-2.06 2.06-.94-2.06-.94-.94-2.06-.94 2.06-2.06.94z\"/><path d=\"M17.41 7.96l-1.37-1.37c-.4-.4-.92-.59-1.43-.59-.52 0-1.04.2-1.43.59L10.3 9.45l-7.72 7.72c-.78.78-.78 2.05 0 2.83L4 21.41c.39.39.9.59 1.41.59.51 0 1.02-.2 1.41-.59l7.78-7.78 2.81-2.81c.8-.78.8-2.07 0-2.86zM5.41 20L4 18.59l7.72-7.72 1.47 1.35L5.41 20z\"/>\n",
              "  </svg>\n",
              "      </button>\n",
              "      \n",
              "  <style>\n",
              "    .colab-df-container {\n",
              "      display:flex;\n",
              "      flex-wrap:wrap;\n",
              "      gap: 12px;\n",
              "    }\n",
              "\n",
              "    .colab-df-convert {\n",
              "      background-color: #E8F0FE;\n",
              "      border: none;\n",
              "      border-radius: 50%;\n",
              "      cursor: pointer;\n",
              "      display: none;\n",
              "      fill: #1967D2;\n",
              "      height: 32px;\n",
              "      padding: 0 0 0 0;\n",
              "      width: 32px;\n",
              "    }\n",
              "\n",
              "    .colab-df-convert:hover {\n",
              "      background-color: #E2EBFA;\n",
              "      box-shadow: 0px 1px 2px rgba(60, 64, 67, 0.3), 0px 1px 3px 1px rgba(60, 64, 67, 0.15);\n",
              "      fill: #174EA6;\n",
              "    }\n",
              "\n",
              "    [theme=dark] .colab-df-convert {\n",
              "      background-color: #3B4455;\n",
              "      fill: #D2E3FC;\n",
              "    }\n",
              "\n",
              "    [theme=dark] .colab-df-convert:hover {\n",
              "      background-color: #434B5C;\n",
              "      box-shadow: 0px 1px 3px 1px rgba(0, 0, 0, 0.15);\n",
              "      filter: drop-shadow(0px 1px 2px rgba(0, 0, 0, 0.3));\n",
              "      fill: #FFFFFF;\n",
              "    }\n",
              "  </style>\n",
              "\n",
              "      <script>\n",
              "        const buttonEl =\n",
              "          document.querySelector('#df-1743ba29-fbc0-4655-8082-96f5b6a8c7fb button.colab-df-convert');\n",
              "        buttonEl.style.display =\n",
              "          google.colab.kernel.accessAllowed ? 'block' : 'none';\n",
              "\n",
              "        async function convertToInteractive(key) {\n",
              "          const element = document.querySelector('#df-1743ba29-fbc0-4655-8082-96f5b6a8c7fb');\n",
              "          const dataTable =\n",
              "            await google.colab.kernel.invokeFunction('convertToInteractive',\n",
              "                                                     [key], {});\n",
              "          if (!dataTable) return;\n",
              "\n",
              "          const docLinkHtml = 'Like what you see? Visit the ' +\n",
              "            '<a target=\"_blank\" href=https://colab.research.google.com/notebooks/data_table.ipynb>data table notebook</a>'\n",
              "            + ' to learn more about interactive tables.';\n",
              "          element.innerHTML = '';\n",
              "          dataTable['output_type'] = 'display_data';\n",
              "          await google.colab.output.renderOutput(dataTable, element);\n",
              "          const docLink = document.createElement('div');\n",
              "          docLink.innerHTML = docLinkHtml;\n",
              "          element.appendChild(docLink);\n",
              "        }\n",
              "      </script>\n",
              "    </div>\n",
              "  </div>\n",
              "  "
            ]
          },
          "metadata": {},
          "execution_count": 8
        }
      ]
    },
    {
      "cell_type": "code",
      "source": [
        "candidates_df.head()"
      ],
      "metadata": {
        "colab": {
          "base_uri": "https://localhost:8080/",
          "height": 337
        },
        "id": "WHAi3vuyMlKp",
        "outputId": "76c267cb-1b1d-469a-8735-71f7922c18a2"
      },
      "execution_count": null,
      "outputs": [
        {
          "output_type": "execute_result",
          "data": {
            "text/plain": [
              "                                           test_text  \\\n",
              "0  [2018년 3월 29일 목요일]  나를 사랑하는 연습 어떻게 하면 나를 사랑할 수...   \n",
              "1  [김동률 오래된콘서트를 기념하며]  김동률이 부르는 노래와 나의 인연은 2015년 ...   \n",
              "2  [성인간호학 중환자실 실습후기]  2017 1월 2일 월요일 수간호사선선생님의 ot...   \n",
              "3  [반포한강에서]  바람이 꽤 쌀쌀해 콧물을 훌쩍이는 날씨에 반포한강에 왔다. 고속버...   \n",
              "4  [햄버거를 먹었다.]  말 그대로 햄버거를 먹었다. 아버지와 둘이서. 원래 아버지는...   \n",
              "\n",
              "                                             summary  \n",
              "0   당신은 분명 나 자신이 될 거예요. 당신의 마음이 답답한 것 같지만, 내가 잘 할...  \n",
              "1                괌 여행을 다녀와서 동률을 알려준다는 건 정말 뜻이에요!</s>  \n",
              "2  괜찮은 상태를 고치느라 힘들었을 것 같아요. 하지만 당신은 분명 좋은 사람인일이었을...  \n",
              "3   비가 많이 내려서 우산을 타고 서울역으로 갔군요. 그래도 무사히 도착해서 다행이에...  \n",
              "4   맛있는 걸로테러 가고, 친구와 함께 놀았군요. 당신은 정말 좋아하는 아이돌 그룹입...  "
            ],
            "text/html": [
              "\n",
              "  <div id=\"df-0d7cea25-6743-4409-9e19-9c19d8e57f0c\">\n",
              "    <div class=\"colab-df-container\">\n",
              "      <div>\n",
              "<style scoped>\n",
              "    .dataframe tbody tr th:only-of-type {\n",
              "        vertical-align: middle;\n",
              "    }\n",
              "\n",
              "    .dataframe tbody tr th {\n",
              "        vertical-align: top;\n",
              "    }\n",
              "\n",
              "    .dataframe thead th {\n",
              "        text-align: right;\n",
              "    }\n",
              "</style>\n",
              "<table border=\"1\" class=\"dataframe\">\n",
              "  <thead>\n",
              "    <tr style=\"text-align: right;\">\n",
              "      <th></th>\n",
              "      <th>test_text</th>\n",
              "      <th>summary</th>\n",
              "    </tr>\n",
              "  </thead>\n",
              "  <tbody>\n",
              "    <tr>\n",
              "      <th>0</th>\n",
              "      <td>[2018년 3월 29일 목요일]  나를 사랑하는 연습 어떻게 하면 나를 사랑할 수...</td>\n",
              "      <td>당신은 분명 나 자신이 될 거예요. 당신의 마음이 답답한 것 같지만, 내가 잘 할...</td>\n",
              "    </tr>\n",
              "    <tr>\n",
              "      <th>1</th>\n",
              "      <td>[김동률 오래된콘서트를 기념하며]  김동률이 부르는 노래와 나의 인연은 2015년 ...</td>\n",
              "      <td>괌 여행을 다녀와서 동률을 알려준다는 건 정말 뜻이에요!&lt;/s&gt;</td>\n",
              "    </tr>\n",
              "    <tr>\n",
              "      <th>2</th>\n",
              "      <td>[성인간호학 중환자실 실습후기]  2017 1월 2일 월요일 수간호사선선생님의 ot...</td>\n",
              "      <td>괜찮은 상태를 고치느라 힘들었을 것 같아요. 하지만 당신은 분명 좋은 사람인일이었을...</td>\n",
              "    </tr>\n",
              "    <tr>\n",
              "      <th>3</th>\n",
              "      <td>[반포한강에서]  바람이 꽤 쌀쌀해 콧물을 훌쩍이는 날씨에 반포한강에 왔다. 고속버...</td>\n",
              "      <td>비가 많이 내려서 우산을 타고 서울역으로 갔군요. 그래도 무사히 도착해서 다행이에...</td>\n",
              "    </tr>\n",
              "    <tr>\n",
              "      <th>4</th>\n",
              "      <td>[햄버거를 먹었다.]  말 그대로 햄버거를 먹었다. 아버지와 둘이서. 원래 아버지는...</td>\n",
              "      <td>맛있는 걸로테러 가고, 친구와 함께 놀았군요. 당신은 정말 좋아하는 아이돌 그룹입...</td>\n",
              "    </tr>\n",
              "  </tbody>\n",
              "</table>\n",
              "</div>\n",
              "      <button class=\"colab-df-convert\" onclick=\"convertToInteractive('df-0d7cea25-6743-4409-9e19-9c19d8e57f0c')\"\n",
              "              title=\"Convert this dataframe to an interactive table.\"\n",
              "              style=\"display:none;\">\n",
              "        \n",
              "  <svg xmlns=\"http://www.w3.org/2000/svg\" height=\"24px\"viewBox=\"0 0 24 24\"\n",
              "       width=\"24px\">\n",
              "    <path d=\"M0 0h24v24H0V0z\" fill=\"none\"/>\n",
              "    <path d=\"M18.56 5.44l.94 2.06.94-2.06 2.06-.94-2.06-.94-.94-2.06-.94 2.06-2.06.94zm-11 1L8.5 8.5l.94-2.06 2.06-.94-2.06-.94L8.5 2.5l-.94 2.06-2.06.94zm10 10l.94 2.06.94-2.06 2.06-.94-2.06-.94-.94-2.06-.94 2.06-2.06.94z\"/><path d=\"M17.41 7.96l-1.37-1.37c-.4-.4-.92-.59-1.43-.59-.52 0-1.04.2-1.43.59L10.3 9.45l-7.72 7.72c-.78.78-.78 2.05 0 2.83L4 21.41c.39.39.9.59 1.41.59.51 0 1.02-.2 1.41-.59l7.78-7.78 2.81-2.81c.8-.78.8-2.07 0-2.86zM5.41 20L4 18.59l7.72-7.72 1.47 1.35L5.41 20z\"/>\n",
              "  </svg>\n",
              "      </button>\n",
              "      \n",
              "  <style>\n",
              "    .colab-df-container {\n",
              "      display:flex;\n",
              "      flex-wrap:wrap;\n",
              "      gap: 12px;\n",
              "    }\n",
              "\n",
              "    .colab-df-convert {\n",
              "      background-color: #E8F0FE;\n",
              "      border: none;\n",
              "      border-radius: 50%;\n",
              "      cursor: pointer;\n",
              "      display: none;\n",
              "      fill: #1967D2;\n",
              "      height: 32px;\n",
              "      padding: 0 0 0 0;\n",
              "      width: 32px;\n",
              "    }\n",
              "\n",
              "    .colab-df-convert:hover {\n",
              "      background-color: #E2EBFA;\n",
              "      box-shadow: 0px 1px 2px rgba(60, 64, 67, 0.3), 0px 1px 3px 1px rgba(60, 64, 67, 0.15);\n",
              "      fill: #174EA6;\n",
              "    }\n",
              "\n",
              "    [theme=dark] .colab-df-convert {\n",
              "      background-color: #3B4455;\n",
              "      fill: #D2E3FC;\n",
              "    }\n",
              "\n",
              "    [theme=dark] .colab-df-convert:hover {\n",
              "      background-color: #434B5C;\n",
              "      box-shadow: 0px 1px 3px 1px rgba(0, 0, 0, 0.15);\n",
              "      filter: drop-shadow(0px 1px 2px rgba(0, 0, 0, 0.3));\n",
              "      fill: #FFFFFF;\n",
              "    }\n",
              "  </style>\n",
              "\n",
              "      <script>\n",
              "        const buttonEl =\n",
              "          document.querySelector('#df-0d7cea25-6743-4409-9e19-9c19d8e57f0c button.colab-df-convert');\n",
              "        buttonEl.style.display =\n",
              "          google.colab.kernel.accessAllowed ? 'block' : 'none';\n",
              "\n",
              "        async function convertToInteractive(key) {\n",
              "          const element = document.querySelector('#df-0d7cea25-6743-4409-9e19-9c19d8e57f0c');\n",
              "          const dataTable =\n",
              "            await google.colab.kernel.invokeFunction('convertToInteractive',\n",
              "                                                     [key], {});\n",
              "          if (!dataTable) return;\n",
              "\n",
              "          const docLinkHtml = 'Like what you see? Visit the ' +\n",
              "            '<a target=\"_blank\" href=https://colab.research.google.com/notebooks/data_table.ipynb>data table notebook</a>'\n",
              "            + ' to learn more about interactive tables.';\n",
              "          element.innerHTML = '';\n",
              "          dataTable['output_type'] = 'display_data';\n",
              "          await google.colab.output.renderOutput(dataTable, element);\n",
              "          const docLink = document.createElement('div');\n",
              "          docLink.innerHTML = docLinkHtml;\n",
              "          element.appendChild(docLink);\n",
              "        }\n",
              "      </script>\n",
              "    </div>\n",
              "  </div>\n",
              "  "
            ]
          },
          "metadata": {},
          "execution_count": 9
        }
      ]
    },
    {
      "cell_type": "code",
      "source": [
        "# bert score\n",
        "from KoBERTScore import BERTScore\n",
        "\n",
        "model_name = \"beomi/kcbert-base\"\n",
        "bertscore = BERTScore(model_name, best_layer=4)"
      ],
      "metadata": {
        "id": "__mPd7J-hQt5",
        "colab": {
          "base_uri": "https://localhost:8080/",
          "height": 163,
          "referenced_widgets": [
            "8d6ddcb0399c40a9b2e2809001d06453",
            "5f7c3c5fb5374b93b9a4f674a0078b30",
            "4d2cf26a50cb49249fc8c7dd8577687f",
            "ac1579579abc40a896bb28c87da22190",
            "79b35c293d7740daaecd7ce9170df753",
            "e81f2497cc4f4cb2ba8fa00d024ba868",
            "0459e7f4717f4de3b42445f75031ee75",
            "316f1aa724f04bef8d13eb7df4be4177",
            "321f299a351b4ee88fdfab071d1849f4",
            "b4c21307b5da48fba741732039861d55",
            "4f58e080e9cf4fb5b581f2c263736c8d",
            "0323e3b2d6ac4cd9ba7bba1c4452e9ea",
            "e18298be42984a3080c8216909caf7e9",
            "8a2065cde13e4aec96861fb82a2c4f9a",
            "a3086ca530064f64ad8823ff052a6afb",
            "82571755353c4cec8bf568cd002db14b",
            "bf37a479a0134ad0a36360c5c4436d52",
            "4619c1835b20427dbe8ced6270e3bd88",
            "d4215c7f987e4e1c916825101bb2ac13",
            "cf65052efe3c43fbbaeb2284f6a8c03b",
            "71e81929982e40629b091b7e30410087",
            "6e59322947844f5f8ced7415079e5393",
            "4de37c14b3fe44e09f559cb3109f66b1",
            "278ad256f6704d92ab148a12b37929c6",
            "84d67f30e42d4c86b36c5a825231bd9e",
            "7280c13eccb9459db18c16a0774c9b5d",
            "447907587fc64f0da09c6d8833c2a4c6",
            "87bcb7cc2f784f08ad4fc4097a17df8f",
            "809602515d7c40389df1140acbd65723",
            "8098860ca5204dbab1ed47a3f3bfa634",
            "c0f6269ab6cb40b8805e940da5904a6a",
            "f89475aae8c84e55b875970f064e76cd",
            "e7372038d04743f0942d5e79317015ae",
            "a0c120f878334f3ea92b561dc6885191",
            "c03bc81540f842698faec0b1ba9f7187",
            "55debc0191f8432d8decbebefd2cffb8",
            "751fb9547f384edb843ae51a2dabbedf",
            "b1279dd1c2314cbdb28404200754ac71",
            "e4a363f0cc324e5ba285d433fc52f983",
            "ce84f7ec4d0b478495c3869de948f56c",
            "7bd83158c85c4fe3952a8e9c59dfd238",
            "1ba64f1fd16540cf838c8aebd16b15a3",
            "61f2b05a3c2e469c93cffc884db008e7",
            "d93f71b827ca473c991cd38b88cd9d78"
          ]
        },
        "outputId": "711167db-1b32-4878-934a-576375dd8e71"
      },
      "execution_count": null,
      "outputs": [
        {
          "output_type": "display_data",
          "data": {
            "text/plain": [
              "Downloading:   0%|          | 0.00/250k [00:00<?, ?B/s]"
            ],
            "application/vnd.jupyter.widget-view+json": {
              "version_major": 2,
              "version_minor": 0,
              "model_id": "8d6ddcb0399c40a9b2e2809001d06453"
            }
          },
          "metadata": {}
        },
        {
          "output_type": "display_data",
          "data": {
            "text/plain": [
              "Downloading:   0%|          | 0.00/49.0 [00:00<?, ?B/s]"
            ],
            "application/vnd.jupyter.widget-view+json": {
              "version_major": 2,
              "version_minor": 0,
              "model_id": "0323e3b2d6ac4cd9ba7bba1c4452e9ea"
            }
          },
          "metadata": {}
        },
        {
          "output_type": "display_data",
          "data": {
            "text/plain": [
              "Downloading:   0%|          | 0.00/619 [00:00<?, ?B/s]"
            ],
            "application/vnd.jupyter.widget-view+json": {
              "version_major": 2,
              "version_minor": 0,
              "model_id": "4de37c14b3fe44e09f559cb3109f66b1"
            }
          },
          "metadata": {}
        },
        {
          "output_type": "display_data",
          "data": {
            "text/plain": [
              "Downloading:   0%|          | 0.00/438M [00:00<?, ?B/s]"
            ],
            "application/vnd.jupyter.widget-view+json": {
              "version_major": 2,
              "version_minor": 0,
              "model_id": "a0c120f878334f3ea92b561dc6885191"
            }
          },
          "metadata": {}
        },
        {
          "output_type": "stream",
          "name": "stdout",
          "text": [
            "Load beomi/kcbert-base with 4 layers\n"
          ]
        }
      ]
    },
    {
      "cell_type": "code",
      "source": [
        "# candidates_df['summary']\n",
        "# references_df['summary']"
      ],
      "metadata": {
        "id": "vXb-FdjcLdXi"
      },
      "execution_count": null,
      "outputs": []
    },
    {
      "cell_type": "code",
      "source": [
        "# references : 사람이 만든 요약문\n",
        "# candidates : 기계가 만든 요약문\n",
        "score=list()\n",
        "\n",
        "# list로 들어가야함\n",
        "references = references_df['summary']\n",
        "candidates = candidates_df['summary']\n",
        "\n",
        "score.append(bertscore(references, candidates, batch_size=8))"
      ],
      "metadata": {
        "id": "A9cXmOoyoG-Q",
        "colab": {
          "base_uri": "https://localhost:8080/"
        },
        "outputId": "a6d78cbd-b02e-4eb2-b916-fe295317c67c"
      },
      "execution_count": null,
      "outputs": [
        {
          "output_type": "stream",
          "name": "stderr",
          "text": [
            "Calculating BERTScore:   0%|          | 0/4 [00:00<?, ?it/s]\n",
            "Train IDF: 1it [00:00, 77.26it/s]\n",
            "Calculating BERTScore: 100%|██████████| 4/4 [00:00<00:00, 22.50it/s]\n"
          ]
        }
      ]
    },
    {
      "cell_type": "code",
      "source": [
        "import numpy as np\n",
        "\n",
        "mean_score= np.mean(score[0])"
      ],
      "metadata": {
        "id": "eZ50EK7JSMyH"
      },
      "execution_count": null,
      "outputs": []
    },
    {
      "cell_type": "code",
      "source": [
        "print(mean_score)\n",
        "score[0]"
      ],
      "metadata": {
        "colab": {
          "base_uri": "https://localhost:8080/"
        },
        "id": "yJjfcKBCSk0f",
        "outputId": "3697f0b5-a55f-409c-ccd4-480667fc137e"
      },
      "execution_count": null,
      "outputs": [
        {
          "output_type": "stream",
          "name": "stdout",
          "text": [
            "0.508772192462798\n"
          ]
        },
        {
          "output_type": "execute_result",
          "data": {
            "text/plain": [
              "[0.6613271236419678,\n",
              " 0.559963047504425,\n",
              " 0.5623078942298889,\n",
              " 0.5450291037559509,\n",
              " 0.4445590674877167,\n",
              " 0.554026186466217,\n",
              " 0.35719966888427734,\n",
              " 0.4983202815055847,\n",
              " 0.5526773929595947,\n",
              " 0.47905832529067993,\n",
              " 0.49657580256462097,\n",
              " 0.5717474222183228,\n",
              " 0.4900602102279663,\n",
              " 0.39512234926223755,\n",
              " 0.4815613031387329,\n",
              " 0.5029053688049316,\n",
              " 0.36121100187301636,\n",
              " 0.5700283050537109,\n",
              " 0.41713106632232666,\n",
              " 0.42842233180999756,\n",
              " 0.5477308034896851,\n",
              " 0.5363696217536926,\n",
              " 0.5427787899971008,\n",
              " 0.4787497818470001,\n",
              " 0.5737388730049133,\n",
              " 0.6413412690162659,\n",
              " 0.5324189066886902,\n",
              " 0.5028055310249329,\n",
              " 0.4910717010498047,\n",
              " 0.5265694260597229,\n",
              " 0.4691300094127655]"
            ]
          },
          "metadata": {},
          "execution_count": 19
        }
      ]
    },
    {
      "cell_type": "markdown",
      "source": [
        "( BLEU score )\n",
        "\n",
        "https://www.digitalocean.com/community/tutorials/bleu-score-in-python"
      ],
      "metadata": {
        "id": "Y0CMT66nfo-u"
      }
    },
    {
      "cell_type": "code",
      "source": [
        "from nltk.translate.bleu_score import sentence_bleu"
      ],
      "metadata": {
        "id": "jYI3CV6OLYid"
      },
      "execution_count": null,
      "outputs": []
    },
    {
      "cell_type": "code",
      "source": [
        "bl_references = references_df['summary']\n",
        "bl_candidates = candidates_df['summary']"
      ],
      "metadata": {
        "id": "IrVTgwkHgb6q"
      },
      "execution_count": null,
      "outputs": []
    },
    {
      "cell_type": "code",
      "source": [
        "bl_references_s= list()\n",
        "bl_candidates_s= list()\n",
        "\n",
        "for i in range(len(bl_references)):\n",
        "  temp= bl_references[i].split()\n",
        "  bl_references_s.append(temp)\n",
        "\n",
        "for i in range(len(bl_candidates)):\n",
        "  temp= bl_candidates[i].split()\n",
        "  bl_candidates_s.append(temp)"
      ],
      "metadata": {
        "id": "MOsKJ72MhMDz"
      },
      "execution_count": null,
      "outputs": []
    },
    {
      "cell_type": "code",
      "source": [
        "print(bl_references_s[0])\n",
        "print(bl_candidates_s[0])"
      ],
      "metadata": {
        "colab": {
          "base_uri": "https://localhost:8080/"
        },
        "id": "o8rKJfCDhXPx",
        "outputId": "9c3d06f9-94b4-479f-e787-b6e57230e41d"
      },
      "execution_count": null,
      "outputs": [
        {
          "output_type": "stream",
          "name": "stdout",
          "text": [
            "['당신은', '예쁜', '사람이니까', '자책할', '필요', '없다고', '생각해요.', '당신을', '사랑해줄', '사람과', '연애를', '하게', '되기를', '기원할게요.']\n",
            "['당신은', '정말', '소중한', '사람일', '거예요.', '당신의', '우울한', '일기를', '꾸준히', '써보겠다고', '했겠어요!</s>']\n"
          ]
        }
      ]
    },
    {
      "cell_type": "code",
      "source": [
        "bleu_score= list()\n",
        "\n",
        "for i in range(len(bl_candidates_s)):\n",
        "  bleu_score.append(sentence_bleu(bl_references_s, bl_candidates_s[i]))"
      ],
      "metadata": {
        "colab": {
          "base_uri": "https://localhost:8080/"
        },
        "id": "cwJnGvvNiZCF",
        "outputId": "25e7c299-0866-4dd1-c5cd-073da8aa5751"
      },
      "execution_count": null,
      "outputs": [
        {
          "output_type": "stream",
          "name": "stderr",
          "text": [
            "/usr/local/lib/python3.7/dist-packages/nltk/translate/bleu_score.py:552: UserWarning: \n",
            "The hypothesis contains 0 counts of 2-gram overlaps.\n",
            "Therefore the BLEU score evaluates to 0, independently of\n",
            "how many N-gram overlaps of lower order it contains.\n",
            "Consider using lower n-gram order or use SmoothingFunction()\n",
            "  warnings.warn(_msg)\n",
            "/usr/local/lib/python3.7/dist-packages/nltk/translate/bleu_score.py:552: UserWarning: \n",
            "The hypothesis contains 0 counts of 3-gram overlaps.\n",
            "Therefore the BLEU score evaluates to 0, independently of\n",
            "how many N-gram overlaps of lower order it contains.\n",
            "Consider using lower n-gram order or use SmoothingFunction()\n",
            "  warnings.warn(_msg)\n",
            "/usr/local/lib/python3.7/dist-packages/nltk/translate/bleu_score.py:552: UserWarning: \n",
            "The hypothesis contains 0 counts of 4-gram overlaps.\n",
            "Therefore the BLEU score evaluates to 0, independently of\n",
            "how many N-gram overlaps of lower order it contains.\n",
            "Consider using lower n-gram order or use SmoothingFunction()\n",
            "  warnings.warn(_msg)\n"
          ]
        }
      ]
    },
    {
      "cell_type": "code",
      "source": [
        "bleu_score"
      ],
      "metadata": {
        "colab": {
          "base_uri": "https://localhost:8080/"
        },
        "id": "fEHYIcLTkvC2",
        "outputId": "d3a5e3d3-c6e3-41fe-f7c7-31e1d9617698"
      },
      "execution_count": null,
      "outputs": [
        {
          "output_type": "execute_result",
          "data": {
            "text/plain": [
              "[1.1388294875424009e-231,\n",
              " 6.5397857717545986e-155,\n",
              " 1.1388294875424009e-231,\n",
              " 1.171778691554733e-231,\n",
              " 1.337299023427136e-231,\n",
              " 5.8442165442547524e-155,\n",
              " 5.4227507780138046e-232,\n",
              " 5.978665957199477e-155,\n",
              " 5.806795361477156e-155,\n",
              " 8.212048754125947e-155,\n",
              " 1.328488253493217e-231,\n",
              " 6.734343721752972e-232,\n",
              " 8.313696654408263e-155,\n",
              " 6.072910347203158e-155,\n",
              " 5.843526464362002e-155,\n",
              " 1.2395288183339461e-231,\n",
              " 6.197842970161413e-155,\n",
              " 7.690513323747095e-155,\n",
              " 6.161434453505796e-232,\n",
              " 5.447474599023752e-155,\n",
              " 6.164444051541174e-155,\n",
              " 1.6034157163765524e-231,\n",
              " 6.9960774230227766e-155,\n",
              " 4.854408244229234e-155,\n",
              " 4.393462061369695e-155,\n",
              " 1.556890273854021e-231,\n",
              " 5.428795743489114e-155,\n",
              " 2.250493055448548e-78,\n",
              " 8.723297561929817e-155,\n",
              " 5.681181685872076e-155,\n",
              " 6.577920249432179e-155]"
            ]
          },
          "metadata": {},
          "execution_count": 51
        }
      ]
    },
    {
      "cell_type": "code",
      "source": [],
      "metadata": {
        "id": "gyZ7Tj_qldJ5"
      },
      "execution_count": null,
      "outputs": []
    }
  ],
  "metadata": {
    "colab": {
      "collapsed_sections": [],
      "machine_shape": "hm",
      "provenance": [],
      "authorship_tag": "ABX9TyOSPjnk1ofzznX4dALW5i3p",
      "include_colab_link": true
    },
    "kernelspec": {
      "display_name": "Python 3",
      "name": "python3"
    },
    "language_info": {
      "name": "python"
    },
    "accelerator": "GPU",
    "widgets": {
      "application/vnd.jupyter.widget-state+json": {
        "cf65d2631a634864a8cefacac3542585": {
          "model_module": "@jupyter-widgets/controls",
          "model_name": "HBoxModel",
          "model_module_version": "1.5.0",
          "state": {
            "_dom_classes": [],
            "_model_module": "@jupyter-widgets/controls",
            "_model_module_version": "1.5.0",
            "_model_name": "HBoxModel",
            "_view_count": null,
            "_view_module": "@jupyter-widgets/controls",
            "_view_module_version": "1.5.0",
            "_view_name": "HBoxView",
            "box_style": "",
            "children": [
              "IPY_MODEL_2e8401bfa53d4280bf62a69cc76aba56",
              "IPY_MODEL_eeef4c2e7d1d40fea52d1e383a663e0c",
              "IPY_MODEL_89df8fc8509e4c709c22c43edfc5293f"
            ],
            "layout": "IPY_MODEL_199782347c65493f8cfc30af20bb3b26"
          }
        },
        "2e8401bfa53d4280bf62a69cc76aba56": {
          "model_module": "@jupyter-widgets/controls",
          "model_name": "HTMLModel",
          "model_module_version": "1.5.0",
          "state": {
            "_dom_classes": [],
            "_model_module": "@jupyter-widgets/controls",
            "_model_module_version": "1.5.0",
            "_model_name": "HTMLModel",
            "_view_count": null,
            "_view_module": "@jupyter-widgets/controls",
            "_view_module_version": "1.5.0",
            "_view_name": "HTMLView",
            "description": "",
            "description_tooltip": null,
            "layout": "IPY_MODEL_a2e0e4c131874e27929bf6b40e1d85d7",
            "placeholder": "​",
            "style": "IPY_MODEL_9058a0b6ca8e459eadc86c611ffea4b3",
            "value": "Downloading: 100%"
          }
        },
        "eeef4c2e7d1d40fea52d1e383a663e0c": {
          "model_module": "@jupyter-widgets/controls",
          "model_name": "FloatProgressModel",
          "model_module_version": "1.5.0",
          "state": {
            "_dom_classes": [],
            "_model_module": "@jupyter-widgets/controls",
            "_model_module_version": "1.5.0",
            "_model_name": "FloatProgressModel",
            "_view_count": null,
            "_view_module": "@jupyter-widgets/controls",
            "_view_module_version": "1.5.0",
            "_view_name": "ProgressView",
            "bar_style": "success",
            "description": "",
            "description_tooltip": null,
            "layout": "IPY_MODEL_cd0bbbba87b74faca8afb98b18f77afa",
            "max": 2825034,
            "min": 0,
            "orientation": "horizontal",
            "style": "IPY_MODEL_64351f6160bd4e8c899e39926b3e1466",
            "value": 2825034
          }
        },
        "89df8fc8509e4c709c22c43edfc5293f": {
          "model_module": "@jupyter-widgets/controls",
          "model_name": "HTMLModel",
          "model_module_version": "1.5.0",
          "state": {
            "_dom_classes": [],
            "_model_module": "@jupyter-widgets/controls",
            "_model_module_version": "1.5.0",
            "_model_name": "HTMLModel",
            "_view_count": null,
            "_view_module": "@jupyter-widgets/controls",
            "_view_module_version": "1.5.0",
            "_view_name": "HTMLView",
            "description": "",
            "description_tooltip": null,
            "layout": "IPY_MODEL_7b46a3ed0b5d4e18a1fa2a2e0f3da5e9",
            "placeholder": "​",
            "style": "IPY_MODEL_e8e3990f663847d8bd387c6ea9154af6",
            "value": " 2.69M/2.69M [00:00&lt;00:00, 3.10MB/s]"
          }
        },
        "199782347c65493f8cfc30af20bb3b26": {
          "model_module": "@jupyter-widgets/base",
          "model_name": "LayoutModel",
          "model_module_version": "1.2.0",
          "state": {
            "_model_module": "@jupyter-widgets/base",
            "_model_module_version": "1.2.0",
            "_model_name": "LayoutModel",
            "_view_count": null,
            "_view_module": "@jupyter-widgets/base",
            "_view_module_version": "1.2.0",
            "_view_name": "LayoutView",
            "align_content": null,
            "align_items": null,
            "align_self": null,
            "border": null,
            "bottom": null,
            "display": null,
            "flex": null,
            "flex_flow": null,
            "grid_area": null,
            "grid_auto_columns": null,
            "grid_auto_flow": null,
            "grid_auto_rows": null,
            "grid_column": null,
            "grid_gap": null,
            "grid_row": null,
            "grid_template_areas": null,
            "grid_template_columns": null,
            "grid_template_rows": null,
            "height": null,
            "justify_content": null,
            "justify_items": null,
            "left": null,
            "margin": null,
            "max_height": null,
            "max_width": null,
            "min_height": null,
            "min_width": null,
            "object_fit": null,
            "object_position": null,
            "order": null,
            "overflow": null,
            "overflow_x": null,
            "overflow_y": null,
            "padding": null,
            "right": null,
            "top": null,
            "visibility": null,
            "width": null
          }
        },
        "a2e0e4c131874e27929bf6b40e1d85d7": {
          "model_module": "@jupyter-widgets/base",
          "model_name": "LayoutModel",
          "model_module_version": "1.2.0",
          "state": {
            "_model_module": "@jupyter-widgets/base",
            "_model_module_version": "1.2.0",
            "_model_name": "LayoutModel",
            "_view_count": null,
            "_view_module": "@jupyter-widgets/base",
            "_view_module_version": "1.2.0",
            "_view_name": "LayoutView",
            "align_content": null,
            "align_items": null,
            "align_self": null,
            "border": null,
            "bottom": null,
            "display": null,
            "flex": null,
            "flex_flow": null,
            "grid_area": null,
            "grid_auto_columns": null,
            "grid_auto_flow": null,
            "grid_auto_rows": null,
            "grid_column": null,
            "grid_gap": null,
            "grid_row": null,
            "grid_template_areas": null,
            "grid_template_columns": null,
            "grid_template_rows": null,
            "height": null,
            "justify_content": null,
            "justify_items": null,
            "left": null,
            "margin": null,
            "max_height": null,
            "max_width": null,
            "min_height": null,
            "min_width": null,
            "object_fit": null,
            "object_position": null,
            "order": null,
            "overflow": null,
            "overflow_x": null,
            "overflow_y": null,
            "padding": null,
            "right": null,
            "top": null,
            "visibility": null,
            "width": null
          }
        },
        "9058a0b6ca8e459eadc86c611ffea4b3": {
          "model_module": "@jupyter-widgets/controls",
          "model_name": "DescriptionStyleModel",
          "model_module_version": "1.5.0",
          "state": {
            "_model_module": "@jupyter-widgets/controls",
            "_model_module_version": "1.5.0",
            "_model_name": "DescriptionStyleModel",
            "_view_count": null,
            "_view_module": "@jupyter-widgets/base",
            "_view_module_version": "1.2.0",
            "_view_name": "StyleView",
            "description_width": ""
          }
        },
        "cd0bbbba87b74faca8afb98b18f77afa": {
          "model_module": "@jupyter-widgets/base",
          "model_name": "LayoutModel",
          "model_module_version": "1.2.0",
          "state": {
            "_model_module": "@jupyter-widgets/base",
            "_model_module_version": "1.2.0",
            "_model_name": "LayoutModel",
            "_view_count": null,
            "_view_module": "@jupyter-widgets/base",
            "_view_module_version": "1.2.0",
            "_view_name": "LayoutView",
            "align_content": null,
            "align_items": null,
            "align_self": null,
            "border": null,
            "bottom": null,
            "display": null,
            "flex": null,
            "flex_flow": null,
            "grid_area": null,
            "grid_auto_columns": null,
            "grid_auto_flow": null,
            "grid_auto_rows": null,
            "grid_column": null,
            "grid_gap": null,
            "grid_row": null,
            "grid_template_areas": null,
            "grid_template_columns": null,
            "grid_template_rows": null,
            "height": null,
            "justify_content": null,
            "justify_items": null,
            "left": null,
            "margin": null,
            "max_height": null,
            "max_width": null,
            "min_height": null,
            "min_width": null,
            "object_fit": null,
            "object_position": null,
            "order": null,
            "overflow": null,
            "overflow_x": null,
            "overflow_y": null,
            "padding": null,
            "right": null,
            "top": null,
            "visibility": null,
            "width": null
          }
        },
        "64351f6160bd4e8c899e39926b3e1466": {
          "model_module": "@jupyter-widgets/controls",
          "model_name": "ProgressStyleModel",
          "model_module_version": "1.5.0",
          "state": {
            "_model_module": "@jupyter-widgets/controls",
            "_model_module_version": "1.5.0",
            "_model_name": "ProgressStyleModel",
            "_view_count": null,
            "_view_module": "@jupyter-widgets/base",
            "_view_module_version": "1.2.0",
            "_view_name": "StyleView",
            "bar_color": null,
            "description_width": ""
          }
        },
        "7b46a3ed0b5d4e18a1fa2a2e0f3da5e9": {
          "model_module": "@jupyter-widgets/base",
          "model_name": "LayoutModel",
          "model_module_version": "1.2.0",
          "state": {
            "_model_module": "@jupyter-widgets/base",
            "_model_module_version": "1.2.0",
            "_model_name": "LayoutModel",
            "_view_count": null,
            "_view_module": "@jupyter-widgets/base",
            "_view_module_version": "1.2.0",
            "_view_name": "LayoutView",
            "align_content": null,
            "align_items": null,
            "align_self": null,
            "border": null,
            "bottom": null,
            "display": null,
            "flex": null,
            "flex_flow": null,
            "grid_area": null,
            "grid_auto_columns": null,
            "grid_auto_flow": null,
            "grid_auto_rows": null,
            "grid_column": null,
            "grid_gap": null,
            "grid_row": null,
            "grid_template_areas": null,
            "grid_template_columns": null,
            "grid_template_rows": null,
            "height": null,
            "justify_content": null,
            "justify_items": null,
            "left": null,
            "margin": null,
            "max_height": null,
            "max_width": null,
            "min_height": null,
            "min_width": null,
            "object_fit": null,
            "object_position": null,
            "order": null,
            "overflow": null,
            "overflow_x": null,
            "overflow_y": null,
            "padding": null,
            "right": null,
            "top": null,
            "visibility": null,
            "width": null
          }
        },
        "e8e3990f663847d8bd387c6ea9154af6": {
          "model_module": "@jupyter-widgets/controls",
          "model_name": "DescriptionStyleModel",
          "model_module_version": "1.5.0",
          "state": {
            "_model_module": "@jupyter-widgets/controls",
            "_model_module_version": "1.5.0",
            "_model_name": "DescriptionStyleModel",
            "_view_count": null,
            "_view_module": "@jupyter-widgets/base",
            "_view_module_version": "1.2.0",
            "_view_name": "StyleView",
            "description_width": ""
          }
        },
        "e9d7313dd2ca44c78a9d8cb171e57deb": {
          "model_module": "@jupyter-widgets/controls",
          "model_name": "HBoxModel",
          "model_module_version": "1.5.0",
          "state": {
            "_dom_classes": [],
            "_model_module": "@jupyter-widgets/controls",
            "_model_module_version": "1.5.0",
            "_model_name": "HBoxModel",
            "_view_count": null,
            "_view_module": "@jupyter-widgets/controls",
            "_view_module_version": "1.5.0",
            "_view_name": "HBoxView",
            "box_style": "",
            "children": [
              "IPY_MODEL_279be6bb7aad406598ea2581f9799395",
              "IPY_MODEL_217b208f6caf4702a01001490219ae59",
              "IPY_MODEL_2374e3d715c249f5803f6b82d8c73932"
            ],
            "layout": "IPY_MODEL_e7982e1bf4b048338250d773f040d1b5"
          }
        },
        "279be6bb7aad406598ea2581f9799395": {
          "model_module": "@jupyter-widgets/controls",
          "model_name": "HTMLModel",
          "model_module_version": "1.5.0",
          "state": {
            "_dom_classes": [],
            "_model_module": "@jupyter-widgets/controls",
            "_model_module_version": "1.5.0",
            "_model_name": "HTMLModel",
            "_view_count": null,
            "_view_module": "@jupyter-widgets/controls",
            "_view_module_version": "1.5.0",
            "_view_name": "HTMLView",
            "description": "",
            "description_tooltip": null,
            "layout": "IPY_MODEL_5818409a273044878a0330d59d69a75c",
            "placeholder": "​",
            "style": "IPY_MODEL_cb46eb66c2c84496897d82481cab09df",
            "value": "Downloading: 100%"
          }
        },
        "217b208f6caf4702a01001490219ae59": {
          "model_module": "@jupyter-widgets/controls",
          "model_name": "FloatProgressModel",
          "model_module_version": "1.5.0",
          "state": {
            "_dom_classes": [],
            "_model_module": "@jupyter-widgets/controls",
            "_model_module_version": "1.5.0",
            "_model_name": "FloatProgressModel",
            "_view_count": null,
            "_view_module": "@jupyter-widgets/controls",
            "_view_module_version": "1.5.0",
            "_view_name": "ProgressView",
            "bar_style": "success",
            "description": "",
            "description_tooltip": null,
            "layout": "IPY_MODEL_61ec68f5dedc46569fff0e0901aebe64",
            "max": 1000,
            "min": 0,
            "orientation": "horizontal",
            "style": "IPY_MODEL_8ffeff521e824941a3339082f1496d07",
            "value": 1000
          }
        },
        "2374e3d715c249f5803f6b82d8c73932": {
          "model_module": "@jupyter-widgets/controls",
          "model_name": "HTMLModel",
          "model_module_version": "1.5.0",
          "state": {
            "_dom_classes": [],
            "_model_module": "@jupyter-widgets/controls",
            "_model_module_version": "1.5.0",
            "_model_name": "HTMLModel",
            "_view_count": null,
            "_view_module": "@jupyter-widgets/controls",
            "_view_module_version": "1.5.0",
            "_view_name": "HTMLView",
            "description": "",
            "description_tooltip": null,
            "layout": "IPY_MODEL_bb12405f22de47be90cf2bde1b038129",
            "placeholder": "​",
            "style": "IPY_MODEL_b43854db21804a3a893bc4fc20df80d7",
            "value": " 0.98k/0.98k [00:00&lt;00:00, 28.8kB/s]"
          }
        },
        "e7982e1bf4b048338250d773f040d1b5": {
          "model_module": "@jupyter-widgets/base",
          "model_name": "LayoutModel",
          "model_module_version": "1.2.0",
          "state": {
            "_model_module": "@jupyter-widgets/base",
            "_model_module_version": "1.2.0",
            "_model_name": "LayoutModel",
            "_view_count": null,
            "_view_module": "@jupyter-widgets/base",
            "_view_module_version": "1.2.0",
            "_view_name": "LayoutView",
            "align_content": null,
            "align_items": null,
            "align_self": null,
            "border": null,
            "bottom": null,
            "display": null,
            "flex": null,
            "flex_flow": null,
            "grid_area": null,
            "grid_auto_columns": null,
            "grid_auto_flow": null,
            "grid_auto_rows": null,
            "grid_column": null,
            "grid_gap": null,
            "grid_row": null,
            "grid_template_areas": null,
            "grid_template_columns": null,
            "grid_template_rows": null,
            "height": null,
            "justify_content": null,
            "justify_items": null,
            "left": null,
            "margin": null,
            "max_height": null,
            "max_width": null,
            "min_height": null,
            "min_width": null,
            "object_fit": null,
            "object_position": null,
            "order": null,
            "overflow": null,
            "overflow_x": null,
            "overflow_y": null,
            "padding": null,
            "right": null,
            "top": null,
            "visibility": null,
            "width": null
          }
        },
        "5818409a273044878a0330d59d69a75c": {
          "model_module": "@jupyter-widgets/base",
          "model_name": "LayoutModel",
          "model_module_version": "1.2.0",
          "state": {
            "_model_module": "@jupyter-widgets/base",
            "_model_module_version": "1.2.0",
            "_model_name": "LayoutModel",
            "_view_count": null,
            "_view_module": "@jupyter-widgets/base",
            "_view_module_version": "1.2.0",
            "_view_name": "LayoutView",
            "align_content": null,
            "align_items": null,
            "align_self": null,
            "border": null,
            "bottom": null,
            "display": null,
            "flex": null,
            "flex_flow": null,
            "grid_area": null,
            "grid_auto_columns": null,
            "grid_auto_flow": null,
            "grid_auto_rows": null,
            "grid_column": null,
            "grid_gap": null,
            "grid_row": null,
            "grid_template_areas": null,
            "grid_template_columns": null,
            "grid_template_rows": null,
            "height": null,
            "justify_content": null,
            "justify_items": null,
            "left": null,
            "margin": null,
            "max_height": null,
            "max_width": null,
            "min_height": null,
            "min_width": null,
            "object_fit": null,
            "object_position": null,
            "order": null,
            "overflow": null,
            "overflow_x": null,
            "overflow_y": null,
            "padding": null,
            "right": null,
            "top": null,
            "visibility": null,
            "width": null
          }
        },
        "cb46eb66c2c84496897d82481cab09df": {
          "model_module": "@jupyter-widgets/controls",
          "model_name": "DescriptionStyleModel",
          "model_module_version": "1.5.0",
          "state": {
            "_model_module": "@jupyter-widgets/controls",
            "_model_module_version": "1.5.0",
            "_model_name": "DescriptionStyleModel",
            "_view_count": null,
            "_view_module": "@jupyter-widgets/base",
            "_view_module_version": "1.2.0",
            "_view_name": "StyleView",
            "description_width": ""
          }
        },
        "61ec68f5dedc46569fff0e0901aebe64": {
          "model_module": "@jupyter-widgets/base",
          "model_name": "LayoutModel",
          "model_module_version": "1.2.0",
          "state": {
            "_model_module": "@jupyter-widgets/base",
            "_model_module_version": "1.2.0",
            "_model_name": "LayoutModel",
            "_view_count": null,
            "_view_module": "@jupyter-widgets/base",
            "_view_module_version": "1.2.0",
            "_view_name": "LayoutView",
            "align_content": null,
            "align_items": null,
            "align_self": null,
            "border": null,
            "bottom": null,
            "display": null,
            "flex": null,
            "flex_flow": null,
            "grid_area": null,
            "grid_auto_columns": null,
            "grid_auto_flow": null,
            "grid_auto_rows": null,
            "grid_column": null,
            "grid_gap": null,
            "grid_row": null,
            "grid_template_areas": null,
            "grid_template_columns": null,
            "grid_template_rows": null,
            "height": null,
            "justify_content": null,
            "justify_items": null,
            "left": null,
            "margin": null,
            "max_height": null,
            "max_width": null,
            "min_height": null,
            "min_width": null,
            "object_fit": null,
            "object_position": null,
            "order": null,
            "overflow": null,
            "overflow_x": null,
            "overflow_y": null,
            "padding": null,
            "right": null,
            "top": null,
            "visibility": null,
            "width": null
          }
        },
        "8ffeff521e824941a3339082f1496d07": {
          "model_module": "@jupyter-widgets/controls",
          "model_name": "ProgressStyleModel",
          "model_module_version": "1.5.0",
          "state": {
            "_model_module": "@jupyter-widgets/controls",
            "_model_module_version": "1.5.0",
            "_model_name": "ProgressStyleModel",
            "_view_count": null,
            "_view_module": "@jupyter-widgets/base",
            "_view_module_version": "1.2.0",
            "_view_name": "StyleView",
            "bar_color": null,
            "description_width": ""
          }
        },
        "bb12405f22de47be90cf2bde1b038129": {
          "model_module": "@jupyter-widgets/base",
          "model_name": "LayoutModel",
          "model_module_version": "1.2.0",
          "state": {
            "_model_module": "@jupyter-widgets/base",
            "_model_module_version": "1.2.0",
            "_model_name": "LayoutModel",
            "_view_count": null,
            "_view_module": "@jupyter-widgets/base",
            "_view_module_version": "1.2.0",
            "_view_name": "LayoutView",
            "align_content": null,
            "align_items": null,
            "align_self": null,
            "border": null,
            "bottom": null,
            "display": null,
            "flex": null,
            "flex_flow": null,
            "grid_area": null,
            "grid_auto_columns": null,
            "grid_auto_flow": null,
            "grid_auto_rows": null,
            "grid_column": null,
            "grid_gap": null,
            "grid_row": null,
            "grid_template_areas": null,
            "grid_template_columns": null,
            "grid_template_rows": null,
            "height": null,
            "justify_content": null,
            "justify_items": null,
            "left": null,
            "margin": null,
            "max_height": null,
            "max_width": null,
            "min_height": null,
            "min_width": null,
            "object_fit": null,
            "object_position": null,
            "order": null,
            "overflow": null,
            "overflow_x": null,
            "overflow_y": null,
            "padding": null,
            "right": null,
            "top": null,
            "visibility": null,
            "width": null
          }
        },
        "b43854db21804a3a893bc4fc20df80d7": {
          "model_module": "@jupyter-widgets/controls",
          "model_name": "DescriptionStyleModel",
          "model_module_version": "1.5.0",
          "state": {
            "_model_module": "@jupyter-widgets/controls",
            "_model_module_version": "1.5.0",
            "_model_name": "DescriptionStyleModel",
            "_view_count": null,
            "_view_module": "@jupyter-widgets/base",
            "_view_module_version": "1.2.0",
            "_view_name": "StyleView",
            "description_width": ""
          }
        },
        "427df4e213a24df4a4b92fd49bc70244": {
          "model_module": "@jupyter-widgets/controls",
          "model_name": "HBoxModel",
          "model_module_version": "1.5.0",
          "state": {
            "_dom_classes": [],
            "_model_module": "@jupyter-widgets/controls",
            "_model_module_version": "1.5.0",
            "_model_name": "HBoxModel",
            "_view_count": null,
            "_view_module": "@jupyter-widgets/controls",
            "_view_module_version": "1.5.0",
            "_view_name": "HBoxView",
            "box_style": "",
            "children": [
              "IPY_MODEL_1a7a9c5ed21e47b0897fddc14b4e613a",
              "IPY_MODEL_215ed907677042f6a65fa3417cc1cab2",
              "IPY_MODEL_3cf3f055c6b7442fb2ec8954e5ab3448"
            ],
            "layout": "IPY_MODEL_392c60467a794ee3a29b53466dc138c3"
          }
        },
        "1a7a9c5ed21e47b0897fddc14b4e613a": {
          "model_module": "@jupyter-widgets/controls",
          "model_name": "HTMLModel",
          "model_module_version": "1.5.0",
          "state": {
            "_dom_classes": [],
            "_model_module": "@jupyter-widgets/controls",
            "_model_module_version": "1.5.0",
            "_model_name": "HTMLModel",
            "_view_count": null,
            "_view_module": "@jupyter-widgets/controls",
            "_view_module_version": "1.5.0",
            "_view_name": "HTMLView",
            "description": "",
            "description_tooltip": null,
            "layout": "IPY_MODEL_3747687d4e9544439dde28d4326d0670",
            "placeholder": "​",
            "style": "IPY_MODEL_b31b731283d74b4895bbdced2cb680df",
            "value": "Downloading: 100%"
          }
        },
        "215ed907677042f6a65fa3417cc1cab2": {
          "model_module": "@jupyter-widgets/controls",
          "model_name": "FloatProgressModel",
          "model_module_version": "1.5.0",
          "state": {
            "_dom_classes": [],
            "_model_module": "@jupyter-widgets/controls",
            "_model_module_version": "1.5.0",
            "_model_name": "FloatProgressModel",
            "_view_count": null,
            "_view_module": "@jupyter-widgets/controls",
            "_view_module_version": "1.5.0",
            "_view_name": "ProgressView",
            "bar_style": "success",
            "description": "",
            "description_tooltip": null,
            "layout": "IPY_MODEL_fd2fa9380f314c4da3ebbba24aab0a32",
            "max": 513302779,
            "min": 0,
            "orientation": "horizontal",
            "style": "IPY_MODEL_0a8822e1b0df461fbbdb142cecac7d5c",
            "value": 513302779
          }
        },
        "3cf3f055c6b7442fb2ec8954e5ab3448": {
          "model_module": "@jupyter-widgets/controls",
          "model_name": "HTMLModel",
          "model_module_version": "1.5.0",
          "state": {
            "_dom_classes": [],
            "_model_module": "@jupyter-widgets/controls",
            "_model_module_version": "1.5.0",
            "_model_name": "HTMLModel",
            "_view_count": null,
            "_view_module": "@jupyter-widgets/controls",
            "_view_module_version": "1.5.0",
            "_view_name": "HTMLView",
            "description": "",
            "description_tooltip": null,
            "layout": "IPY_MODEL_e71d43a954224d7faa6575b35cd5926b",
            "placeholder": "​",
            "style": "IPY_MODEL_2ad2ec957cd14636b2923fad86a18b08",
            "value": " 490M/490M [00:16&lt;00:00, 42.2MB/s]"
          }
        },
        "392c60467a794ee3a29b53466dc138c3": {
          "model_module": "@jupyter-widgets/base",
          "model_name": "LayoutModel",
          "model_module_version": "1.2.0",
          "state": {
            "_model_module": "@jupyter-widgets/base",
            "_model_module_version": "1.2.0",
            "_model_name": "LayoutModel",
            "_view_count": null,
            "_view_module": "@jupyter-widgets/base",
            "_view_module_version": "1.2.0",
            "_view_name": "LayoutView",
            "align_content": null,
            "align_items": null,
            "align_self": null,
            "border": null,
            "bottom": null,
            "display": null,
            "flex": null,
            "flex_flow": null,
            "grid_area": null,
            "grid_auto_columns": null,
            "grid_auto_flow": null,
            "grid_auto_rows": null,
            "grid_column": null,
            "grid_gap": null,
            "grid_row": null,
            "grid_template_areas": null,
            "grid_template_columns": null,
            "grid_template_rows": null,
            "height": null,
            "justify_content": null,
            "justify_items": null,
            "left": null,
            "margin": null,
            "max_height": null,
            "max_width": null,
            "min_height": null,
            "min_width": null,
            "object_fit": null,
            "object_position": null,
            "order": null,
            "overflow": null,
            "overflow_x": null,
            "overflow_y": null,
            "padding": null,
            "right": null,
            "top": null,
            "visibility": null,
            "width": null
          }
        },
        "3747687d4e9544439dde28d4326d0670": {
          "model_module": "@jupyter-widgets/base",
          "model_name": "LayoutModel",
          "model_module_version": "1.2.0",
          "state": {
            "_model_module": "@jupyter-widgets/base",
            "_model_module_version": "1.2.0",
            "_model_name": "LayoutModel",
            "_view_count": null,
            "_view_module": "@jupyter-widgets/base",
            "_view_module_version": "1.2.0",
            "_view_name": "LayoutView",
            "align_content": null,
            "align_items": null,
            "align_self": null,
            "border": null,
            "bottom": null,
            "display": null,
            "flex": null,
            "flex_flow": null,
            "grid_area": null,
            "grid_auto_columns": null,
            "grid_auto_flow": null,
            "grid_auto_rows": null,
            "grid_column": null,
            "grid_gap": null,
            "grid_row": null,
            "grid_template_areas": null,
            "grid_template_columns": null,
            "grid_template_rows": null,
            "height": null,
            "justify_content": null,
            "justify_items": null,
            "left": null,
            "margin": null,
            "max_height": null,
            "max_width": null,
            "min_height": null,
            "min_width": null,
            "object_fit": null,
            "object_position": null,
            "order": null,
            "overflow": null,
            "overflow_x": null,
            "overflow_y": null,
            "padding": null,
            "right": null,
            "top": null,
            "visibility": null,
            "width": null
          }
        },
        "b31b731283d74b4895bbdced2cb680df": {
          "model_module": "@jupyter-widgets/controls",
          "model_name": "DescriptionStyleModel",
          "model_module_version": "1.5.0",
          "state": {
            "_model_module": "@jupyter-widgets/controls",
            "_model_module_version": "1.5.0",
            "_model_name": "DescriptionStyleModel",
            "_view_count": null,
            "_view_module": "@jupyter-widgets/base",
            "_view_module_version": "1.2.0",
            "_view_name": "StyleView",
            "description_width": ""
          }
        },
        "fd2fa9380f314c4da3ebbba24aab0a32": {
          "model_module": "@jupyter-widgets/base",
          "model_name": "LayoutModel",
          "model_module_version": "1.2.0",
          "state": {
            "_model_module": "@jupyter-widgets/base",
            "_model_module_version": "1.2.0",
            "_model_name": "LayoutModel",
            "_view_count": null,
            "_view_module": "@jupyter-widgets/base",
            "_view_module_version": "1.2.0",
            "_view_name": "LayoutView",
            "align_content": null,
            "align_items": null,
            "align_self": null,
            "border": null,
            "bottom": null,
            "display": null,
            "flex": null,
            "flex_flow": null,
            "grid_area": null,
            "grid_auto_columns": null,
            "grid_auto_flow": null,
            "grid_auto_rows": null,
            "grid_column": null,
            "grid_gap": null,
            "grid_row": null,
            "grid_template_areas": null,
            "grid_template_columns": null,
            "grid_template_rows": null,
            "height": null,
            "justify_content": null,
            "justify_items": null,
            "left": null,
            "margin": null,
            "max_height": null,
            "max_width": null,
            "min_height": null,
            "min_width": null,
            "object_fit": null,
            "object_position": null,
            "order": null,
            "overflow": null,
            "overflow_x": null,
            "overflow_y": null,
            "padding": null,
            "right": null,
            "top": null,
            "visibility": null,
            "width": null
          }
        },
        "0a8822e1b0df461fbbdb142cecac7d5c": {
          "model_module": "@jupyter-widgets/controls",
          "model_name": "ProgressStyleModel",
          "model_module_version": "1.5.0",
          "state": {
            "_model_module": "@jupyter-widgets/controls",
            "_model_module_version": "1.5.0",
            "_model_name": "ProgressStyleModel",
            "_view_count": null,
            "_view_module": "@jupyter-widgets/base",
            "_view_module_version": "1.2.0",
            "_view_name": "StyleView",
            "bar_color": null,
            "description_width": ""
          }
        },
        "e71d43a954224d7faa6575b35cd5926b": {
          "model_module": "@jupyter-widgets/base",
          "model_name": "LayoutModel",
          "model_module_version": "1.2.0",
          "state": {
            "_model_module": "@jupyter-widgets/base",
            "_model_module_version": "1.2.0",
            "_model_name": "LayoutModel",
            "_view_count": null,
            "_view_module": "@jupyter-widgets/base",
            "_view_module_version": "1.2.0",
            "_view_name": "LayoutView",
            "align_content": null,
            "align_items": null,
            "align_self": null,
            "border": null,
            "bottom": null,
            "display": null,
            "flex": null,
            "flex_flow": null,
            "grid_area": null,
            "grid_auto_columns": null,
            "grid_auto_flow": null,
            "grid_auto_rows": null,
            "grid_column": null,
            "grid_gap": null,
            "grid_row": null,
            "grid_template_areas": null,
            "grid_template_columns": null,
            "grid_template_rows": null,
            "height": null,
            "justify_content": null,
            "justify_items": null,
            "left": null,
            "margin": null,
            "max_height": null,
            "max_width": null,
            "min_height": null,
            "min_width": null,
            "object_fit": null,
            "object_position": null,
            "order": null,
            "overflow": null,
            "overflow_x": null,
            "overflow_y": null,
            "padding": null,
            "right": null,
            "top": null,
            "visibility": null,
            "width": null
          }
        },
        "2ad2ec957cd14636b2923fad86a18b08": {
          "model_module": "@jupyter-widgets/controls",
          "model_name": "DescriptionStyleModel",
          "model_module_version": "1.5.0",
          "state": {
            "_model_module": "@jupyter-widgets/controls",
            "_model_module_version": "1.5.0",
            "_model_name": "DescriptionStyleModel",
            "_view_count": null,
            "_view_module": "@jupyter-widgets/base",
            "_view_module_version": "1.2.0",
            "_view_name": "StyleView",
            "description_width": ""
          }
        },
        "8d6ddcb0399c40a9b2e2809001d06453": {
          "model_module": "@jupyter-widgets/controls",
          "model_name": "HBoxModel",
          "model_module_version": "1.5.0",
          "state": {
            "_dom_classes": [],
            "_model_module": "@jupyter-widgets/controls",
            "_model_module_version": "1.5.0",
            "_model_name": "HBoxModel",
            "_view_count": null,
            "_view_module": "@jupyter-widgets/controls",
            "_view_module_version": "1.5.0",
            "_view_name": "HBoxView",
            "box_style": "",
            "children": [
              "IPY_MODEL_5f7c3c5fb5374b93b9a4f674a0078b30",
              "IPY_MODEL_4d2cf26a50cb49249fc8c7dd8577687f",
              "IPY_MODEL_ac1579579abc40a896bb28c87da22190"
            ],
            "layout": "IPY_MODEL_79b35c293d7740daaecd7ce9170df753"
          }
        },
        "5f7c3c5fb5374b93b9a4f674a0078b30": {
          "model_module": "@jupyter-widgets/controls",
          "model_name": "HTMLModel",
          "model_module_version": "1.5.0",
          "state": {
            "_dom_classes": [],
            "_model_module": "@jupyter-widgets/controls",
            "_model_module_version": "1.5.0",
            "_model_name": "HTMLModel",
            "_view_count": null,
            "_view_module": "@jupyter-widgets/controls",
            "_view_module_version": "1.5.0",
            "_view_name": "HTMLView",
            "description": "",
            "description_tooltip": null,
            "layout": "IPY_MODEL_e81f2497cc4f4cb2ba8fa00d024ba868",
            "placeholder": "​",
            "style": "IPY_MODEL_0459e7f4717f4de3b42445f75031ee75",
            "value": "Downloading: 100%"
          }
        },
        "4d2cf26a50cb49249fc8c7dd8577687f": {
          "model_module": "@jupyter-widgets/controls",
          "model_name": "FloatProgressModel",
          "model_module_version": "1.5.0",
          "state": {
            "_dom_classes": [],
            "_model_module": "@jupyter-widgets/controls",
            "_model_module_version": "1.5.0",
            "_model_name": "FloatProgressModel",
            "_view_count": null,
            "_view_module": "@jupyter-widgets/controls",
            "_view_module_version": "1.5.0",
            "_view_name": "ProgressView",
            "bar_style": "success",
            "description": "",
            "description_tooltip": null,
            "layout": "IPY_MODEL_316f1aa724f04bef8d13eb7df4be4177",
            "max": 249928,
            "min": 0,
            "orientation": "horizontal",
            "style": "IPY_MODEL_321f299a351b4ee88fdfab071d1849f4",
            "value": 249928
          }
        },
        "ac1579579abc40a896bb28c87da22190": {
          "model_module": "@jupyter-widgets/controls",
          "model_name": "HTMLModel",
          "model_module_version": "1.5.0",
          "state": {
            "_dom_classes": [],
            "_model_module": "@jupyter-widgets/controls",
            "_model_module_version": "1.5.0",
            "_model_name": "HTMLModel",
            "_view_count": null,
            "_view_module": "@jupyter-widgets/controls",
            "_view_module_version": "1.5.0",
            "_view_name": "HTMLView",
            "description": "",
            "description_tooltip": null,
            "layout": "IPY_MODEL_b4c21307b5da48fba741732039861d55",
            "placeholder": "​",
            "style": "IPY_MODEL_4f58e080e9cf4fb5b581f2c263736c8d",
            "value": " 250k/250k [00:00&lt;00:00, 2.69MB/s]"
          }
        },
        "79b35c293d7740daaecd7ce9170df753": {
          "model_module": "@jupyter-widgets/base",
          "model_name": "LayoutModel",
          "model_module_version": "1.2.0",
          "state": {
            "_model_module": "@jupyter-widgets/base",
            "_model_module_version": "1.2.0",
            "_model_name": "LayoutModel",
            "_view_count": null,
            "_view_module": "@jupyter-widgets/base",
            "_view_module_version": "1.2.0",
            "_view_name": "LayoutView",
            "align_content": null,
            "align_items": null,
            "align_self": null,
            "border": null,
            "bottom": null,
            "display": null,
            "flex": null,
            "flex_flow": null,
            "grid_area": null,
            "grid_auto_columns": null,
            "grid_auto_flow": null,
            "grid_auto_rows": null,
            "grid_column": null,
            "grid_gap": null,
            "grid_row": null,
            "grid_template_areas": null,
            "grid_template_columns": null,
            "grid_template_rows": null,
            "height": null,
            "justify_content": null,
            "justify_items": null,
            "left": null,
            "margin": null,
            "max_height": null,
            "max_width": null,
            "min_height": null,
            "min_width": null,
            "object_fit": null,
            "object_position": null,
            "order": null,
            "overflow": null,
            "overflow_x": null,
            "overflow_y": null,
            "padding": null,
            "right": null,
            "top": null,
            "visibility": null,
            "width": null
          }
        },
        "e81f2497cc4f4cb2ba8fa00d024ba868": {
          "model_module": "@jupyter-widgets/base",
          "model_name": "LayoutModel",
          "model_module_version": "1.2.0",
          "state": {
            "_model_module": "@jupyter-widgets/base",
            "_model_module_version": "1.2.0",
            "_model_name": "LayoutModel",
            "_view_count": null,
            "_view_module": "@jupyter-widgets/base",
            "_view_module_version": "1.2.0",
            "_view_name": "LayoutView",
            "align_content": null,
            "align_items": null,
            "align_self": null,
            "border": null,
            "bottom": null,
            "display": null,
            "flex": null,
            "flex_flow": null,
            "grid_area": null,
            "grid_auto_columns": null,
            "grid_auto_flow": null,
            "grid_auto_rows": null,
            "grid_column": null,
            "grid_gap": null,
            "grid_row": null,
            "grid_template_areas": null,
            "grid_template_columns": null,
            "grid_template_rows": null,
            "height": null,
            "justify_content": null,
            "justify_items": null,
            "left": null,
            "margin": null,
            "max_height": null,
            "max_width": null,
            "min_height": null,
            "min_width": null,
            "object_fit": null,
            "object_position": null,
            "order": null,
            "overflow": null,
            "overflow_x": null,
            "overflow_y": null,
            "padding": null,
            "right": null,
            "top": null,
            "visibility": null,
            "width": null
          }
        },
        "0459e7f4717f4de3b42445f75031ee75": {
          "model_module": "@jupyter-widgets/controls",
          "model_name": "DescriptionStyleModel",
          "model_module_version": "1.5.0",
          "state": {
            "_model_module": "@jupyter-widgets/controls",
            "_model_module_version": "1.5.0",
            "_model_name": "DescriptionStyleModel",
            "_view_count": null,
            "_view_module": "@jupyter-widgets/base",
            "_view_module_version": "1.2.0",
            "_view_name": "StyleView",
            "description_width": ""
          }
        },
        "316f1aa724f04bef8d13eb7df4be4177": {
          "model_module": "@jupyter-widgets/base",
          "model_name": "LayoutModel",
          "model_module_version": "1.2.0",
          "state": {
            "_model_module": "@jupyter-widgets/base",
            "_model_module_version": "1.2.0",
            "_model_name": "LayoutModel",
            "_view_count": null,
            "_view_module": "@jupyter-widgets/base",
            "_view_module_version": "1.2.0",
            "_view_name": "LayoutView",
            "align_content": null,
            "align_items": null,
            "align_self": null,
            "border": null,
            "bottom": null,
            "display": null,
            "flex": null,
            "flex_flow": null,
            "grid_area": null,
            "grid_auto_columns": null,
            "grid_auto_flow": null,
            "grid_auto_rows": null,
            "grid_column": null,
            "grid_gap": null,
            "grid_row": null,
            "grid_template_areas": null,
            "grid_template_columns": null,
            "grid_template_rows": null,
            "height": null,
            "justify_content": null,
            "justify_items": null,
            "left": null,
            "margin": null,
            "max_height": null,
            "max_width": null,
            "min_height": null,
            "min_width": null,
            "object_fit": null,
            "object_position": null,
            "order": null,
            "overflow": null,
            "overflow_x": null,
            "overflow_y": null,
            "padding": null,
            "right": null,
            "top": null,
            "visibility": null,
            "width": null
          }
        },
        "321f299a351b4ee88fdfab071d1849f4": {
          "model_module": "@jupyter-widgets/controls",
          "model_name": "ProgressStyleModel",
          "model_module_version": "1.5.0",
          "state": {
            "_model_module": "@jupyter-widgets/controls",
            "_model_module_version": "1.5.0",
            "_model_name": "ProgressStyleModel",
            "_view_count": null,
            "_view_module": "@jupyter-widgets/base",
            "_view_module_version": "1.2.0",
            "_view_name": "StyleView",
            "bar_color": null,
            "description_width": ""
          }
        },
        "b4c21307b5da48fba741732039861d55": {
          "model_module": "@jupyter-widgets/base",
          "model_name": "LayoutModel",
          "model_module_version": "1.2.0",
          "state": {
            "_model_module": "@jupyter-widgets/base",
            "_model_module_version": "1.2.0",
            "_model_name": "LayoutModel",
            "_view_count": null,
            "_view_module": "@jupyter-widgets/base",
            "_view_module_version": "1.2.0",
            "_view_name": "LayoutView",
            "align_content": null,
            "align_items": null,
            "align_self": null,
            "border": null,
            "bottom": null,
            "display": null,
            "flex": null,
            "flex_flow": null,
            "grid_area": null,
            "grid_auto_columns": null,
            "grid_auto_flow": null,
            "grid_auto_rows": null,
            "grid_column": null,
            "grid_gap": null,
            "grid_row": null,
            "grid_template_areas": null,
            "grid_template_columns": null,
            "grid_template_rows": null,
            "height": null,
            "justify_content": null,
            "justify_items": null,
            "left": null,
            "margin": null,
            "max_height": null,
            "max_width": null,
            "min_height": null,
            "min_width": null,
            "object_fit": null,
            "object_position": null,
            "order": null,
            "overflow": null,
            "overflow_x": null,
            "overflow_y": null,
            "padding": null,
            "right": null,
            "top": null,
            "visibility": null,
            "width": null
          }
        },
        "4f58e080e9cf4fb5b581f2c263736c8d": {
          "model_module": "@jupyter-widgets/controls",
          "model_name": "DescriptionStyleModel",
          "model_module_version": "1.5.0",
          "state": {
            "_model_module": "@jupyter-widgets/controls",
            "_model_module_version": "1.5.0",
            "_model_name": "DescriptionStyleModel",
            "_view_count": null,
            "_view_module": "@jupyter-widgets/base",
            "_view_module_version": "1.2.0",
            "_view_name": "StyleView",
            "description_width": ""
          }
        },
        "0323e3b2d6ac4cd9ba7bba1c4452e9ea": {
          "model_module": "@jupyter-widgets/controls",
          "model_name": "HBoxModel",
          "model_module_version": "1.5.0",
          "state": {
            "_dom_classes": [],
            "_model_module": "@jupyter-widgets/controls",
            "_model_module_version": "1.5.0",
            "_model_name": "HBoxModel",
            "_view_count": null,
            "_view_module": "@jupyter-widgets/controls",
            "_view_module_version": "1.5.0",
            "_view_name": "HBoxView",
            "box_style": "",
            "children": [
              "IPY_MODEL_e18298be42984a3080c8216909caf7e9",
              "IPY_MODEL_8a2065cde13e4aec96861fb82a2c4f9a",
              "IPY_MODEL_a3086ca530064f64ad8823ff052a6afb"
            ],
            "layout": "IPY_MODEL_82571755353c4cec8bf568cd002db14b"
          }
        },
        "e18298be42984a3080c8216909caf7e9": {
          "model_module": "@jupyter-widgets/controls",
          "model_name": "HTMLModel",
          "model_module_version": "1.5.0",
          "state": {
            "_dom_classes": [],
            "_model_module": "@jupyter-widgets/controls",
            "_model_module_version": "1.5.0",
            "_model_name": "HTMLModel",
            "_view_count": null,
            "_view_module": "@jupyter-widgets/controls",
            "_view_module_version": "1.5.0",
            "_view_name": "HTMLView",
            "description": "",
            "description_tooltip": null,
            "layout": "IPY_MODEL_bf37a479a0134ad0a36360c5c4436d52",
            "placeholder": "​",
            "style": "IPY_MODEL_4619c1835b20427dbe8ced6270e3bd88",
            "value": "Downloading: 100%"
          }
        },
        "8a2065cde13e4aec96861fb82a2c4f9a": {
          "model_module": "@jupyter-widgets/controls",
          "model_name": "FloatProgressModel",
          "model_module_version": "1.5.0",
          "state": {
            "_dom_classes": [],
            "_model_module": "@jupyter-widgets/controls",
            "_model_module_version": "1.5.0",
            "_model_name": "FloatProgressModel",
            "_view_count": null,
            "_view_module": "@jupyter-widgets/controls",
            "_view_module_version": "1.5.0",
            "_view_name": "ProgressView",
            "bar_style": "success",
            "description": "",
            "description_tooltip": null,
            "layout": "IPY_MODEL_d4215c7f987e4e1c916825101bb2ac13",
            "max": 49,
            "min": 0,
            "orientation": "horizontal",
            "style": "IPY_MODEL_cf65052efe3c43fbbaeb2284f6a8c03b",
            "value": 49
          }
        },
        "a3086ca530064f64ad8823ff052a6afb": {
          "model_module": "@jupyter-widgets/controls",
          "model_name": "HTMLModel",
          "model_module_version": "1.5.0",
          "state": {
            "_dom_classes": [],
            "_model_module": "@jupyter-widgets/controls",
            "_model_module_version": "1.5.0",
            "_model_name": "HTMLModel",
            "_view_count": null,
            "_view_module": "@jupyter-widgets/controls",
            "_view_module_version": "1.5.0",
            "_view_name": "HTMLView",
            "description": "",
            "description_tooltip": null,
            "layout": "IPY_MODEL_71e81929982e40629b091b7e30410087",
            "placeholder": "​",
            "style": "IPY_MODEL_6e59322947844f5f8ced7415079e5393",
            "value": " 49.0/49.0 [00:00&lt;00:00, 1.68kB/s]"
          }
        },
        "82571755353c4cec8bf568cd002db14b": {
          "model_module": "@jupyter-widgets/base",
          "model_name": "LayoutModel",
          "model_module_version": "1.2.0",
          "state": {
            "_model_module": "@jupyter-widgets/base",
            "_model_module_version": "1.2.0",
            "_model_name": "LayoutModel",
            "_view_count": null,
            "_view_module": "@jupyter-widgets/base",
            "_view_module_version": "1.2.0",
            "_view_name": "LayoutView",
            "align_content": null,
            "align_items": null,
            "align_self": null,
            "border": null,
            "bottom": null,
            "display": null,
            "flex": null,
            "flex_flow": null,
            "grid_area": null,
            "grid_auto_columns": null,
            "grid_auto_flow": null,
            "grid_auto_rows": null,
            "grid_column": null,
            "grid_gap": null,
            "grid_row": null,
            "grid_template_areas": null,
            "grid_template_columns": null,
            "grid_template_rows": null,
            "height": null,
            "justify_content": null,
            "justify_items": null,
            "left": null,
            "margin": null,
            "max_height": null,
            "max_width": null,
            "min_height": null,
            "min_width": null,
            "object_fit": null,
            "object_position": null,
            "order": null,
            "overflow": null,
            "overflow_x": null,
            "overflow_y": null,
            "padding": null,
            "right": null,
            "top": null,
            "visibility": null,
            "width": null
          }
        },
        "bf37a479a0134ad0a36360c5c4436d52": {
          "model_module": "@jupyter-widgets/base",
          "model_name": "LayoutModel",
          "model_module_version": "1.2.0",
          "state": {
            "_model_module": "@jupyter-widgets/base",
            "_model_module_version": "1.2.0",
            "_model_name": "LayoutModel",
            "_view_count": null,
            "_view_module": "@jupyter-widgets/base",
            "_view_module_version": "1.2.0",
            "_view_name": "LayoutView",
            "align_content": null,
            "align_items": null,
            "align_self": null,
            "border": null,
            "bottom": null,
            "display": null,
            "flex": null,
            "flex_flow": null,
            "grid_area": null,
            "grid_auto_columns": null,
            "grid_auto_flow": null,
            "grid_auto_rows": null,
            "grid_column": null,
            "grid_gap": null,
            "grid_row": null,
            "grid_template_areas": null,
            "grid_template_columns": null,
            "grid_template_rows": null,
            "height": null,
            "justify_content": null,
            "justify_items": null,
            "left": null,
            "margin": null,
            "max_height": null,
            "max_width": null,
            "min_height": null,
            "min_width": null,
            "object_fit": null,
            "object_position": null,
            "order": null,
            "overflow": null,
            "overflow_x": null,
            "overflow_y": null,
            "padding": null,
            "right": null,
            "top": null,
            "visibility": null,
            "width": null
          }
        },
        "4619c1835b20427dbe8ced6270e3bd88": {
          "model_module": "@jupyter-widgets/controls",
          "model_name": "DescriptionStyleModel",
          "model_module_version": "1.5.0",
          "state": {
            "_model_module": "@jupyter-widgets/controls",
            "_model_module_version": "1.5.0",
            "_model_name": "DescriptionStyleModel",
            "_view_count": null,
            "_view_module": "@jupyter-widgets/base",
            "_view_module_version": "1.2.0",
            "_view_name": "StyleView",
            "description_width": ""
          }
        },
        "d4215c7f987e4e1c916825101bb2ac13": {
          "model_module": "@jupyter-widgets/base",
          "model_name": "LayoutModel",
          "model_module_version": "1.2.0",
          "state": {
            "_model_module": "@jupyter-widgets/base",
            "_model_module_version": "1.2.0",
            "_model_name": "LayoutModel",
            "_view_count": null,
            "_view_module": "@jupyter-widgets/base",
            "_view_module_version": "1.2.0",
            "_view_name": "LayoutView",
            "align_content": null,
            "align_items": null,
            "align_self": null,
            "border": null,
            "bottom": null,
            "display": null,
            "flex": null,
            "flex_flow": null,
            "grid_area": null,
            "grid_auto_columns": null,
            "grid_auto_flow": null,
            "grid_auto_rows": null,
            "grid_column": null,
            "grid_gap": null,
            "grid_row": null,
            "grid_template_areas": null,
            "grid_template_columns": null,
            "grid_template_rows": null,
            "height": null,
            "justify_content": null,
            "justify_items": null,
            "left": null,
            "margin": null,
            "max_height": null,
            "max_width": null,
            "min_height": null,
            "min_width": null,
            "object_fit": null,
            "object_position": null,
            "order": null,
            "overflow": null,
            "overflow_x": null,
            "overflow_y": null,
            "padding": null,
            "right": null,
            "top": null,
            "visibility": null,
            "width": null
          }
        },
        "cf65052efe3c43fbbaeb2284f6a8c03b": {
          "model_module": "@jupyter-widgets/controls",
          "model_name": "ProgressStyleModel",
          "model_module_version": "1.5.0",
          "state": {
            "_model_module": "@jupyter-widgets/controls",
            "_model_module_version": "1.5.0",
            "_model_name": "ProgressStyleModel",
            "_view_count": null,
            "_view_module": "@jupyter-widgets/base",
            "_view_module_version": "1.2.0",
            "_view_name": "StyleView",
            "bar_color": null,
            "description_width": ""
          }
        },
        "71e81929982e40629b091b7e30410087": {
          "model_module": "@jupyter-widgets/base",
          "model_name": "LayoutModel",
          "model_module_version": "1.2.0",
          "state": {
            "_model_module": "@jupyter-widgets/base",
            "_model_module_version": "1.2.0",
            "_model_name": "LayoutModel",
            "_view_count": null,
            "_view_module": "@jupyter-widgets/base",
            "_view_module_version": "1.2.0",
            "_view_name": "LayoutView",
            "align_content": null,
            "align_items": null,
            "align_self": null,
            "border": null,
            "bottom": null,
            "display": null,
            "flex": null,
            "flex_flow": null,
            "grid_area": null,
            "grid_auto_columns": null,
            "grid_auto_flow": null,
            "grid_auto_rows": null,
            "grid_column": null,
            "grid_gap": null,
            "grid_row": null,
            "grid_template_areas": null,
            "grid_template_columns": null,
            "grid_template_rows": null,
            "height": null,
            "justify_content": null,
            "justify_items": null,
            "left": null,
            "margin": null,
            "max_height": null,
            "max_width": null,
            "min_height": null,
            "min_width": null,
            "object_fit": null,
            "object_position": null,
            "order": null,
            "overflow": null,
            "overflow_x": null,
            "overflow_y": null,
            "padding": null,
            "right": null,
            "top": null,
            "visibility": null,
            "width": null
          }
        },
        "6e59322947844f5f8ced7415079e5393": {
          "model_module": "@jupyter-widgets/controls",
          "model_name": "DescriptionStyleModel",
          "model_module_version": "1.5.0",
          "state": {
            "_model_module": "@jupyter-widgets/controls",
            "_model_module_version": "1.5.0",
            "_model_name": "DescriptionStyleModel",
            "_view_count": null,
            "_view_module": "@jupyter-widgets/base",
            "_view_module_version": "1.2.0",
            "_view_name": "StyleView",
            "description_width": ""
          }
        },
        "4de37c14b3fe44e09f559cb3109f66b1": {
          "model_module": "@jupyter-widgets/controls",
          "model_name": "HBoxModel",
          "model_module_version": "1.5.0",
          "state": {
            "_dom_classes": [],
            "_model_module": "@jupyter-widgets/controls",
            "_model_module_version": "1.5.0",
            "_model_name": "HBoxModel",
            "_view_count": null,
            "_view_module": "@jupyter-widgets/controls",
            "_view_module_version": "1.5.0",
            "_view_name": "HBoxView",
            "box_style": "",
            "children": [
              "IPY_MODEL_278ad256f6704d92ab148a12b37929c6",
              "IPY_MODEL_84d67f30e42d4c86b36c5a825231bd9e",
              "IPY_MODEL_7280c13eccb9459db18c16a0774c9b5d"
            ],
            "layout": "IPY_MODEL_447907587fc64f0da09c6d8833c2a4c6"
          }
        },
        "278ad256f6704d92ab148a12b37929c6": {
          "model_module": "@jupyter-widgets/controls",
          "model_name": "HTMLModel",
          "model_module_version": "1.5.0",
          "state": {
            "_dom_classes": [],
            "_model_module": "@jupyter-widgets/controls",
            "_model_module_version": "1.5.0",
            "_model_name": "HTMLModel",
            "_view_count": null,
            "_view_module": "@jupyter-widgets/controls",
            "_view_module_version": "1.5.0",
            "_view_name": "HTMLView",
            "description": "",
            "description_tooltip": null,
            "layout": "IPY_MODEL_87bcb7cc2f784f08ad4fc4097a17df8f",
            "placeholder": "​",
            "style": "IPY_MODEL_809602515d7c40389df1140acbd65723",
            "value": "Downloading: 100%"
          }
        },
        "84d67f30e42d4c86b36c5a825231bd9e": {
          "model_module": "@jupyter-widgets/controls",
          "model_name": "FloatProgressModel",
          "model_module_version": "1.5.0",
          "state": {
            "_dom_classes": [],
            "_model_module": "@jupyter-widgets/controls",
            "_model_module_version": "1.5.0",
            "_model_name": "FloatProgressModel",
            "_view_count": null,
            "_view_module": "@jupyter-widgets/controls",
            "_view_module_version": "1.5.0",
            "_view_name": "ProgressView",
            "bar_style": "success",
            "description": "",
            "description_tooltip": null,
            "layout": "IPY_MODEL_8098860ca5204dbab1ed47a3f3bfa634",
            "max": 619,
            "min": 0,
            "orientation": "horizontal",
            "style": "IPY_MODEL_c0f6269ab6cb40b8805e940da5904a6a",
            "value": 619
          }
        },
        "7280c13eccb9459db18c16a0774c9b5d": {
          "model_module": "@jupyter-widgets/controls",
          "model_name": "HTMLModel",
          "model_module_version": "1.5.0",
          "state": {
            "_dom_classes": [],
            "_model_module": "@jupyter-widgets/controls",
            "_model_module_version": "1.5.0",
            "_model_name": "HTMLModel",
            "_view_count": null,
            "_view_module": "@jupyter-widgets/controls",
            "_view_module_version": "1.5.0",
            "_view_name": "HTMLView",
            "description": "",
            "description_tooltip": null,
            "layout": "IPY_MODEL_f89475aae8c84e55b875970f064e76cd",
            "placeholder": "​",
            "style": "IPY_MODEL_e7372038d04743f0942d5e79317015ae",
            "value": " 619/619 [00:00&lt;00:00, 23.8kB/s]"
          }
        },
        "447907587fc64f0da09c6d8833c2a4c6": {
          "model_module": "@jupyter-widgets/base",
          "model_name": "LayoutModel",
          "model_module_version": "1.2.0",
          "state": {
            "_model_module": "@jupyter-widgets/base",
            "_model_module_version": "1.2.0",
            "_model_name": "LayoutModel",
            "_view_count": null,
            "_view_module": "@jupyter-widgets/base",
            "_view_module_version": "1.2.0",
            "_view_name": "LayoutView",
            "align_content": null,
            "align_items": null,
            "align_self": null,
            "border": null,
            "bottom": null,
            "display": null,
            "flex": null,
            "flex_flow": null,
            "grid_area": null,
            "grid_auto_columns": null,
            "grid_auto_flow": null,
            "grid_auto_rows": null,
            "grid_column": null,
            "grid_gap": null,
            "grid_row": null,
            "grid_template_areas": null,
            "grid_template_columns": null,
            "grid_template_rows": null,
            "height": null,
            "justify_content": null,
            "justify_items": null,
            "left": null,
            "margin": null,
            "max_height": null,
            "max_width": null,
            "min_height": null,
            "min_width": null,
            "object_fit": null,
            "object_position": null,
            "order": null,
            "overflow": null,
            "overflow_x": null,
            "overflow_y": null,
            "padding": null,
            "right": null,
            "top": null,
            "visibility": null,
            "width": null
          }
        },
        "87bcb7cc2f784f08ad4fc4097a17df8f": {
          "model_module": "@jupyter-widgets/base",
          "model_name": "LayoutModel",
          "model_module_version": "1.2.0",
          "state": {
            "_model_module": "@jupyter-widgets/base",
            "_model_module_version": "1.2.0",
            "_model_name": "LayoutModel",
            "_view_count": null,
            "_view_module": "@jupyter-widgets/base",
            "_view_module_version": "1.2.0",
            "_view_name": "LayoutView",
            "align_content": null,
            "align_items": null,
            "align_self": null,
            "border": null,
            "bottom": null,
            "display": null,
            "flex": null,
            "flex_flow": null,
            "grid_area": null,
            "grid_auto_columns": null,
            "grid_auto_flow": null,
            "grid_auto_rows": null,
            "grid_column": null,
            "grid_gap": null,
            "grid_row": null,
            "grid_template_areas": null,
            "grid_template_columns": null,
            "grid_template_rows": null,
            "height": null,
            "justify_content": null,
            "justify_items": null,
            "left": null,
            "margin": null,
            "max_height": null,
            "max_width": null,
            "min_height": null,
            "min_width": null,
            "object_fit": null,
            "object_position": null,
            "order": null,
            "overflow": null,
            "overflow_x": null,
            "overflow_y": null,
            "padding": null,
            "right": null,
            "top": null,
            "visibility": null,
            "width": null
          }
        },
        "809602515d7c40389df1140acbd65723": {
          "model_module": "@jupyter-widgets/controls",
          "model_name": "DescriptionStyleModel",
          "model_module_version": "1.5.0",
          "state": {
            "_model_module": "@jupyter-widgets/controls",
            "_model_module_version": "1.5.0",
            "_model_name": "DescriptionStyleModel",
            "_view_count": null,
            "_view_module": "@jupyter-widgets/base",
            "_view_module_version": "1.2.0",
            "_view_name": "StyleView",
            "description_width": ""
          }
        },
        "8098860ca5204dbab1ed47a3f3bfa634": {
          "model_module": "@jupyter-widgets/base",
          "model_name": "LayoutModel",
          "model_module_version": "1.2.0",
          "state": {
            "_model_module": "@jupyter-widgets/base",
            "_model_module_version": "1.2.0",
            "_model_name": "LayoutModel",
            "_view_count": null,
            "_view_module": "@jupyter-widgets/base",
            "_view_module_version": "1.2.0",
            "_view_name": "LayoutView",
            "align_content": null,
            "align_items": null,
            "align_self": null,
            "border": null,
            "bottom": null,
            "display": null,
            "flex": null,
            "flex_flow": null,
            "grid_area": null,
            "grid_auto_columns": null,
            "grid_auto_flow": null,
            "grid_auto_rows": null,
            "grid_column": null,
            "grid_gap": null,
            "grid_row": null,
            "grid_template_areas": null,
            "grid_template_columns": null,
            "grid_template_rows": null,
            "height": null,
            "justify_content": null,
            "justify_items": null,
            "left": null,
            "margin": null,
            "max_height": null,
            "max_width": null,
            "min_height": null,
            "min_width": null,
            "object_fit": null,
            "object_position": null,
            "order": null,
            "overflow": null,
            "overflow_x": null,
            "overflow_y": null,
            "padding": null,
            "right": null,
            "top": null,
            "visibility": null,
            "width": null
          }
        },
        "c0f6269ab6cb40b8805e940da5904a6a": {
          "model_module": "@jupyter-widgets/controls",
          "model_name": "ProgressStyleModel",
          "model_module_version": "1.5.0",
          "state": {
            "_model_module": "@jupyter-widgets/controls",
            "_model_module_version": "1.5.0",
            "_model_name": "ProgressStyleModel",
            "_view_count": null,
            "_view_module": "@jupyter-widgets/base",
            "_view_module_version": "1.2.0",
            "_view_name": "StyleView",
            "bar_color": null,
            "description_width": ""
          }
        },
        "f89475aae8c84e55b875970f064e76cd": {
          "model_module": "@jupyter-widgets/base",
          "model_name": "LayoutModel",
          "model_module_version": "1.2.0",
          "state": {
            "_model_module": "@jupyter-widgets/base",
            "_model_module_version": "1.2.0",
            "_model_name": "LayoutModel",
            "_view_count": null,
            "_view_module": "@jupyter-widgets/base",
            "_view_module_version": "1.2.0",
            "_view_name": "LayoutView",
            "align_content": null,
            "align_items": null,
            "align_self": null,
            "border": null,
            "bottom": null,
            "display": null,
            "flex": null,
            "flex_flow": null,
            "grid_area": null,
            "grid_auto_columns": null,
            "grid_auto_flow": null,
            "grid_auto_rows": null,
            "grid_column": null,
            "grid_gap": null,
            "grid_row": null,
            "grid_template_areas": null,
            "grid_template_columns": null,
            "grid_template_rows": null,
            "height": null,
            "justify_content": null,
            "justify_items": null,
            "left": null,
            "margin": null,
            "max_height": null,
            "max_width": null,
            "min_height": null,
            "min_width": null,
            "object_fit": null,
            "object_position": null,
            "order": null,
            "overflow": null,
            "overflow_x": null,
            "overflow_y": null,
            "padding": null,
            "right": null,
            "top": null,
            "visibility": null,
            "width": null
          }
        },
        "e7372038d04743f0942d5e79317015ae": {
          "model_module": "@jupyter-widgets/controls",
          "model_name": "DescriptionStyleModel",
          "model_module_version": "1.5.0",
          "state": {
            "_model_module": "@jupyter-widgets/controls",
            "_model_module_version": "1.5.0",
            "_model_name": "DescriptionStyleModel",
            "_view_count": null,
            "_view_module": "@jupyter-widgets/base",
            "_view_module_version": "1.2.0",
            "_view_name": "StyleView",
            "description_width": ""
          }
        },
        "a0c120f878334f3ea92b561dc6885191": {
          "model_module": "@jupyter-widgets/controls",
          "model_name": "HBoxModel",
          "model_module_version": "1.5.0",
          "state": {
            "_dom_classes": [],
            "_model_module": "@jupyter-widgets/controls",
            "_model_module_version": "1.5.0",
            "_model_name": "HBoxModel",
            "_view_count": null,
            "_view_module": "@jupyter-widgets/controls",
            "_view_module_version": "1.5.0",
            "_view_name": "HBoxView",
            "box_style": "",
            "children": [
              "IPY_MODEL_c03bc81540f842698faec0b1ba9f7187",
              "IPY_MODEL_55debc0191f8432d8decbebefd2cffb8",
              "IPY_MODEL_751fb9547f384edb843ae51a2dabbedf"
            ],
            "layout": "IPY_MODEL_b1279dd1c2314cbdb28404200754ac71"
          }
        },
        "c03bc81540f842698faec0b1ba9f7187": {
          "model_module": "@jupyter-widgets/controls",
          "model_name": "HTMLModel",
          "model_module_version": "1.5.0",
          "state": {
            "_dom_classes": [],
            "_model_module": "@jupyter-widgets/controls",
            "_model_module_version": "1.5.0",
            "_model_name": "HTMLModel",
            "_view_count": null,
            "_view_module": "@jupyter-widgets/controls",
            "_view_module_version": "1.5.0",
            "_view_name": "HTMLView",
            "description": "",
            "description_tooltip": null,
            "layout": "IPY_MODEL_e4a363f0cc324e5ba285d433fc52f983",
            "placeholder": "​",
            "style": "IPY_MODEL_ce84f7ec4d0b478495c3869de948f56c",
            "value": "Downloading: 100%"
          }
        },
        "55debc0191f8432d8decbebefd2cffb8": {
          "model_module": "@jupyter-widgets/controls",
          "model_name": "FloatProgressModel",
          "model_module_version": "1.5.0",
          "state": {
            "_dom_classes": [],
            "_model_module": "@jupyter-widgets/controls",
            "_model_module_version": "1.5.0",
            "_model_name": "FloatProgressModel",
            "_view_count": null,
            "_view_module": "@jupyter-widgets/controls",
            "_view_module_version": "1.5.0",
            "_view_name": "ProgressView",
            "bar_style": "success",
            "description": "",
            "description_tooltip": null,
            "layout": "IPY_MODEL_7bd83158c85c4fe3952a8e9c59dfd238",
            "max": 438218004,
            "min": 0,
            "orientation": "horizontal",
            "style": "IPY_MODEL_1ba64f1fd16540cf838c8aebd16b15a3",
            "value": 438218004
          }
        },
        "751fb9547f384edb843ae51a2dabbedf": {
          "model_module": "@jupyter-widgets/controls",
          "model_name": "HTMLModel",
          "model_module_version": "1.5.0",
          "state": {
            "_dom_classes": [],
            "_model_module": "@jupyter-widgets/controls",
            "_model_module_version": "1.5.0",
            "_model_name": "HTMLModel",
            "_view_count": null,
            "_view_module": "@jupyter-widgets/controls",
            "_view_module_version": "1.5.0",
            "_view_name": "HTMLView",
            "description": "",
            "description_tooltip": null,
            "layout": "IPY_MODEL_61f2b05a3c2e469c93cffc884db008e7",
            "placeholder": "​",
            "style": "IPY_MODEL_d93f71b827ca473c991cd38b88cd9d78",
            "value": " 438M/438M [00:08&lt;00:00, 65.0MB/s]"
          }
        },
        "b1279dd1c2314cbdb28404200754ac71": {
          "model_module": "@jupyter-widgets/base",
          "model_name": "LayoutModel",
          "model_module_version": "1.2.0",
          "state": {
            "_model_module": "@jupyter-widgets/base",
            "_model_module_version": "1.2.0",
            "_model_name": "LayoutModel",
            "_view_count": null,
            "_view_module": "@jupyter-widgets/base",
            "_view_module_version": "1.2.0",
            "_view_name": "LayoutView",
            "align_content": null,
            "align_items": null,
            "align_self": null,
            "border": null,
            "bottom": null,
            "display": null,
            "flex": null,
            "flex_flow": null,
            "grid_area": null,
            "grid_auto_columns": null,
            "grid_auto_flow": null,
            "grid_auto_rows": null,
            "grid_column": null,
            "grid_gap": null,
            "grid_row": null,
            "grid_template_areas": null,
            "grid_template_columns": null,
            "grid_template_rows": null,
            "height": null,
            "justify_content": null,
            "justify_items": null,
            "left": null,
            "margin": null,
            "max_height": null,
            "max_width": null,
            "min_height": null,
            "min_width": null,
            "object_fit": null,
            "object_position": null,
            "order": null,
            "overflow": null,
            "overflow_x": null,
            "overflow_y": null,
            "padding": null,
            "right": null,
            "top": null,
            "visibility": null,
            "width": null
          }
        },
        "e4a363f0cc324e5ba285d433fc52f983": {
          "model_module": "@jupyter-widgets/base",
          "model_name": "LayoutModel",
          "model_module_version": "1.2.0",
          "state": {
            "_model_module": "@jupyter-widgets/base",
            "_model_module_version": "1.2.0",
            "_model_name": "LayoutModel",
            "_view_count": null,
            "_view_module": "@jupyter-widgets/base",
            "_view_module_version": "1.2.0",
            "_view_name": "LayoutView",
            "align_content": null,
            "align_items": null,
            "align_self": null,
            "border": null,
            "bottom": null,
            "display": null,
            "flex": null,
            "flex_flow": null,
            "grid_area": null,
            "grid_auto_columns": null,
            "grid_auto_flow": null,
            "grid_auto_rows": null,
            "grid_column": null,
            "grid_gap": null,
            "grid_row": null,
            "grid_template_areas": null,
            "grid_template_columns": null,
            "grid_template_rows": null,
            "height": null,
            "justify_content": null,
            "justify_items": null,
            "left": null,
            "margin": null,
            "max_height": null,
            "max_width": null,
            "min_height": null,
            "min_width": null,
            "object_fit": null,
            "object_position": null,
            "order": null,
            "overflow": null,
            "overflow_x": null,
            "overflow_y": null,
            "padding": null,
            "right": null,
            "top": null,
            "visibility": null,
            "width": null
          }
        },
        "ce84f7ec4d0b478495c3869de948f56c": {
          "model_module": "@jupyter-widgets/controls",
          "model_name": "DescriptionStyleModel",
          "model_module_version": "1.5.0",
          "state": {
            "_model_module": "@jupyter-widgets/controls",
            "_model_module_version": "1.5.0",
            "_model_name": "DescriptionStyleModel",
            "_view_count": null,
            "_view_module": "@jupyter-widgets/base",
            "_view_module_version": "1.2.0",
            "_view_name": "StyleView",
            "description_width": ""
          }
        },
        "7bd83158c85c4fe3952a8e9c59dfd238": {
          "model_module": "@jupyter-widgets/base",
          "model_name": "LayoutModel",
          "model_module_version": "1.2.0",
          "state": {
            "_model_module": "@jupyter-widgets/base",
            "_model_module_version": "1.2.0",
            "_model_name": "LayoutModel",
            "_view_count": null,
            "_view_module": "@jupyter-widgets/base",
            "_view_module_version": "1.2.0",
            "_view_name": "LayoutView",
            "align_content": null,
            "align_items": null,
            "align_self": null,
            "border": null,
            "bottom": null,
            "display": null,
            "flex": null,
            "flex_flow": null,
            "grid_area": null,
            "grid_auto_columns": null,
            "grid_auto_flow": null,
            "grid_auto_rows": null,
            "grid_column": null,
            "grid_gap": null,
            "grid_row": null,
            "grid_template_areas": null,
            "grid_template_columns": null,
            "grid_template_rows": null,
            "height": null,
            "justify_content": null,
            "justify_items": null,
            "left": null,
            "margin": null,
            "max_height": null,
            "max_width": null,
            "min_height": null,
            "min_width": null,
            "object_fit": null,
            "object_position": null,
            "order": null,
            "overflow": null,
            "overflow_x": null,
            "overflow_y": null,
            "padding": null,
            "right": null,
            "top": null,
            "visibility": null,
            "width": null
          }
        },
        "1ba64f1fd16540cf838c8aebd16b15a3": {
          "model_module": "@jupyter-widgets/controls",
          "model_name": "ProgressStyleModel",
          "model_module_version": "1.5.0",
          "state": {
            "_model_module": "@jupyter-widgets/controls",
            "_model_module_version": "1.5.0",
            "_model_name": "ProgressStyleModel",
            "_view_count": null,
            "_view_module": "@jupyter-widgets/base",
            "_view_module_version": "1.2.0",
            "_view_name": "StyleView",
            "bar_color": null,
            "description_width": ""
          }
        },
        "61f2b05a3c2e469c93cffc884db008e7": {
          "model_module": "@jupyter-widgets/base",
          "model_name": "LayoutModel",
          "model_module_version": "1.2.0",
          "state": {
            "_model_module": "@jupyter-widgets/base",
            "_model_module_version": "1.2.0",
            "_model_name": "LayoutModel",
            "_view_count": null,
            "_view_module": "@jupyter-widgets/base",
            "_view_module_version": "1.2.0",
            "_view_name": "LayoutView",
            "align_content": null,
            "align_items": null,
            "align_self": null,
            "border": null,
            "bottom": null,
            "display": null,
            "flex": null,
            "flex_flow": null,
            "grid_area": null,
            "grid_auto_columns": null,
            "grid_auto_flow": null,
            "grid_auto_rows": null,
            "grid_column": null,
            "grid_gap": null,
            "grid_row": null,
            "grid_template_areas": null,
            "grid_template_columns": null,
            "grid_template_rows": null,
            "height": null,
            "justify_content": null,
            "justify_items": null,
            "left": null,
            "margin": null,
            "max_height": null,
            "max_width": null,
            "min_height": null,
            "min_width": null,
            "object_fit": null,
            "object_position": null,
            "order": null,
            "overflow": null,
            "overflow_x": null,
            "overflow_y": null,
            "padding": null,
            "right": null,
            "top": null,
            "visibility": null,
            "width": null
          }
        },
        "d93f71b827ca473c991cd38b88cd9d78": {
          "model_module": "@jupyter-widgets/controls",
          "model_name": "DescriptionStyleModel",
          "model_module_version": "1.5.0",
          "state": {
            "_model_module": "@jupyter-widgets/controls",
            "_model_module_version": "1.5.0",
            "_model_name": "DescriptionStyleModel",
            "_view_count": null,
            "_view_module": "@jupyter-widgets/base",
            "_view_module_version": "1.2.0",
            "_view_name": "StyleView",
            "description_width": ""
          }
        }
      }
    }
  },
  "nbformat": 4,
  "nbformat_minor": 0
}