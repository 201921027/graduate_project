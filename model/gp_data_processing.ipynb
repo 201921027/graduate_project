{
  "nbformat": 4,
  "nbformat_minor": 0,
  "metadata": {
    "colab": {
      "provenance": [],
      "collapsed_sections": [],
      "authorship_tag": "ABX9TyMUhN2cZgDWTsPb0pwJF4se",
      "include_colab_link": true
    },
    "kernelspec": {
      "name": "python3",
      "display_name": "Python 3"
    },
    "language_info": {
      "name": "python"
    }
  },
  "cells": [
    {
      "cell_type": "markdown",
      "metadata": {
        "id": "view-in-github",
        "colab_type": "text"
      },
      "source": [
        "<a href=\"https://colab.research.google.com/github/201921027/graduate_project_git/blob/main/gp_data_processing.ipynb\" target=\"_parent\"><img src=\"https://colab.research.google.com/assets/colab-badge.svg\" alt=\"Open In Colab\"/></a>"
      ]
    },
    {
      "cell_type": "code",
      "source": [
        "from google.colab import drive\n",
        "drive.mount('/content/drive')"
      ],
      "metadata": {
        "colab": {
          "base_uri": "https://localhost:8080/"
        },
        "id": "5zpMX8dBUTFL",
        "outputId": "2410c423-685d-46e6-e8b6-4f7f2877fd91"
      },
      "execution_count": null,
      "outputs": [
        {
          "output_type": "stream",
          "name": "stdout",
          "text": [
            "Mounted at /content/drive\n"
          ]
        }
      ]
    },
    {
      "cell_type": "code",
      "source": [
        "import os\n",
        "\n",
        "def get_files_count(folder_path):\n",
        "  dirListing= os.listdir(folder_path)\n",
        "  return len(dirListing)"
      ],
      "metadata": {
        "id": "b65tEHEwcnPl"
      },
      "execution_count": null,
      "outputs": []
    },
    {
      "cell_type": "code",
      "source": [
        "folder_path='/content/drive/MyDrive/Colab Notebooks/graduation_project/data/data'\n",
        "data_count=get_files_count(folder_path)\n",
        "print(data_count) # 모든 data 개수"
      ],
      "metadata": {
        "colab": {
          "base_uri": "https://localhost:8080/"
        },
        "id": "zPXzw4bic-Zz",
        "outputId": "6a0b31b8-924d-4d0e-9509-e0ab78d38045"
      },
      "execution_count": null,
      "outputs": [
        {
          "output_type": "stream",
          "name": "stdout",
          "text": [
            "4619\n"
          ]
        }
      ]
    },
    {
      "cell_type": "code",
      "source": [
        "from xml.etree import ElementTree\n",
        "import csv"
      ],
      "metadata": {
        "id": "4ZpJCOqWjTtQ"
      },
      "execution_count": null,
      "outputs": []
    },
    {
      "cell_type": "code",
      "source": [
        "\n",
        "file_list= os.listdir(folder_path)\n",
        "xml_list= list()\n",
        "for file in file_list:\n",
        "  if '.xml' in file:\n",
        "    xml_list.append(file)\n",
        "\n",
        "# # xml 전처리\n",
        "# for xml_file in xml_list:\n",
        "#   target_path= folder_path + '/' + xml_file\n",
        "#   with open(target_path, 'rt', encoding='UTF8') as f:\n",
        "#     lines=f.readlines()\n",
        "#   with open(target_path, 'w', encoding='UTF8') as f:\n",
        "#     for line in lines:\n",
        "#       f.write(line.replace('&','&amp;').replace('</SJML>s','</SJML>').replace('\\\"파괴\\\"', '&quot;파괴&quot;')\n",
        "#       .replace('<패스파인더>', '&lt;패스파인더&gt;').replace('<조커>', '&lt;조커&gt;'))\n",
        "#       # print(line)"
      ],
      "metadata": {
        "id": "9OQbKrO1vgS5"
      },
      "execution_count": null,
      "outputs": []
    },
    {
      "cell_type": "code",
      "execution_count": null,
      "metadata": {
        "id": "A_WVz0iAQzWJ"
      },
      "outputs": [],
      "source": [
        "target_xml= list()\n",
        "xml_root= list()\n",
        "\n",
        "for xml_file in xml_list:\n",
        "  target_path= folder_path + '/' + xml_file\n",
        "  print(target_path)\n",
        "  targetXML= open(target_path, 'rt', encoding='UTF8')\n",
        "\n",
        "  current_file = ElementTree.parse(targetXML)\n",
        "  target_xml.append(current_file)\n",
        "  xml_root.append(current_file.getroot())"
      ]
    },
    {
      "cell_type": "code",
      "source": [
        "# test print\n",
        "print(len(target_xml))\n",
        "for data in xml_root[0]:\n",
        "  print(data.tag, data.attrib, data.text)\n",
        "  for x in data:\n",
        "    print('   ', x.tag, x.attrib, x.text)\n",
        "    for y in x:\n",
        "      print('       ', y.tag, y.attrib, y.text)"
      ],
      "metadata": {
        "colab": {
          "base_uri": "https://localhost:8080/"
        },
        "id": "9hLmA23vfRqn",
        "outputId": "1b3b4618-43e8-415f-e6e0-68eb305e49ab"
      },
      "execution_count": null,
      "outputs": [
        {
          "output_type": "stream",
          "name": "stdout",
          "text": [
            "4619\n",
            "header {} \n",
            "        \n",
            "    fileInfo {} \n",
            "            \n",
            "        fileId {} WDRW1900102284\n",
            "        annoLevel {} 원시\n",
            "        category {} 비출판물 > 수필\n",
            "    sourceInfo {} \n",
            "            \n",
            "        title {} 싱가포르에서의 교환학생 생활을 바탕으로 싱가포르 날씨 및 택시 이용법 설명글\n",
            "        author {'id': 'P02284', 'age': '21', 'occupation': '대학생/대학원생', 'sex': 'F', 'submission': '온라인', 'handwriting': 'No'} 송보경\n",
            "text {'date': '20200000', 'subclass': 'null_싱가포르 가이드'} \n",
            "        \n",
            "    p {} 안녕하세요? 지난 2019년 1월부터 5월까지 싱가포르 난양공대 교환학생으로 생활하였던 대학생 Deok입니다. 5개월이라는 짧다면 짧은 길다면 긴 시간 동안, 싱가포르에서 생활하며 싱가포르를 여행할 때, 반드시 필요한 사항들을 30분 안에 담아보려고 해요. 싱가포르 여행을 계획하며 혹은 싱가포르로 향하는 비행기 안에서 살짝쿵 들의시면서 '아~ 싱가포르는 이런 나라구나?'를 느끼셨으면 합니다. 자 그럼 지금부터 여행덕후 Deok과 함께하는 싱가포르 정복 시작하겠습니다.\n",
            "    p {} '싱가포르 날씨는 어떤가요?'\n",
            "    p {} 네! 바로 제가 싱가포르를 방문하기 전, 가장 많이 검색했던 내용 중 하나인 '싱가포르 기후'에 관해서 알려드리려고 해요. 적도부근에 위치한 싱가포르는 한국처럼 사계절이 존재하지 않고 1년내내 무덥습니다. 평균 30도 정도라고 생각하시면 좋을 것 같아요. 한여름 대낮에 야외활동은 피하라고들 하잖아요? 싱가포르에서도 마찬가지입니다. 아무것도 모르고 오후 2시에 돌아다녔다가 더워서 죽을 뻔했답니다. 오후 12시부터 오후 3시까지는 되도록 실내 활동을 하시는 것을 추천해요. 안그랬다가는 함께 여행 온 가족 혹은 친구 그리고 자기 자신에게 화를 낼 수도 있답니다. 온도도 온도지만 소나기가 무척 자주 내리기도 합니다. 그렇기에 많은 싱가포르 도보 곳곳에 지붕이 설치되어 있어요. 하지만 언제 어디서 비가 올지 모르니 우산은 필수겠죠? 밖은 무덥지만 건물 내부는 무척 추운게 싱가포르의 특징이에요. 에어컨을 무지막지하게 잘 틀어주거든요! 혹시라도 건물 내부에서 오래 계실 계획이라면 얇은 가디건 하나는 챙겨가시는 것을 추천합니다.\n",
            "    p {} '발도 아프고 앉아서 가고 싶다. 우리 택시 탈래?'\n",
            "    p {} 싱가포르에서 택시를 타는 방법은 크게 2가지가 있습니다. 첫째, 그냥 한국처럼 택시를 팔로 휘적거리며 잡는다. 둘째, Uber 앱을 이용하여 잡는다. 저는 첫째보다는 두번째 방법을 추천해드려요. 그냥 팔로 휘적휘적 잡은 택시의 경우, 미터기로 요금이 측정되어 막히는 순간 요금이 후다닥 올라가버리기 때문이요. 그러는 반면, Uber 앱을 이용한다면, 이용을 희망하여 요청 버튼을 누른 그 순간 정해진 가격이 절대 변동되지 않습니다. 아무리 차가 막히고 아무리 천천히 가도 말이죠!\n"
          ]
        }
      ]
    },
    {
      "cell_type": "code",
      "source": [
        "import pandas as pd"
      ],
      "metadata": {
        "id": "uu5UpxOYuMVT"
      },
      "execution_count": null,
      "outputs": []
    },
    {
      "cell_type": "code",
      "source": [
        "# xml -> 필요한 것만 추출해서 list\n",
        "list_data=list()\n",
        "for i in range(len(xml_root)):\n",
        "  for data in xml_root[i]:\n",
        "    temp=''\n",
        "    for x in data.iter('category'):\n",
        "      category= x.text\n",
        "    for x in data.iter('title'):\n",
        "      title= x.text\n",
        "    for x in data.findall('p'):\n",
        "      temp = temp + ' ' + x.text\n",
        "\n",
        "  list_data.append([category])\n",
        "  list_data[i].append(title)\n",
        "  list_data[i].append(temp)\n",
        "\n",
        "print(len(list_data))"
      ],
      "metadata": {
        "colab": {
          "base_uri": "https://localhost:8080/"
        },
        "id": "V3ncEZCagIWK",
        "outputId": "280f4cfa-385d-4e40-cd3b-8bcfd22b65bc"
      },
      "execution_count": null,
      "outputs": [
        {
          "output_type": "stream",
          "name": "stdout",
          "text": [
            "4619\n"
          ]
        }
      ]
    },
    {
      "cell_type": "code",
      "source": [
        "# csv 파일 생성\n",
        "with open(\"/content/drive/MyDrive/Colab Notebooks/graduation_project/data/data.csv\", 'w', encoding='utf-8') as csvfile:\n",
        "  csv_writer= csv.writer(csvfile)\n",
        "  csv_writer.writerows([['category', 'title', 'text']])\n",
        "  csv_writer.writerows(list_data)"
      ],
      "metadata": {
        "id": "bgG9ffBhvEXL"
      },
      "execution_count": null,
      "outputs": []
    },
    {
      "cell_type": "code",
      "source": [
        "csv_data= pd.read_csv('/content/drive/MyDrive/Colab Notebooks/graduation_project/data/data.csv')"
      ],
      "metadata": {
        "id": "elE1l4Bw3PXf"
      },
      "execution_count": null,
      "outputs": []
    },
    {
      "cell_type": "code",
      "source": [
        "csv_data.head()"
      ],
      "metadata": {
        "colab": {
          "base_uri": "https://localhost:8080/",
          "height": 337
        },
        "id": "E7iX9TnV5OsO",
        "outputId": "b04d79b5-2165-4560-87d4-db804f5b18e6"
      },
      "execution_count": null,
      "outputs": [
        {
          "output_type": "execute_result",
          "data": {
            "text/plain": [
              "     category                                       title  \\\n",
              "0   비출판물 > 수필  싱가포르에서의 교환학생 생활을 바탕으로 싱가포르 날씨 및 택시 이용법 설명글   \n",
              "1   비출판물 > 수필                                     첫사랑의 소원   \n",
              "2  비출판물 > 감상문                                 영화 캣츠를 보고나서   \n",
              "3   비출판물 > 수필                                      또 다른 꿈   \n",
              "4   비출판물 > 수필                                          위염   \n",
              "\n",
              "                                                text  \n",
              "0   안녕하세요? 지난 2019년 1월부터 5월까지 싱가포르 난양공대 교환학생으로 생활...  \n",
              "1   첫 입맞춤은 사탕과 같이 달콤하다고 누가 그랬던가, 그 날의 나에게 있어서, 내 ...  \n",
              "2   일단 첫 시작은 나쁘지 않았던 것 같아요... 당신의 이상적인 고양이 수인은 어떤...  \n",
              "3   2016년에는 크고 작은 일들이 유난히 많았다. 그중에서도 가장 크게 남아있는 기...  \n",
              "4   얼마 전 위염에 걸렸었다. 위에 가스가 차고 시도때도 없이 속이 쓰리는 게 부정할...  "
            ],
            "text/html": [
              "\n",
              "  <div id=\"df-0658676c-b325-4677-9cde-2c94dba5e686\">\n",
              "    <div class=\"colab-df-container\">\n",
              "      <div>\n",
              "<style scoped>\n",
              "    .dataframe tbody tr th:only-of-type {\n",
              "        vertical-align: middle;\n",
              "    }\n",
              "\n",
              "    .dataframe tbody tr th {\n",
              "        vertical-align: top;\n",
              "    }\n",
              "\n",
              "    .dataframe thead th {\n",
              "        text-align: right;\n",
              "    }\n",
              "</style>\n",
              "<table border=\"1\" class=\"dataframe\">\n",
              "  <thead>\n",
              "    <tr style=\"text-align: right;\">\n",
              "      <th></th>\n",
              "      <th>category</th>\n",
              "      <th>title</th>\n",
              "      <th>text</th>\n",
              "    </tr>\n",
              "  </thead>\n",
              "  <tbody>\n",
              "    <tr>\n",
              "      <th>0</th>\n",
              "      <td>비출판물 &gt; 수필</td>\n",
              "      <td>싱가포르에서의 교환학생 생활을 바탕으로 싱가포르 날씨 및 택시 이용법 설명글</td>\n",
              "      <td>안녕하세요? 지난 2019년 1월부터 5월까지 싱가포르 난양공대 교환학생으로 생활...</td>\n",
              "    </tr>\n",
              "    <tr>\n",
              "      <th>1</th>\n",
              "      <td>비출판물 &gt; 수필</td>\n",
              "      <td>첫사랑의 소원</td>\n",
              "      <td>첫 입맞춤은 사탕과 같이 달콤하다고 누가 그랬던가, 그 날의 나에게 있어서, 내 ...</td>\n",
              "    </tr>\n",
              "    <tr>\n",
              "      <th>2</th>\n",
              "      <td>비출판물 &gt; 감상문</td>\n",
              "      <td>영화 캣츠를 보고나서</td>\n",
              "      <td>일단 첫 시작은 나쁘지 않았던 것 같아요... 당신의 이상적인 고양이 수인은 어떤...</td>\n",
              "    </tr>\n",
              "    <tr>\n",
              "      <th>3</th>\n",
              "      <td>비출판물 &gt; 수필</td>\n",
              "      <td>또 다른 꿈</td>\n",
              "      <td>2016년에는 크고 작은 일들이 유난히 많았다. 그중에서도 가장 크게 남아있는 기...</td>\n",
              "    </tr>\n",
              "    <tr>\n",
              "      <th>4</th>\n",
              "      <td>비출판물 &gt; 수필</td>\n",
              "      <td>위염</td>\n",
              "      <td>얼마 전 위염에 걸렸었다. 위에 가스가 차고 시도때도 없이 속이 쓰리는 게 부정할...</td>\n",
              "    </tr>\n",
              "  </tbody>\n",
              "</table>\n",
              "</div>\n",
              "      <button class=\"colab-df-convert\" onclick=\"convertToInteractive('df-0658676c-b325-4677-9cde-2c94dba5e686')\"\n",
              "              title=\"Convert this dataframe to an interactive table.\"\n",
              "              style=\"display:none;\">\n",
              "        \n",
              "  <svg xmlns=\"http://www.w3.org/2000/svg\" height=\"24px\"viewBox=\"0 0 24 24\"\n",
              "       width=\"24px\">\n",
              "    <path d=\"M0 0h24v24H0V0z\" fill=\"none\"/>\n",
              "    <path d=\"M18.56 5.44l.94 2.06.94-2.06 2.06-.94-2.06-.94-.94-2.06-.94 2.06-2.06.94zm-11 1L8.5 8.5l.94-2.06 2.06-.94-2.06-.94L8.5 2.5l-.94 2.06-2.06.94zm10 10l.94 2.06.94-2.06 2.06-.94-2.06-.94-.94-2.06-.94 2.06-2.06.94z\"/><path d=\"M17.41 7.96l-1.37-1.37c-.4-.4-.92-.59-1.43-.59-.52 0-1.04.2-1.43.59L10.3 9.45l-7.72 7.72c-.78.78-.78 2.05 0 2.83L4 21.41c.39.39.9.59 1.41.59.51 0 1.02-.2 1.41-.59l7.78-7.78 2.81-2.81c.8-.78.8-2.07 0-2.86zM5.41 20L4 18.59l7.72-7.72 1.47 1.35L5.41 20z\"/>\n",
              "  </svg>\n",
              "      </button>\n",
              "      \n",
              "  <style>\n",
              "    .colab-df-container {\n",
              "      display:flex;\n",
              "      flex-wrap:wrap;\n",
              "      gap: 12px;\n",
              "    }\n",
              "\n",
              "    .colab-df-convert {\n",
              "      background-color: #E8F0FE;\n",
              "      border: none;\n",
              "      border-radius: 50%;\n",
              "      cursor: pointer;\n",
              "      display: none;\n",
              "      fill: #1967D2;\n",
              "      height: 32px;\n",
              "      padding: 0 0 0 0;\n",
              "      width: 32px;\n",
              "    }\n",
              "\n",
              "    .colab-df-convert:hover {\n",
              "      background-color: #E2EBFA;\n",
              "      box-shadow: 0px 1px 2px rgba(60, 64, 67, 0.3), 0px 1px 3px 1px rgba(60, 64, 67, 0.15);\n",
              "      fill: #174EA6;\n",
              "    }\n",
              "\n",
              "    [theme=dark] .colab-df-convert {\n",
              "      background-color: #3B4455;\n",
              "      fill: #D2E3FC;\n",
              "    }\n",
              "\n",
              "    [theme=dark] .colab-df-convert:hover {\n",
              "      background-color: #434B5C;\n",
              "      box-shadow: 0px 1px 3px 1px rgba(0, 0, 0, 0.15);\n",
              "      filter: drop-shadow(0px 1px 2px rgba(0, 0, 0, 0.3));\n",
              "      fill: #FFFFFF;\n",
              "    }\n",
              "  </style>\n",
              "\n",
              "      <script>\n",
              "        const buttonEl =\n",
              "          document.querySelector('#df-0658676c-b325-4677-9cde-2c94dba5e686 button.colab-df-convert');\n",
              "        buttonEl.style.display =\n",
              "          google.colab.kernel.accessAllowed ? 'block' : 'none';\n",
              "\n",
              "        async function convertToInteractive(key) {\n",
              "          const element = document.querySelector('#df-0658676c-b325-4677-9cde-2c94dba5e686');\n",
              "          const dataTable =\n",
              "            await google.colab.kernel.invokeFunction('convertToInteractive',\n",
              "                                                     [key], {});\n",
              "          if (!dataTable) return;\n",
              "\n",
              "          const docLinkHtml = 'Like what you see? Visit the ' +\n",
              "            '<a target=\"_blank\" href=https://colab.research.google.com/notebooks/data_table.ipynb>data table notebook</a>'\n",
              "            + ' to learn more about interactive tables.';\n",
              "          element.innerHTML = '';\n",
              "          dataTable['output_type'] = 'display_data';\n",
              "          await google.colab.output.renderOutput(dataTable, element);\n",
              "          const docLink = document.createElement('div');\n",
              "          docLink.innerHTML = docLinkHtml;\n",
              "          element.appendChild(docLink);\n",
              "        }\n",
              "      </script>\n",
              "    </div>\n",
              "  </div>\n",
              "  "
            ]
          },
          "metadata": {},
          "execution_count": 12
        }
      ]
    },
    {
      "cell_type": "code",
      "source": [
        "# print(csv_data['category'].nunique())\n",
        "# print(csv_data['category'].unique())"
      ],
      "metadata": {
        "id": "4kMNlGbZ5QBc"
      },
      "execution_count": null,
      "outputs": []
    },
    {
      "cell_type": "code",
      "source": [
        "filter_category= ['비출판물 > 일기',\n",
        "'비출판물 > 기타 > 경험담',\n",
        "'비출판물 > 기타 > 여행후기']\n",
        "\n",
        "filter_csv= csv_data.loc[csv_data['category'] == filter_category[0]]\n",
        "for i in range(1, len(filter_category)): \n",
        "  temp= csv_data.loc[csv_data['category'] == filter_category[i]]\n",
        "  filter_csv= filter_csv.append(temp, ignore_index=True)\n",
        "filter_csv.head()"
      ],
      "metadata": {
        "colab": {
          "base_uri": "https://localhost:8080/",
          "height": 250
        },
        "id": "r7ymsmtD9D8o",
        "outputId": "f5f3fd22-28e2-4a1f-e460-93f018c89fe3"
      },
      "execution_count": null,
      "outputs": [
        {
          "output_type": "execute_result",
          "data": {
            "text/plain": [
              "    category                   title  \\\n",
              "0  비출판물 > 일기                      걱정   \n",
              "1  비출판물 > 일기                20141008   \n",
              "2  비출판물 > 일기                   나의 요즘   \n",
              "3  비출판물 > 일기  편입일기.. 연예인 매니저한테 화내기..   \n",
              "4  비출판물 > 일기                  백수의 하루   \n",
              "\n",
              "                                                text  \n",
              "0   오늘도 일기를 쓰기 위해 연필을 들었다. 오늘은 2월 5일. 벌써 2020년이 2...  \n",
              "1   오늘 아침도 여전히 졸렸다. 잠을 적게 자는 것도 아니고 피곤한 일을 하는 것도 ...  \n",
              "2   사람과 사람이 만났을 때 가장 많이 하는 말은 '요즘 뭐하고 지내?' 일 것이다....  \n",
              "3   평생을 열심히 살아본 적이 없다고 스스로 생각했다. 성공한 인생을 부러워만하고 노...  \n",
              "4   전날 난 일찍자고 일찍 일어나서 일반인의 하루를 보내리라 결심을 한다 하지만 밤이...  "
            ],
            "text/html": [
              "\n",
              "  <div id=\"df-846a2393-c4a8-4017-89ab-178644e95f0b\">\n",
              "    <div class=\"colab-df-container\">\n",
              "      <div>\n",
              "<style scoped>\n",
              "    .dataframe tbody tr th:only-of-type {\n",
              "        vertical-align: middle;\n",
              "    }\n",
              "\n",
              "    .dataframe tbody tr th {\n",
              "        vertical-align: top;\n",
              "    }\n",
              "\n",
              "    .dataframe thead th {\n",
              "        text-align: right;\n",
              "    }\n",
              "</style>\n",
              "<table border=\"1\" class=\"dataframe\">\n",
              "  <thead>\n",
              "    <tr style=\"text-align: right;\">\n",
              "      <th></th>\n",
              "      <th>category</th>\n",
              "      <th>title</th>\n",
              "      <th>text</th>\n",
              "    </tr>\n",
              "  </thead>\n",
              "  <tbody>\n",
              "    <tr>\n",
              "      <th>0</th>\n",
              "      <td>비출판물 &gt; 일기</td>\n",
              "      <td>걱정</td>\n",
              "      <td>오늘도 일기를 쓰기 위해 연필을 들었다. 오늘은 2월 5일. 벌써 2020년이 2...</td>\n",
              "    </tr>\n",
              "    <tr>\n",
              "      <th>1</th>\n",
              "      <td>비출판물 &gt; 일기</td>\n",
              "      <td>20141008</td>\n",
              "      <td>오늘 아침도 여전히 졸렸다. 잠을 적게 자는 것도 아니고 피곤한 일을 하는 것도 ...</td>\n",
              "    </tr>\n",
              "    <tr>\n",
              "      <th>2</th>\n",
              "      <td>비출판물 &gt; 일기</td>\n",
              "      <td>나의 요즘</td>\n",
              "      <td>사람과 사람이 만났을 때 가장 많이 하는 말은 '요즘 뭐하고 지내?' 일 것이다....</td>\n",
              "    </tr>\n",
              "    <tr>\n",
              "      <th>3</th>\n",
              "      <td>비출판물 &gt; 일기</td>\n",
              "      <td>편입일기.. 연예인 매니저한테 화내기..</td>\n",
              "      <td>평생을 열심히 살아본 적이 없다고 스스로 생각했다. 성공한 인생을 부러워만하고 노...</td>\n",
              "    </tr>\n",
              "    <tr>\n",
              "      <th>4</th>\n",
              "      <td>비출판물 &gt; 일기</td>\n",
              "      <td>백수의 하루</td>\n",
              "      <td>전날 난 일찍자고 일찍 일어나서 일반인의 하루를 보내리라 결심을 한다 하지만 밤이...</td>\n",
              "    </tr>\n",
              "  </tbody>\n",
              "</table>\n",
              "</div>\n",
              "      <button class=\"colab-df-convert\" onclick=\"convertToInteractive('df-846a2393-c4a8-4017-89ab-178644e95f0b')\"\n",
              "              title=\"Convert this dataframe to an interactive table.\"\n",
              "              style=\"display:none;\">\n",
              "        \n",
              "  <svg xmlns=\"http://www.w3.org/2000/svg\" height=\"24px\"viewBox=\"0 0 24 24\"\n",
              "       width=\"24px\">\n",
              "    <path d=\"M0 0h24v24H0V0z\" fill=\"none\"/>\n",
              "    <path d=\"M18.56 5.44l.94 2.06.94-2.06 2.06-.94-2.06-.94-.94-2.06-.94 2.06-2.06.94zm-11 1L8.5 8.5l.94-2.06 2.06-.94-2.06-.94L8.5 2.5l-.94 2.06-2.06.94zm10 10l.94 2.06.94-2.06 2.06-.94-2.06-.94-.94-2.06-.94 2.06-2.06.94z\"/><path d=\"M17.41 7.96l-1.37-1.37c-.4-.4-.92-.59-1.43-.59-.52 0-1.04.2-1.43.59L10.3 9.45l-7.72 7.72c-.78.78-.78 2.05 0 2.83L4 21.41c.39.39.9.59 1.41.59.51 0 1.02-.2 1.41-.59l7.78-7.78 2.81-2.81c.8-.78.8-2.07 0-2.86zM5.41 20L4 18.59l7.72-7.72 1.47 1.35L5.41 20z\"/>\n",
              "  </svg>\n",
              "      </button>\n",
              "      \n",
              "  <style>\n",
              "    .colab-df-container {\n",
              "      display:flex;\n",
              "      flex-wrap:wrap;\n",
              "      gap: 12px;\n",
              "    }\n",
              "\n",
              "    .colab-df-convert {\n",
              "      background-color: #E8F0FE;\n",
              "      border: none;\n",
              "      border-radius: 50%;\n",
              "      cursor: pointer;\n",
              "      display: none;\n",
              "      fill: #1967D2;\n",
              "      height: 32px;\n",
              "      padding: 0 0 0 0;\n",
              "      width: 32px;\n",
              "    }\n",
              "\n",
              "    .colab-df-convert:hover {\n",
              "      background-color: #E2EBFA;\n",
              "      box-shadow: 0px 1px 2px rgba(60, 64, 67, 0.3), 0px 1px 3px 1px rgba(60, 64, 67, 0.15);\n",
              "      fill: #174EA6;\n",
              "    }\n",
              "\n",
              "    [theme=dark] .colab-df-convert {\n",
              "      background-color: #3B4455;\n",
              "      fill: #D2E3FC;\n",
              "    }\n",
              "\n",
              "    [theme=dark] .colab-df-convert:hover {\n",
              "      background-color: #434B5C;\n",
              "      box-shadow: 0px 1px 3px 1px rgba(0, 0, 0, 0.15);\n",
              "      filter: drop-shadow(0px 1px 2px rgba(0, 0, 0, 0.3));\n",
              "      fill: #FFFFFF;\n",
              "    }\n",
              "  </style>\n",
              "\n",
              "      <script>\n",
              "        const buttonEl =\n",
              "          document.querySelector('#df-846a2393-c4a8-4017-89ab-178644e95f0b button.colab-df-convert');\n",
              "        buttonEl.style.display =\n",
              "          google.colab.kernel.accessAllowed ? 'block' : 'none';\n",
              "\n",
              "        async function convertToInteractive(key) {\n",
              "          const element = document.querySelector('#df-846a2393-c4a8-4017-89ab-178644e95f0b');\n",
              "          const dataTable =\n",
              "            await google.colab.kernel.invokeFunction('convertToInteractive',\n",
              "                                                     [key], {});\n",
              "          if (!dataTable) return;\n",
              "\n",
              "          const docLinkHtml = 'Like what you see? Visit the ' +\n",
              "            '<a target=\"_blank\" href=https://colab.research.google.com/notebooks/data_table.ipynb>data table notebook</a>'\n",
              "            + ' to learn more about interactive tables.';\n",
              "          element.innerHTML = '';\n",
              "          dataTable['output_type'] = 'display_data';\n",
              "          await google.colab.output.renderOutput(dataTable, element);\n",
              "          const docLink = document.createElement('div');\n",
              "          docLink.innerHTML = docLinkHtml;\n",
              "          element.appendChild(docLink);\n",
              "        }\n",
              "      </script>\n",
              "    </div>\n",
              "  </div>\n",
              "  "
            ]
          },
          "metadata": {},
          "execution_count": 14
        }
      ]
    },
    {
      "cell_type": "code",
      "source": [
        "print(len(filter_csv))\n",
        "# 비출판물 > 일기' -> 1156개\n",
        "# '비출판물 > 수필' -> 1193개\n",
        "# 수필은 제외하기로 함. -> 이유: 글이 너무 길고, 효용성이 떨어짐"
      ],
      "metadata": {
        "colab": {
          "base_uri": "https://localhost:8080/"
        },
        "id": "K4HK_oVu-gFl",
        "outputId": "175d071f-5436-4363-eb8b-e251f432c912"
      },
      "execution_count": null,
      "outputs": [
        {
          "output_type": "stream",
          "name": "stdout",
          "text": [
            "1165\n"
          ]
        }
      ]
    },
    {
      "cell_type": "code",
      "source": [
        "# test= filter_csv.loc[filter_csv['category']=='비출판물 > 수필']\n",
        "# test.head()\n",
        "# # print(len(test))"
      ],
      "metadata": {
        "id": "sb0dvAdp_Oix"
      },
      "execution_count": null,
      "outputs": []
    },
    {
      "cell_type": "code",
      "source": [
        "# # 최종 csv 데이터\n",
        "# # 1) shuffle\n",
        "# output_csv= filter_csv.sample(frac=1).reset_index(drop=True)\n",
        "# output_csv.head()"
      ],
      "metadata": {
        "id": "g7JIYBAgCvJB"
      },
      "execution_count": null,
      "outputs": []
    },
    {
      "cell_type": "code",
      "source": [
        "# # 2) 데이터 개수를 600개로 맞춤 (인당 150개)\n",
        "output_csv= filter_csv.iloc[:600]\n",
        "print(len(output_csv))"
      ],
      "metadata": {
        "id": "KubQlCvZEvyo",
        "colab": {
          "base_uri": "https://localhost:8080/"
        },
        "outputId": "da635e98-10f5-4428-eb1d-a7c2313b64b0"
      },
      "execution_count": null,
      "outputs": [
        {
          "output_type": "stream",
          "name": "stdout",
          "text": [
            "600\n"
          ]
        }
      ]
    },
    {
      "cell_type": "code",
      "source": [
        "# 필터링한 df을 csv로 저장\n",
        "filter_csv.to_csv('/content/drive/MyDrive/Colab Notebooks/graduation_project/data/filter_data.csv')"
      ],
      "metadata": {
        "id": "xiDx32fLBD4O"
      },
      "execution_count": null,
      "outputs": []
    },
    {
      "cell_type": "code",
      "source": [],
      "metadata": {
        "id": "F-7f7ZORFx2Z"
      },
      "execution_count": null,
      "outputs": []
    }
  ]
}